{
 "cells": [
  {
   "cell_type": "markdown",
   "metadata": {},
   "source": [
    "# 2 gate pair"
   ]
  },
  {
   "cell_type": "code",
   "execution_count": 12,
   "metadata": {},
   "outputs": [],
   "source": [
    "means5_u3_and_cnot = [-1.0423814870907937,\n",
    " -1.0188940242001687,\n",
    " -0.9949465378720438,\n",
    " -0.9732428230282938,\n",
    " -0.9510288738095438,\n",
    " -0.9331516238095438,\n",
    " -0.9119269734189188,\n",
    " -0.8931035339657938,\n",
    " -0.8716790671689187]\n",
    "std_devs5_u3_and_cnot = [0.01156689862176383,\n",
    " 0.027064859623805254,\n",
    " 0.03535505959516701,\n",
    " 0.03655642629240738,\n",
    " 0.03892670558512413,\n",
    " 0.036230456230213426,\n",
    " 0.032997510270784,\n",
    " 0.027772019626862068,\n",
    " 0.017037448300634743]\n",
    "errs_on_mean5_u3_and_cnot = [0.0003657774510903618,\n",
    " 0.0008558660096395252,\n",
    " 0.0011180251513171833,\n",
    " 0.0011560157020007182,\n",
    " 0.0012309705145578972,\n",
    " 0.001145707623545122,\n",
    " 0.001043472895704769,\n",
    " 0.0008782283724378369,\n",
    " 0.0005387714214737096]"
   ]
  },
  {
   "cell_type": "code",
   "execution_count": 13,
   "metadata": {},
   "outputs": [],
   "source": [
    "means5_cnot =[-1.0419870710751689,\n",
    " -1.0209594538876687,\n",
    " -0.9986028484189188,\n",
    " -0.9807879324032938,\n",
    " -0.9613018484189187,\n",
    " -0.9441765456845437,\n",
    " -0.9238133835751687,\n",
    " -0.9056704148251687,\n",
    " -0.8882969695126688]\n",
    "std_devs5_cnot = [0.0115914591724312,\n",
    " 0.027656316866571218,\n",
    " 0.03492895820374601,\n",
    " 0.037631125255649815,\n",
    " 0.037450729978802694,\n",
    " 0.03890645506621247,\n",
    " 0.03310000037652122,\n",
    " 0.02766168676365857,\n",
    " 0.017207324780358094]\n",
    "errs_on_mean5_cnot = [0.00036655412389733033,\n",
    " 0.0008745695298969612,\n",
    " 0.0011045506422066105,\n",
    " 0.001190000667229395,\n",
    " 0.0011842960676896597,\n",
    " 0.0012303301369222858,\n",
    " 0.0010467139174223801,\n",
    " 0.0008747393409529286,\n",
    " 0.0005441433874418816]"
   ]
  },
  {
   "cell_type": "code",
   "execution_count": 14,
   "metadata": {},
   "outputs": [],
   "source": [
    "means5_with_readout = [-1.0021560144345438,\n",
    " -0.9501569929501688,\n",
    " -0.8981263708798563,\n",
    " -0.8511109929501688,\n",
    " -0.8006653025204812,\n",
    " -0.7565139656064188,\n",
    " -0.7125718181454812,\n",
    " -0.6715158367001688,\n",
    " -0.6291372243954813]\n",
    "\n",
    "std_devs5_with_readout = [0.01324159845880909,\n",
    " 0.024913457020470188,\n",
    " 0.027554506259461528,\n",
    " 0.029029543629474634,\n",
    " 0.027443880389122197,\n",
    " 0.025453678409473376,\n",
    " 0.023121431843083854,\n",
    " 0.019008895832274237,\n",
    " 0.012504755394226762]\n",
    "\n",
    "errs_on_mean5_with_readout = [0.00041873610991212027,\n",
    " 0.0007878326857339795,\n",
    " 0.0008713499958126497,\n",
    " 0.0009179947730437093,\n",
    " 0.0008678516986285422,\n",
    " 0.0008049159860338786,\n",
    " 0.0007311638738848987,\n",
    " 0.0006011140663486863,\n",
    " 0.00039543508629033325]"
   ]
  },
  {
   "cell_type": "code",
   "execution_count": 53,
   "metadata": {},
   "outputs": [],
   "source": [
    "means5_simulator = [-0.9785098367001688,\n",
    " -0.9182290798642313,\n",
    " -0.8613802322079812,\n",
    " -0.8079686384579814,\n",
    " -0.7537573230282938,\n",
    " -0.7059826101376687,\n",
    " -0.6585936199032938,\n",
    " -0.6149629206845437,\n",
    " -0.5717607136532938]\n",
    "\n",
    "std_devs5_simulator = [0.014388686207374598,\n",
    " 0.034069734774125685,\n",
    " 0.04217328797993561,\n",
    " 0.04278626637254914,\n",
    " 0.04073480433175139,\n",
    " 0.03821808079948171,\n",
    " 0.03304957770044469,\n",
    " 0.0241363117094252,\n",
    " 0.014438498065928007]\n",
    "\n",
    "errs_on_mean5_simulator = [0.0004550102095275358,\n",
    " 0.0010773796116407945,\n",
    " 0.0013336364643479802,\n",
    " 0.0013530205431192572,\n",
    " 0.0012881476172962754,\n",
    " 0.0012085618312671108,\n",
    " 0.001045119412401153,\n",
    " 0.0007632571931757578,\n",
    " 0.0004565853988026849]"
   ]
  },
  {
   "cell_type": "code",
   "execution_count": 54,
   "metadata": {},
   "outputs": [
    {
     "data": {
      "image/png": "[encoded data removed]",
      "text/plain": [
       "<Figure size 432x288 with 1 Axes>"
      ]
     },
     "metadata": {
      "needs_background": "light"
     },
     "output_type": "display_data"
    }
   ],
   "source": [
    "import matplotlib.pyplot as plt\n",
    "#Plotting means \n",
    "f = plt.figure()\n",
    "\n",
    "scales5 = [1, 1.5, 2, 2.5, 3, 3.5, 4, 4.5, 5]\n",
    "# plt.errorbar(scales5, means5_cnot, yerr= errs_on_mean5_cnot,capsize = 10, fmt ='o', label = 'CNOT' )\n",
    "# plt.errorbar(scales5, means5_u3_and_cnot, yerr=errs_on_mean5_u3_and_cnot,capsize = 10, fmt ='o', label = 'U3 and CNOT' )\n",
    "\n",
    "plt.errorbar(scales5, means5_with_readout, yerr= errs_on_mean5_with_readout, capsize = 10, fmt ='o', label = 'London Noise Model' )\n",
    "plt.errorbar(scales5, means5_simulator, yerr= errs_on_mean5_simulator, capsize = 10, fmt ='o', label = 'Simple Noise Model' )\n",
    "\n",
    "plt.plot(0, -1.137, 'ro', label = 'exact energy')\n",
    "\n",
    "plt.title('Mean Energies')\n",
    "plt.xlabel('scale factors')\n",
    "plt.ylabel('Energy (Hartree)')\n",
    "plt.legend()\n",
    "plt.show()\n",
    "f.savefig('resultsAug13(3)', dpi = 1000)"
   ]
  },
  {
   "cell_type": "markdown",
   "metadata": {},
   "source": [
    "# Extrapolation Functions"
   ]
  },
  {
   "cell_type": "code",
   "execution_count": 55,
   "metadata": {},
   "outputs": [],
   "source": [
    "def RichardsonExtrap_Fraction(energies): \n",
    "    \"\"\"\n",
    "    Input: An array of energies scaled with different stretch factors--normal integer multiples only --eg 1,2,3,4..\n",
    "    Assumption: Odd scalings - 1,3,5,7,...\n",
    "    Output: Zero Error extrapolated answer\n",
    "    \"\"\"\n",
    "    n = len(energies)\n",
    "    scales = [1+i*0.5 for i in range(n)]\n",
    "    \n",
    "    #setting up all equations \n",
    "    equations = []\n",
    "    for eq_num in scales: \n",
    "        equation = []\n",
    "        if eq_num == 1: \n",
    "            for i in range(n): \n",
    "                equation.append(1)\n",
    "            equations = [equation]\n",
    "        else: \n",
    "            for term_num in scales: \n",
    "                term = term_num**(eq_num*2-2)\n",
    "                #print(term)\n",
    "                equation.append(term)\n",
    "            equations = np.append(equations, [equation], axis = 0)\n",
    "    #print(equations)\n",
    "    \n",
    "    #Now filling up equals to matrix \n",
    "    equals_to = [1]\n",
    "    for i in range(1, n): \n",
    "        equals_to.append(0)\n",
    "    #print(equals_to)\n",
    "    \n",
    "    #solving the system\n",
    "    coeff = np.linalg.solve(equations, equals_to)\n",
    "    #print(coeff)\n",
    "    \n",
    "    #Combine coeff with energies to get zero noise result \n",
    "    result = np.dot(coeff, energies)\n",
    "    return result"
   ]
  },
  {
   "cell_type": "code",
   "execution_count": 56,
   "metadata": {},
   "outputs": [],
   "source": [
    "def MonteCarloError(means, std_devs, poly_fit = False, deg = 1, sampling_size = 1000): \n",
    "    \"\"\"\n",
    "    Input: arrays means and standard deviations of the various scalings of noise, whether to do richardson i.e. no poly fit \n",
    "    If doing polyfit, then specify degree, sampling_size is how many times to sample from the Gaussian \n",
    "    \n",
    "    Assumption: Scaled by integer values ranging from 1 to X where X>1\n",
    "    \n",
    "    Output: Error estimate\n",
    "    \"\"\"\n",
    "    n = len(means)\n",
    "    \n",
    "    #Sampling from Gaussian for each scaling \n",
    "    all_samples = []\n",
    "    debug_means = []\n",
    "    for i in range(n): \n",
    "        samples = np.random.normal(means[i], std_devs[i], sampling_size)\n",
    "        all_samples.append(samples)\n",
    "        #for debugging\n",
    "        debug_means.append(means[i] - np.mean(samples))\n",
    "    #print(debug_means)\n",
    "    \n",
    "    #Doing Extrapolation for all sampling_size samples (1000 if set to default)\n",
    "    zero_noise_energies = []\n",
    "    for j in range(sampling_size): \n",
    "        energies = []\n",
    "        for i in range(n): \n",
    "            energies.append(all_samples[i][j])\n",
    "            \n",
    "        ##Doing either richardson or funcs \n",
    "        ###Polynomial\n",
    "        if poly_fit: \n",
    "            ####need the scale values: \n",
    "            scales = []\n",
    "            scales = [0.5*c +1 for c in range(n)]\n",
    "            ####making the function \n",
    "            param = np.polyfit(scales, energies, deg, w = [1/i for i in std_devs])\n",
    "            f = np.poly1d(param)\n",
    "            ####extrapolation\n",
    "            result = f(0)\n",
    "            zero_noise_energies.append(result)\n",
    "            \n",
    "        ###Richardson\n",
    "        else: \n",
    "            result = RichardsonExtrap_Fraction(energies)\n",
    "            zero_noise_energies.append(result)\n",
    "    \n",
    "    #Returning error i.e. std \n",
    "    error = np.std(zero_noise_energies)\n",
    "    return error\n",
    "    \n",
    "        "
   ]
  },
  {
   "cell_type": "code",
   "execution_count": 57,
   "metadata": {},
   "outputs": [],
   "source": [
    "import numpy as np\n",
    "\n",
    "def plottingCalc(means, std_devs):\n",
    "    \"\"\"\n",
    "    Gives out data for plotting energies for extrapolation purposes\n",
    "    \"\"\"\n",
    "    \n",
    "    highest_degree = len(means) -1\n",
    "    \n",
    "    scales = [1+i*0.5 for i in range(len(means))]\n",
    "    \n",
    "    # Uncertainties \n",
    "    R_uncert = MonteCarloError(means, std_devs, poly_fit = False)\n",
    "    \n",
    "    poly_uncerts = []\n",
    "    for i in range(1, highest_degree+1): \n",
    "        uncert = MonteCarloError(means, std_devs, poly_fit = True, deg = i)\n",
    "        poly_uncerts.append(uncert)\n",
    "    \n",
    "    #O energy extrap\n",
    "    R_zero = RichardsonExtrap_Fraction(means)\n",
    "    \n",
    "    poly_zero = []\n",
    "    funcs = []\n",
    "    for i in range(1,highest_degree+1): \n",
    "        param= np.polyfit(scales, means, i, w=[1/j for j in std_devs])\n",
    "        p = np.poly1d(param)\n",
    "        funcs.append(p)\n",
    "    for f in range(len(funcs)):\n",
    "        poly_zero.append(funcs[f](0))\n",
    "    \n",
    "    return R_uncert, poly_uncerts, R_zero, poly_zero"
   ]
  },
  {
   "cell_type": "code",
   "execution_count": 61,
   "metadata": {},
   "outputs": [],
   "source": [
    "exact_energy = [-1.137]\n",
    "\n",
    "num_data = 2\n",
    "meanses = []\n",
    "std_devses = []\n",
    "labelses_Poly = []\n",
    "labelses_Rich= []\n",
    "colors_poly = []\n",
    "colors_rich = []"
   ]
  },
  {
   "cell_type": "code",
   "execution_count": 62,
   "metadata": {},
   "outputs": [],
   "source": [
    "meanses = [ means5_with_readout, means5_simulator]\n",
    "std_devses = [std_devs5_with_readout, std_devs5_simulator]\n",
    "labelses_Poly = [ 'London Noise Model (Poly)', 'Simple Noise Model (Poly)']\n",
    "labelses_Rich = [ 'London Noise Model (Rich)', 'Simple Noise Model (Rich)']\n",
    "colors_poly = ['tab:blue', 'tab:orange']\n",
    "colors_rich = ['cyan', 'pink']"
   ]
  },
  {
   "cell_type": "code",
   "execution_count": 64,
   "metadata": {},
   "outputs": [
    {
     "data": {
      "image/png": "[encoded data removed]",
      "text/plain": [
       "<Figure size 432x288 with 1 Axes>"
      ]
     },
     "metadata": {
      "needs_background": "light"
     },
     "output_type": "display_data"
    }
   ],
   "source": [
    "a = plt.figure()\n",
    "for i in range(num_data): \n",
    "    means = meanses[i]\n",
    "    std_devs = std_devses[i]\n",
    "#     label_poly = lablses_Poly[i]\n",
    "#     label_rich = lablses_Rich[i]\n",
    "    degrees = [j+1+0.1*i for j in range(len(means)-1)]\n",
    "    \n",
    "    R_uncert, poly_uncerts, R_zero, poly_zero = plottingCalc(means, std_devs)\n",
    "#     print(poly_zero)\n",
    "#     print(degrees)\n",
    "    \n",
    "    plt.errorbar(degrees, [energy - exact_energy[0] for energy in poly_zero], yerr=poly_uncerts, capsize = 5,fmt =' ', ecolor = colors_poly[i], label = labelses_Poly[i] )\n",
    "    plt.errorbar(degrees[-1]+.5+.1*i, R_zero- exact_energy[0], yerr=R_uncert, capsize = 5,fmt =' ', ecolor = colors_rich[i] , label = labelses_Rich[i])\n",
    "    plt.plot(degrees, [energy - exact_energy[0] for energy in poly_zero], linestyle = ' ', marker = 'o', color = colors_poly[i])\n",
    "    plt.plot(degrees[-1]+.5+.1*i, R_zero- exact_energy[0],  linestyle = ' ', marker = 'o', color = colors_rich[i] )\n",
    "    \n",
    "\n",
    "#plt.axis([0.9, 9, 0, 0.07])\n",
    "    \n",
    "plt.xlabel('degree of polynomial')\n",
    "plt.ylabel('Difference From Exact Energy (Hartree)')\n",
    "plt.title('The Uncertainities at Zero point of the various extrapolations ')\n",
    "points =[i+1 for i in range(len(means5_with_readout))]\n",
    "points+=[len(means5_with_readout)+1]\n",
    "plt.plot(points, [0*i for i in points], linestyle = '--', color = 'black' , linewidth = 2)\n",
    "plt.legend()\n",
    "plt.show()\n",
    "a.savefig('August13(4)', dpi = 1000)"
   ]
  },
  {
   "cell_type": "code",
   "execution_count": 66,
   "metadata": {},
   "outputs": [
    {
     "data": {
      "image/png": "[encoded data removed]",
      "text/plain": [
       "<Figure size 432x288 with 1 Axes>"
      ]
     },
     "metadata": {
      "needs_background": "light"
     },
     "output_type": "display_data"
    }
   ],
   "source": [
    "a = plt.figure()\n",
    "for i in range(num_data): \n",
    "    means = meanses[i]\n",
    "    std_devs = std_devses[i]\n",
    "#     label_poly = lablses_Poly[i]\n",
    "#     label_rich = lablses_Rich[i]\n",
    "    degrees = [j+1+0.1*i for j in range(len(means)-1)]\n",
    "    \n",
    "    R_uncert, poly_uncerts, R_zero, poly_zero = plottingCalc(means, std_devs)\n",
    "#     print(poly_zero)\n",
    "#     print(degrees)\n",
    "    \n",
    "    plt.errorbar(degrees, [energy - exact_energy[0] for energy in poly_zero], yerr=poly_uncerts, capsize = 5,fmt =' ', ecolor = colors_poly[i], label = labelses_Poly[i] )\n",
    "    plt.errorbar(degrees[-1]+.5+.1*i, R_zero- exact_energy[0], yerr=R_uncert, capsize = 5,fmt =' ', ecolor = colors_rich[i] , label = labelses_Rich[i])\n",
    "    plt.plot(degrees, [energy - exact_energy[0] for energy in poly_zero], linestyle = ' ', marker = 'o', color = colors_poly[i])\n",
    "    plt.plot(degrees[-1]+.5+.1*i, R_zero- exact_energy[0],  linestyle = ' ', marker = 'o', color = colors_rich[i] )\n",
    "    \n",
    "\n",
    "plt.axis([0.9, 9, 0, 0.07])\n",
    "    \n",
    "plt.xlabel('degree of polynomial')\n",
    "plt.ylabel('Difference From Exact Energy (Hartree)')\n",
    "plt.title('The Uncertainities at Zero point of the various extrapolations ')\n",
    "points =[i+1 for i in range(len(means5_with_readout))]\n",
    "points+=[len(means5_with_readout)+1]\n",
    "plt.plot(points, [0*i for i in points], linestyle = '--', color = 'black' , linewidth = 2)\n",
    "#plt.legend()\n",
    "plt.show()\n",
    "a.savefig('August13(5)', dpi = 1000)"
   ]
  },
  {
   "cell_type": "code",
   "execution_count": null,
   "metadata": {},
   "outputs": [],
   "source": []
  }
 ],
 "metadata": {
  "kernelspec": {
   "display_name": "Python 3",
   "language": "python",
   "name": "python3"
  },
  "language_info": {
   "codemirror_mode": {
    "name": "ipython",
    "version": 3
   },
   "file_extension": ".py",
   "mimetype": "text/x-python",
   "name": "python",
   "nbconvert_exporter": "python",
   "pygments_lexer": "ipython3",
   "version": "3.7.6"
  }
 },
 "nbformat": 4,
 "nbformat_minor": 4
}
