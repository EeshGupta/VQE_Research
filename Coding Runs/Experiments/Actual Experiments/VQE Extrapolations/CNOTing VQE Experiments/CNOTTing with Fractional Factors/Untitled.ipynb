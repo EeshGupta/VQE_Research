{
 "cells": [
  {
   "cell_type": "code",
   "execution_count": 5,
   "metadata": {},
   "outputs": [],
   "source": [
    "number_of_amp = 0"
   ]
  },
  {
   "cell_type": "code",
   "execution_count": 6,
   "metadata": {},
   "outputs": [],
   "source": [
    "import random \n",
    "\n",
    "def RandomAmplification(circ, c): \n",
    "    \"\"\"\n",
    "    Input: a circuit, and scaling factor between 1 and 3 (inclusive)\n",
    "    Output: circuit with amplified error rate using adding-pair-of-gates tactic\n",
    "    \"\"\"\n",
    "    \n",
    "    #probability to add a pair of gates \n",
    "    g = (c-1)/2\n",
    "    \n",
    "    #iterating over the circuit in string representation\n",
    "    \n",
    "    \n",
    "    newqasm_str=\"\"\n",
    "    circ_str=circ.qasm()\n",
    "    \n",
    "    qregname=circ.qregs[0].name\n",
    "    \n",
    "    for line in iter(circ_str.splitlines()):\n",
    "        \n",
    "        if line.startswith('cx') or line.startswith('u3'):\n",
    "            \n",
    "            #doing a toss to see if we have to amplify \n",
    "            if random.randint(1,101) <= 100*g : \n",
    "                global number_of_amp\n",
    "                number_of_amp+=1\n",
    "                \n",
    "                #adding the original line first \n",
    "                ##barrier \n",
    "                barrier =\"\"\"barrier q[0],q[1];\"\"\"\n",
    "                newqasm_str+= barrier + '\\n' + line + '\\n'+ barrier + '\\n'\n",
    "                if line.startswith('cx'):\n",
    "                    newqasm_str += cXPairAdder(line)\n",
    "                else: \n",
    "                    newqasm_str += u3PairAdder(line)\n",
    "            else: \n",
    "                newqasm_str+=line+\"\\n\"\n",
    "        else:\n",
    "            newqasm_str+=line+\"\\n\"\n",
    "\n",
    "    circo=QuantumCircuit().from_qasm_str(newqasm_str)\n",
    "    \n",
    "    return circo \n"
   ]
  },
  {
   "cell_type": "code",
   "execution_count": 7,
   "metadata": {},
   "outputs": [],
   "source": [
    "def cXPairAdder(orig_gate_str): \n",
    "    \"\"\"\n",
    "    Input: a qasm string corresponding to a gate\n",
    "    Output: a pair of gates in qasm string representation to amplify error in the given gate by factor of 3\n",
    "    \"\"\"\n",
    "    #barrier for 2 qubit circuit only\n",
    "    barrier =\"\"\"barrier q[0],q[1];\"\"\"\n",
    "    \n",
    "    return barrier + '\\n' + orig_gate_str +'\\n' +barrier + '\\n'+orig_gate_str + '\\n' + barrier + '\\n'"
   ]
  },
  {
   "cell_type": "code",
   "execution_count": 49,
   "metadata": {},
   "outputs": [],
   "source": [
    "def u3PairAdder(orig_gate_str): \n",
    "    \"\"\"\n",
    "    Input: a qasm string corresponding to a gate\n",
    "    Output: a pair of gates in qasm string representation to amplify error in the given gate by factor of 3\n",
    "    \"\"\"\n",
    "    # Converting the gate string to array \n",
    "    \n",
    "    ##break up the string \n",
    "    strings = orig_gate_str.split(\"(\")\n",
    "    temp =[]\n",
    "    for string in strings: \n",
    "        temp = temp + string.split(\")\")\n",
    "    strings = temp \n",
    "    temp =[]\n",
    "    for string in strings: \n",
    "        temp = temp + string.split(\",\")\n",
    "    strings = temp \n",
    "    temp = []\n",
    "    for string in strings: \n",
    "        temp = temp + string.split(\"*\")\n",
    "    strings = temp\n",
    "    \n",
    "    #Obtaining all useful information \n",
    "    gate = strings[0]\n",
    "    qubit = strings[4]\n",
    "    orig_angles = strings[1:4]\n",
    "    \n",
    "    #new angles \n",
    "    new_angles = orig_angles \n",
    "    \n",
    "    ## U3 ^-1(  theta,  phi, lambda) = U3( theta , -pi - lambda, - pi - phi)\n",
    "    \n",
    "    ###Part 1: Inverting and adding - pi to 2nd and 3rd angle\n",
    "    for i in range(1,3): \n",
    "        if new_angles[i][0] == '-': \n",
    "            new_angles[i] = str(-math.pi +float(new_angles[i][1:]))\n",
    "        else: \n",
    "            new_angles[i] = str(-math.pi+ (-1)*float(new_angles[i]))\n",
    "    ###Part 2: Switching the 2nd and 3rd angles\n",
    "    new_angles = [new_angles[0], new_angles[2], new_angles[1]]\n",
    "            \n",
    "\n",
    "    #creating inverted gate\n",
    "    new_gate_str = gate + '(' + new_angles[0] + ',' + new_angles[1] + ',' + new_angles[2] + ')' + qubit\n",
    "    \n",
    "    #barrier \n",
    "    barrier =\"\"\"barrier q[0];\"\"\"\n",
    "    \n",
    "    return barrier + '\\n' + new_gate_str + '\\n'+ barrier + '\\n' + orig_gate_str + '\\n' + barrier + '\\n'\n",
    "    "
   ]
  },
  {
   "cell_type": "code",
   "execution_count": 50,
   "metadata": {},
   "outputs": [
    {
     "name": "stdout",
     "output_type": "stream",
     "text": [
      "After 0 samples, counts are 1.0\n",
      "After 10 samples, counts are 11.0\n",
      "After 20 samples, counts are 21.0\n",
      "After 30 samples, counts are 31.0\n",
      "After 40 samples, counts are 41.0\n",
      "After 50 samples, counts are 51.0\n",
      "After 60 samples, counts are 61.0\n",
      "After 70 samples, counts are 71.0\n",
      "After 80 samples, counts are 81.0\n",
      "After 90 samples, counts are 91.0\n"
     ]
    }
   ],
   "source": [
    "from qiskit import QuantumCircuit \n",
    "import random\n",
    "import math\n",
    "from qiskit import Aer, execute\n",
    "\n",
    "percent_counts_0 = 0\n",
    "simulator = Aer.get_backend('qasm_simulator')\n",
    "circs = []\n",
    "\n",
    "for i in range(100): \n",
    "    angle_1 = random.uniform(-math.pi,math.pi)\n",
    "    angle_2 = random.uniform(-math.pi,math.pi)\n",
    "    angle_3 = random.uniform(-math.pi,math.pi)\n",
    "    string = 'u3' + '(' + str(angle_1) + ',' + str(angle_2) + ',' + str(angle_3) + ')' + ' q[0];'\n",
    "    whole_new_string = 'OPENQASM 2.0;\\ninclude \"qelib1.inc\";\\nqreg q[1];\\ncreg c[1];\\n' + u3PairAdder(string) + 'measure q[0] -> c[0];\\n'\n",
    "    #print(whole_new_string)\n",
    "    new_circ = QuantumCircuit.from_qasm_str(whole_new_string)\n",
    "    circs.append(new_circ)\n",
    "    job = execute(new_circ, backend = simulator, shots = 1024)\n",
    "    counts = job.result().get_counts()\n",
    "    p_counts_0 = int(counts['0'])/1024\n",
    "    percent_counts_0+=(p_counts_0)\n",
    "    if i%10 == 0: \n",
    "        print( 'After ' + str(i) + ' samples, counts are ' + str(percent_counts_0))\n"
   ]
  },
  {
   "cell_type": "code",
   "execution_count": 44,
   "metadata": {},
   "outputs": [
    {
     "data": {
      "image/png": "[encoded data removed]",
      "text/plain": [
       "<Figure size 594.776x144.48 with 1 Axes>"
      ]
     },
     "execution_count": 44,
     "metadata": {},
     "output_type": "execute_result"
    }
   ],
   "source": [
    "circs[0].draw(output = 'mpl')"
   ]
  },
  {
   "cell_type": "code",
   "execution_count": 25,
   "metadata": {},
   "outputs": [
    {
     "name": "stdout",
     "output_type": "stream",
     "text": [
      "Number of samples are 0 and number of gates amplified is 0\n",
      "Number of samples are 10 and number of gates amplified is 19\n",
      "Number of samples are 20 and number of gates amplified is 38\n",
      "Number of samples are 30 and number of gates amplified is 59\n",
      "Number of samples are 40 and number of gates amplified is 79\n",
      "Number of samples are 50 and number of gates amplified is 96\n",
      "Number of samples are 60 and number of gates amplified is 116\n",
      "Number of samples are 70 and number of gates amplified is 140\n",
      "Number of samples are 80 and number of gates amplified is 160\n",
      "Number of samples are 90 and number of gates amplified is 177\n",
      "Number of samples are 100 and number of gates amplified is 197\n",
      "Number of samples are 110 and number of gates amplified is 217\n",
      "Number of samples are 120 and number of gates amplified is 234\n",
      "Number of samples are 130 and number of gates amplified is 252\n",
      "Number of samples are 140 and number of gates amplified is 276\n",
      "Number of samples are 150 and number of gates amplified is 298\n",
      "Number of samples are 160 and number of gates amplified is 319\n",
      "Number of samples are 170 and number of gates amplified is 338\n",
      "Number of samples are 180 and number of gates amplified is 359\n",
      "Number of samples are 190 and number of gates amplified is 379\n",
      "Number of samples are 200 and number of gates amplified is 396\n",
      "Number of samples are 210 and number of gates amplified is 417\n",
      "Number of samples are 220 and number of gates amplified is 431\n",
      "Number of samples are 230 and number of gates amplified is 443\n",
      "Number of samples are 240 and number of gates amplified is 462\n",
      "Number of samples are 250 and number of gates amplified is 482\n",
      "Number of samples are 260 and number of gates amplified is 502\n",
      "Number of samples are 270 and number of gates amplified is 516\n",
      "Number of samples are 280 and number of gates amplified is 528\n",
      "Number of samples are 290 and number of gates amplified is 554\n",
      "Number of samples are 300 and number of gates amplified is 573\n",
      "Number of samples are 310 and number of gates amplified is 597\n",
      "Number of samples are 320 and number of gates amplified is 614\n",
      "Number of samples are 330 and number of gates amplified is 636\n",
      "Number of samples are 340 and number of gates amplified is 653\n",
      "Number of samples are 350 and number of gates amplified is 669\n",
      "Number of samples are 360 and number of gates amplified is 687\n",
      "Number of samples are 370 and number of gates amplified is 707\n",
      "Number of samples are 380 and number of gates amplified is 728\n",
      "Number of samples are 390 and number of gates amplified is 748\n",
      "Number of samples are 400 and number of gates amplified is 772\n",
      "Number of samples are 410 and number of gates amplified is 798\n",
      "Number of samples are 420 and number of gates amplified is 814\n",
      "Number of samples are 430 and number of gates amplified is 830\n",
      "Number of samples are 440 and number of gates amplified is 856\n",
      "Number of samples are 450 and number of gates amplified is 876\n"
     ]
    },
    {
     "ename": "KeyboardInterrupt",
     "evalue": "",
     "output_type": "error",
     "traceback": [
      "\u001b[1;31m---------------------------------------------------------------------------\u001b[0m",
      "\u001b[1;31mKeyboardInterrupt\u001b[0m                         Traceback (most recent call last)",
      "\u001b[1;32m<ipython-input-25-f4b763b38bae>\u001b[0m in \u001b[0;36m<module>\u001b[1;34m\u001b[0m\n\u001b[0;32m      3\u001b[0m     \u001b[1;32mif\u001b[0m \u001b[1;33m(\u001b[0m\u001b[0mi\u001b[0m\u001b[1;33m%\u001b[0m\u001b[1;36m10\u001b[0m\u001b[1;33m)\u001b[0m \u001b[1;33m==\u001b[0m \u001b[1;36m0\u001b[0m\u001b[1;33m:\u001b[0m\u001b[1;33m\u001b[0m\u001b[1;33m\u001b[0m\u001b[0m\n\u001b[0;32m      4\u001b[0m         \u001b[0mprint\u001b[0m\u001b[1;33m(\u001b[0m\u001b[1;34m'Number of samples are '\u001b[0m \u001b[1;33m+\u001b[0m \u001b[0mstr\u001b[0m\u001b[1;33m(\u001b[0m\u001b[0mi\u001b[0m\u001b[1;33m)\u001b[0m \u001b[1;33m+\u001b[0m \u001b[1;34m' and number of gates amplified is '\u001b[0m \u001b[1;33m+\u001b[0m \u001b[0mstr\u001b[0m\u001b[1;33m(\u001b[0m\u001b[0mnumber_of_amp\u001b[0m\u001b[1;33m)\u001b[0m\u001b[1;33m)\u001b[0m\u001b[1;33m\u001b[0m\u001b[1;33m\u001b[0m\u001b[0m\n\u001b[1;32m----> 5\u001b[1;33m     \u001b[0mRandomAmplification\u001b[0m\u001b[1;33m(\u001b[0m\u001b[0mcirc\u001b[0m\u001b[1;33m,\u001b[0m \u001b[1;36m2\u001b[0m\u001b[1;33m)\u001b[0m\u001b[1;33m\u001b[0m\u001b[1;33m\u001b[0m\u001b[0m\n\u001b[0m",
      "\u001b[1;32m<ipython-input-19-6a5f6d60c5b3>\u001b[0m in \u001b[0;36mRandomAmplification\u001b[1;34m(circ, c)\u001b[0m\n\u001b[0;32m     40\u001b[0m             \u001b[0mnewqasm_str\u001b[0m\u001b[1;33m+=\u001b[0m\u001b[0mline\u001b[0m\u001b[1;33m+\u001b[0m\u001b[1;34m\"\\n\"\u001b[0m\u001b[1;33m\u001b[0m\u001b[1;33m\u001b[0m\u001b[0m\n\u001b[0;32m     41\u001b[0m \u001b[1;33m\u001b[0m\u001b[0m\n\u001b[1;32m---> 42\u001b[1;33m     \u001b[0mcirco\u001b[0m\u001b[1;33m=\u001b[0m\u001b[0mQuantumCircuit\u001b[0m\u001b[1;33m(\u001b[0m\u001b[1;33m)\u001b[0m\u001b[1;33m.\u001b[0m\u001b[0mfrom_qasm_str\u001b[0m\u001b[1;33m(\u001b[0m\u001b[0mnewqasm_str\u001b[0m\u001b[1;33m)\u001b[0m\u001b[1;33m\u001b[0m\u001b[1;33m\u001b[0m\u001b[0m\n\u001b[0m\u001b[0;32m     43\u001b[0m \u001b[1;33m\u001b[0m\u001b[0m\n\u001b[0;32m     44\u001b[0m     \u001b[1;32mreturn\u001b[0m \u001b[0mcirco\u001b[0m\u001b[1;33m\u001b[0m\u001b[1;33m\u001b[0m\u001b[0m\n",
      "\u001b[1;32m~\\anacondaaa\\lib\\site-packages\\qiskit\\circuit\\quantumcircuit.py\u001b[0m in \u001b[0;36mfrom_qasm_str\u001b[1;34m(qasm_str)\u001b[0m\n\u001b[0;32m   1393\u001b[0m         \"\"\"\n\u001b[0;32m   1394\u001b[0m         \u001b[0mqasm\u001b[0m \u001b[1;33m=\u001b[0m \u001b[0mQasm\u001b[0m\u001b[1;33m(\u001b[0m\u001b[0mdata\u001b[0m\u001b[1;33m=\u001b[0m\u001b[0mqasm_str\u001b[0m\u001b[1;33m)\u001b[0m\u001b[1;33m\u001b[0m\u001b[1;33m\u001b[0m\u001b[0m\n\u001b[1;32m-> 1395\u001b[1;33m         \u001b[1;32mreturn\u001b[0m \u001b[0m_circuit_from_qasm\u001b[0m\u001b[1;33m(\u001b[0m\u001b[0mqasm\u001b[0m\u001b[1;33m)\u001b[0m\u001b[1;33m\u001b[0m\u001b[1;33m\u001b[0m\u001b[0m\n\u001b[0m\u001b[0;32m   1396\u001b[0m \u001b[1;33m\u001b[0m\u001b[0m\n\u001b[0;32m   1397\u001b[0m     \u001b[1;33m@\u001b[0m\u001b[0mproperty\u001b[0m\u001b[1;33m\u001b[0m\u001b[1;33m\u001b[0m\u001b[0m\n",
      "\u001b[1;32m~\\anacondaaa\\lib\\site-packages\\qiskit\\circuit\\quantumcircuit.py\u001b[0m in \u001b[0;36m_circuit_from_qasm\u001b[1;34m(qasm)\u001b[0m\n\u001b[0;32m   1934\u001b[0m     \u001b[1;32mfrom\u001b[0m \u001b[0mqiskit\u001b[0m\u001b[1;33m.\u001b[0m\u001b[0mconverters\u001b[0m \u001b[1;32mimport\u001b[0m \u001b[0mast_to_dag\u001b[0m\u001b[1;33m\u001b[0m\u001b[1;33m\u001b[0m\u001b[0m\n\u001b[0;32m   1935\u001b[0m     \u001b[1;32mfrom\u001b[0m \u001b[0mqiskit\u001b[0m\u001b[1;33m.\u001b[0m\u001b[0mconverters\u001b[0m \u001b[1;32mimport\u001b[0m \u001b[0mdag_to_circuit\u001b[0m\u001b[1;33m\u001b[0m\u001b[1;33m\u001b[0m\u001b[0m\n\u001b[1;32m-> 1936\u001b[1;33m     \u001b[0mast\u001b[0m \u001b[1;33m=\u001b[0m \u001b[0mqasm\u001b[0m\u001b[1;33m.\u001b[0m\u001b[0mparse\u001b[0m\u001b[1;33m(\u001b[0m\u001b[1;33m)\u001b[0m\u001b[1;33m\u001b[0m\u001b[1;33m\u001b[0m\u001b[0m\n\u001b[0m\u001b[0;32m   1937\u001b[0m     \u001b[0mdag\u001b[0m \u001b[1;33m=\u001b[0m \u001b[0mast_to_dag\u001b[0m\u001b[1;33m(\u001b[0m\u001b[0mast\u001b[0m\u001b[1;33m)\u001b[0m\u001b[1;33m\u001b[0m\u001b[1;33m\u001b[0m\u001b[0m\n\u001b[0;32m   1938\u001b[0m     \u001b[1;32mreturn\u001b[0m \u001b[0mdag_to_circuit\u001b[0m\u001b[1;33m(\u001b[0m\u001b[0mdag\u001b[0m\u001b[1;33m)\u001b[0m\u001b[1;33m\u001b[0m\u001b[1;33m\u001b[0m\u001b[0m\n",
      "\u001b[1;32m~\\anacondaaa\\lib\\site-packages\\qiskit\\qasm\\qasm.py\u001b[0m in \u001b[0;36mparse\u001b[1;34m(self)\u001b[0m\n\u001b[0;32m     67\u001b[0m         \u001b[1;32mwith\u001b[0m \u001b[0mQasmParser\u001b[0m\u001b[1;33m(\u001b[0m\u001b[0mself\u001b[0m\u001b[1;33m.\u001b[0m\u001b[0m_filename\u001b[0m\u001b[1;33m)\u001b[0m \u001b[1;32mas\u001b[0m \u001b[0mqasm_p\u001b[0m\u001b[1;33m:\u001b[0m\u001b[1;33m\u001b[0m\u001b[1;33m\u001b[0m\u001b[0m\n\u001b[0;32m     68\u001b[0m             \u001b[0mqasm_p\u001b[0m\u001b[1;33m.\u001b[0m\u001b[0mparse_debug\u001b[0m\u001b[1;33m(\u001b[0m\u001b[1;32mFalse\u001b[0m\u001b[1;33m)\u001b[0m\u001b[1;33m\u001b[0m\u001b[1;33m\u001b[0m\u001b[0m\n\u001b[1;32m---> 69\u001b[1;33m             \u001b[1;32mreturn\u001b[0m \u001b[0mqasm_p\u001b[0m\u001b[1;33m.\u001b[0m\u001b[0mparse\u001b[0m\u001b[1;33m(\u001b[0m\u001b[0mself\u001b[0m\u001b[1;33m.\u001b[0m\u001b[0m_data\u001b[0m\u001b[1;33m)\u001b[0m\u001b[1;33m\u001b[0m\u001b[1;33m\u001b[0m\u001b[0m\n\u001b[0m",
      "\u001b[1;32m~\\anacondaaa\\lib\\site-packages\\qiskit\\qasm\\qasmparser.py\u001b[0m in \u001b[0;36mparse\u001b[1;34m(self, data)\u001b[0m\n\u001b[0;32m   1087\u001b[0m     \u001b[1;32mdef\u001b[0m \u001b[0mparse\u001b[0m\u001b[1;33m(\u001b[0m\u001b[0mself\u001b[0m\u001b[1;33m,\u001b[0m \u001b[0mdata\u001b[0m\u001b[1;33m)\u001b[0m\u001b[1;33m:\u001b[0m\u001b[1;33m\u001b[0m\u001b[1;33m\u001b[0m\u001b[0m\n\u001b[0;32m   1088\u001b[0m         \u001b[1;34m\"\"\"Parse some data.\"\"\"\u001b[0m\u001b[1;33m\u001b[0m\u001b[1;33m\u001b[0m\u001b[0m\n\u001b[1;32m-> 1089\u001b[1;33m         \u001b[0mself\u001b[0m\u001b[1;33m.\u001b[0m\u001b[0mparser\u001b[0m\u001b[1;33m.\u001b[0m\u001b[0mparse\u001b[0m\u001b[1;33m(\u001b[0m\u001b[0mdata\u001b[0m\u001b[1;33m,\u001b[0m \u001b[0mlexer\u001b[0m\u001b[1;33m=\u001b[0m\u001b[0mself\u001b[0m\u001b[1;33m.\u001b[0m\u001b[0mlexer\u001b[0m\u001b[1;33m,\u001b[0m \u001b[0mdebug\u001b[0m\u001b[1;33m=\u001b[0m\u001b[0mself\u001b[0m\u001b[1;33m.\u001b[0m\u001b[0mparse_deb\u001b[0m\u001b[1;33m)\u001b[0m\u001b[1;33m\u001b[0m\u001b[1;33m\u001b[0m\u001b[0m\n\u001b[0m\u001b[0;32m   1090\u001b[0m         \u001b[1;32mif\u001b[0m \u001b[0mself\u001b[0m\u001b[1;33m.\u001b[0m\u001b[0mqasm\u001b[0m \u001b[1;32mis\u001b[0m \u001b[1;32mNone\u001b[0m\u001b[1;33m:\u001b[0m\u001b[1;33m\u001b[0m\u001b[1;33m\u001b[0m\u001b[0m\n\u001b[0;32m   1091\u001b[0m             raise QasmError(\"Uncaught exception in parser; \"\n",
      "\u001b[1;32m~\\anacondaaa\\lib\\site-packages\\ply\\yacc.py\u001b[0m in \u001b[0;36mparse\u001b[1;34m(self, input, lexer, debug, tracking, tokenfunc)\u001b[0m\n\u001b[0;32m    331\u001b[0m             \u001b[1;32mreturn\u001b[0m \u001b[0mself\u001b[0m\u001b[1;33m.\u001b[0m\u001b[0mparseopt\u001b[0m\u001b[1;33m(\u001b[0m\u001b[0minput\u001b[0m\u001b[1;33m,\u001b[0m \u001b[0mlexer\u001b[0m\u001b[1;33m,\u001b[0m \u001b[0mdebug\u001b[0m\u001b[1;33m,\u001b[0m \u001b[0mtracking\u001b[0m\u001b[1;33m,\u001b[0m \u001b[0mtokenfunc\u001b[0m\u001b[1;33m)\u001b[0m\u001b[1;33m\u001b[0m\u001b[1;33m\u001b[0m\u001b[0m\n\u001b[0;32m    332\u001b[0m         \u001b[1;32melse\u001b[0m\u001b[1;33m:\u001b[0m\u001b[1;33m\u001b[0m\u001b[1;33m\u001b[0m\u001b[0m\n\u001b[1;32m--> 333\u001b[1;33m             \u001b[1;32mreturn\u001b[0m \u001b[0mself\u001b[0m\u001b[1;33m.\u001b[0m\u001b[0mparseopt_notrack\u001b[0m\u001b[1;33m(\u001b[0m\u001b[0minput\u001b[0m\u001b[1;33m,\u001b[0m \u001b[0mlexer\u001b[0m\u001b[1;33m,\u001b[0m \u001b[0mdebug\u001b[0m\u001b[1;33m,\u001b[0m \u001b[0mtracking\u001b[0m\u001b[1;33m,\u001b[0m \u001b[0mtokenfunc\u001b[0m\u001b[1;33m)\u001b[0m\u001b[1;33m\u001b[0m\u001b[1;33m\u001b[0m\u001b[0m\n\u001b[0m\u001b[0;32m    334\u001b[0m \u001b[1;33m\u001b[0m\u001b[0m\n\u001b[0;32m    335\u001b[0m \u001b[1;33m\u001b[0m\u001b[0m\n",
      "\u001b[1;32m~\\anacondaaa\\lib\\site-packages\\ply\\yacc.py\u001b[0m in \u001b[0;36mparseopt_notrack\u001b[1;34m(self, input, lexer, debug, tracking, tokenfunc)\u001b[0m\n\u001b[0;32m   1061\u001b[0m                 \u001b[1;32mif\u001b[0m \u001b[1;32mnot\u001b[0m \u001b[0mlookahead\u001b[0m\u001b[1;33m:\u001b[0m\u001b[1;33m\u001b[0m\u001b[1;33m\u001b[0m\u001b[0m\n\u001b[0;32m   1062\u001b[0m                     \u001b[1;32mif\u001b[0m \u001b[1;32mnot\u001b[0m \u001b[0mlookaheadstack\u001b[0m\u001b[1;33m:\u001b[0m\u001b[1;33m\u001b[0m\u001b[1;33m\u001b[0m\u001b[0m\n\u001b[1;32m-> 1063\u001b[1;33m                         \u001b[0mlookahead\u001b[0m \u001b[1;33m=\u001b[0m \u001b[0mget_token\u001b[0m\u001b[1;33m(\u001b[0m\u001b[1;33m)\u001b[0m     \u001b[1;31m# Get the next token\u001b[0m\u001b[1;33m\u001b[0m\u001b[1;33m\u001b[0m\u001b[0m\n\u001b[0m\u001b[0;32m   1064\u001b[0m                     \u001b[1;32melse\u001b[0m\u001b[1;33m:\u001b[0m\u001b[1;33m\u001b[0m\u001b[1;33m\u001b[0m\u001b[0m\n\u001b[0;32m   1065\u001b[0m                         \u001b[0mlookahead\u001b[0m \u001b[1;33m=\u001b[0m \u001b[0mlookaheadstack\u001b[0m\u001b[1;33m.\u001b[0m\u001b[0mpop\u001b[0m\u001b[1;33m(\u001b[0m\u001b[1;33m)\u001b[0m\u001b[1;33m\u001b[0m\u001b[1;33m\u001b[0m\u001b[0m\n",
      "\u001b[1;32m~\\anacondaaa\\lib\\site-packages\\qiskit\\qasm\\qasmlexer.py\u001b[0m in \u001b[0;36mtoken\u001b[1;34m(self)\u001b[0m\n\u001b[0;32m     64\u001b[0m     \u001b[1;32mdef\u001b[0m \u001b[0mtoken\u001b[0m\u001b[1;33m(\u001b[0m\u001b[0mself\u001b[0m\u001b[1;33m)\u001b[0m\u001b[1;33m:\u001b[0m\u001b[1;33m\u001b[0m\u001b[1;33m\u001b[0m\u001b[0m\n\u001b[0;32m     65\u001b[0m         \u001b[1;34m\"\"\"Return the next token.\"\"\"\u001b[0m\u001b[1;33m\u001b[0m\u001b[1;33m\u001b[0m\u001b[0m\n\u001b[1;32m---> 66\u001b[1;33m         \u001b[0mret\u001b[0m \u001b[1;33m=\u001b[0m \u001b[0mself\u001b[0m\u001b[1;33m.\u001b[0m\u001b[0mlexer\u001b[0m\u001b[1;33m.\u001b[0m\u001b[0mtoken\u001b[0m\u001b[1;33m(\u001b[0m\u001b[1;33m)\u001b[0m\u001b[1;33m\u001b[0m\u001b[1;33m\u001b[0m\u001b[0m\n\u001b[0m\u001b[0;32m     67\u001b[0m         \u001b[1;32mreturn\u001b[0m \u001b[0mret\u001b[0m\u001b[1;33m\u001b[0m\u001b[1;33m\u001b[0m\u001b[0m\n\u001b[0;32m     68\u001b[0m \u001b[1;33m\u001b[0m\u001b[0m\n",
      "\u001b[1;32m~\\anacondaaa\\lib\\site-packages\\ply\\lex.py\u001b[0m in \u001b[0;36mtoken\u001b[1;34m(self)\u001b[0m\n\u001b[0;32m    319\u001b[0m             \u001b[1;32mfor\u001b[0m \u001b[0mlexre\u001b[0m\u001b[1;33m,\u001b[0m \u001b[0mlexindexfunc\u001b[0m \u001b[1;32min\u001b[0m \u001b[0mself\u001b[0m\u001b[1;33m.\u001b[0m\u001b[0mlexre\u001b[0m\u001b[1;33m:\u001b[0m\u001b[1;33m\u001b[0m\u001b[1;33m\u001b[0m\u001b[0m\n\u001b[0;32m    320\u001b[0m                 \u001b[0mm\u001b[0m \u001b[1;33m=\u001b[0m \u001b[0mlexre\u001b[0m\u001b[1;33m.\u001b[0m\u001b[0mmatch\u001b[0m\u001b[1;33m(\u001b[0m\u001b[0mlexdata\u001b[0m\u001b[1;33m,\u001b[0m \u001b[0mlexpos\u001b[0m\u001b[1;33m)\u001b[0m\u001b[1;33m\u001b[0m\u001b[1;33m\u001b[0m\u001b[0m\n\u001b[1;32m--> 321\u001b[1;33m                 \u001b[1;32mif\u001b[0m \u001b[1;32mnot\u001b[0m \u001b[0mm\u001b[0m\u001b[1;33m:\u001b[0m\u001b[1;33m\u001b[0m\u001b[1;33m\u001b[0m\u001b[0m\n\u001b[0m\u001b[0;32m    322\u001b[0m                     \u001b[1;32mcontinue\u001b[0m\u001b[1;33m\u001b[0m\u001b[1;33m\u001b[0m\u001b[0m\n\u001b[0;32m    323\u001b[0m \u001b[1;33m\u001b[0m\u001b[0m\n",
      "\u001b[1;31mKeyboardInterrupt\u001b[0m: "
     ]
    }
   ],
   "source": [
    "number_of_amp = 0\n",
    "for i in range(1000): \n",
    "    if (i%10) == 0: \n",
    "        print('Number of samples are ' + str(i) + ' and number of gates amplified is ' + str(number_of_amp))\n",
    "    RandomAmplification(circ, 2)"
   ]
  },
  {
   "cell_type": "code",
   "execution_count": 11,
   "metadata": {},
   "outputs": [
    {
     "data": {
      "text/plain": [
       "'OPENQASM 2.0;\\ninclude \"qelib1.inc\";\\nqreg q[1];\\nu3(1.6528969,2.1624174,1.5953142) q[0];\\n'"
      ]
     },
     "execution_count": 11,
     "metadata": {},
     "output_type": "execute_result"
    }
   ],
   "source": [
    "angle_1 = random.uniform(-math.pi,math.pi)\n",
    "angle_2 = random.uniform(-math.pi,math.pi)\n",
    "angle_3 = random.uniform(-math.pi,math.pi)\n",
    "circ = QuantumCircuit(1)\n",
    "circ.u3(angle_1, angle_2, angle_3, 0)\n",
    "string = circ.qasm()\n",
    "string"
   ]
  },
  {
   "cell_type": "code",
   "execution_count": 18,
   "metadata": {},
   "outputs": [
    {
     "ename": "QiskitError",
     "evalue": "'No counts for experiment \"0\"'",
     "output_type": "error",
     "traceback": [
      "\u001b[1;31m---------------------------------------------------------------------------\u001b[0m",
      "\u001b[1;31mQiskitError\u001b[0m                               Traceback (most recent call last)",
      "\u001b[1;32m<ipython-input-18-c81f14bde289>\u001b[0m in \u001b[0;36m<module>\u001b[1;34m\u001b[0m\n\u001b[0;32m      7\u001b[0m \u001b[0mnew_circ\u001b[0m \u001b[1;33m=\u001b[0m \u001b[0mQuantumCircuit\u001b[0m\u001b[1;33m.\u001b[0m\u001b[0mfrom_qasm_str\u001b[0m\u001b[1;33m(\u001b[0m\u001b[0mwhole_new_string\u001b[0m\u001b[1;33m)\u001b[0m\u001b[1;33m\u001b[0m\u001b[1;33m\u001b[0m\u001b[0m\n\u001b[0;32m      8\u001b[0m \u001b[0mjob\u001b[0m \u001b[1;33m=\u001b[0m \u001b[0mexecute\u001b[0m\u001b[1;33m(\u001b[0m\u001b[0mnew_circ\u001b[0m\u001b[1;33m,\u001b[0m \u001b[0mbackend\u001b[0m \u001b[1;33m=\u001b[0m \u001b[0msimulator\u001b[0m\u001b[1;33m,\u001b[0m \u001b[0mshots\u001b[0m \u001b[1;33m=\u001b[0m \u001b[1;36m1024\u001b[0m\u001b[1;33m)\u001b[0m\u001b[1;33m\u001b[0m\u001b[1;33m\u001b[0m\u001b[0m\n\u001b[1;32m----> 9\u001b[1;33m \u001b[0mcounts\u001b[0m \u001b[1;33m=\u001b[0m \u001b[0mjob\u001b[0m\u001b[1;33m.\u001b[0m\u001b[0mresult\u001b[0m\u001b[1;33m(\u001b[0m\u001b[1;33m)\u001b[0m\u001b[1;33m.\u001b[0m\u001b[0mget_counts\u001b[0m\u001b[1;33m(\u001b[0m\u001b[1;33m)\u001b[0m\u001b[1;33m\u001b[0m\u001b[1;33m\u001b[0m\u001b[0m\n\u001b[0m",
      "\u001b[1;32m~\\anacondaaa\\lib\\site-packages\\qiskit\\result\\result.py\u001b[0m in \u001b[0;36mget_counts\u001b[1;34m(self, experiment)\u001b[0m\n\u001b[0;32m    194\u001b[0m                 \u001b[0mdict_list\u001b[0m\u001b[1;33m.\u001b[0m\u001b[0mappend\u001b[0m\u001b[1;33m(\u001b[0m\u001b[0mStatevector\u001b[0m\u001b[1;33m(\u001b[0m\u001b[0mvec\u001b[0m\u001b[1;33m)\u001b[0m\u001b[1;33m.\u001b[0m\u001b[0mprobabilities_dict\u001b[0m\u001b[1;33m(\u001b[0m\u001b[0mdecimals\u001b[0m\u001b[1;33m=\u001b[0m\u001b[1;36m15\u001b[0m\u001b[1;33m)\u001b[0m\u001b[1;33m)\u001b[0m\u001b[1;33m\u001b[0m\u001b[1;33m\u001b[0m\u001b[0m\n\u001b[0;32m    195\u001b[0m             \u001b[1;32melse\u001b[0m\u001b[1;33m:\u001b[0m\u001b[1;33m\u001b[0m\u001b[1;33m\u001b[0m\u001b[0m\n\u001b[1;32m--> 196\u001b[1;33m                 \u001b[1;32mraise\u001b[0m \u001b[0mQiskitError\u001b[0m\u001b[1;33m(\u001b[0m\u001b[1;34m'No counts for experiment \"{0}\"'\u001b[0m\u001b[1;33m.\u001b[0m\u001b[0mformat\u001b[0m\u001b[1;33m(\u001b[0m\u001b[0mkey\u001b[0m\u001b[1;33m)\u001b[0m\u001b[1;33m)\u001b[0m\u001b[1;33m\u001b[0m\u001b[1;33m\u001b[0m\u001b[0m\n\u001b[0m\u001b[0;32m    197\u001b[0m \u001b[1;33m\u001b[0m\u001b[0m\n\u001b[0;32m    198\u001b[0m         \u001b[1;31m# Return first item of dict_list if size is 1\u001b[0m\u001b[1;33m\u001b[0m\u001b[1;33m\u001b[0m\u001b[1;33m\u001b[0m\u001b[0m\n",
      "\u001b[1;31mQiskitError\u001b[0m: 'No counts for experiment \"0\"'"
     ]
    }
   ],
   "source": [
    "angle_1 = random.uniform(-math.pi,math.pi)\n",
    "angle_2 = random.uniform(-math.pi,math.pi)\n",
    "angle_3 = random.uniform(-math.pi,math.pi)\n",
    "string = 'u3' + '(' + str(angle_1) + ',' + str(angle_2) + ',' + str(angle_3) + ')' + ' q[0];'\n",
    "whole_new_string = 'OPENQASM 2.0;\\ninclude \"qelib1.inc\";\\nqreg q[1];\\n' + u3PairAdder(string)\n",
    "#print(whole_new_string)\n",
    "new_circ = QuantumCircuit.from_qasm_str(whole_new_string)\n",
    "job = execute(new_circ, backend = simulator, shots = 1024)\n",
    "counts = job.result().get_counts()"
   ]
  },
  {
   "cell_type": "code",
   "execution_count": 20,
   "metadata": {},
   "outputs": [
    {
     "data": {
      "text/plain": [
       "Result(backend_name='qasm_simulator', backend_version='0.5.1', date=datetime.datetime(2020, 8, 3, 8, 30, 36, 6876), header=Obj(backend_name='qasm_simulator', backend_version='0.5.1'), job_id='08eb663d-c2f7-4997-818d-97585ac21901', metadata={'max_memory_mb': 4025, 'omp_enabled': True, 'parallel_experiments': 1, 'time_taken': 0.0002518}, qobj_id='f3514ec0-fbc4-4986-8590-8978128a8bbd', results=[ExperimentResult(data=ExperimentResultData(), header=Obj(clbit_labels=[], creg_sizes=[], memory_slots=0, n_qubits=1, name='circuit12', qreg_sizes=[['q', 1]], qubit_labels=[['q', 0]]), meas_level=<MeasLevel.CLASSIFIED: 2>, metadata={'measure_sampling': True, 'method': 'statevector', 'parallel_shots': 1, 'parallel_state_update': 4}, seed_simulator=3247070292, shots=1024, status='DONE', success=True, time_taken=0.000178)], status='COMPLETED', success=True, time_taken=0.0)"
      ]
     },
     "execution_count": 20,
     "metadata": {},
     "output_type": "execute_result"
    }
   ],
   "source": [
    "job.result()"
   ]
  },
  {
   "cell_type": "code",
   "execution_count": 22,
   "metadata": {},
   "outputs": [
    {
     "ename": "QiskitError",
     "evalue": "'No counts for experiment \"0\"'",
     "output_type": "error",
     "traceback": [
      "\u001b[1;31m---------------------------------------------------------------------------\u001b[0m",
      "\u001b[1;31mQiskitError\u001b[0m                               Traceback (most recent call last)",
      "\u001b[1;32m<ipython-input-22-445c8a483d08>\u001b[0m in \u001b[0;36m<module>\u001b[1;34m\u001b[0m\n\u001b[1;32m----> 1\u001b[1;33m \u001b[0mjob\u001b[0m\u001b[1;33m.\u001b[0m\u001b[0mresult\u001b[0m\u001b[1;33m(\u001b[0m\u001b[1;33m)\u001b[0m\u001b[1;33m.\u001b[0m\u001b[0mget_counts\u001b[0m\u001b[1;33m(\u001b[0m\u001b[1;33m)\u001b[0m\u001b[1;33m\u001b[0m\u001b[1;33m\u001b[0m\u001b[0m\n\u001b[0m",
      "\u001b[1;32m~\\anacondaaa\\lib\\site-packages\\qiskit\\result\\result.py\u001b[0m in \u001b[0;36mget_counts\u001b[1;34m(self, experiment)\u001b[0m\n\u001b[0;32m    194\u001b[0m                 \u001b[0mdict_list\u001b[0m\u001b[1;33m.\u001b[0m\u001b[0mappend\u001b[0m\u001b[1;33m(\u001b[0m\u001b[0mStatevector\u001b[0m\u001b[1;33m(\u001b[0m\u001b[0mvec\u001b[0m\u001b[1;33m)\u001b[0m\u001b[1;33m.\u001b[0m\u001b[0mprobabilities_dict\u001b[0m\u001b[1;33m(\u001b[0m\u001b[0mdecimals\u001b[0m\u001b[1;33m=\u001b[0m\u001b[1;36m15\u001b[0m\u001b[1;33m)\u001b[0m\u001b[1;33m)\u001b[0m\u001b[1;33m\u001b[0m\u001b[1;33m\u001b[0m\u001b[0m\n\u001b[0;32m    195\u001b[0m             \u001b[1;32melse\u001b[0m\u001b[1;33m:\u001b[0m\u001b[1;33m\u001b[0m\u001b[1;33m\u001b[0m\u001b[0m\n\u001b[1;32m--> 196\u001b[1;33m                 \u001b[1;32mraise\u001b[0m \u001b[0mQiskitError\u001b[0m\u001b[1;33m(\u001b[0m\u001b[1;34m'No counts for experiment \"{0}\"'\u001b[0m\u001b[1;33m.\u001b[0m\u001b[0mformat\u001b[0m\u001b[1;33m(\u001b[0m\u001b[0mkey\u001b[0m\u001b[1;33m)\u001b[0m\u001b[1;33m)\u001b[0m\u001b[1;33m\u001b[0m\u001b[1;33m\u001b[0m\u001b[0m\n\u001b[0m\u001b[0;32m    197\u001b[0m \u001b[1;33m\u001b[0m\u001b[0m\n\u001b[0;32m    198\u001b[0m         \u001b[1;31m# Return first item of dict_list if size is 1\u001b[0m\u001b[1;33m\u001b[0m\u001b[1;33m\u001b[0m\u001b[1;33m\u001b[0m\u001b[0m\n",
      "\u001b[1;31mQiskitError\u001b[0m: 'No counts for experiment \"0\"'"
     ]
    }
   ],
   "source": [
    "job.result().get_counts()"
   ]
  },
  {
   "cell_type": "code",
   "execution_count": 26,
   "metadata": {},
   "outputs": [
    {
     "data": {
      "image/png": "[encoded data removed]",
      "text/plain": [
       "<Figure size 233.576x144.48 with 1 Axes>"
      ]
     },
     "execution_count": 26,
     "metadata": {},
     "output_type": "execute_result"
    }
   ],
   "source": [
    "circ = QuantumCircuit(1,1)\n",
    "circ.x(0)\n",
    "circ.measure(0, 0)\n",
    "circ.draw(output = 'mpl')"
   ]
  },
  {
   "cell_type": "code",
   "execution_count": 27,
   "metadata": {},
   "outputs": [],
   "source": [
    "job = execute(circ, backend = simulator, shots = 1024)\n",
    "counts = job.result().get_counts()"
   ]
  },
  {
   "cell_type": "code",
   "execution_count": 28,
   "metadata": {},
   "outputs": [
    {
     "data": {
      "text/plain": [
       "'OPENQASM 2.0;\\ninclude \"qelib1.inc\";\\nqreg q[1];\\ncreg c[1];\\nx q[0];\\nmeasure q[0] -> c[0];\\n'"
      ]
     },
     "execution_count": 28,
     "metadata": {},
     "output_type": "execute_result"
    }
   ],
   "source": [
    "circ.qasm()"
   ]
  },
  {
   "cell_type": "code",
   "execution_count": null,
   "metadata": {},
   "outputs": [],
   "source": []
  }
 ],
 "metadata": {
  "kernelspec": {
   "display_name": "Python 3",
   "language": "python",
   "name": "python3"
  },
  "language_info": {
   "codemirror_mode": {
    "name": "ipython",
    "version": 3
   },
   "file_extension": ".py",
   "mimetype": "text/x-python",
   "name": "python",
   "nbconvert_exporter": "python",
   "pygments_lexer": "ipython3",
   "version": "3.7.6"
  }
 },
 "nbformat": 4,
 "nbformat_minor": 4
}
