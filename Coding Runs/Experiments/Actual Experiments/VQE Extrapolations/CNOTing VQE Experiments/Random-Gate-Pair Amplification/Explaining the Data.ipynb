{
 "cells": [
  {
   "cell_type": "markdown",
   "metadata": {},
   "source": [
    "# One Gate Pair"
   ]
  },
  {
   "cell_type": "code",
   "execution_count": 1,
   "metadata": {},
   "outputs": [],
   "source": [
    "means = [-1.0231085456845437,\n",
    " -0.9967476277157938,\n",
    " -0.9713390671689187,\n",
    " -0.9469696120907938,\n",
    " -0.9236470027157938]\n",
    "std_devs = [0.012258911222833775,\n",
    " 0.022025153027815915,\n",
    " 0.023800541710132135,\n",
    " 0.022549492515404793,\n",
    " 0.015264169281851436]\n",
    "errs_on_mean = [0.00038766081097954677,\n",
    " 0.0006964964938165221,\n",
    " 0.0007526392134985657,\n",
    " 0.0007130775642959866,\n",
    " 0.0004826954152102721]"
   ]
  },
  {
   "cell_type": "code",
   "execution_count": 2,
   "metadata": {},
   "outputs": [],
   "source": [
    "means_cnot = [-1.024509324981419,\n",
    " -1.0077516531064188,\n",
    " -0.9905175066220439,\n",
    " -0.9732611335751687,\n",
    " -0.9571140691220437]\n",
    "std_devs_cnot = [0.012040348411028143,\n",
    " 0.0183059406758592,\n",
    " 0.020905871760964746,\n",
    " 0.01808271043774114,\n",
    " 0.014820610495330865]\n",
    "errs_on_mean_cnot = [0.0003807492480083814,\n",
    " 0.000578884672476372,\n",
    " 0.000661101712360438,\n",
    " 0.0005718255125256238,\n",
    " 0.00046866885479441813]"
   ]
  },
  {
   "cell_type": "code",
   "execution_count": 17,
   "metadata": {},
   "outputs": [
    {
     "data": {
      "image/png": "[encoded data removed]",
      "text/plain": [
       "<Figure size 432x288 with 1 Axes>"
      ]
     },
     "metadata": {
      "needs_background": "light"
     },
     "output_type": "display_data"
    }
   ],
   "source": [
    "import matplotlib.pyplot as plt\n",
    "\n",
    "#Plotting means \n",
    "f = plt.figure()\n",
    "\n",
    "scales = [1, 1.5, 2, 2.5, 3]\n",
    "\n",
    "plt.errorbar(scales, means, yerr=errs_on_mean,capsize = 10, fmt ='o', label = 'U3 and CNOT' )\n",
    "plt.errorbar(scales, means_cnot, yerr= errs_on_mean_cnot,capsize = 10, fmt ='o', label = 'CNOT' )\n",
    "plt.plot(0, -1.137, 'ro', label = 'exact energy')\n",
    "\n",
    "plt.title('Mean Energies')\n",
    "plt.xlabel('scale factors')\n",
    "plt.ylabel('Energy (Hartree)')\n",
    "plt.legend()\n",
    "plt.show()\n",
    "f.savefig('resultsAug6', dpi = 1000)"
   ]
  },
  {
   "cell_type": "markdown",
   "metadata": {},
   "source": [
    "# 2 gate pair"
   ]
  },
  {
   "cell_type": "code",
   "execution_count": 8,
   "metadata": {},
   "outputs": [],
   "source": [
    "means5 = [-1.0423814870907937,\n",
    " -1.0188940242001687,\n",
    " -0.9949465378720438,\n",
    " -0.9732428230282938,\n",
    " -0.9510288738095438,\n",
    " -0.9331516238095438,\n",
    " -0.9119269734189188,\n",
    " -0.8931035339657938,\n",
    " -0.8716790671689187]\n",
    "std_devs5 = [0.01156689862176383,\n",
    " 0.027064859623805254,\n",
    " 0.03535505959516701,\n",
    " 0.03655642629240738,\n",
    " 0.03892670558512413,\n",
    " 0.036230456230213426,\n",
    " 0.032997510270784,\n",
    " 0.027772019626862068,\n",
    " 0.017037448300634743]\n",
    "errs_on_mean5 = [0.0003657774510903618,\n",
    " 0.0008558660096395252,\n",
    " 0.0011180251513171833,\n",
    " 0.0011560157020007182,\n",
    " 0.0012309705145578972,\n",
    " 0.001145707623545122,\n",
    " 0.001043472895704769,\n",
    " 0.0008782283724378369,\n",
    " 0.0005387714214737096]"
   ]
  },
  {
   "cell_type": "code",
   "execution_count": 9,
   "metadata": {},
   "outputs": [],
   "source": [
    "means5_cnot =[-1.0419870710751689,\n",
    " -1.0209594538876687,\n",
    " -0.9986028484189188,\n",
    " -0.9807879324032938,\n",
    " -0.9613018484189187,\n",
    " -0.9441765456845437,\n",
    " -0.9238133835751687,\n",
    " -0.9056704148251687,\n",
    " -0.8882969695126688]\n",
    "std_devs5_cnot = [0.0115914591724312,\n",
    " 0.027656316866571218,\n",
    " 0.03492895820374601,\n",
    " 0.037631125255649815,\n",
    " 0.037450729978802694,\n",
    " 0.03890645506621247,\n",
    " 0.03310000037652122,\n",
    " 0.02766168676365857,\n",
    " 0.017207324780358094]\n",
    "errs_on_mean5_cnot = [0.00036655412389733033,\n",
    " 0.0008745695298969612,\n",
    " 0.0011045506422066105,\n",
    " 0.001190000667229395,\n",
    " 0.0011842960676896597,\n",
    " 0.0012303301369222858,\n",
    " 0.0010467139174223801,\n",
    " 0.0008747393409529286,\n",
    " 0.0005441433874418816]"
   ]
  },
  {
   "cell_type": "code",
   "execution_count": 19,
   "metadata": {},
   "outputs": [
    {
     "data": {
      "image/png": "[encoded data removed]",
      "text/plain": [
       "<Figure size 432x288 with 1 Axes>"
      ]
     },
     "metadata": {
      "needs_background": "light"
     },
     "output_type": "display_data"
    }
   ],
   "source": [
    "#Plotting means \n",
    "f = plt.figure()\n",
    "\n",
    "scales5 = [1, 1.5, 2, 2.5, 3, 3.5, 4, 4.5, 5]\n",
    "\n",
    "plt.errorbar(scales5, means5, yerr=errs_on_mean5,capsize = 10, fmt ='o', label = 'U3 and CNOT' )\n",
    "plt.errorbar(scales5, means5_cnot, yerr= errs_on_mean5_cnot,capsize = 10, fmt ='o', label = 'CNOT' )\n",
    "plt.plot(0, -1.137, 'ro', label = 'exact energy')\n",
    "\n",
    "plt.title('Mean Energies')\n",
    "plt.xlabel('scale factors')\n",
    "plt.ylabel('Energy (Hartree)')\n",
    "plt.legend()\n",
    "plt.show()\n",
    "f.savefig('resultsAug6(2)', dpi = 1000)"
   ]
  },
  {
   "cell_type": "markdown",
   "metadata": {},
   "source": [
    "# Extrapolation Functions"
   ]
  },
  {
   "cell_type": "code",
   "execution_count": 12,
   "metadata": {},
   "outputs": [],
   "source": [
    "def RichardsonExtrap_Fraction(energies): \n",
    "    \"\"\"\n",
    "    Input: An array of energies scaled with different stretch factors--normal integer multiples only --eg 1,2,3,4..\n",
    "    Assumption: Odd scalings - 1,3,5,7,...\n",
    "    Output: Zero Error extrapolated answer\n",
    "    \"\"\"\n",
    "    n = len(energies)\n",
    "    scales = [1+i*0.5 for i in range(n)]\n",
    "    \n",
    "    #setting up all equations \n",
    "    equations = []\n",
    "    for eq_num in scales: \n",
    "        equation = []\n",
    "        if eq_num == 1: \n",
    "            for i in range(n): \n",
    "                equation.append(1)\n",
    "            equations = [equation]\n",
    "        else: \n",
    "            for term_num in scales: \n",
    "                term = term_num**(eq_num*2-2)\n",
    "                #print(term)\n",
    "                equation.append(term)\n",
    "            equations = np.append(equations, [equation], axis = 0)\n",
    "    #print(equations)\n",
    "    \n",
    "    #Now filling up equals to matrix \n",
    "    equals_to = [1]\n",
    "    for i in range(1, n): \n",
    "        equals_to.append(0)\n",
    "    #print(equals_to)\n",
    "    \n",
    "    #solving the system\n",
    "    coeff = np.linalg.solve(equations, equals_to)\n",
    "    #print(coeff)\n",
    "    \n",
    "    #Combine coeff with energies to get zero noise result \n",
    "    result = np.dot(coeff, energies)\n",
    "    return result"
   ]
  },
  {
   "cell_type": "code",
   "execution_count": 13,
   "metadata": {},
   "outputs": [],
   "source": [
    "def MonteCarloError(means, std_devs, poly_fit = False, deg = 1, sampling_size = 1000): \n",
    "    \"\"\"\n",
    "    Input: arrays means and standard deviations of the various scalings of noise, whether to do richardson i.e. no poly fit \n",
    "    If doing polyfit, then specify degree, sampling_size is how many times to sample from the Gaussian \n",
    "    \n",
    "    Assumption: Scaled by integer values ranging from 1 to X where X>1\n",
    "    \n",
    "    Output: Error estimate\n",
    "    \"\"\"\n",
    "    n = len(means)\n",
    "    \n",
    "    #Sampling from Gaussian for each scaling \n",
    "    all_samples = []\n",
    "    debug_means = []\n",
    "    for i in range(n): \n",
    "        samples = np.random.normal(means[i], std_devs[i], sampling_size)\n",
    "        all_samples.append(samples)\n",
    "        #for debugging\n",
    "        debug_means.append(means[i] - np.mean(samples))\n",
    "    #print(debug_means)\n",
    "    \n",
    "    #Doing Extrapolation for all sampling_size samples (1000 if set to default)\n",
    "    zero_noise_energies = []\n",
    "    for j in range(sampling_size): \n",
    "        energies = []\n",
    "        for i in range(n): \n",
    "            energies.append(all_samples[i][j])\n",
    "            \n",
    "        ##Doing either richardson or funcs \n",
    "        ###Polynomial\n",
    "        if poly_fit: \n",
    "            ####need the scale values: \n",
    "            scales = []\n",
    "            scales = [0.5*c +1 for c in range(n)]\n",
    "            ####making the function \n",
    "            param = np.polyfit(scales, energies, deg, w = [1/i for i in std_devs])\n",
    "            f = np.poly1d(param)\n",
    "            ####extrapolation\n",
    "            result = f(0)\n",
    "            zero_noise_energies.append(result)\n",
    "            \n",
    "        ###Richardson\n",
    "        else: \n",
    "            result = RichardsonExtrap_Fraction(energies)\n",
    "            zero_noise_energies.append(result)\n",
    "    \n",
    "    #Returning error i.e. std \n",
    "    error = np.std(zero_noise_energies)\n",
    "    return error\n",
    "    \n",
    "        "
   ]
  },
  {
   "cell_type": "code",
   "execution_count": 44,
   "metadata": {},
   "outputs": [],
   "source": [
    "import numpy as np\n",
    "\n",
    "#Richardson Extrap Error(Uncertainity)\n",
    "R_uncert = MonteCarloError(means, std_devs, poly_fit = False)\n",
    "R_uncert_cnot = MonteCarloError(means_cnot, std_devs_cnot, poly_fit = False)\n",
    "R_uncert5 = MonteCarloError(means5, std_devs5, poly_fit = False)\n",
    "R_uncert5_cnot = MonteCarloError(means5_cnot, std_devs5_cnot, poly_fit = False)\n",
    "\n",
    "#Polynomial Fits Errors (Uncertainities)\n",
    "n_degree1 = 4\n",
    "n_degree2 = 8\n",
    "poly_uncerts = []\n",
    "poly_uncerts_cnot = []\n",
    "poly_uncerts5 = []\n",
    "poly_uncerts5_cnot = []\n",
    "\n",
    "for i in range(1, n_degree1+1): \n",
    "    uncert = MonteCarloError(means, std_devs, poly_fit = True, deg = i)\n",
    "    poly_uncerts.append(uncert)\n",
    "    uncert_cnot = MonteCarloError(means_cnot, std_devs_cnot, poly_fit = True, deg = i)\n",
    "    poly_uncerts_cnot.append(uncert_cnot)\n",
    "    \n",
    "for i in range(1, n_degree2+1): \n",
    "    uncert = MonteCarloError(means5, std_devs5, poly_fit = True, deg = i)\n",
    "    poly_uncerts5.append(uncert)\n",
    "    uncert5_cnot = MonteCarloError(means5_cnot, std_devs5_cnot, poly_fit = True, deg = i)\n",
    "    poly_uncerts5_cnot.append(uncert5_cnot)"
   ]
  },
  {
   "cell_type": "code",
   "execution_count": 45,
   "metadata": {},
   "outputs": [
    {
     "data": {
      "text/plain": [
       "[0.013434679515554052,\n",
       " 0.031918972441530434,\n",
       " 0.09254842541486416,\n",
       " 0.2578740640868473,\n",
       " 0.7780276193352097,\n",
       " 2.8497999051666567,\n",
       " 11.334967399721243,\n",
       " 68.53484822971507]"
      ]
     },
     "execution_count": 45,
     "metadata": {},
     "output_type": "execute_result"
    }
   ],
   "source": [
    "poly_uncerts5"
   ]
  },
  {
   "cell_type": "code",
   "execution_count": 46,
   "metadata": {},
   "outputs": [
    {
     "data": {
      "text/plain": [
       "[0.013667272838448078,\n",
       " 0.03293658631556617,\n",
       " 0.09052237305210317,\n",
       " 0.26884626999321115,\n",
       " 0.7860621174233197,\n",
       " 3.0241292915001847,\n",
       " 12.194766900880994,\n",
       " 66.77065784063521]"
      ]
     },
     "execution_count": 46,
     "metadata": {},
     "output_type": "execute_result"
    }
   ],
   "source": [
    "poly_uncerts5_cnot"
   ]
  },
  {
   "cell_type": "code",
   "execution_count": 20,
   "metadata": {},
   "outputs": [],
   "source": [
    "#Richardson \n",
    "R_zero = RichardsonExtrap_Fraction(means)\n",
    "R_zero_cnot = RichardsonExtrap_Fraction(means_cnot)\n",
    "R_zero5 = RichardsonExtrap_Fraction(means5)\n",
    "R_zero5_cnot = RichardsonExtrap_Fraction(means5_cnot)\n",
    "\n",
    "funcs = []\n",
    "funcs_cnot = []\n",
    "funcs5 = []\n",
    "funcs5_cnot = []\n",
    "\n",
    "for i in range(1,n_degree1+1): \n",
    "    param= np.polyfit(scales, means, i, w=[1/j for j in std_devs])\n",
    "    p = np.poly1d(param)\n",
    "    funcs.append(p)\n",
    "    param_cnot = np.polyfit(scales, means_cnot, i, w=[1/j for j in std_devs_cnot])\n",
    "    p_cnot = np.poly1d(param_cnot)\n",
    "    funcs_cnot.append(p_cnot)\n",
    "\n",
    "for i in range(1,n_degree2+1): \n",
    "    param= np.polyfit(scales5, means5, i, w=[1/j for j in std_devs5])\n",
    "    p = np.poly1d(param)\n",
    "    funcs5.append(p)\n",
    "    param_cnot = np.polyfit(scales5, means5_cnot, i, w=[1/j for j in std_devs5_cnot])\n",
    "    p_cnot = np.poly1d(param_cnot)\n",
    "    funcs5_cnot.append(p_cnot)\n",
    "\n",
    "\n",
    "##Finding zero_noise\n",
    "poly_zero = []\n",
    "poly_zero_cnot = []\n",
    "poly_zero5 = []\n",
    "poly_zero5_cnot = []\n",
    "for f in range(len(funcs)):\n",
    "    poly_zero.append(funcs[f](0))\n",
    "    poly_zero_cnot.append(funcs_cnot[f](0))\n",
    "for f in range(len(funcs5)):\n",
    "    poly_zero5.append(funcs5[f](0))\n",
    "    poly_zero5_cnot.append(funcs5_cnot[f](0))"
   ]
  },
  {
   "cell_type": "code",
   "execution_count": 53,
   "metadata": {},
   "outputs": [
    {
     "data": {
      "image/png": "[encoded data removed]",
      "text/plain": [
       "<Figure size 432x288 with 1 Axes>"
      ]
     },
     "metadata": {
      "needs_background": "light"
     },
     "output_type": "display_data"
    }
   ],
   "source": [
    "exact_energy = [-1.137]\n",
    "\n",
    "d = plt.figure()\n",
    "import matplotlib.pyplot as plt \n",
    "degrees = []\n",
    "for i in range(n_degree1): \n",
    "    degrees.append(i+1)\n",
    "plt.errorbar(degrees, [energy - exact_energy[0] for energy in poly_zero], yerr=poly_uncerts, capsize = 5,fmt =' ', ecolor = 'blue', label = 'Uncertainties of Poly Fits(U3 +CNOT)' )\n",
    "plt.errorbar(n_degree1+.5, R_zero- exact_energy[0], yerr=R_uncert, capsize = 5,fmt =' ', ecolor = 'red' , label = 'Uncertainties of Richardson (U3 +CNOT)')\n",
    "plt.plot(degrees, [energy - exact_energy[0] for energy in poly_zero], linestyle = ' ', marker = 'o', color = 'blue' )\n",
    "plt.plot(n_degree1+.5, R_zero- exact_energy[0],  linestyle = ' ', marker = 'o', color = 'red' )\n",
    "\n",
    "plt.errorbar([i+0.1 for i in degrees], [energy - exact_energy[0] for energy in poly_zero_cnot], yerr=poly_uncerts_cnot, capsize = 5,fmt =' ', ecolor = 'orange', label = 'Uncertainties of Poly Fits (CNOT)' )\n",
    "plt.errorbar(n_degree1+.6, R_zero_cnot- exact_energy[0], yerr=R_uncert_cnot, capsize = 5,fmt =' ', ecolor = 'pink' , label = 'Uncertainties of Richardson (CNOT)')\n",
    "plt.plot([i+0.1 for i in degrees], [energy - exact_energy[0] for energy in poly_zero_cnot], linestyle = ' ', marker = 'o', color = 'orange' )\n",
    "plt.plot(n_degree1+.6, R_zero_cnot- exact_energy[0],  linestyle = ' ', marker = 'o', color = 'pink' )\n",
    "\n",
    "\n",
    "plt.xlabel('degree of polynomial')\n",
    "plt.ylabel('Difference From Exact Energy (Hartree)')\n",
    "plt.title('The Uncertainities at Zero point of the various extrapolations ')\n",
    "plt.plot(degrees + [4.7], [0*i for i in range(len(degrees + [4.7]))], linestyle = '--', color = 'black' , linewidth = 2)\n",
    "plt.legend()\n",
    "plt.show()\n",
    "d.savefig('August6(3)', dpi = 1000)"
   ]
  },
  {
   "cell_type": "code",
   "execution_count": 54,
   "metadata": {},
   "outputs": [
    {
     "data": {
      "image/png": "[encoded data removed]",
      "text/plain": [
       "<Figure size 432x288 with 1 Axes>"
      ]
     },
     "metadata": {
      "needs_background": "light"
     },
     "output_type": "display_data"
    }
   ],
   "source": [
    "exact_energy = [-1.137]\n",
    "\n",
    "d = plt.figure()\n",
    "\n",
    "import matplotlib.pyplot as plt \n",
    "degrees = []\n",
    "for i in range(n_degree1): \n",
    "    degrees.append(i+1)\n",
    "plt.errorbar(degrees, [energy - exact_energy[0] for energy in poly_zero], yerr=poly_uncerts, capsize = 5,fmt =' ', ecolor = 'blue', label = 'Uncertainties of Poly Fits(U3 +CNOT)' )\n",
    "plt.errorbar(n_degree1+.5, R_zero- exact_energy[0], yerr=R_uncert, capsize = 5,fmt =' ', ecolor = 'red' , label = 'Uncertainties of Richardson (U3 +CNOT)')\n",
    "plt.plot(degrees, [energy - exact_energy[0] for energy in poly_zero], linestyle = ' ', marker = 'o', color = 'blue' )\n",
    "plt.plot(n_degree1+.5, R_zero- exact_energy[0],  linestyle = ' ', marker = 'o', color = 'red' )\n",
    "\n",
    "plt.errorbar([i+0.1 for i in degrees], [energy - exact_energy[0] for energy in poly_zero_cnot], yerr=poly_uncerts_cnot, capsize = 5,fmt =' ', ecolor = 'orange', label = 'Uncertainties of Poly Fits (CNOT)' )\n",
    "plt.errorbar(n_degree1+.6, R_zero_cnot- exact_energy[0], yerr=R_uncert_cnot, capsize = 5,fmt =' ', ecolor = 'pink' , label = 'Uncertainties of Richardson (CNOT)')\n",
    "plt.plot([i+0.1 for i in degrees], [energy - exact_energy[0] for energy in poly_zero_cnot], linestyle = ' ', marker = 'o', color = 'orange' )\n",
    "plt.plot(n_degree1+.6, R_zero_cnot- exact_energy[0],  linestyle = ' ', marker = 'o', color = 'pink' )\n",
    "\n",
    "\n",
    "plt.axis([0.9, 5, 0, 0.2])\n",
    "\n",
    "plt.xlabel('degree of polynomial')\n",
    "plt.ylabel('Difference From Exact Energy (Hartree)')\n",
    "plt.title('The Uncertainities at Zero point of the various extrapolations ')\n",
    "plt.plot(degrees + [4.7], [0*i for i in range(len(degrees + [4.7]))], linestyle = '--', color = 'black' , linewidth = 2)\n",
    "#plt.legend()\n",
    "plt.show()\n",
    "d.savefig('August6(4)', dpi = 1000)"
   ]
  },
  {
   "cell_type": "code",
   "execution_count": 55,
   "metadata": {},
   "outputs": [
    {
     "data": {
      "image/png": "[encoded data removed]",
      "text/plain": [
       "<Figure size 432x288 with 1 Axes>"
      ]
     },
     "metadata": {
      "needs_background": "light"
     },
     "output_type": "display_data"
    }
   ],
   "source": [
    "g = plt.figure()\n",
    "\n",
    "import matplotlib.pyplot as plt \n",
    "degrees = []\n",
    "for i in range(n_degree2): \n",
    "    degrees.append(i+1)\n",
    "plt.errorbar(degrees, [energy - exact_energy[0] for energy in poly_zero5], yerr=poly_uncerts5, capsize = 5,fmt =' ', ecolor = 'blue', label = 'Uncertainties of Poly Fits(U3 +CNOT)' )\n",
    "plt.errorbar(n_degree2+.5, R_zero5- exact_energy[0], yerr=R_uncert5, capsize = 5,fmt =' ', ecolor = 'red' , label = 'Uncertainties of Richardson (U3 +CNOT)')\n",
    "plt.plot(degrees, [energy - exact_energy[0] for energy in poly_zero5], linestyle = ' ', marker = 'o', color = 'blue' )\n",
    "plt.plot(n_degree2+.5, R_zero5- exact_energy[0],  linestyle = ' ', marker = 'o', color = 'red' )\n",
    "\n",
    "plt.errorbar([i+0.1 for i in degrees], [energy - exact_energy[0] for energy in poly_zero5_cnot], yerr=poly_uncerts5_cnot, capsize = 5,fmt =' ', ecolor = 'orange', label = 'Uncertainties of Poly Fits (CNOT)' )\n",
    "plt.errorbar(n_degree2+.6, R_zero5_cnot- exact_energy[0], yerr=R_uncert5_cnot, capsize = 5,fmt =' ', ecolor = 'pink' , label = 'Uncertainties of Richardson (CNOT)')\n",
    "plt.plot([i+0.1 for i in degrees], [energy - exact_energy[0] for energy in poly_zero5_cnot], linestyle = ' ', marker = 'o', color = 'orange' )\n",
    "plt.plot(n_degree2+.6, R_zero5_cnot- exact_energy[0],  linestyle = ' ', marker = 'o', color = 'pink' )\n",
    "\n",
    "\n",
    "#plt.axis([0.9, 5, 0, 0.2])\n",
    "\n",
    "plt.xlabel('degree of polynomial')\n",
    "plt.ylabel('Difference From Exact Energy (Hartree)')\n",
    "plt.title('The Uncertainities at Zero point of the various extrapolations ')\n",
    "plt.plot(degrees + [8.7], [0*i for i in range(len(degrees + [8.7]))], linestyle = '--', color = 'black' , linewidth = 2)\n",
    "plt.legend()\n",
    "plt.show()\n",
    "g.savefig('August(5)', dpi = 1000)"
   ]
  },
  {
   "cell_type": "code",
   "execution_count": 56,
   "metadata": {},
   "outputs": [
    {
     "data": {
      "image/png": "[encoded data removed]",
      "text/plain": [
       "<Figure size 432x288 with 1 Axes>"
      ]
     },
     "metadata": {
      "needs_background": "light"
     },
     "output_type": "display_data"
    }
   ],
   "source": [
    "h = plt.figure()\n",
    "\n",
    "import matplotlib.pyplot as plt \n",
    "degrees = []\n",
    "for i in range(n_degree2): \n",
    "    degrees.append(i+1)\n",
    "plt.errorbar(degrees, [energy - exact_energy[0] for energy in poly_zero5], yerr=poly_uncerts5, capsize = 5,fmt =' ', ecolor = 'blue', label = 'Uncertainties of Poly Fits(U3 +CNOT)' )\n",
    "plt.errorbar(n_degree2+.5, R_zero5- exact_energy[0], yerr=R_uncert5, capsize = 5,fmt =' ', ecolor = 'red' , label = 'Uncertainties of Richardson (U3 +CNOT)')\n",
    "plt.plot(degrees, [energy - exact_energy[0] for energy in poly_zero5], linestyle = ' ', marker = 'o', color = 'blue' )\n",
    "plt.plot(n_degree2+.5, R_zero5- exact_energy[0],  linestyle = ' ', marker = 'o', color = 'red' )\n",
    "\n",
    "plt.errorbar([i+0.1 for i in degrees], [energy - exact_energy[0] for energy in poly_zero5_cnot], yerr=poly_uncerts5_cnot, capsize = 5,fmt =' ', ecolor = 'orange', label = 'Uncertainties of Poly Fits (CNOT)' )\n",
    "plt.errorbar(n_degree2+.6, R_zero5_cnot- exact_energy[0], yerr=R_uncert5_cnot, capsize = 5,fmt =' ', ecolor = 'pink' , label = 'Uncertainties of Richardson (CNOT)')\n",
    "plt.plot([i+0.1 for i in degrees], [energy - exact_energy[0] for energy in poly_zero5_cnot], linestyle = ' ', marker = 'o', color = 'orange' )\n",
    "plt.plot(n_degree2+.6, R_zero5_cnot- exact_energy[0],  linestyle = ' ', marker = 'o', color = 'pink' )\n",
    "\n",
    "\n",
    "plt.axis([0.9, 8.7, 0, 0.2])\n",
    "\n",
    "plt.xlabel('degree of polynomial')\n",
    "plt.ylabel('Difference From Exact Energy (Hartree)')\n",
    "plt.title('The Uncertainities at Zero point of the various extrapolations ')\n",
    "plt.plot(degrees + [8.7], [0*i for i in range(len(degrees + [8.7]))], linestyle = '--', color = 'black' , linewidth = 2)\n",
    "#plt.legend()\n",
    "plt.show()\n",
    "h.savefig('August6(6)', dpi = 1000)"
   ]
  },
  {
   "cell_type": "code",
   "execution_count": 57,
   "metadata": {},
   "outputs": [
    {
     "data": {
      "text/plain": [
       "[-1.0724786563135156,\n",
       " -1.0789381728390606,\n",
       " -1.07855466762526,\n",
       " -1.07794542263766]"
      ]
     },
     "execution_count": 57,
     "metadata": {},
     "output_type": "execute_result"
    }
   ],
   "source": [
    "poly_zero"
   ]
  },
  {
   "cell_type": "code",
   "execution_count": 58,
   "metadata": {},
   "outputs": [
    {
     "data": {
      "text/plain": [
       "[-1.0583016932715783,\n",
       " -1.0593844314588816,\n",
       " -1.0529303844737512,\n",
       " -1.0581646882626758]"
      ]
     },
     "execution_count": 58,
     "metadata": {},
     "output_type": "execute_result"
    }
   ],
   "source": [
    "poly_zero_cnot"
   ]
  },
  {
   "cell_type": "code",
   "execution_count": null,
   "metadata": {},
   "outputs": [],
   "source": []
  }
 ],
 "metadata": {
  "kernelspec": {
   "display_name": "Python 3",
   "language": "python",
   "name": "python3"
  },
  "language_info": {
   "codemirror_mode": {
    "name": "ipython",
    "version": 3
   },
   "file_extension": ".py",
   "mimetype": "text/x-python",
   "name": "python",
   "nbconvert_exporter": "python",
   "pygments_lexer": "ipython3",
   "version": "3.7.6"
  }
 },
 "nbformat": 4,
 "nbformat_minor": 4
}
