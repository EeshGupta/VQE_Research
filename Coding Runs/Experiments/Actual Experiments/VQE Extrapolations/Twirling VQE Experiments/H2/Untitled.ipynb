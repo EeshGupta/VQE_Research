{
 "cells": [
  {
   "cell_type": "code",
   "execution_count": null,
   "metadata": {},
   "outputs": [],
   "source": [
    "def create_Paulitwirled_circuit(circuit,r,two_error_map = None,paulitwirling=True,controlledgatename='cx'):\n",
    "    '''Pauli-twirl and amplify noise of controlled gates in a circuit\n",
    "    Args:\n",
    "        circuit: the original circuit\n",
    "        r: noise amplification factor\n",
    "        two_error_map: map of error rates of controlled gate between two qubits\n",
    "        paulitwirling: turn Pauli-twirling on or off\n",
    "        controlledgatename: name of the controlled gate to apply Pauli-twirling and error amplification to\n",
    "    Returns:\n",
    "        new circuit that is Pauli-twirled and errors are amplified by a factor for r\n",
    "    '''\n",
    "    newqasm_str=\"\"\n",
    "    qs=circuit.qasm()\n",
    "    qregname=circuit.qregs[0].name\n",
    "    for line in iter(qs.splitlines()):\n",
    "        if line.startswith(controlledgatename):\n",
    "            ## Find the number of the control and the target qubit\n",
    "            search_results = re.finditer(r'\\[.*?\\]', line)\n",
    "            count=0\n",
    "            for item in search_results:\n",
    "                if count==0:\n",
    "                    control_ind=int(item.group(0).lstrip('[').rstrip(']'))\n",
    "                else:\n",
    "                    target_ind=int(item.group(0).lstrip('[').rstrip(']'))\n",
    "                count+=1\n",
    "            ## Apply Pauli-twirling\n",
    "            if paulitwirling:\n",
    "                newqasm_str+=\"\"\"barrier q[0],q[1];\\n\"\"\"\n",
    "                indices_ab = np.random.randint(0, 4, 2)\n",
    "                indices_cd = twirlingPairs[indices_ab[0]][indices_ab[1]]\n",
    "\n",
    "                if indices_ab[0]>0:\n",
    "                    newqasm_str+=Pauligateset[indices_ab[0]]+\" \"+qregname+\"[\"+str(control_ind)+\"];\\n\"\n",
    "                if indices_ab[1]>0:\n",
    "                    newqasm_str+=Pauligateset[indices_ab[1]]+\" \"+qregname+\"[\"+str(target_ind)+\"];\\n\"\n",
    "                    \n",
    "                newqasm_str+=\"\"\"barrier q[0],q[1];\\n\"\"\"    \n",
    "                newqasm_str+=line+\"\\n\"\n",
    "                newqasm_str+=\"\"\"barrier q[0],q[1];\\n\"\"\"\n",
    "                \n",
    "                if indices_cd[0]>0:\n",
    "                    newqasm_str+=Pauligateset[indices_cd[0]]+\" \"+qregname+\"[\"+str(control_ind)+\"];\\n\"\n",
    "                if indices_cd[1]>0:\n",
    "                    newqasm_str+=Pauligateset[indices_cd[1]]+\" \"+qregname+\"[\"+str(target_ind)+\"];\\n\"\n",
    "                newqasm_str+=\"\"\"barrier q[0],q[1];\\n\"\"\"\n",
    "            else:\n",
    "                newqasm_str+=line+\"\\n\"\n",
    "\n",
    "        else:\n",
    "            newqasm_str+=line+\"\\n\"\n",
    "    circ=QuantumCircuit().from_qasm_str(newqasm_str)\n",
    "    return circ"
   ]
  }
 ],
 "metadata": {
  "kernelspec": {
   "display_name": "Python 3",
   "language": "python",
   "name": "python3"
  },
  "language_info": {
   "codemirror_mode": {
    "name": "ipython",
    "version": 3
   },
   "file_extension": ".py",
   "mimetype": "text/x-python",
   "name": "python",
   "nbconvert_exporter": "python",
   "pygments_lexer": "ipython3",
   "version": "3.7.6"
  }
 },
 "nbformat": 4,
 "nbformat_minor": 4
}
