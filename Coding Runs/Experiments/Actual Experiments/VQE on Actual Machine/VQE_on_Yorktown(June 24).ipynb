{
 "cells": [
  {
   "cell_type": "markdown",
   "metadata": {},
   "source": [
    "# How VQE on actual qcomp differs from running on simulator?"
   ]
  },
  {
   "cell_type": "code",
   "execution_count": 1,
   "metadata": {},
   "outputs": [],
   "source": [
    "from qiskit import *\n",
    "from qiskit.visualization import plot_histogram\n",
    "from qiskit.providers.aer.noise import NoiseModel\n",
    "\n",
    "import qiskit.providers.aer.noise as noise\n",
    "\n",
    "# Error probabilities\n",
    "prob_1 = 0.001  # 1-qubit gate\n",
    "prob_2 = 0.02   # 2-qubit gate\n",
    "\n",
    "noise_models = []\n",
    "\n",
    "# Depolarizing quantum errors\n",
    "error_1 = noise.depolarizing_error(prob_1, 1)\n",
    "error_2 = noise.depolarizing_error(prob_2, 2)\n",
    "\n",
    "# Add errors to noise model\n",
    "noise_model = noise.NoiseModel()\n",
    "noise_model.add_all_qubit_quantum_error(error_1, ['u1', 'u2', 'u3'])\n",
    "noise_model.add_all_qubit_quantum_error(error_2, ['cx'])\n",
    "\n"
   ]
  },
  {
   "cell_type": "markdown",
   "metadata": {},
   "source": [
    "# VQE with different noise scalings"
   ]
  },
  {
   "cell_type": "code",
   "execution_count": 2,
   "metadata": {},
   "outputs": [],
   "source": [
    "# Set up VQE\n",
    "#Doing away with all libraries\n",
    "from qiskit.aqua.algorithms import VQE, ExactEigensolver\n",
    "import matplotlib.pyplot as plt\n",
    "%matplotlib inline\n",
    "import numpy as np\n",
    "from qiskit.chemistry.components.variational_forms import UCCSD\n",
    "from qiskit.aqua.components.variational_forms import RYRZ\n",
    "from qiskit.chemistry.components.initial_states import HartreeFock\n",
    "from qiskit.aqua.components.optimizers import COBYLA, SPSA, SLSQP\n",
    "from qiskit import IBMQ, BasicAer, Aer\n",
    "from qiskit.chemistry.drivers import PySCFDriver, UnitsType\n",
    "from qiskit.chemistry import FermionicOperator\n",
    "from qiskit import IBMQ\n",
    "from qiskit.providers.aer import noise\n",
    "from qiskit.aqua import QuantumInstance\n",
    "from qiskit.ignis.mitigation.measurement import CompleteMeasFitter\n",
    "from qiskit.aqua.operators import Z2Symmetries\n",
    "\n",
    "\n",
    "from qiskit import execute, QuantumCircuit, QuantumRegister, ClassicalRegister\n",
    "from qiskit.quantum_info import Kraus, SuperOp\n",
    "from qiskit.providers.aer import QasmSimulator\n",
    "from qiskit.tools.visualization import plot_histogram\n",
    "    "
   ]
  },
  {
   "cell_type": "code",
   "execution_count": 3,
   "metadata": {},
   "outputs": [],
   "source": [
    "def get_qubit_ops(dist): \n",
    "    # Defining Molecule\n",
    "    mol = 'H .0 .0 .0 ; H .0 .0 {}'\n",
    "    driver = PySCFDriver(mol.format(dist), unit=UnitsType.ANGSTROM,\n",
    "                         charge=0, spin=0, basis='sto3g')\n",
    "    molecule = driver.run()\n",
    "    # Mapping to Qubit Hamiltonian\n",
    "    map_type = 'parity'\n",
    "\n",
    "    h1 = molecule.one_body_integrals\n",
    "    h2 = molecule.two_body_integrals\n",
    "    nuclear_repulsion_energy = molecule.nuclear_repulsion_energy\n",
    "    repulsion_energy = molecule.nuclear_repulsion_energy\n",
    "    num_particles = molecule.num_alpha + molecule.num_beta\n",
    "    num_spin_orbitals = molecule.num_orbitals * 2\n",
    "    hf_energy = molecule.hf_energy \n",
    "    print(\"HF energy: {}\".format(molecule.hf_energy - molecule.nuclear_repulsion_energy))\n",
    "    print(\"# of electrons: {}\".format(num_particles))\n",
    "    print(\"# of spin orbitals: {}\".format(num_spin_orbitals))\n",
    "    # update the idx in remove_list of the idx after frozen, since the idx of orbitals are changed after freezing\n",
    "\n",
    "    # prepare fermionic hamiltonian with orbital freezing and eliminating, and then map to qubit hamiltonian\n",
    "    # and if PARITY mapping is selected, reduction qubits\n",
    "    energy_shift = 0.0\n",
    "    qubit_reduction = True if map_type == 'parity' else False\n",
    "\n",
    "    ferOp = FermionicOperator(h1=h1, h2=h2)\n",
    "    qubitOp = ferOp.mapping(map_type=map_type, threshold=0.00000001)\n",
    "    qubitOp = Z2Symmetries.two_qubit_reduction(qubitOp, num_particles) if qubit_reduction else qubitOp\n",
    "    qubitOp.chop(10**-10)\n",
    "    shift = energy_shift + repulsion_energy\n",
    "    \n",
    "    return qubitOp, num_particles, num_spin_orbitals, shift, hf_energy"
   ]
  },
  {
   "cell_type": "code",
   "execution_count": 11,
   "metadata": {},
   "outputs": [
    {
     "name": "stderr",
     "output_type": "stream",
     "text": [
      "ibmqfactory.load_account:WARNING:2020-06-24 21:04:56,490: Credentials are already in use. The existing account in the session will be replaced.\n"
     ]
    },
    {
     "name": "stdout",
     "output_type": "stream",
     "text": [
      "\n",
      "Qiskit Terra version: 0.14.2\n",
      "Backend: 'qasm_simulator (AerProvider)', with following setting:\n",
      "{'basis_gates': ['u1', 'u2', 'u3', 'cx', 'cz', 'id', 'x', 'y', 'z', 'h', 's', 'sdg', 't', 'tdg', 'swap', 'ccx', 'unitary', 'diagonal', 'initialize', 'cu1', 'cu2', 'cu3', 'cswap', 'mcx', 'mcy', 'mcz', 'mcu1', 'mcu2', 'mcu3', 'mcswap', 'multiplexer', 'kraus', 'roerror'], 'coupling_map': None}\n",
      "{'pass_manager': None, 'initial_layout': None, 'seed_transpiler': None, 'optimization_level': None}\n",
      "RunConfig(max_credits=10, shots=1024)\n",
      "{'timeout': None}\n",
      "{}\n",
      "{'noise_model': NoiseModel:\n",
      "  Basis gates: ['cx', 'id', 'u1', 'u2', 'u3']\n",
      "  Instructions with noise: ['u1', 'u3', 'cx', 'u2']\n",
      "  All-qubits errors: ['u1', 'u2', 'u3', 'cx']}\n",
      "Measurement mitigation: None\n",
      "DOing distance -----====----0.5----------------\n",
      "HF energy: -2.101350696380095\n",
      "# of electrons: 2\n",
      "# of spin orbitals: 4\n",
      "Exact energy is :\n",
      "-1.0551597944706212\n",
      "Number of qubits are : 2\n"
     ]
    },
    {
     "name": "stderr",
     "output_type": "stream",
     "text": [
      "The skip Qobj validation does not work for IBMQ provider. Disable it.\n"
     ]
    },
    {
     "name": "stdout",
     "output_type": "stream",
     "text": [
      "Starting on actual\n",
      "Number of evaluations are\n",
      "37\n",
      "Done doing VQE on actual device\n",
      "VQE energy is :\n",
      "-0.9738237559717702\n",
      "Starting on good sim\n",
      "Starting on noisy simulator\n",
      "done doing vqe on noisy simulator\n",
      "DOing distance -----====----0.6----------------\n",
      "HF energy: -1.9830902604677014\n",
      "# of electrons: 2\n",
      "# of spin orbitals: 4\n",
      "Exact energy is :\n",
      "-1.1162860068695373\n",
      "Number of qubits are : 2\n"
     ]
    },
    {
     "name": "stderr",
     "output_type": "stream",
     "text": [
      "The skip Qobj validation does not work for IBMQ provider. Disable it.\n"
     ]
    },
    {
     "name": "stdout",
     "output_type": "stream",
     "text": [
      "Starting on actual\n",
      "Number of evaluations are\n",
      "39\n",
      "Done doing VQE on actual device\n",
      "VQE energy is :\n",
      "-0.9914321475978596\n",
      "Starting on good sim\n",
      "Starting on noisy simulator\n",
      "done doing vqe on noisy simulator\n",
      "DOing distance -----====----0.7----------------\n",
      "HF energy: -1.8733164791617076\n",
      "# of electrons: 2\n",
      "# of spin orbitals: 4\n",
      "Exact energy is :\n",
      "-1.1361894540659239\n",
      "Number of qubits are : 2\n"
     ]
    },
    {
     "name": "stderr",
     "output_type": "stream",
     "text": [
      "The skip Qobj validation does not work for IBMQ provider. Disable it.\n"
     ]
    },
    {
     "name": "stdout",
     "output_type": "stream",
     "text": [
      "Starting on actual\n",
      "Number of evaluations are\n",
      "37\n",
      "Done doing VQE on actual device\n",
      "VQE energy is :\n",
      "-1.0617408363608813\n",
      "Starting on good sim\n",
      "Starting on noisy simulator\n",
      "done doing vqe on noisy simulator\n",
      "DOing distance -----====----0.7999999999999999----------------\n",
      "HF energy: -1.7723219111265944\n",
      "# of electrons: 2\n",
      "# of spin orbitals: 4\n",
      "Exact energy is :\n",
      "-1.1341476666770975\n",
      "Number of qubits are : 2\n"
     ]
    },
    {
     "name": "stderr",
     "output_type": "stream",
     "text": [
      "The skip Qobj validation does not work for IBMQ provider. Disable it.\n"
     ]
    },
    {
     "name": "stdout",
     "output_type": "stream",
     "text": [
      "Starting on actual\n",
      "Number of evaluations are\n",
      "41\n",
      "Done doing VQE on actual device\n",
      "VQE energy is :\n",
      "-1.0801065358773299\n",
      "Starting on good sim\n",
      "Starting on noisy simulator\n",
      "done doing vqe on noisy simulator\n",
      "DOing distance -----====----0.8999999999999999----------------\n",
      "HF energy: -1.679888719820057\n",
      "# of electrons: 2\n",
      "# of spin orbitals: 4\n",
      "Exact energy is :\n",
      "-1.1205602812999857\n",
      "Number of qubits are : 2\n"
     ]
    },
    {
     "name": "stderr",
     "output_type": "stream",
     "text": [
      "The skip Qobj validation does not work for IBMQ provider. Disable it.\n"
     ]
    },
    {
     "name": "stdout",
     "output_type": "stream",
     "text": [
      "Starting on actual\n",
      "Number of evaluations are\n",
      "40\n",
      "Done doing VQE on actual device\n",
      "VQE energy is :\n",
      "-1.0203344857890397\n",
      "Starting on good sim\n",
      "Starting on noisy simulator\n",
      "done doing vqe on noisy simulator\n",
      "DOing distance -----====----0.9999999999999999----------------\n",
      "HF energy: -1.5952858602379365\n",
      "# of electrons: 2\n",
      "# of spin orbitals: 4\n",
      "Exact energy is :\n",
      "-1.1011503302326202\n",
      "Number of qubits are : 2\n"
     ]
    },
    {
     "name": "stderr",
     "output_type": "stream",
     "text": [
      "The skip Qobj validation does not work for IBMQ provider. Disable it.\n"
     ]
    },
    {
     "name": "stdout",
     "output_type": "stream",
     "text": [
      "Starting on actual\n",
      "Number of evaluations are\n",
      "42\n",
      "Done doing VQE on actual device\n",
      "VQE energy is :\n",
      "-1.0495012671131199\n",
      "Starting on good sim\n",
      "Starting on noisy simulator\n",
      "done doing vqe on noisy simulator\n",
      "DOing distance -----====----1.0999999999999999----------------\n",
      "HF energy: -1.5176090667746345\n",
      "# of electrons: 2\n",
      "# of spin orbitals: 4\n",
      "Exact energy is :\n",
      "-1.079192944969074\n",
      "Number of qubits are : 2\n"
     ]
    },
    {
     "name": "stderr",
     "output_type": "stream",
     "text": [
      "The skip Qobj validation does not work for IBMQ provider. Disable it.\n"
     ]
    },
    {
     "name": "stdout",
     "output_type": "stream",
     "text": [
      "Starting on actual\n",
      "Number of evaluations are\n",
      "35\n",
      "Done doing VQE on actual device\n",
      "VQE energy is :\n",
      "-0.9921237193040354\n",
      "Starting on good sim\n",
      "Starting on noisy simulator\n",
      "done doing vqe on noisy simulator\n",
      "DOing distance -----====----1.1999999999999997----------------\n",
      "HF energy: -1.44608771566849\n",
      "# of electrons: 2\n",
      "# of spin orbitals: 4\n",
      "Exact energy is :\n",
      "-1.0567407463052563\n",
      "Number of qubits are : 2\n"
     ]
    },
    {
     "name": "stderr",
     "output_type": "stream",
     "text": [
      "The skip Qobj validation does not work for IBMQ provider. Disable it.\n"
     ]
    },
    {
     "name": "stdout",
     "output_type": "stream",
     "text": [
      "Starting on actual\n",
      "Number of evaluations are\n",
      "38\n",
      "Done doing VQE on actual device\n",
      "VQE energy is :\n",
      "-1.0135195958885699\n",
      "Starting on good sim\n",
      "Starting on noisy simulator\n",
      "done doing vqe on noisy simulator\n",
      "DOing distance -----====----1.2999999999999998----------------\n",
      "HF energy: -1.380170008792963\n",
      "# of electrons: 2\n",
      "# of spin orbitals: 4\n",
      "Exact energy is :\n",
      "-1.0351862664342537\n",
      "Number of qubits are : 2\n"
     ]
    },
    {
     "name": "stderr",
     "output_type": "stream",
     "text": [
      "The skip Qobj validation does not work for IBMQ provider. Disable it.\n"
     ]
    },
    {
     "name": "stdout",
     "output_type": "stream",
     "text": [
      "Starting on actual\n",
      "Number of evaluations are\n",
      "40\n",
      "Done doing VQE on actual device\n",
      "VQE energy is :\n",
      "-0.9708059091350454\n",
      "Starting on good sim\n",
      "Starting on noisy simulator\n",
      "done doing vqe on noisy simulator\n",
      "DOing distance -----====----1.4----------------\n",
      "HF energy: -1.3194643767935121\n",
      "# of electrons: 2\n",
      "# of spin orbitals: 4\n",
      "Exact energy is :\n",
      "-1.0154682492882452\n",
      "Number of qubits are : 2\n"
     ]
    },
    {
     "name": "stderr",
     "output_type": "stream",
     "text": [
      "The skip Qobj validation does not work for IBMQ provider. Disable it.\n"
     ]
    },
    {
     "name": "stdout",
     "output_type": "stream",
     "text": [
      "Starting on actual\n",
      "Number of evaluations are\n",
      "40\n",
      "Done doing VQE on actual device\n",
      "VQE energy is :\n",
      "-0.9776006566410458\n",
      "Starting on good sim\n",
      "Starting on noisy simulator\n",
      "done doing vqe on noisy simulator\n",
      "All energies have been calculated\n"
     ]
    }
   ],
   "source": [
    "#Begin VQE\n",
    "\n",
    "#ignore warnings \n",
    "import warnings\n",
    "warnings.filterwarnings(\"ignore\")\n",
    "\n",
    "\n",
    "import numpy as np\n",
    "from qiskit import Aer\n",
    "from qiskit.aqua.components.optimizers import COBYLA\n",
    "\n",
    "# Specifying whether running code on a simulator or an actual quantum device\n",
    "#load IBMQ account\n",
    "#IBMQ.save_account('yourAPItoken')\n",
    "IBMQ.load_account()\n",
    "provider = IBMQ.get_provider(hub='ibm-q')\n",
    "backend = provider.get_backend('ibmqx2')\n",
    "simulator = Aer.get_backend('qasm_simulator')\n",
    "#setting up noisy sim \n",
    "noisy_sim= QuantumInstance(backend=simulator, \n",
    "                                   noise_model=noise_model )\n",
    "print(noisy_sim)\n",
    "# creating a list of distances to run VQE on \n",
    "exact_energy = []\n",
    "vqe_real_energy = []\n",
    "vqe_sim_energy = []\n",
    "vqe_noisy_sim_energy = []\n",
    "distances = np.arange(0.5, 1.5, 0.1)\n",
    "\n",
    "for dist in distances:\n",
    "    print('DOing distance -----====----' + str(dist)+ '----------------')\n",
    "    optimizer = COBYLA(maxiter=1000)\n",
    "    qubitOp, num_particles, num_spin_orbitals, shift, hf_energy = get_qubit_ops(dist)\n",
    "    # Finding exact energies to show how off VQE was from exact energy curve\n",
    "    result = ExactEigensolver(qubitOp).run()\n",
    "    exact_energy.append(result['energy'] + shift)\n",
    "    print('Exact energy is :')\n",
    "    print(exact_energy[-1])\n",
    "    # Initial STate \n",
    "    initial_state = HartreeFock(\n",
    "        num_spin_orbitals,\n",
    "        num_particles,\n",
    "        'parity'\n",
    "    ) \n",
    "    print('Number of qubits are : ' + str(qubitOp.num_qubits))\n",
    "    # UCCSD Variational Form\n",
    "    var_form = UCCSD(\n",
    "        num_orbitals=num_spin_orbitals,\n",
    "        num_particles=num_particles,\n",
    "        initial_state=initial_state,\n",
    "        qubit_mapping='parity'\n",
    "    )\n",
    "    # Running VQE \n",
    "    vqe = VQE(qubitOp, var_form, optimizer)\n",
    "\n",
    "    #Running VQE pn actual quant comp\n",
    "    print('Starting on actual')\n",
    "    resulty = vqe.run(backend)['energy'] + shift\n",
    "    print('Number of evaluations are')\n",
    "    print(vqe._eval_count)\n",
    "    vqe_real_energy.append(resulty)\n",
    "    print('Done doing VQE on actual device')\n",
    "    print('VQE energy is :')\n",
    "    print(vqe_real_energy[-1])\n",
    "    #Running VQE on good sim \n",
    "    print('Starting on good sim')\n",
    "    resulti = vqe.run(simulator)['energy'] + shift\n",
    "    vqe_sim_energy.append(resulti)\n",
    "\n",
    "\n",
    "    #running noisy sim VQE \n",
    "    print('Starting on noisy simulator')\n",
    "    energies = []\n",
    "    for i in range(1):\n",
    "        resulty = vqe.run(noisy_sim)['energy'] + shift\n",
    "        energies.append(resulty)\n",
    "    vqe_noisy_sim_energy.append(np.mean(energies))\n",
    "    print('done doing vqe on noisy simulator')\n",
    "\n",
    "print(\"All energies have been calculated\")"
   ]
  },
  {
   "cell_type": "code",
   "execution_count": 12,
   "metadata": {},
   "outputs": [
    {
     "data": {
      "image/png": "[encoded data removed]",
      "text/plain": [
       "<Figure size 432x288 with 1 Axes>"
      ]
     },
     "metadata": {
      "needs_background": "light"
     },
     "output_type": "display_data"
    }
   ],
   "source": [
    "import matplotlib.pyplot as plt\n",
    "plt.plot(distances, exact_energy, label=\"Exact Energy\", color = 'blue')\n",
    "plt.plot(distances, vqe_real_energy, label=\"VQE on Yorktown Machine\", color = 'orange')\n",
    "plt.plot(distances, vqe_sim_energy, label=\"VQE on Ideal Simulator\", color = 'green')\n",
    "plt.plot(distances, vqe_noisy_sim_energy, label = 'VQE on noisy simulator', color = 'cyan')\n",
    "plt.xlabel('Atomic distance (Angstrom)')\n",
    "plt.ylabel('Energy (Hartree)')\n",
    "plt.title('Disassociation Curves for H2')\n",
    "plt.legend()\n",
    "plt.show()"
   ]
  },
  {
   "cell_type": "code",
   "execution_count": 13,
   "metadata": {},
   "outputs": [
    {
     "data": {
      "image/png": "[encoded data removed]",
      "text/plain": [
       "<Figure size 432x288 with 1 Axes>"
      ]
     },
     "metadata": {
      "needs_background": "light"
     },
     "output_type": "display_data"
    }
   ],
   "source": [
    "import matplotlib.pyplot as plt\n",
    "plt.plot(distances, [vqe_real_energy[i] -exact_energy[i] for i in range(len(distances))], label=\"VQE on Yorktown Machine\",  color = 'orange')\n",
    "plt.plot(distances, [vqe_sim_energy[i] -exact_energy[i] for i in range(len(distances))], label=\"VQE on Ideal Simulator\",  color = 'green')\n",
    "plt.plot(distances, [vqe_noisy_sim_energy[i] -exact_energy[i] for i in range(len(distances))], label = 'VQE on noisy simulator', color = 'cyan')\n",
    "plt.xlabel('Atomic distance (Angstrom)')\n",
    "plt.ylabel('Energy (Hartree)')\n",
    "plt.title('Differences from Exact Energy')\n",
    "plt.legend()\n",
    "plt.show()"
   ]
  },
  {
   "cell_type": "code",
   "execution_count": null,
   "metadata": {},
   "outputs": [],
   "source": []
  }
 ],
 "metadata": {
  "kernelspec": {
   "display_name": "Python 3",
   "language": "python",
   "name": "python3"
  },
  "language_info": {
   "codemirror_mode": {
    "name": "ipython",
    "version": 3
   },
   "file_extension": ".py",
   "mimetype": "text/x-python",
   "name": "python",
   "nbconvert_exporter": "python",
   "pygments_lexer": "ipython3",
   "version": "3.7.6"
  }
 },
 "nbformat": 4,
 "nbformat_minor": 4
}
