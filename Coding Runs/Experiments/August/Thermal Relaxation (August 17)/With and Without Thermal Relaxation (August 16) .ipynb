{
 "cells": [
  {
   "cell_type": "markdown",
   "metadata": {},
   "source": [
    "# Amplifying Noise on Optimized VQE Circuit (H2 at 0.74 ang via Simulator) by random addition of both single and 2 qubit gates.\n",
    "\n",
    "# Also amplifyig readout errors"
   ]
  },
  {
   "cell_type": "code",
   "execution_count": 1,
   "metadata": {},
   "outputs": [],
   "source": [
    "%matplotlib inline\n",
    "# Importing standard Qiskit libraries and configuring account\n",
    "from qiskit import QuantumCircuit, execute, Aer, IBMQ\n",
    "from qiskit.compiler import transpile, assemble\n",
    "from qiskit.tools.jupyter import *\n",
    "from qiskit import *\n",
    "from qiskit.visualization import *\n",
    "# Loading your IBM Q account(s)\n",
    "provider = IBMQ.load_account()\n",
    "\n",
    "from qiskit.providers.aer.noise import NoiseModel\n",
    "from qiskit.aqua import QuantumInstance\n",
    "from qiskit.providers.aer.noise import thermal_relaxation_error, ReadoutError, depolarizing_error\n",
    "\n",
    "# provider = IBMQ.get_provider(hub='ibm-q')\n",
    "# machine = provider.get_backend('ibmq_london')\n",
    "from qiskit.test.mock import FakeLondon\n",
    "machine = FakeLondon()\n",
    "noise_model = NoiseModel.from_backend(machine)\n",
    "simulator = Aer.get_backend('qasm_simulator')\n",
    "noisy_sim = QuantumInstance(backend = simulator, noise_model = noise_model)\n",
    "\n",
    "basis_gates = noise_model.basis_gates"
   ]
  },
  {
   "cell_type": "code",
   "execution_count": 2,
   "metadata": {},
   "outputs": [
    {
     "data": {
      "application/vnd.jupyter.widget-view+json": {
       "model_id": "b94814d50d8c412ab97b95cab5a311e9",
       "version_major": 2,
       "version_minor": 0
      },
      "text/plain": [
       "VBox(children=(HTML(value=\"<h1 style='color:#ffffff;background-color:#000000;padding-top: 1%;padding-bottom: 1…"
      ]
     },
     "metadata": {},
     "output_type": "display_data"
    },
    {
     "data": {
      "text/plain": [
       "<FakeLondon('fake_london') from None()>"
      ]
     },
     "execution_count": 2,
     "metadata": {},
     "output_type": "execute_result"
    }
   ],
   "source": [
    "machine"
   ]
  },
  {
   "cell_type": "code",
   "execution_count": 3,
   "metadata": {},
   "outputs": [
    {
     "data": {
      "image/png": "[encoded data removed]",
      "text/plain": [
       "<Figure size 1683.19x325.08 with 1 Axes>"
      ]
     },
     "execution_count": 3,
     "metadata": {},
     "output_type": "execute_result"
    }
   ],
   "source": [
    "string = \"\"\"OPENQASM 2.0;\\ninclude \"qelib1.inc\";\\nqreg q[2];\\nu3(pi,0,pi) q[0];\\nu3(pi/2,-pi/2,pi/2) q[0];\\nu3(0,0,3.6279236e-05) q[0];\\nu3(-pi/2,-pi/2,pi/2) q[0];\\nu3(pi/2,-pi/2,pi/2) q[0];\\nu3(pi/2,-pi/2,pi/2) q[1];\\nu3(0,0,0.00010816593) q[1];\\nu3(-pi/2,-pi/2,pi/2) q[1];\\nu3(pi/2,0,pi) q[1];\\ncx q[0],q[1];\\nu3(0,0,0.11268152) q[1];\\ncx q[0],q[1];\\nu3(-pi/2,-pi/2,pi/2) q[0];\\nu3(pi/2,0,pi) q[0];\\nu3(pi/2,0,pi) q[1];\\nu3(pi/2,-pi/2,pi/2) q[1];\\ncx q[0],q[1];\\nu3(0,0,-0.11268152) q[1];\\ncx q[0],q[1];\\nu3(pi/2,0,pi) q[0];\\nu3(-pi/2,-pi/2,pi/2) q[1];\\n\"\"\"\n",
    "vqe_circ = QuantumCircuit.from_qasm_str(string)\n",
    "vqe_circ.draw(output = 'mpl')"
   ]
  },
  {
   "cell_type": "markdown",
   "metadata": {},
   "source": [
    "### Functions for Noise Amplification"
   ]
  },
  {
   "cell_type": "code",
   "execution_count": 4,
   "metadata": {},
   "outputs": [],
   "source": [
    "def u3PairAdder(orig_gate_str): \n",
    "    \"\"\"\n",
    "    Input: a qasm string corresponding to a gate\n",
    "    Output: a pair of gates in qasm string representation to amplify error in the given gate by factor of 3\n",
    "    \"\"\"\n",
    "    # Converting the gate string to array \n",
    "    \n",
    "    ##break up the string \n",
    "    strings = orig_gate_str.split(\"(\")\n",
    "    temp =[]\n",
    "    for string in strings: \n",
    "        temp = temp + string.split(\")\")\n",
    "    strings = temp \n",
    "    temp =[]\n",
    "    for string in strings: \n",
    "        temp = temp + string.split(\",\")\n",
    "    strings = temp \n",
    "    temp = []\n",
    "    for string in strings: \n",
    "        temp = temp + string.split(\"*\")\n",
    "    strings = temp\n",
    "    \n",
    "    #Obtaining all useful information \n",
    "    gate = strings[0]\n",
    "    qubit = strings[4]\n",
    "    orig_angles = strings[1:4]\n",
    "    \n",
    "    #new angles \n",
    "    new_angles = orig_angles \n",
    "    \n",
    "    ## U3 ^-1(  theta,  phi, lambda) = U3( theta , -pi - lambda, - pi - phi)\n",
    "    \n",
    "    ###Part 1: Inverting and adding - pi to 2nd and 3rd angle\n",
    "    for i in range(1,3): \n",
    "        if new_angles[i][0] == '-': \n",
    "            \n",
    "            if new_angles[i] == '-pi': \n",
    "                new_angles[i] = str(-math.pi +math.pi)\n",
    "            elif new_angles[i] == '-pi/2': \n",
    "                new_angles[i] = str(-math.pi +(math.pi/2))\n",
    "            else:\n",
    "                new_angles[i] = str(-math.pi +float(new_angles[i][1:]))\n",
    "        else: \n",
    "            if new_angles[i] == 'pi': \n",
    "                new_angles[i] = str(-math.pi -math.pi)\n",
    "            elif new_angles[i] == 'pi/2': \n",
    "                new_angles[i] = str(-math.pi -(math.pi/2))\n",
    "            else:\n",
    "                new_angles[i] = str(-math.pi+ (-1)*float(new_angles[i]))\n",
    "    ###Part 2: Switching the 2nd and 3rd angles\n",
    "    new_angles = [new_angles[0], new_angles[2], new_angles[1]]\n",
    "            \n",
    "\n",
    "    #creating inverted gate\n",
    "    new_gate_str = gate + '(' + new_angles[0] + ',' + new_angles[1] + ',' + new_angles[2] + ')' + qubit\n",
    "    \n",
    "    #barrier \n",
    "    barrier =\"\"\"barrier q[0],q[1];\"\"\"\n",
    "    \n",
    "    return barrier + '\\n' + new_gate_str + '\\n'+ barrier + '\\n' + orig_gate_str + '\\n' + barrier + '\\n' + new_gate_str + '\\n'+ barrier + '\\n' + orig_gate_str + '\\n' + barrier + '\\n'\n",
    "    "
   ]
  },
  {
   "cell_type": "code",
   "execution_count": 5,
   "metadata": {},
   "outputs": [],
   "source": [
    "def cXPairAdder(orig_gate_str): \n",
    "    \"\"\"\n",
    "    Input: a qasm string corresponding to a gate\n",
    "    Output: a pair of gates in qasm string representation to amplify error in the given gate by factor of 3\n",
    "    \"\"\"\n",
    "    #barrier for 2 qubit circuit only\n",
    "    barrier =\"\"\"barrier q[0],q[1];\"\"\"\n",
    "    \n",
    "    return barrier + '\\n' + orig_gate_str +'\\n' +barrier + '\\n'+orig_gate_str + '\\n' + barrier + '\\n' + orig_gate_str +'\\n' +barrier + '\\n'+orig_gate_str + '\\n' + barrier + '\\n'"
   ]
  },
  {
   "cell_type": "code",
   "execution_count": 6,
   "metadata": {},
   "outputs": [],
   "source": [
    "import random \n",
    "\n",
    "def RandomAmplification(circ, c, u3_amp = True): \n",
    "    \"\"\"\n",
    "    Input: a circuit, and scaling factor between 1 and 3 (inclusive)\n",
    "    Output: circuit with amplified error rate using adding-pair-of-gates tactic\n",
    "    \"\"\"\n",
    "    \n",
    "    #probability to add a pair of gates \n",
    "    g = (c-1)/4\n",
    "    \n",
    "    #iterating over the circuit in string representation\n",
    "    \n",
    "    \n",
    "    newqasm_str=\"\"\n",
    "    circ_str=circ.qasm()\n",
    "    \n",
    "    qregname=circ.qregs[0].name\n",
    "    \n",
    "    for line in iter(circ_str.splitlines()):\n",
    "        \n",
    "        if line.startswith('cx') or line.startswith('u3'):\n",
    "            \n",
    "            #doing a toss to see if we have to amplify \n",
    "            if random.randint(1,101) <= 100*g : \n",
    "                \n",
    "                #adding the original line first \n",
    "                ##barrier \n",
    "                barrier =\"\"\"barrier q[0],q[1];\"\"\"\n",
    "                newqasm_str+= barrier + '\\n' + line + '\\n'+ barrier + '\\n'\n",
    "                if line.startswith('cx'):\n",
    "                    newqasm_str += cXPairAdder(line)\n",
    "                else: \n",
    "                    if(u3_amp):\n",
    "                        newqasm_str += u3PairAdder(line)\n",
    "            else: \n",
    "                newqasm_str+=line+\"\\n\"\n",
    "        else:\n",
    "            newqasm_str+=line+\"\\n\"\n",
    "\n",
    "    circo=QuantumCircuit().from_qasm_str(newqasm_str)\n",
    "    \n",
    "    return circo \n"
   ]
  },
  {
   "cell_type": "markdown",
   "metadata": {},
   "source": [
    "### Functions for Readout Error Amplification"
   ]
  },
  {
   "cell_type": "code",
   "execution_count": 7,
   "metadata": {},
   "outputs": [],
   "source": [
    "def one_qubit_readout_error_matrix(qubit_n, scale = 1):\n",
    "    \"\"\"\n",
    "    Input: which qubit on the london device, scale (for noise scaling)\n",
    "    Generates the readout error matrix\n",
    "    \n",
    "    organized as \n",
    "    \n",
    "    P(0|0)  P(0|1)\n",
    "    P(1|0)  P(1|1)\n",
    "    \n",
    "    \"\"\"\n",
    "    if (qubit_n == 0): \n",
    "        p1_0 = machine.properties().qubit_property(0, 'prob_meas1_prep0')[0]\n",
    "        p0_1 = machine.properties().qubit_property(0, 'prob_meas0_prep1')[0]\n",
    "        errors = [p1_0, p0_1]\n",
    "    elif (qubit_n == 1): \n",
    "        p1_0 = machine.properties().qubit_property(1, 'prob_meas1_prep0')[0]\n",
    "        p0_1 = machine.properties().qubit_property(1, 'prob_meas0_prep1')[0]\n",
    "        errors = [p1_0, p0_1]\n",
    "    x, y = errors\n",
    "    x = scale*x\n",
    "    y = scale*y\n",
    "    \n",
    "    matrix = [[1-x, y], [x, 1-y]]\n",
    "    \n",
    "    return matrix\n",
    "\n",
    "def column_sum_to_1(matrix): \n",
    "    \"\"\"\n",
    "    Makes sure that columns of a 2x2 matrix sum to 1\n",
    "    \"\"\"\n",
    "    matrix = np.transpose(matrix)\n",
    "    \n",
    "    for r in range(len(matrix)):\n",
    "        summ = 0\n",
    "        for c in range(len(matrix[r])):\n",
    "            summ += matrix[r][c]\n",
    "        for c in range(len(matrix[r])): \n",
    "            matrix[r][c] = (matrix[r][c])/summ\n",
    "            \n",
    "    matrix = np.transpose(matrix)\n",
    "    return matrix\n",
    "        \n",
    "\n",
    "def two_qubit_readout_error_matrix(mat_1, mat_2):\n",
    "    \"\"\"\n",
    "    Input: corresponding readout error matrices of the 2 qubits\n",
    "    Output: their kronecker product\n",
    "    \"\"\"\n",
    "    P = mat_1\n",
    "    Q = mat_2\n",
    "    \n",
    "    matrix = column_sum_to_1(np.kron(P,Q))\n",
    "    return matrix\n",
    "\n",
    "def get_2_qubit_readout_matrix_regular(scale): \n",
    "    \"\"\"\n",
    "    for amplifying readout errors\n",
    "    \"\"\"\n",
    "    \n",
    "    #what should happen after all\n",
    "    P_scale =  one_qubit_readout_error_matrix(1, scale)\n",
    "    Q_scale = one_qubit_readout_error_matrix(0, scale)\n",
    "    R_scale = two_qubit_readout_error_matrix(P_scale, Q_scale)\n",
    "    \n",
    "    return R_scale\n",
    "\n",
    "def get_2_qubit_readout_matrix_after_readout_measurement(scale): \n",
    "    \"\"\"\n",
    "    for amplifying readout errors\n",
    "    \"\"\"\n",
    "    #what already happened\n",
    "    P_1 = one_qubit_readout_error_matrix(1)\n",
    "    Q_1 = one_qubit_readout_error_matrix(0)\n",
    "    R_1 = two_qubit_readout_error_matrix(P_1, Q_1)\n",
    "    \n",
    "    #what should happen after all\n",
    "    P_scale =  one_qubit_readout_error_matrix(1, scale)\n",
    "    Q_scale = one_qubit_readout_error_matrix(0, scale)\n",
    "    R_scale = two_qubit_readout_error_matrix(P_scale, Q_scale)\n",
    "    \n",
    "    #what then needs to happen \n",
    "    \"\"\"\n",
    "    XR_1 = R_scale\n",
    "    X = R_scale*(R_1)^-1\n",
    "    \"\"\"\n",
    "    inverse = np.linalg.inv(R_1)\n",
    "    X = np.dot(R_scale, inverse)\n",
    "    \n",
    "    return X\n",
    "\n",
    "def counts_to_array(counts): \n",
    "    \"\"\"\n",
    "    Turning counts (dict) to array format ...for matrix multiplication\n",
    "    \"\"\"\n",
    "    array = [[counts['00']],[counts['01']], [counts['10']], [counts['10']] ]\n",
    "    return array\n",
    "def array_to_counts(array, shots = 1024):\n",
    "    \"\"\"\n",
    "    Turning array into counts(dict)\n",
    "    \"\"\"\n",
    "    #making sure the array has correct number of shots\n",
    "    summ = 0\n",
    "    for i in array: \n",
    "        summ+=i\n",
    "    new_array = [(i/summ)*1024 for i in array]\n",
    "    \n",
    "    counts = {'00': float(new_array[0]), '01': float(new_array[1]), '10':float(new_array[2]), '11': float(new_array[3])}\n",
    "    \n",
    "    return counts\n",
    "\n",
    "def counts_after_readout_amp(counts, scale):\n",
    "    \"\"\"\n",
    "    Input: Counts, amplification factor\n",
    "    Output: modified counts\n",
    "    \"\"\"\n",
    "    array = counts_to_array(counts)\n",
    "    matrix = get_2_qubit_readout_matrix_after_readout_measurement(scale)\n",
    "    new_array = np.dot(matrix, array)\n",
    "    \n",
    "    return array_to_counts(new_array)"
   ]
  },
  {
   "cell_type": "markdown",
   "metadata": {},
   "source": [
    "### Hammyfication: Breaking Circuits into 2 copies, 1 for II, IZ, ZI and ZZ and the other for XX"
   ]
  },
  {
   "cell_type": "code",
   "execution_count": 8,
   "metadata": {},
   "outputs": [],
   "source": [
    "from qiskit import ClassicalRegister\n",
    "import math\n",
    "\n",
    "Hamiltonian = \"\"\"II\n",
    "IZ \n",
    "ZI\n",
    "ZZ\n",
    "XX\"\"\"\n",
    "\n",
    "Hamiltonian_weights = [-1.053, 0.395, -0.395, -0.011, 0.181]\n",
    "\n",
    "\n",
    "circuits = []\n",
    "for line in iter(Hamiltonian.splitlines()):\n",
    "    circ = vqe_circ.copy()\n",
    "    for index in range(len(line)):\n",
    "        op = line[index]\n",
    "        \n",
    "        ##do nothing if Z or I\n",
    "        if(op == \"X\"): \n",
    "            #hadamard in u3\n",
    "            circ.u3(math.pi/2, 0, math.pi, index)\n",
    "        elif(op == \"Y\"):\n",
    "            circ.rx(pi/2, index)\n",
    "    c = ClassicalRegister(2)\n",
    "    circ.add_register(c)\n",
    "    circ.measure([0], [0])\n",
    "    circ.measure([1],[1])\n",
    "    circuits.append(circ)"
   ]
  },
  {
   "cell_type": "code",
   "execution_count": 9,
   "metadata": {},
   "outputs": [],
   "source": [
    "less_circuits = [circuits[0], circuits[4]]"
   ]
  },
  {
   "cell_type": "code",
   "execution_count": 10,
   "metadata": {},
   "outputs": [
    {
     "data": {
      "image/png": "[encoded data removed]",
      "text/plain": [
       "<Figure size 1683.19x445.48 with 1 Axes>"
      ]
     },
     "execution_count": 10,
     "metadata": {},
     "output_type": "execute_result"
    }
   ],
   "source": [
    "less_circuits[0].draw(output = 'mpl')"
   ]
  },
  {
   "cell_type": "code",
   "execution_count": 11,
   "metadata": {},
   "outputs": [
    {
     "data": {
      "image/png": "[encoded data removed]",
      "text/plain": [
       "<Figure size 1683.19x445.48 with 1 Axes>"
      ]
     },
     "execution_count": 11,
     "metadata": {},
     "output_type": "execute_result"
    }
   ],
   "source": [
    "less_circuits[1].draw(output = 'mpl')\n",
    "#hadamrd in u3 language"
   ]
  },
  {
   "cell_type": "markdown",
   "metadata": {},
   "source": [
    "### Noise Amplification of Circuits"
   ]
  },
  {
   "cell_type": "code",
   "execution_count": 12,
   "metadata": {},
   "outputs": [
    {
     "name": "stdout",
     "output_type": "stream",
     "text": [
      "------------------------------Starting Scale: 1 ---------------------\n",
      "Starting Hammified Circ\n",
      "Starting Hammified Circ\n",
      "------------------------------Starting Scale: 1.5 ---------------------\n",
      "Starting Hammified Circ\n",
      "Starting Hammified Circ\n",
      "------------------------------Starting Scale: 2 ---------------------\n",
      "Starting Hammified Circ\n",
      "Starting Hammified Circ\n",
      "------------------------------Starting Scale: 2.5 ---------------------\n",
      "Starting Hammified Circ\n",
      "Starting Hammified Circ\n",
      "------------------------------Starting Scale: 3 ---------------------\n",
      "Starting Hammified Circ\n",
      "Starting Hammified Circ\n",
      "------------------------------Starting Scale: 3.5 ---------------------\n",
      "Starting Hammified Circ\n",
      "Starting Hammified Circ\n",
      "------------------------------Starting Scale: 4 ---------------------\n",
      "Starting Hammified Circ\n",
      "Starting Hammified Circ\n",
      "------------------------------Starting Scale: 4.5 ---------------------\n",
      "Starting Hammified Circ\n",
      "Starting Hammified Circ\n",
      "------------------------------Starting Scale: 5 ---------------------\n",
      "Starting Hammified Circ\n",
      "Starting Hammified Circ\n"
     ]
    }
   ],
   "source": [
    "lots_scaled_circuits = []\n",
    "n_samples = 1000\n",
    "scales = [1,1.5,2,2.5,3, 3.5, 4,4.5, 5]\n",
    "\n",
    "for c in scales:\n",
    "    scale_circs = []\n",
    "    print('------------------------------Starting Scale: ' +str(c) + ' ---------------------')\n",
    "    \n",
    "    for hammyfied_circ in less_circuits: \n",
    "        hammyfied_circs = []\n",
    "        print( \"Starting Hammified Circ\")\n",
    "        for i in range(n_samples):\n",
    "            combo_circ = []\n",
    "            circ = hammyfied_circ.copy()\n",
    "            amp_circ = RandomAmplification(circ, c)\n",
    "            hammyfied_circs.append(amp_circ)\n",
    "        scale_circs.append(hammyfied_circs)\n",
    "    lots_scaled_circuits.append(scale_circs)"
   ]
  },
  {
   "cell_type": "markdown",
   "metadata": {},
   "source": [
    "### Expectation Value Functions"
   ]
  },
  {
   "cell_type": "code",
   "execution_count": 13,
   "metadata": {},
   "outputs": [],
   "source": [
    "def binaryToDecimal(binary):  \n",
    "    binary1 = binary \n",
    "    decimal, i, n = 0, 0, 0\n",
    "    while(binary != 0): \n",
    "        dec = binary % 10\n",
    "        decimal = decimal + dec * pow(2, i) \n",
    "        binary = binary//10\n",
    "        i += 1\n",
    "    return decimal"
   ]
  },
  {
   "cell_type": "code",
   "execution_count": 14,
   "metadata": {},
   "outputs": [],
   "source": [
    "def get_expec_val_H2(results, h, shots = 1024):\n",
    "    keys = results.keys()\n",
    "    e_val = 0\n",
    "    for key in keys:\n",
    "        counts =int(results[key])\n",
    "        \n",
    "        key_val = int(key)\n",
    "        key_dval = int(binaryToDecimal(key_val))\n",
    "        \n",
    "        ## II\n",
    "        if (h==0):\n",
    "            e_val += (int(counts)/shots)\n",
    "        ## IZ\n",
    "        elif (h==1):\n",
    "            if (key_dval == 1 or key_dval==3):\n",
    "                e_val += (-1)*(int(counts)/shots)\n",
    "            else: \n",
    "                e_val += (int(counts)/shots)\n",
    "         ## ZI\n",
    "        elif (h==2):\n",
    "            if (key_dval == 2 or key_dval==3):\n",
    "                e_val += (-1)*(int(counts)/shots)\n",
    "            else: \n",
    "                e_val += (int(counts)/shots)\n",
    "        ## ZZ and XX(measured in ZZ basis)\n",
    "        elif(h==3 or h==4):\n",
    "            # 00 and 11 are +1 eigenvalues and others are -1\n",
    "            if (key_dval == 0 or key_dval == 3):\n",
    "                e_val += (int(counts)/shots)\n",
    "            else:\n",
    "                e_val += (-1)*(int(counts)/shots)\n",
    "    return e_val\n",
    "    "
   ]
  },
  {
   "cell_type": "markdown",
   "metadata": {},
   "source": [
    "### Running Circuits"
   ]
  },
  {
   "cell_type": "code",
   "execution_count": 15,
   "metadata": {},
   "outputs": [],
   "source": [
    "def generateDepolarizingError(gate, qubits, machine = machine):\n",
    "    \"\"\"\n",
    "    Return a depolarizing error\n",
    "    \"\"\"\n",
    "    try:\n",
    "        gate_error = machine.properties().gate_error(gate, qubits)\n",
    "        error = depolarizing_error(gate_error, len(qubits))\n",
    "        return error\n",
    "    \n",
    "    except: \n",
    "        return None\n",
    "    \n",
    "def generateRelaxationError(gate, qubits, t1, t2, custom_t = False, machine = machine):\n",
    "    \"\"\"\n",
    "    Return a relaxation error\n",
    "    \"\"\"\n",
    "    if len(qubits) == 1:\n",
    "        try:\n",
    "            if(not custom_t):\n",
    "                t1 = machine.properties().t1(qubits[0])\n",
    "                t2 = min(machine.properties().t2(qubits[0]), 2*t1)\n",
    "            gate_time = machine.properties().gate_length(gate, qubits)\n",
    "            error = thermal_relaxation_error(t1, t2, gate_time)\n",
    "            return error\n",
    "        except:\n",
    "            return None\n",
    "    else:\n",
    "        try:\n",
    "            #setting times\n",
    "            \n",
    "            if(custom_t):\n",
    "                t1_a = t1\n",
    "                t2_a = min(t2, 2*t1)\n",
    "                t1_b = t1_a\n",
    "                t2_b = t2_a\n",
    "            else:\n",
    "                t1_a = machine.properties().t1(qubits[0])\n",
    "                t2_a = min(machine.properties().t2(qubits[0]), 2*t1_a)\n",
    "                t1_b = machine.properties().t1(qubits[1])\n",
    "                t2_b = min(machine.properties().t2(qubits[1]), 2*t1_b)\n",
    "                \n",
    "            #finding gate time\n",
    "            time_cx = machine.properties().gate_length(gate, qubits)\n",
    "            error = thermal_relaxation_error(t1_a, t2_a, time_cx).expand(thermal_relaxation_error(t1_b, t2_b, time_cx))\n",
    "            return error\n",
    "        except:\n",
    "            return None\n",
    "\n",
    "def generateNoiseModel(custom_t = False, t1 = None, t2 = None):\n",
    "    \"\"\"\n",
    "    Returns a realistic copy of london noise model with custom t1, t2 times\n",
    "    \"\"\"\n",
    "    \n",
    "    #initializing noise model\n",
    "    noise_thermal = NoiseModel()\n",
    "    \n",
    "    #for every qubit (5 qubit london machine)\n",
    "    for q in range(5): \n",
    "        \n",
    "        #types of erroneous gates\n",
    "        gates = [ 'u3', 'u2', 'id']\n",
    "        \n",
    "\n",
    "        for gate in gates: \n",
    "\n",
    "            dep_error = generateDepolarizingError(gate, [q])\n",
    "            rel_error = generateRelaxationError(gate,[q], t1, t2, custom_t = custom_t)\n",
    "\n",
    "            if(dep_error ==None and rel_error !=None):\n",
    "                error_obj = rel_error\n",
    "                noise_thermal.add_quantum_error(error_obj, gate, [q])\n",
    "\n",
    "            elif(dep_error !=None and rel_error ==None):\n",
    "                error_obj = dep_error\n",
    "                noise_thermal.add_quantum_error(error_obj, gate, [q])\n",
    "\n",
    "            elif(dep_error !=None and rel_error !=None):\n",
    "                error_obj = dep_error.compose(rel_error)\n",
    "                noise_thermal.add_quantum_error(error_obj, gate, [q])\n",
    "        \n",
    "    \n",
    "        #2 qubit gate errors\n",
    "        qubits = [i for i in range(5)]\n",
    "        qubits.remove(q)\n",
    "        for j in qubits:\n",
    "            dep_error = generateDepolarizingError('cx', [q,j])\n",
    "            rel_error = generateRelaxationError('cx' ,[q,j], t1, t2, custom_t = custom_t)\n",
    "\n",
    "            if(dep_error ==None and rel_error !=None):\n",
    "                error_obj = rel_error\n",
    "                noise_thermal.add_quantum_error(error_obj, 'cx', [q,j])\n",
    "\n",
    "            elif(dep_error !=None and rel_error ==None):\n",
    "                error_obj = dep_error\n",
    "                noise_thermal.add_quantum_error(error_obj, 'cx', [q,j])\n",
    "\n",
    "            elif(dep_error !=None and rel_error !=None):\n",
    "                error_obj = dep_error.compose(rel_error)\n",
    "                noise_thermal.add_quantum_error(error_obj, 'cx', [q,j])\n",
    "        \n",
    "        #adding the readout error \n",
    "        p1_0 = machine.properties().qubit_property(q, 'prob_meas1_prep0')[0]\n",
    "        p0_1 = machine.properties().qubit_property(q, 'prob_meas0_prep1')[0]\n",
    "        \n",
    "        matrix = [[1-p1_0, p1_0 ], [p0_1, 1-p0_1]]\n",
    "        error  = ReadoutError(matrix)\n",
    "        \n",
    "        noise_thermal.add_readout_error(error, [q])\n",
    "        \n",
    "    return noise_thermal\n",
    "    \n"
   ]
  },
  {
   "cell_type": "code",
   "execution_count": 16,
   "metadata": {},
   "outputs": [],
   "source": [
    "large_number = 1000000000000"
   ]
  },
  {
   "cell_type": "code",
   "execution_count": 17,
   "metadata": {},
   "outputs": [
    {
     "data": {
      "text/plain": [
       "NoiseModel:\n",
       "  Basis gates: ['cx', 'id', 'u2', 'u3']\n",
       "  Instructions with noise: ['cx', 'u2', 'measure', 'id', 'u3']\n",
       "  Qubits with noise: [0, 1, 2, 3, 4]\n",
       "  Specific qubit errors: [('u3', [0]), ('u3', [1]), ('u3', [2]), ('u3', [3]), ('u3', [4]), ('u2', [0]), ('u2', [1]), ('u2', [2]), ('u2', [3]), ('u2', [4]), ('id', [0]), ('id', [1]), ('id', [2]), ('id', [3]), ('id', [4]), ('cx', [0, 1]), ('cx', [1, 0]), ('cx', [1, 2]), ('cx', [1, 3]), ('cx', [2, 1]), ('cx', [3, 1]), ('cx', [3, 4]), ('cx', [4, 3]), ('measure', [0]), ('measure', [1]), ('measure', [2]), ('measure', [3]), ('measure', [4])]"
      ]
     },
     "execution_count": 17,
     "metadata": {},
     "output_type": "execute_result"
    }
   ],
   "source": [
    "generateNoiseModel()"
   ]
  },
  {
   "cell_type": "markdown",
   "metadata": {},
   "source": [
    "#### Running Function"
   ]
  },
  {
   "cell_type": "code",
   "execution_count": 18,
   "metadata": {},
   "outputs": [],
   "source": [
    "def evaluator(circuits, custom_t = False, t1 = None, t2 = None, \n",
    "              weights =  [-1.053, 0.395, -0.395, -0.011, 0.181], readout_amp = False, scale = 1):\n",
    "    \"\"\"\n",
    "    Input: circuits, noise model to run on , weights of the local hammys\n",
    "    Output: expectation value (energy)\n",
    "    \n",
    "    \"\"\"\n",
    "    \n",
    "    #Running the circuits \n",
    "    results = []\n",
    "    noise_model = generateNoiseModel(custom_t, t1, t2)\n",
    "    for circ in circuits: \n",
    "        circ = transpile(circ, basis_gates = basis_gates)\n",
    "        job =  execute(circ, backend = simulator, noise_model = noise_model, shots = 1024)\n",
    "        result = job.result().get_counts()\n",
    "        results.append(result)\n",
    "        \n",
    "    #Amping up readout errors\n",
    "    if (readout_amp): \n",
    "        for i in range(len(results)): \n",
    "            results[i] = counts_after_readout_amp(results[i], scale)\n",
    "    \n",
    "    #Converting counts to expec values of local hammys\n",
    "    \n",
    "    n = 5 #if 5 hammys, then length is 5, 5th one is assumed to be XX\n",
    "    hammyfied_vals = []\n",
    "    for i in range(n): \n",
    "        if (i <4):\n",
    "            c = 0\n",
    "        else: \n",
    "            c= 1\n",
    "        hammyfied_val = get_expec_val_H2(results[c], i)\n",
    "        hammyfied_vals.append(hammyfied_val)\n",
    "    \n",
    "    #Combining expectation values of local hamiltonians with the weights and adding nuclear repulsion energy\n",
    "    \n",
    "    shift = 0.7151043390810812\n",
    "    expec_val = 0 + shift\n",
    "    for i in range(len(hammyfied_vals)): \n",
    "        expec_val += weights[i]*hammyfied_vals[i]\n",
    "        \n",
    "    return expec_val\n",
    "    "
   ]
  },
  {
   "cell_type": "code",
   "execution_count": 19,
   "metadata": {},
   "outputs": [
    {
     "name": "stdout",
     "output_type": "stream",
     "text": [
      "------------------------------Starting Scale 1---------------------\n",
      "------------------------------Starting Scale 1.5---------------------\n",
      "------------------------------Starting Scale 2---------------------\n",
      "------------------------------Starting Scale 2.5---------------------\n",
      "------------------------------Starting Scale 3---------------------\n",
      "------------------------------Starting Scale 3.5---------------------\n",
      "------------------------------Starting Scale 4---------------------\n",
      "------------------------------Starting Scale 4.5---------------------\n",
      "------------------------------Starting Scale 5---------------------\n",
      "------------------------------Starting Scale 1---------------------\n",
      "------------------------------Starting Scale 1.5---------------------\n",
      "------------------------------Starting Scale 2---------------------\n",
      "------------------------------Starting Scale 2.5---------------------\n",
      "------------------------------Starting Scale 3---------------------\n",
      "------------------------------Starting Scale 3.5---------------------\n",
      "------------------------------Starting Scale 4---------------------\n",
      "------------------------------Starting Scale 4.5---------------------\n",
      "------------------------------Starting Scale 5---------------------\n"
     ]
    }
   ],
   "source": [
    "import numpy as np\n",
    "from qiskit import execute \n",
    "from qiskit.compiler import transpile \n",
    "from qiskit.tools.monitor import job_monitor\n",
    "\n",
    "lots_scaled_results = []\n",
    "means_with_therm = []\n",
    "std_devs_with_therm = []\n",
    "err_on_means_with_therm = []\n",
    "means_without_therm = []\n",
    "std_devs_without_therm = []\n",
    "err_on_means_without_therm = []\n",
    "\n",
    "#With Thermal first\n",
    "for s in range(len(scales)):\n",
    "    \n",
    "    scale_circs = lots_scaled_circuits[s]\n",
    "    scale = scales[s]\n",
    "    \n",
    "    print('------------------------------Starting Scale ' +str(scale) +'---------------------')\n",
    "    energies = []\n",
    "    \n",
    "    #going over all samples, 1 from iz,Zz,zi,ii box and 1 from xx branch \n",
    "    hammy_box_1 = scale_circs[0]\n",
    "    hammy_box_2 = scale_circs[1]\n",
    "    \n",
    "    for i in range(n_samples):\n",
    "        energy = evaluator([hammy_box_1[i], hammy_box_2[i]], custom_t = False, t1 = None, t2 = None, readout_amp = True, scale = scale)\n",
    "        energies.append(energy)\n",
    "    \n",
    "    #adding results to means, std_dves\n",
    "    means_with_therm.append(np.mean(energies))\n",
    "    std_devs_with_therm.append(np.std(energies))\n",
    "    err_on_means_with_therm.append(np.std(energies)/np.sqrt(len(energies)))\n",
    "\n",
    "    \n",
    "#Without Thermal next\n",
    "for s in range(len(scales)):\n",
    "    \n",
    "    scale_circs = lots_scaled_circuits[s]\n",
    "    scale = scales[s]\n",
    "    \n",
    "    print('------------------------------Starting Scale ' +str(scale) +'---------------------')\n",
    "    energies = []\n",
    "    \n",
    "    #going over all samples, 1 from iz,Zz,zi,ii box and 1 from xx branch \n",
    "    hammy_box_1 = scale_circs[0]\n",
    "    hammy_box_2 = scale_circs[1]\n",
    "    \n",
    "    for i in range(n_samples):\n",
    "        energy = evaluator([hammy_box_1[i], hammy_box_2[i]],custom_t = True, t1 = large_number, t2 = large_number, readout_amp = True, scale = scale)\n",
    "        energies.append(energy)\n",
    "    \n",
    "    #adding results to means, std_dves\n",
    "    means_without_therm.append(np.mean(energies))\n",
    "    std_devs_without_therm.append(np.std(energies))\n",
    "    err_on_means_without_therm.append(np.std(energies)/np.sqrt(len(energies)))\n",
    "    \n",
    "    \n",
    "    \n"
   ]
  },
  {
   "cell_type": "code",
   "execution_count": 20,
   "metadata": {},
   "outputs": [
    {
     "data": {
      "text/plain": [
       "[-1.0226263025204811,\n",
       " -0.9844222820126688,\n",
       " -0.9421345886532937,\n",
       " -0.9065963347470438,\n",
       " -0.8693129324032938,\n",
       " -0.8356867956845437,\n",
       " -0.8009356824032938,\n",
       " -0.7696625427548563,\n",
       " -0.7370433240048563]"
      ]
     },
     "execution_count": 20,
     "metadata": {},
     "output_type": "execute_result"
    }
   ],
   "source": [
    "means_with_therm"
   ]
  },
  {
   "cell_type": "code",
   "execution_count": 21,
   "metadata": {},
   "outputs": [
    {
     "data": {
      "text/plain": [
       "[-1.0394909675595436,\n",
       " -1.0081896286923562,\n",
       " -0.9746333650204813,\n",
       " -0.9450864079892313,\n",
       " -0.9137537546689187,\n",
       " -0.8844174158017313,\n",
       " -0.8545292077939187,\n",
       " -0.8260664685361063,\n",
       " -0.7975215505673563]"
      ]
     },
     "execution_count": 21,
     "metadata": {},
     "output_type": "execute_result"
    }
   ],
   "source": [
    "means_without_therm"
   ]
  },
  {
   "cell_type": "code",
   "execution_count": 22,
   "metadata": {},
   "outputs": [
    {
     "data": {
      "text/plain": [
       "[0.01277372873194459,\n",
       " 0.025425653324949258,\n",
       " 0.03184975546013507,\n",
       " 0.03272994299516075,\n",
       " 0.029520519734323167,\n",
       " 0.03060910883074382,\n",
       " 0.026274207870449404,\n",
       " 0.021566362332869328,\n",
       " 0.014436701613777692]"
      ]
     },
     "execution_count": 22,
     "metadata": {},
     "output_type": "execute_result"
    }
   ],
   "source": [
    "std_devs_with_therm"
   ]
  },
  {
   "cell_type": "code",
   "execution_count": 23,
   "metadata": {},
   "outputs": [
    {
     "data": {
      "text/plain": [
       "[0.012210656879274822,\n",
       " 0.017923320052365157,\n",
       " 0.022256108768462145,\n",
       " 0.02215901761212093,\n",
       " 0.021143265275998274,\n",
       " 0.02175485154008263,\n",
       " 0.019266425073709573,\n",
       " 0.016983715509473876,\n",
       " 0.012443353909524406]"
      ]
     },
     "execution_count": 23,
     "metadata": {},
     "output_type": "execute_result"
    }
   ],
   "source": [
    "std_devs_without_therm"
   ]
  },
  {
   "cell_type": "code",
   "execution_count": 24,
   "metadata": {},
   "outputs": [
    {
     "data": {
      "text/plain": [
       "[0.0004039407700607934,\n",
       " 0.0008040297550467292,\n",
       " 0.00100717770173411,\n",
       " 0.0010350116755218138,\n",
       " 0.0009335208007240993,\n",
       " 0.0009679450105312384,\n",
       " 0.0008308634058734236,\n",
       " 0.0006819882581632949,\n",
       " 0.0004565285899976599]"
      ]
     },
     "execution_count": 24,
     "metadata": {},
     "output_type": "execute_result"
    }
   ],
   "source": [
    "err_on_means_with_therm"
   ]
  },
  {
   "cell_type": "code",
   "execution_count": 25,
   "metadata": {},
   "outputs": [
    {
     "data": {
      "text/plain": [
       "[0.0003861348746531211,\n",
       " 0.0005667851459764229,\n",
       " 0.0007037999556078542,\n",
       " 0.0007007296636608769,\n",
       " 0.0006686087544530316,\n",
       " 0.0006879488102548297,\n",
       " 0.0006092578560189971,\n",
       " 0.0005370722414226447,\n",
       " 0.00039349340085657896]"
      ]
     },
     "execution_count": 25,
     "metadata": {},
     "output_type": "execute_result"
    }
   ],
   "source": [
    "err_on_means_without_therm"
   ]
  },
  {
   "cell_type": "markdown",
   "metadata": {},
   "source": [
    "### Plotting Results"
   ]
  },
  {
   "cell_type": "code",
   "execution_count": 39,
   "metadata": {},
   "outputs": [
    {
     "data": {
      "image/png": "[encoded data removed]",
      "text/plain": [
       "<Figure size 432x288 with 1 Axes>"
      ]
     },
     "metadata": {
      "needs_background": "light"
     },
     "output_type": "display_data"
    }
   ],
   "source": [
    "import matplotlib.pyplot as plt\n",
    "\n",
    "meanses = [means_with_therm, means_without_therm]\n",
    "err_on_meanses = [err_on_means_with_therm, err_on_means_without_therm]\n",
    "labels= ['with thermal', 'without thermal']\n",
    "\n",
    "#Plotting means \n",
    "b = plt.figure()\n",
    "for i in range(len(meanses)):\n",
    "    vqe_mean = meanses[i]\n",
    "    vqe_err = err_on_meanses[i]\n",
    "    labell = labels[i]\n",
    "    plt.errorbar(scales, vqe_mean, yerr=vqe_err,capsize = 10, fmt ='o', label = labell)\n",
    "#exact_energy   \n",
    "plt.plot(0, -1.137, 'ro', label = 'exact energy')\n",
    "\n",
    "plt.title('Presence and Absence of Thermal Relaxation Errors')\n",
    "plt.xlabel('scale factors (for U3, CNOT and readout)')\n",
    "plt.ylabel('Energy (Hartree)')\n",
    "plt.legend()\n",
    "plt.show()\n",
    "b.savefig('August 17 (1)', dpi = 1000)"
   ]
  },
  {
   "cell_type": "markdown",
   "metadata": {},
   "source": [
    "# Extrapolation"
   ]
  },
  {
   "cell_type": "code",
   "execution_count": 28,
   "metadata": {},
   "outputs": [],
   "source": [
    "def RichardsonExtrap_Fraction(energies): \n",
    "    \"\"\"\n",
    "    Input: An array of energies scaled with different stretch factors--normal integer multiples only --eg 1,2,3,4..\n",
    "    Assumption: Odd scalings - 1,3,5,7,...\n",
    "    Output: Zero Error extrapolated answer\n",
    "    \"\"\"\n",
    "    n = len(energies)\n",
    "    scales = [1+i*0.5 for i in range(n)]\n",
    "    \n",
    "    #setting up all equations \n",
    "    equations = []\n",
    "    for eq_num in scales: \n",
    "        equation = []\n",
    "        if eq_num == 1: \n",
    "            for i in range(n): \n",
    "                equation.append(1)\n",
    "            equations = [equation]\n",
    "        else: \n",
    "            for term_num in scales: \n",
    "                term = term_num**(eq_num*2-2)\n",
    "                #print(term)\n",
    "                equation.append(term)\n",
    "            equations = np.append(equations, [equation], axis = 0)\n",
    "    #print(equations)\n",
    "    \n",
    "    #Now filling up equals to matrix \n",
    "    equals_to = [1]\n",
    "    for i in range(1, n): \n",
    "        equals_to.append(0)\n",
    "    #print(equals_to)\n",
    "    \n",
    "    #solving the system\n",
    "    coeff = np.linalg.solve(equations, equals_to)\n",
    "    #print(coeff)\n",
    "    \n",
    "    #Combine coeff with energies to get zero noise result \n",
    "    result = np.dot(coeff, energies)\n",
    "    return result"
   ]
  },
  {
   "cell_type": "code",
   "execution_count": 29,
   "metadata": {},
   "outputs": [],
   "source": [
    "def MonteCarloError(means, std_devs, poly_fit = False, deg = 1, sampling_size = 1000): \n",
    "    \"\"\"\n",
    "    Input: arrays means and standard deviations of the various scalings of noise, whether to do richardson i.e. no poly fit \n",
    "    If doing polyfit, then specify degree, sampling_size is how many times to sample from the Gaussian \n",
    "    \n",
    "    Assumption: Scaled by integer values ranging from 1 to X where X>1\n",
    "    \n",
    "    Output: Error estimate\n",
    "    \"\"\"\n",
    "    n = len(means)\n",
    "    \n",
    "    #Sampling from Gaussian for each scaling \n",
    "    all_samples = []\n",
    "    debug_means = []\n",
    "    for i in range(n): \n",
    "        samples = np.random.normal(means[i], std_devs[i], sampling_size)\n",
    "        all_samples.append(samples)\n",
    "        #for debugging\n",
    "        debug_means.append(means[i] - np.mean(samples))\n",
    "    #print(debug_means)\n",
    "    \n",
    "    #Doing Extrapolation for all sampling_size samples (1000 if set to default)\n",
    "    zero_noise_energies = []\n",
    "    for j in range(sampling_size): \n",
    "        energies = []\n",
    "        for i in range(n): \n",
    "            energies.append(all_samples[i][j])\n",
    "            \n",
    "        ##Doing either richardson or funcs \n",
    "        ###Polynomial\n",
    "        if poly_fit: \n",
    "            ####need the scale values: \n",
    "            scales = []\n",
    "            scales = [0.5*c +1 for c in range(n)]\n",
    "            ####making the function \n",
    "            param = np.polyfit(scales, energies, deg, w = [1/i for i in std_devs])\n",
    "            f = np.poly1d(param)\n",
    "            ####extrapolation\n",
    "            result = f(0)\n",
    "            zero_noise_energies.append(result)\n",
    "            \n",
    "        ###Richardson\n",
    "        else: \n",
    "            result = RichardsonExtrap_Fraction(energies)\n",
    "            zero_noise_energies.append(result)\n",
    "    \n",
    "    #Returning error i.e. std \n",
    "    error = np.std(zero_noise_energies)\n",
    "    return error\n",
    "    \n",
    "        "
   ]
  },
  {
   "cell_type": "code",
   "execution_count": 30,
   "metadata": {},
   "outputs": [],
   "source": [
    "import numpy as np\n",
    "\n",
    "def plottingCalc(means, std_devs):\n",
    "    \"\"\"\n",
    "    Gives out data for plotting energies for extrapolation purposes\n",
    "    \"\"\"\n",
    "    \n",
    "    highest_degree = len(means) -1\n",
    "    \n",
    "    scales = [1+i*0.5 for i in range(len(means))]\n",
    "    \n",
    "    # Uncertainties \n",
    "    R_uncert = MonteCarloError(means, std_devs, poly_fit = False)\n",
    "    \n",
    "    poly_uncerts = []\n",
    "    for i in range(1, highest_degree+1): \n",
    "        uncert = MonteCarloError(means, std_devs, poly_fit = True, deg = i)\n",
    "        poly_uncerts.append(uncert)\n",
    "    \n",
    "    #O energy extrap\n",
    "    R_zero = RichardsonExtrap_Fraction(means)\n",
    "    \n",
    "    poly_zero = []\n",
    "    funcs = []\n",
    "    for i in range(1,highest_degree+1): \n",
    "        param= np.polyfit(scales, means, i, w=[1/j for j in std_devs])\n",
    "        p = np.poly1d(param)\n",
    "        funcs.append(p)\n",
    "    for f in range(len(funcs)):\n",
    "        poly_zero.append(funcs[f](0))\n",
    "    \n",
    "    return R_uncert, poly_uncerts, R_zero, poly_zero"
   ]
  },
  {
   "cell_type": "code",
   "execution_count": 31,
   "metadata": {},
   "outputs": [],
   "source": [
    "exact_energy = [-1.137]\n",
    "\n",
    "num_data = 2\n",
    "meanses = []\n",
    "std_devses = []\n",
    "labelses_Poly = []\n",
    "labelses_Rich= []\n",
    "colors_poly = []\n",
    "colors_rich = []"
   ]
  },
  {
   "cell_type": "code",
   "execution_count": 40,
   "metadata": {},
   "outputs": [],
   "source": [
    "meanses = [ means_with_therm, means_without_therm]\n",
    "std_devses = [std_devs_with_therm, std_devs_without_therm]\n",
    "labelses_Poly = [ 'With Themal(Poly)', 'Without Thermal(Poly)']\n",
    "labelses_Rich = [ 'With Themal(Rich)', 'Without Themal(Rich)']\n",
    "colors_poly = ['tab:blue', 'tab:orange']\n",
    "colors_rich = ['cyan', 'pink']"
   ]
  },
  {
   "cell_type": "code",
   "execution_count": 41,
   "metadata": {},
   "outputs": [
    {
     "data": {
      "image/png": "[encoded data removed]",
      "text/plain": [
       "<Figure size 432x288 with 1 Axes>"
      ]
     },
     "metadata": {
      "needs_background": "light"
     },
     "output_type": "display_data"
    }
   ],
   "source": [
    "a = plt.figure()\n",
    "for i in range(num_data): \n",
    "    means = meanses[i]\n",
    "    std_devs = std_devses[i]\n",
    "#     label_poly = lablses_Poly[i]\n",
    "#     label_rich = lablses_Rich[i]\n",
    "    degrees = [j+1+0.1*i for j in range(len(means)-1)]\n",
    "    \n",
    "    R_uncert, poly_uncerts, R_zero, poly_zero = plottingCalc(means, std_devs)\n",
    "#     print(poly_zero)\n",
    "#     print(degrees)\n",
    "    \n",
    "    plt.errorbar(degrees, [energy - exact_energy[0] for energy in poly_zero], yerr=poly_uncerts, capsize = 5,fmt =' ', ecolor = colors_poly[i], label = labelses_Poly[i] )\n",
    "    plt.errorbar(degrees[-1]+.5+.1*i, R_zero- exact_energy[0], yerr=R_uncert, capsize = 5,fmt =' ', ecolor = colors_rich[i] , label = labelses_Rich[i])\n",
    "    plt.plot(degrees, [energy - exact_energy[0] for energy in poly_zero], linestyle = ' ', marker = 'o', color = colors_poly[i])\n",
    "    plt.plot(degrees[-1]+.5+.1*i, R_zero- exact_energy[0],  linestyle = ' ', marker = 'o', color = colors_rich[i] )\n",
    "    \n",
    "\n",
    "#plt.axis([0.9, 9, 0, 0.07])\n",
    "    \n",
    "plt.xlabel('degree of polynomial')\n",
    "plt.ylabel('Difference From Exact Energy (Hartree)')\n",
    "plt.title('The Uncertainities at Zero point of the various extrapolations ')\n",
    "points =[i+1 for i in range(len(meanses))]\n",
    "points+=[len(meanses[0])+1]\n",
    "plt.plot(points, [0*i for i in points], linestyle = '--', color = 'black' , linewidth = 2)\n",
    "plt.legend()\n",
    "plt.show()"
   ]
  },
  {
   "cell_type": "code",
   "execution_count": 43,
   "metadata": {},
   "outputs": [
    {
     "data": {
      "image/png": "[encoded data removed]",
      "text/plain": [
       "<Figure size 432x288 with 1 Axes>"
      ]
     },
     "metadata": {
      "needs_background": "light"
     },
     "output_type": "display_data"
    }
   ],
   "source": [
    "a = plt.figure()\n",
    "for i in range(num_data): \n",
    "    means = meanses[i]\n",
    "    std_devs = std_devses[i]\n",
    "#     label_poly = lablses_Poly[i]\n",
    "#     label_rich = lablses_Rich[i]\n",
    "    degrees = [j+1+0.1*i for j in range(len(means)-1)]\n",
    "    \n",
    "    R_uncert, poly_uncerts, R_zero, poly_zero = plottingCalc(means, std_devs)\n",
    "#     print(poly_zero)\n",
    "#     print(degrees)\n",
    "    \n",
    "    plt.errorbar(degrees, [energy - exact_energy[0] for energy in poly_zero], yerr=poly_uncerts, capsize = 5,fmt =' ', ecolor = colors_poly[i], label = labelses_Poly[i] )\n",
    "    plt.errorbar(degrees[-1]+.5+.1*i, R_zero- exact_energy[0], yerr=R_uncert, capsize = 5,fmt =' ', ecolor = colors_rich[i] , label = labelses_Rich[i])\n",
    "    plt.plot(degrees, [energy - exact_energy[0] for energy in poly_zero], linestyle = ' ', marker = 'o', color = colors_poly[i])\n",
    "    plt.plot(degrees[-1]+.5+.1*i, R_zero- exact_energy[0],  linestyle = ' ', marker = 'o', color = colors_rich[i] )\n",
    "    \n",
    "\n",
    "plt.axis([0.9, 9, 0, 0.07])\n",
    "    \n",
    "plt.xlabel('degree of polynomial')\n",
    "plt.ylabel('Difference From Exact Energy (Hartree)')\n",
    "plt.title('The Uncertainities at Zero point of the various extrapolations ')\n",
    "points =[i+1 for i in range(len(meanses))]\n",
    "points+=[len(meanses[0])+1]\n",
    "plt.plot(points, [0*i for i in points], linestyle = '--', color = 'black' , linewidth = 2)\n",
    "plt.legend()\n",
    "plt.show()\n",
    "a.savefig('August17(2)', dpi = 1000)"
   ]
  },
  {
   "cell_type": "code",
   "execution_count": 46,
   "metadata": {},
   "outputs": [
    {
     "data": {
      "text/plain": [
       "7.111111111111112e-08"
      ]
     },
     "execution_count": 46,
     "metadata": {},
     "output_type": "execute_result"
    }
   ],
   "source": [
    "machine.properties().gate_length('u3', [0])"
   ]
  },
  {
   "cell_type": "code",
   "execution_count": null,
   "metadata": {},
   "outputs": [],
   "source": []
  }
 ],
 "metadata": {
  "kernelspec": {
   "display_name": "Python 3",
   "language": "python",
   "name": "python3"
  },
  "language_info": {
   "codemirror_mode": {
    "name": "ipython",
    "version": 3
   },
   "file_extension": ".py",
   "mimetype": "text/x-python",
   "name": "python",
   "nbconvert_exporter": "python",
   "pygments_lexer": "ipython3",
   "version": "3.7.6"
  }
 },
 "nbformat": 4,
 "nbformat_minor": 4
}
