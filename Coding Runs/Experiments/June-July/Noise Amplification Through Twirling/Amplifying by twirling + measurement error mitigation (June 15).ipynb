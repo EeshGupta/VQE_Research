{
 "cells": [
  {
   "cell_type": "markdown",
   "metadata": {},
   "source": [
    "# Extrapolation Via Twirling Technique and Measurement Error Metigation \n",
    "## Aim\n",
    "To amplify noise vis twirling technique and use measurement error mitgation to extrapolate a random expectation value\n",
    "## Methdods\n",
    "I will be using Quantum Poker's github repo https://github.com/OpenQuantumComputing for twirling\n",
    "\n",
    "### Twirling\n",
    "\n",
    "First some code from Quantum Poker's repo"
   ]
  },
  {
   "cell_type": "code",
   "execution_count": 6,
   "metadata": {},
   "outputs": [],
   "source": [
    "import re #because we need regular expressions\n",
    "import numpy as np #because we need the random number generator\n",
    "from qiskit import *\n",
    "from qiskit.tools.monitor import job_monitor\n",
    "\n",
    "import sys\n",
    "sys.path.append('../')\n",
    "\n",
    "from qiskit.aqua.utils import *\n",
    "\n",
    "import numpy as np\n",
    "\n",
    "Pauligateset=['id','x','y','z']\n",
    "\n",
    "def equal(A, B, tolerance=1E-6, allowPhaseCheck=True):\n",
    "    \"\"\"\n",
    "    Returns True if A and B are equal within tolerance tol, element-wise\n",
    "    :param A: nxm matrix\n",
    "    :param B: nxm matrix\n",
    "    :param tolerance: Tolerance\n",
    "    :param allowPhaseCheck: True if A and B should be considered equal if they are equal up to a complex phase factor\n",
    "    :raises ValueError: if A, B not correct shape\n",
    "    :return: True or False\n",
    "    \"\"\"\n",
    "    dim0 = A.shape[0]\n",
    "    dim1 = A.shape[1]\n",
    "    if len(A.shape) > 2 or len(B.shape) > 2:\n",
    "        raise ValueError(\"Both arguments must be n x m matrices.\")\n",
    "    if dim0 != B.shape[0] or dim1 != B.shape[1]:\n",
    "        raise ValueError(\"Arguments must be of equal dimension.\")\n",
    "\n",
    "    checkPhase = False\n",
    "\n",
    "    for ind in range(dim0):\n",
    "        if checkPhase:\n",
    "            break\n",
    "        for j in range(dim1):\n",
    "            num = np.absolute(A[ind, j] - B[ind, j])\n",
    "            if num > tolerance:\n",
    "                if allowPhaseCheck:\n",
    "                    checkPhase = True  # There might be a (global) phase difference between the matrices\n",
    "                else:\n",
    "                    return False\n",
    "                break\n",
    "\n",
    "    if checkPhase:# Handle the case A = e^(i * theta) * B\n",
    "        first = True\n",
    "        eiPhase = 1\n",
    "\n",
    "        for ind in range(dim0):\n",
    "            for j in range(dim1):\n",
    "                A_ij = A[ind, j]\n",
    "                B_ij = B[ind, j]\n",
    "\n",
    "                if np.absolute(A_ij) < tolerance:\n",
    "                    A_ij = 0\n",
    "                if np.absolute(B_ij) < tolerance:\n",
    "                    B_ij = 0\n",
    "\n",
    "                if A_ij == 0 and B_ij == 0:\n",
    "                    continue\n",
    "                elif (A_ij == 0 and B_ij != 0) or (A_ij != 0 and B_ij == 0):\n",
    "                    # If one is zero, multiplying by phase factor does not change anything.\n",
    "                    # Therefore, the other must be zero for the matrices to be equal up to a phase factor.\n",
    "                    return False\n",
    "\n",
    "                rel = A_ij / B_ij\n",
    "                if np.absolute(np.absolute(rel) - 1) > tolerance:  # a/b must be 1.000... * e^(i * theta)\n",
    "                    return False\n",
    "                if first:\n",
    "                    first = False\n",
    "                    eiPhase = rel  # e ^(i * theta)\n",
    "                if np.absolute(eiPhase - rel) > tolerance:\n",
    "                    return False\n",
    "    return True\n",
    "\n",
    "def getPaulitwirlingPairsCX(printpairs=False):\n",
    "    \n",
    "    #making the gates\n",
    "    \n",
    "    ID1q = np.array([[1, 0], [0, 1]], dtype=np.complex_)\n",
    "    sigmaX = np.array([[0, 1], [1, 0]], dtype=np.complex_)\n",
    "    sigmaY = np.array([[0, 0 - 1.0j], [0 + 1.0j, 0]], dtype=np.complex_)\n",
    "    sigmaZ = np.array([[1, 0], [0, -1]], dtype=np.complex_)\n",
    "\n",
    "    ID2q = np.kron(ID1q, ID1q)\n",
    "\n",
    "    tol = 1E-8\n",
    "\n",
    "    paulis = np.array([ID1q, sigmaX, sigmaY, sigmaZ], dtype=np.complex_)\n",
    "\n",
    "    cX = np.array([[1, 0, 0, 0], [0, 1, 0, 0], [0, 0, 0, 1], [0, 0, 1, 0]], dtype=np.complex_)\n",
    "    \n",
    "    #some kind of new array\n",
    "\n",
    "    pairs = np.zeros((4, 4, 2), dtype=int)\n",
    "    \n",
    "    #making all possible configurations for twirling (gates a,b,c,d)\n",
    "\n",
    "    for a in range(4):  # sigma_control ^a\n",
    "        pauli_ca = paulis[a]\n",
    "        for b in range(4):  # sigma_target ^b\n",
    "            pauli_tb = paulis[b]\n",
    "            for c in range(4):  # sigma_control ^c\n",
    "                pauli_cc = paulis[c]\n",
    "                for d in range(4):  # sigma_target ^d\n",
    "                    pauli_td = paulis[d]\n",
    "                    LHS = np.kron(pauli_cc, pauli_td)\n",
    "                    RHS = cX @ np.kron(pauli_ca, pauli_tb) @ cX.transpose().conjugate()\n",
    "                    if equal(LHS, RHS, tol):\n",
    "                        if printpairs:\n",
    "                            print(Pauligateset[a],Pauligateset[b],Pauligateset[c],Pauligateset[d])\n",
    "                        pairs[a][b][0] = c\n",
    "                        pairs[a][b][1] = d\n",
    "    return pairs\n",
    "\n",
    "twirlingPairs = getPaulitwirlingPairsCX()\n",
    "\n",
    "def create_Paulitwirled_and_noiseamplified_circuit(circuit,r,two_error_map,paulitwirling=True,controlledgatename='cx'):\n",
    "    '''Pauli-twirl and amplify noise of controlled gates in a circuit\n",
    "    Args:\n",
    "        circuit: the original circuit\n",
    "        r: noise amplification factor\n",
    "        two_error_map: map of error rates of controlled gate between two qubits\n",
    "        paulitwirling: turn Pauli-twirling on or off\n",
    "        controlledgatename: name of the controlled gate to apply Pauli-twirling and error amplification to\n",
    "    Returns:\n",
    "        new circuit that is Pauli-twirled and errors are amplified by a factor for r\n",
    "    '''\n",
    "    newqasm_str=\"\"\n",
    "    qs=circuit.qasm()\n",
    "    qregname=circuit.qregs[0].name\n",
    "    for line in iter(qs.splitlines()):\n",
    "        if line.startswith(controlledgatename):\n",
    "            ## Find the number of the control and the target qubit\n",
    "            search_results = re.finditer(r'\\[.*?\\]', line)\n",
    "            count=0\n",
    "            for item in search_results:\n",
    "                if count==0:\n",
    "                    control_ind=int(item.group(0).lstrip('[').rstrip(']'))\n",
    "                else:\n",
    "                    target_ind=int(item.group(0).lstrip('[').rstrip(']'))\n",
    "                count+=1\n",
    "            ## Apply Pauli-twirling\n",
    "            if paulitwirling:\n",
    "                indices_ab = np.random.randint(0, 4, 2)\n",
    "                indices_cd = twirlingPairs[indices_ab[0]][indices_ab[1]]\n",
    "\n",
    "                if indices_ab[0]>0:\n",
    "                    newqasm_str+=Pauligateset[indices_ab[0]]+\" \"+qregname+\"[\"+str(control_ind)+\"];\\n\"\n",
    "                if indices_ab[1]>0:\n",
    "                    newqasm_str+=Pauligateset[indices_ab[1]]+\" \"+qregname+\"[\"+str(target_ind)+\"];\\n\"\n",
    "                    \n",
    "                newqasm_str+=line+\"\\n\"\n",
    "                \n",
    "                if indices_cd[0]>0:\n",
    "                    newqasm_str+=Pauligateset[indices_cd[0]]+\" \"+qregname+\"[\"+str(control_ind)+\"];\\n\"\n",
    "                if indices_cd[1]>0:\n",
    "                    newqasm_str+=Pauligateset[indices_cd[1]]+\" \"+qregname+\"[\"+str(target_ind)+\"];\\n\"\n",
    "            else:\n",
    "                newqasm_str+=line+\"\\n\"\n",
    "\n",
    "            ## increase the error rate of a cx gate\n",
    "            if np.random.uniform(0, 1) < (r - 1) * two_error_map[control_ind][target_ind]:\n",
    "                ### we need to avoid that the indentity is drawn for the control and the target qubit at the same time\n",
    "                ### there are 4x4 combinations\n",
    "                # I I    X I    Y I    Z I\n",
    "                # I X    X X    Y X    Z X\n",
    "                # I Y    X Y    Y Y    Z Y\n",
    "                # I Z    X Z    Y Z    Z Z\n",
    "                # with global indexation for random numbers\n",
    "                # 0      4      8      12\n",
    "                # 1      5      9      13\n",
    "                # 2      6      10     14\n",
    "                # 3      7      11     15\n",
    "                # and local indexation\n",
    "                # 0,0    1,0    2,0    3,0\n",
    "                # 0,1    1,1    2,1    3,1\n",
    "                # 0,2    1,2    2,2    3,2\n",
    "                # 0,3    1,3    2,3    3,3\n",
    "                # so we make sure to never draw 0 = (0,0) = I I\n",
    "                ind_ef = np.random.randint(1, 16, 1)\n",
    "                ind_e=int(int(ind_ef[0])/4)\n",
    "                ind_f=ind_ef[0]%4\n",
    "                if ind_e>0:\n",
    "                    newqasm_str+=Pauligateset[ind_e]+\" \"+qregname+\"[\"+str(control_ind)+\"];\\n\"\n",
    "                if ind_f>0:\n",
    "                    newqasm_str+=Pauligateset[ind_f]+\" \"+qregname+\"[\"+str(target_ind)+\"];\\n\"\n",
    "\n",
    "        else:\n",
    "            newqasm_str+=line+\"\\n\"\n",
    "    circ=QuantumCircuit().from_qasm_str(newqasm_str)\n",
    "    return circ\n",
    "\n",
    "def Richardson_extrapolate(E, c):\n",
    "    n=E.shape[0]\n",
    "    if c.shape[0] != n:\n",
    "        raise ValueError('E and c must have the same dimension.')\n",
    "    if n<=1:\n",
    "        raise ValueError('the dimension of E and c must be larger than 1.')\n",
    "    A = np.zeros((n,n))\n",
    "    b = np.zeros((n,1))\n",
    "    #must sum to 1\n",
    "    A[0,:] = 1\n",
    "    b[0] = 1\n",
    "    for k in range(1,n):\n",
    "        A[k,:] = c**k\n",
    "    x=np.linalg.solve(A,b)\n",
    "    return np.dot(np.transpose(E),x)\n",
    "\n",
    "def mitigate(circuit, amplification_factors,\\\n",
    "             expectationvalue_fun,\\\n",
    "             execution_backend, \\\n",
    "             experimentname, cx_error_map,\\\n",
    "             num_shots, num_experiments,\\\n",
    "             target_backend=None, noise_model=None, basis_gates=None,\\\n",
    "             paulitwirling=True, verbose=True):\n",
    "    \"\"\"\n",
    "    it is of utter most importance, that the circit is executable on the backend that it is to be executed/targeted for\n",
    "    target_backend: is used if execution_backend is a simulator\n",
    "    noisemodel: is used if execution_backend is a simulator\n",
    "    this function is implemented with convenience in mind, the classical part can be trivially made more memory efficient\n",
    "    \"\"\"\n",
    "    optimization_level=1\n",
    "\n",
    "    n_qubits = execution_backend.configuration().n_qubits\n",
    "    is_simulator = execution_backend.configuration().simulator\n",
    "\n",
    "    max_depth_dict={}\n",
    "    mean_depth_dict={}\n",
    "    max_depth_transpiled_dict={}\n",
    "    mean_depth_transpiled_dict={}\n",
    "    jobs_dict={}\n",
    "    E_dict={}\n",
    "    E_av_dict={}\n",
    "    result_dict={}\n",
    "\n",
    "    ### sanity checks\n",
    "    if len(amplification_factors)<2:\n",
    "        raise ValueError(\"specify at least 2 amplification factors, e.g., (1,2) \")\n",
    "    if is_simulator:\n",
    "        if target_backend == None:\n",
    "            raise ValueError(\"you need to specify a taget backend\")\n",
    "        if noise_model == None:\n",
    "            raise ValueError(\"you need to specify a noise model\")\n",
    "        if basis_gates == None:\n",
    "            raise ValueError(\"you need to specify basis gates\")\n",
    "    else:\n",
    "        execution_backend = target_backend\n",
    "\n",
    "    if verbose:\n",
    "        print(\"Sanity checks passed\")\n",
    "\n",
    "    if is_simulator:\n",
    "        # in the case of a simulator,\n",
    "        # we do not need to split the runs,\n",
    "        # because max_experiments is not limited\n",
    "        experimentname+=\"_backend\"+execution_backend.name()\n",
    "        experimentname+=\"_noisemodel\"+target_backend.name()\n",
    "        experimentname+=\"_shots\"+str(num_shots)\n",
    "        experimentname+=\"_experiments\"+str(num_experiments)\n",
    "        experimentname+=\"_paulitwirling\"+str(paulitwirling)\n",
    "        for r in amplification_factors:\n",
    "            name=experimentname+\"_r\"+str(r)\n",
    "            result_dict[name] = read_results(name)\n",
    "            if verbose:\n",
    "                if result_dict[name] == None:\n",
    "                    print(\"Could not read result for job '\",name, \"' from disk\")\n",
    "                else:\n",
    "                    print(\"Result for job '\",name, \"' successfully read from disk\")\n",
    "\n",
    "            ### read circuit depth statistics from file\n",
    "            if not result_dict[name] == None:\n",
    "                with open('results/'+name+'.mean_circuit_depth','r') as f:\n",
    "                    mean_depth_dict[name]=float(f.read())\n",
    "                with open('results/'+name+'.max_circuit_depth','r') as f:\n",
    "                    max_depth_dict[name]=float(f.read())\n",
    "                with open('results/'+name+'.mean_transpiled_circuit_depth','r') as f:\n",
    "                    mean_depth_transpiled_dict[name]=float(f.read())\n",
    "                with open('results/'+name+'.max_transpiled_circuit_depth','r') as f:\n",
    "                    max_depth_transpiled_dict[name]=float(f.read())\n",
    "\n",
    "        for r in amplification_factors:\n",
    "            name=experimentname+\"_r\"+str(r)\n",
    "            if not result_dict[name] == None:\n",
    "                continue\n",
    "            mean_depth=0\n",
    "            max_depth=0\n",
    "            mean_depth_transpiled=0\n",
    "            max_depth_transpiled=0\n",
    "            circuits_r=[]\n",
    "            for p in range(1,num_experiments+1):\n",
    "                if verbose and p%25==0:\n",
    "                    print(\"Creating circuits for '\",name, \"'\", p, \"/\",num_experiments, end='\\r')\n",
    "                circ_tmp = create_Paulitwirled_and_noiseamplified_circuit(\\\n",
    "                                    circuit, r, cx_error_map, paulitwirling)\n",
    "                depth = circ_tmp.depth()\n",
    "                mean_depth += depth\n",
    "                max_depth = max(max_depth,depth)\n",
    "                # now we can transpile to combine single qubit gates, etc.\n",
    "                circ_tmp_transpiled=transpile(circ_tmp,\\\n",
    "                                              backend=target_backend,\\\n",
    "                                              optimization_level=optimization_level)\n",
    "                circuits_r.append(circ_tmp_transpiled)\n",
    "                depth=circ_tmp_transpiled.depth()\n",
    "                mean_depth_transpiled += depth\n",
    "                max_depth_transpiled = max(max_depth_transpiled,depth)\n",
    "            if verbose:\n",
    "                print(\"Creating circuits for '\",name, \"'\", num_experiments, \"/\",num_experiments)\n",
    "            max_depth_dict[name]=max_depth\n",
    "            mean_depth_dict[name]=mean_depth/num_experiments\n",
    "            max_depth_transpiled_dict[name]=max_depth_transpiled\n",
    "            mean_depth_transpiled_dict[name]=mean_depth_transpiled/num_experiments\n",
    "            if verbose:\n",
    "                print(\"Starting job for '\",name, \"'\")\n",
    "            jobs_dict[name] = execute(circuits_r,\\\n",
    "                            execution_backend,\\\n",
    "                            noise_model=noise_model,\\\n",
    "                            basis_gates=basis_gates,\\\n",
    "                            shots=num_shots)\n",
    "\n",
    "        for r in amplification_factors:\n",
    "            name=experimentname+\"_r\"+str(r)\n",
    "            if not result_dict[name] == None:\n",
    "                continue\n",
    "            job_monitor(jobs_dict[name])\n",
    "            success = write_results(name,jobs_dict[name])\n",
    "            if verbose:\n",
    "                if success:\n",
    "                    print(\"Result for job '\",name, \"' successfully written to disk\")\n",
    "                else:\n",
    "                    print(\"Could not write result for job '\",name, \"' from disk\")\n",
    "\n",
    "            ### write circuit depth statistics to file\n",
    "            with open('results/'+name+'.mean_circuit_depth','w') as f:\n",
    "                f.write(str(mean_depth_dict[name]))\n",
    "            with open('results/'+name+'.max_circuit_depth','w') as f:\n",
    "                f.write(str(max_depth_dict[name]))\n",
    "            with open('results/'+name+'.mean_transpiled_circuit_depth','w') as f:\n",
    "                f.write(str(mean_depth_transpiled_dict[name]))\n",
    "            with open('results/'+name+'.max_transpiled_circuit_depth','w') as f:\n",
    "                f.write(str(max_depth_transpiled_dict[name]))\n",
    "\n",
    "        first=True\n",
    "        for r in amplification_factors:\n",
    "            name=experimentname+\"_r\"+str(r)\n",
    "            if result_dict[name] == None:\n",
    "                result_dict[name] = read_results(name)\n",
    "            E_dict[name] = expectationvalue_fun(result_dict[name])\n",
    "            E_av_dict[name] = np.zeros_like(E_dict[name])\n",
    "            for j in range(1,num_experiments+1):\n",
    "                E_av_dict[name][j-1] = sum(E_dict[name][0:j])/j\n",
    "            if first:\n",
    "                E_av=E_av_dict[name]\n",
    "                first=False\n",
    "            else:\n",
    "                E_av=np.append(E_av,E_av_dict[name])## this is not very efficient coding\n",
    "\n",
    "    else:\n",
    "        raise ValueError(\"not yet implemented, coming soon\")\n",
    "\n",
    "    R=Richardson_extrapolate(E_av.reshape(len(amplification_factors),num_experiments),\\\n",
    "                             np.array(amplification_factors))\n",
    "\n",
    "\n",
    "    return R, E_dict, E_av_dict,\\\n",
    "           max_depth_dict,mean_depth_dict,\\\n",
    "           max_depth_transpiled_dict,mean_depth_transpiled_dict,\\\n",
    "           experimentname\n",
    "import numpy as np\n",
    "import os\n",
    "import datetime\n",
    "import time\n",
    "import pickle\n",
    "from qiskit import *\n",
    "from qiskit.providers.jobstatus import JOB_FINAL_STATES, JobStatus\n",
    "\n",
    "def start_or_retrieve_job(filename, backend, circuit=None, options=None):\n",
    "    \"\"\"function that\n",
    "       1) retrieves the job from the backend if saved to file,\n",
    "       2) or executes a job on a backend and saves it to file\n",
    "    Parameters\n",
    "    ----------\n",
    "    filename : string\n",
    "        The filename to write/read from. The extension \".job\" is\n",
    "        automatically appended to the string.\n",
    "    backend : qiskit.providers.ibmq.ibmqbackend.IBMQBackend\n",
    "        The backend where the job has been/is to be executed.\n",
    "    circuit : qiskit.circuit.quantumcircuit.QuantumCircuit, optional\n",
    "        The circuit that is to be executed.\n",
    "    options: dict, optional\n",
    "        The following is a list of all options and their default value\n",
    "        options={'shots': 1024, 'forcererun': False, 'useapitoken': False, 'directory': 'jobs'}\n",
    "        the directory is created if it does not exist\n",
    "    Returns\n",
    "    -------\n",
    "    job : qiskit.providers.ibmq.job.ibmqjob.IBMQJob,\n",
    "          qiskit.providers.aer.aerjob.AerJob\n",
    "        \n",
    "    \"\"\"\n",
    "    ### options parsing\n",
    "    if options == None:\n",
    "        options={}\n",
    "    shots = options.get('shots', 1024)\n",
    "    forcererun = options.get('forcererun', False)\n",
    "    useapitoken = options.get('useapitoken', False)\n",
    "    directory = options.get('directory', 'jobs')\n",
    "\n",
    "    filename = filename+'.job'\n",
    "    if not os.path.exists(directory):\n",
    "        os.makedirs(directory)\n",
    "\n",
    "    if not(forcererun) and os.path.isfile(directory+'/'+filename):\n",
    "        #read job id from file and retrieve the job\n",
    "        with open(directory+'/'+filename, 'r') as f:\n",
    "            apitoken = f.readline().rstrip()\n",
    "            backendname = f.readline().rstrip()\n",
    "            job_id = f.readline().rstrip()\n",
    "        if useapitoken:\n",
    "            IBMQ.save_account(apitoken, overwrite=True)\n",
    "            IBMQ.load_account()\n",
    "            provider = IBMQ.get_provider(hub='ibm-q')\n",
    "            backend_tmp = provider.get_backend(backendname)\n",
    "            if backend.name() != backend_tmp.name():\n",
    "                raise Exception(\"The backend of the job was \"+backend_tmp.name()+\", but you requested \"+backend.name())\n",
    "            job = backend_tmp.retrieve_job(job_id)\n",
    "        else:\n",
    "            job = backend.retrieve_job(job_id)\n",
    "    else:\n",
    "        # otherwise start the job and write the id to file\n",
    "        hasnotrun = True\n",
    "        while hasnotrun:\n",
    "            error = False\n",
    "            try:\n",
    "                job = execute(circuit, backend, shots=int(shots))\n",
    "            except Exception as e:\n",
    "                error = True\n",
    "                sec  = 60\n",
    "                if \"Error code: 3458\" in str(e):\n",
    "                    print(filename +' No credits available, retry in '+str(sec)+' seconds'+', time='+str(datetime.datetime.now()), end='\\r')\n",
    "                else:\n",
    "                    print('{j} Error! Code: {c}, Message: {m}, Time {t}'.format(j=str(filename), c = type(e).__name__, m = str(e), t=str(datetime.datetime.now())), \", retry in \",str(sec),' seconds', end='\\r')\n",
    "                time.sleep(sec)\n",
    "            if not(error):\n",
    "                hasnotrun = False\n",
    "        job_id = job.job_id()\n",
    "        apitoken = IBMQ.active_account()['token']\n",
    "        backendname = backend.name()\n",
    "        if job_id != '':\n",
    "            file = open(directory+'/'+filename,'w')\n",
    "            file.write(apitoken+'\\n')\n",
    "            file.write(backendname+'\\n')\n",
    "            file.write(job_id)\n",
    "            file.close()\n",
    "    return job\n",
    "\n",
    "def write_results(filename, job, options=None):\n",
    "    \"\"\"function that writes the results of a job to file\n",
    "    Parameters\n",
    "    ----------\n",
    "    filename : string\n",
    "        The filename to write to. The extension \".result\" is\n",
    "        automatically appended to the string.\n",
    "    job : qiskit.providers.ibmq.job.ibmqjob.IBMQJob,\n",
    "          qiskit.providers.aer.aerjob.AerJob\n",
    "        The job to get the results from\n",
    "    options: dict, optional\n",
    "        The following is a list of all options and their default value\n",
    "        options={'overwrite': False, 'directory': 'results'}\n",
    "    Returns\n",
    "    -------\n",
    "    success : bool\n",
    "        set to True if the results from the job are written to file\n",
    "        it is set to False, e.g., if the job has not yet finished successfully\n",
    "    \"\"\"\n",
    "    ### options parsing\n",
    "    if options == None:\n",
    "        options={}\n",
    "    overwrite = options.get('overwrite', False)\n",
    "    directory = options.get('directory', 'results')\n",
    "\n",
    "    filename=filename+'.result'\n",
    "    if not os.path.exists(directory):\n",
    "        os.makedirs(directory)\n",
    "\n",
    "    success = False\n",
    "    fileexists = os.path.isfile(directory+'/'+filename)\n",
    "    if (fileexists and overwrite) or not(fileexists):\n",
    "        jobstatus = job.status()\n",
    "        if jobstatus == JobStatus.DONE:\n",
    "            res=job.result().results\n",
    "            tmpfile = open(directory+'/'+filename,'wb')\n",
    "            pickle.dump(res,tmpfile)\n",
    "            tmpfile.close()\n",
    "            success = True\n",
    "    return success\n",
    "\n",
    "def read_results(filename, options=None):\n",
    "    \"\"\"function that reads results from file\n",
    "    Parameters\n",
    "    ----------\n",
    "    filename : string\n",
    "        The filename to read from. The extension \".result\" is\n",
    "        automatically appended to the string.\n",
    "    options: dict, optional\n",
    "        The following is a list of all options and their default value\n",
    "        options={'directory': 'results'}\n",
    "    Returns\n",
    "    -------\n",
    "    results : Object\n",
    "        the form is dictated by job.result().results\n",
    "        can be None, if the file does not exist\n",
    "    success : bool\n",
    "        set to True if the results \n",
    "    \"\"\"\n",
    "    ### options parsing\n",
    "    if options == None:\n",
    "        options={}\n",
    "    directory = options.get('directory', 'results')\n",
    "\n",
    "    filename=filename+'.result'\n",
    "\n",
    "    results = None\n",
    "    if os.path.isfile(directory+'/'+filename):\n",
    "        tmpfile = open(directory+'/'+filename,'rb')\n",
    "        results=pickle.load(tmpfile)\n",
    "        tmpfile.close()\n",
    "    return results\n",
    "\n",
    "def get_id_error_rate(backend):\n",
    "    errorrate=[]\n",
    "    gates=backend.properties().gates\n",
    "    for i in range(0,len(gates)):\n",
    "        if getattr(gates[i],'gate') == 'id':\n",
    "            gerror = getattr(getattr(gates[i],'parameters')[0], 'value')\n",
    "            errorrate.append(gerror)\n",
    "    return errorrate\n",
    "\n",
    "def get_U3_error_rate(backend):\n",
    "    errorrate=[]\n",
    "    gates=backend.properties().gates\n",
    "    for i in range(0,len(gates)):\n",
    "        if getattr(gates[i],'gate') == 'u3':\n",
    "            gerror = getattr(getattr(gates[i],'parameters')[0], 'value')\n",
    "            errorrate.append(gerror)\n",
    "    return errorrate\n",
    "\n",
    "def get_T1(backend):\n",
    "    val=[]\n",
    "    unit=[]\n",
    "    gates=backend.properties().gates\n",
    "    for i in range(backend.configuration().n_qubits):\n",
    "        qubit=backend.properties().qubits[i][0]\n",
    "        assert qubit.name == 'T1'\n",
    "        val.append(qubit.value)\n",
    "        unit.append(qubit.unit)\n",
    "    return val, unit\n",
    "\n",
    "def get_T2(backend):\n",
    "    val=[]\n",
    "    unit=[]\n",
    "    gates=backend.properties().gates\n",
    "    for i in range(backend.configuration().n_qubits):\n",
    "        qubit=backend.properties().qubits[i][1]\n",
    "        assert qubit.name == 'T2'\n",
    "        val.append(qubit.value)\n",
    "        unit.append(qubit.unit)\n",
    "    return val, unit\n",
    "\n",
    "def get_readouterrors(backend):\n",
    "    val=[]\n",
    "    gates=backend.properties().gates\n",
    "    for i in range(backend.configuration().n_qubits):\n",
    "        qubit=backend.properties().qubits[i][3]\n",
    "        assert qubit.name == 'readout_error'\n",
    "        val.append(qubit.value)\n",
    "    return val\n",
    "\n",
    "def get_prob_meas0_prep1(backend):\n",
    "    val=[]\n",
    "    gates=backend.properties().gates\n",
    "    for i in range(backend.configuration().n_qubits):\n",
    "        qubit=backend.properties().qubits[i][4]\n",
    "        assert qubit.name == 'prob_meas0_prep1'\n",
    "        val.append(qubit.value)\n",
    "    return val\n",
    "\n",
    "def get_prob_meas1_prep0(backend):\n",
    "    val=[]\n",
    "    gates=backend.properties().gates\n",
    "    for i in range(backend.configuration().n_qubits):\n",
    "        qubit=backend.properties().qubits[i][5]\n",
    "        assert qubit.name == 'prob_meas1_prep0'\n",
    "        val.append(qubit.value)\n",
    "    return val\n",
    "\n",
    "def get_cx_error_map(backend):\n",
    "    \"\"\"\n",
    "    function that returns a 2d array containing CX error rates.\n",
    "    \"\"\"\n",
    "    num_qubits=backend.configuration().n_qubits\n",
    "    two_qubit_error_map = np.zeros((num_qubits,num_qubits))\n",
    "    backendproperties=backend.properties()\n",
    "    gates=backendproperties.gates\n",
    "    for i in range(0,len(gates)):\n",
    "        if getattr(gates[i],'gate') == 'cx':\n",
    "            cxname = getattr(gates[i],'name')\n",
    "            error = getattr(getattr(gates[i],'parameters')[0], 'value')\n",
    "            #print(cxname, error)\n",
    "            for p in range(num_qubits):\n",
    "                for q in range(num_qubits):\n",
    "                    if p==q:\n",
    "                        continue\n",
    "                    if cxname == 'cx'+str(p)+'_'+str(q):\n",
    "                        two_qubit_error_map[p][q] = error\n",
    "                        break\n",
    "    return two_qubit_error_map\n",
    "\n",
    "def getNumberOfControlledGates(circuit):\n",
    "    \"\"\"function that returns the number of CX, CY, CZ gates.\n",
    "       N.B.: swap gates are counted as 3 CX gates.\n",
    "    \"\"\"\n",
    "    numCx=0\n",
    "    numCy=0\n",
    "    numCz=0\n",
    "    for instr, qargs, cargs in circuit.data:\n",
    "        gate_string = instr.qasm()\n",
    "        if gate_string == \"swap\":\n",
    "            numCx += 3\n",
    "        elif gate_string == \"cx\":\n",
    "            numCx += 1\n",
    "        elif gate_string == \"cy\":\n",
    "            numCy += 1\n",
    "        elif gate_string == \"cz\":\n",
    "            numCz += 1\n",
    "    return numCx, numCy, numCz\n",
    "\n",
    "def convert_to_binarystring(results):\n",
    "    list=[]\n",
    "    for item in range(0,len(results)):\n",
    "        dict={}\n",
    "        co = results[item].data.counts\n",
    "        for i in range(0,2**5):\n",
    "            if(hasattr(co,hex(i))):\n",
    "                binstring=\"{0:b}\".format(i).zfill(5)\n",
    "                counts = getattr(co, hex(i))\n",
    "                dict[binstring] = counts\n",
    "        list.append(dict)\n",
    "    return list"
   ]
  },
  {
   "cell_type": "code",
   "execution_count": 7,
   "metadata": {},
   "outputs": [],
   "source": [
    "from qiskit import *\n",
    "import numpy as np\n",
    "import pylab as pl\n",
    "from qiskit.providers.jobstatus import JOB_FINAL_STATES, JobStatus"
   ]
  },
  {
   "cell_type": "markdown",
   "metadata": {},
   "source": [
    "Now we define a circuit"
   ]
  },
  {
   "cell_type": "code",
   "execution_count": 8,
   "metadata": {},
   "outputs": [
    {
     "data": {
      "image/png": "[encoded data removed]",
      "text/plain": [
       "<Figure size 1141.39x385.28 with 1 Axes>"
      ]
     },
     "execution_count": 8,
     "metadata": {},
     "output_type": "execute_result"
    }
   ],
   "source": [
    "def get_maxs_poker_circuit(usebarrier=False, measure=True, applynotpos=-1):\n",
    "    circ = \"OPENQASM 2.0;\\ninclude \\\"qelib1.inc\\\"; \\\n",
    "    qreg q[5];\\\n",
    "    creg c[5];\"\n",
    "    if applynotpos>-1 and applynotpos<5:\n",
    "        circ = circ + \"x q[\"+str(applynotpos)+\"];\"\n",
    "    circ = circ + \"x q[0];\\\n",
    "    x q[1];\\\n",
    "    h q[3];\\\n",
    "    z q[3];\\\n",
    "    h q[4];\\\n",
    "    z q[4];\\\n",
    "    cx q[0],q[2];\\\n",
    "    cx q[1],q[2];\\\n",
    "    cx q[4],q[1];\\\n",
    "    cx q[0],q[4];\\\n",
    "    cx q[2],q[4];\"\n",
    "    if usebarrier:\n",
    "        circ = circ + \"barrier q[0],q[1],q[2],q[3],q[4]; \"\n",
    "    circ = circ + \"x q[2];\\\n",
    "    z q[3];\\\n",
    "    h q[3];\\\n",
    "    cx q[2],q[3];\"\n",
    "    if usebarrier:\n",
    "        circ = circ + \"barrier q[0],q[1],q[2],q[3],q[4]; \"\n",
    "    if measure:\n",
    "        circ = circ + \"measure q[0] -> c[0]; \\\n",
    "        measure q[1] -> c[1]; \\\n",
    "        measure q[2] -> c[2]; \\\n",
    "        measure q[3] -> c[3]; \\\n",
    "        measure q[4] -> c[4]; \"\n",
    "    qc = QuantumCircuit.from_qasm_str(circ)\n",
    "    return qc\n",
    "\n",
    "get_maxs_poker_circuit(True).draw(output='mpl')"
   ]
  },
  {
   "cell_type": "code",
   "execution_count": 9,
   "metadata": {},
   "outputs": [],
   "source": [
    "circ = get_maxs_poker_circuit(True)"
   ]
  },
  {
   "cell_type": "markdown",
   "metadata": {},
   "source": [
    "### Running the scaled circuits on IBMQ-Yorktown"
   ]
  },
  {
   "cell_type": "code",
   "execution_count": 10,
   "metadata": {},
   "outputs": [],
   "source": [
    "#load IBMQ account\n",
    "#IBMQ.save_account('yourAPItoken')\n",
    "IBMQ.load_account()\n",
    "provider = IBMQ.get_provider(hub='ibm-q')\n",
    "backend = provider.get_backend('ibmqx2')"
   ]
  },
  {
   "cell_type": "code",
   "execution_count": 14,
   "metadata": {},
   "outputs": [],
   "source": [
    "\n",
    "two_error_map =  get_cx_error_map(backend)\n"
   ]
  },
  {
   "cell_type": "code",
   "execution_count": 25,
   "metadata": {},
   "outputs": [],
   "source": [
    "\n",
    "circuits = []\n",
    "for r in (1, 1.5, 2, 2.5 ,3): \n",
    "    circy = create_Paulitwirled_and_noiseamplified_circuit(circ,r,two_error_map,paulitwirling=True,controlledgatename='cx')\n",
    "    circuits.append(circy)"
   ]
  },
  {
   "cell_type": "code",
   "execution_count": 26,
   "metadata": {},
   "outputs": [
    {
     "name": "stdout",
     "output_type": "stream",
     "text": [
      "Job Status: job has successfully run\n",
      "Job Status: job has successfully run\n",
      "Job Status: job has successfully run\n",
      "Job Status: job has successfully run\n",
      "Job Status: job has successfully run\n"
     ]
    }
   ],
   "source": [
    "from qiskit.tools.monitor import job_monitor\n",
    "results = []\n",
    "for circ in circuits:\n",
    "    job = execute( circ, backend, shots = 1024)\n",
    "    job_monitor(job)\n",
    "    result = job.result()\n",
    "    \n",
    "    results.append(result)"
   ]
  },
  {
   "cell_type": "code",
   "execution_count": 27,
   "metadata": {},
   "outputs": [
    {
     "data": {
      "image/png": "[encoded data removed]",
      "text/plain": [
       "<Figure size 504x360 with 1 Axes>"
      ]
     },
     "execution_count": 27,
     "metadata": {},
     "output_type": "execute_result"
    }
   ],
   "source": [
    "from qiskit.visualization import plot_histogram\n",
    "plot_histogram([results[0].get_counts(), results[1].get_counts(), results[2].get_counts()], legend=['r=1', 'r=2', 'r=4'])"
   ]
  },
  {
   "cell_type": "code",
   "execution_count": 28,
   "metadata": {},
   "outputs": [
    {
     "data": {
      "text/plain": [
       "{'10111': 6,\n",
       " '10011': 25,\n",
       " '11111': 34,\n",
       " '00110': 13,\n",
       " '10100': 14,\n",
       " '01001': 24,\n",
       " '11011': 27,\n",
       " '01011': 15,\n",
       " '11101': 140,\n",
       " '10000': 7,\n",
       " '01000': 7,\n",
       " '00001': 20,\n",
       " '11000': 6,\n",
       " '01100': 18,\n",
       " '11110': 7,\n",
       " '10010': 9,\n",
       " '00101': 60,\n",
       " '00000': 6,\n",
       " '01110': 14,\n",
       " '10110': 7,\n",
       " '00011': 15,\n",
       " '10001': 18,\n",
       " '01101': 87,\n",
       " '00100': 10,\n",
       " '11100': 26,\n",
       " '01111': 170,\n",
       " '11010': 13,\n",
       " '10101': 117,\n",
       " '00111': 91,\n",
       " '11001': 17,\n",
       " '01010': 1}"
      ]
     },
     "execution_count": 28,
     "metadata": {},
     "output_type": "execute_result"
    }
   ],
   "source": [
    "results[1].get_counts()"
   ]
  },
  {
   "cell_type": "markdown",
   "metadata": {},
   "source": [
    "### Expectation Value and Extrapolation\n",
    "First we will define some observable say ZZZZZ"
   ]
  },
  {
   "cell_type": "code",
   "execution_count": 29,
   "metadata": {},
   "outputs": [
    {
     "name": "stdout",
     "output_type": "stream",
     "text": [
      "[[ 1.+0.j  0.+0.j  0.+0.j ...  0.+0.j  0.+0.j  0.+0.j]\n",
      " [ 0.+0.j -1.+0.j  0.+0.j ... -0.+0.j  0.+0.j -0.+0.j]\n",
      " [ 0.+0.j  0.+0.j -1.+0.j ...  0.+0.j -0.+0.j -0.+0.j]\n",
      " ...\n",
      " [ 0.+0.j -0.+0.j  0.+0.j ...  1.-0.j  0.+0.j -0.+0.j]\n",
      " [ 0.+0.j  0.+0.j -0.+0.j ...  0.+0.j  1.+0.j  0.+0.j]\n",
      " [ 0.+0.j -0.+0.j -0.+0.j ... -0.+0.j  0.+0.j -1.+0.j]]\n"
     ]
    }
   ],
   "source": [
    "import numpy as np\n",
    "sigmaZ = np.array([[1, 0], [0, -1]], dtype=np.complex_)\n",
    "sigma2Z = np.kron(sigmaZ, sigmaZ)\n",
    "sigma4Z = np.kron(sigma2Z, sigma2Z)\n",
    "sigma5Z = np.kron(sigma4Z, sigmaZ)\n",
    "print(sigma5Z)"
   ]
  },
  {
   "cell_type": "code",
   "execution_count": 30,
   "metadata": {},
   "outputs": [
    {
     "data": {
      "text/plain": [
       "array([ 1.+0.j, -1.+0.j, -1.+0.j,  1.-0.j, -1.+0.j,  1.-0.j,  1.+0.j,\n",
       "       -1.+0.j, -1.+0.j,  1.-0.j,  1.+0.j, -1.+0.j,  1.+0.j, -1.+0.j,\n",
       "       -1.+0.j,  1.-0.j, -1.+0.j,  1.-0.j,  1.+0.j, -1.+0.j,  1.+0.j,\n",
       "       -1.+0.j, -1.+0.j,  1.-0.j,  1.+0.j, -1.+0.j, -1.+0.j,  1.-0.j,\n",
       "       -1.+0.j,  1.-0.j,  1.+0.j, -1.+0.j])"
      ]
     },
     "execution_count": 30,
     "metadata": {},
     "output_type": "execute_result"
    }
   ],
   "source": [
    "from scipy.linalg import eigvals\n",
    "eig = eigvals(sigma5Z)\n",
    "eig"
   ]
  },
  {
   "cell_type": "markdown",
   "metadata": {},
   "source": [
    "Here we define sone methods to aid in calculating expectation value"
   ]
  },
  {
   "cell_type": "code",
   "execution_count": 31,
   "metadata": {},
   "outputs": [],
   "source": [
    "def binaryToDecimal(binary): \n",
    "      \n",
    "    binary1 = binary \n",
    "    decimal, i, n = 0, 0, 0\n",
    "    while(binary != 0): \n",
    "        dec = binary % 10\n",
    "        decimal = decimal + dec * pow(2, i) \n",
    "        binary = binary//10\n",
    "        i += 1\n",
    "    return decimal"
   ]
  },
  {
   "cell_type": "code",
   "execution_count": 32,
   "metadata": {},
   "outputs": [
    {
     "name": "stdout",
     "output_type": "stream",
     "text": [
      "0\n",
      "1\n",
      "2\n",
      "3\n",
      "4\n"
     ]
    },
    {
     "name": "stderr",
     "output_type": "stream",
     "text": [
      "C:\\Users\\Eesh Gupta\\anacondaaa\\lib\\site-packages\\ipykernel_launcher.py:9: ComplexWarning: Casting complex values to real discards the imaginary part\n",
      "  if __name__ == '__main__':\n"
     ]
    }
   ],
   "source": [
    "e_vals = []\n",
    "for i in range(5):\n",
    "    print(i)\n",
    "    e_val = 0\n",
    "    keys = results[i].get_counts().keys()\n",
    "    for key in keys:\n",
    "        key_val = int(key)\n",
    "        key_dval = int(binaryToDecimal(key_val))\n",
    "        e_val += (int(eig[key_dval]))*(int(results[i].get_counts()[key])/1024)\n",
    "    e_vals.append(e_val)\n",
    "    \n",
    "\n",
    "    \n",
    "    "
   ]
  },
  {
   "cell_type": "code",
   "execution_count": 33,
   "metadata": {},
   "outputs": [
    {
     "data": {
      "text/plain": [
       "[0.283203125, 0.04296875, 0.26171875, 0.369140625, -0.51953125]"
      ]
     },
     "execution_count": 33,
     "metadata": {},
     "output_type": "execute_result"
    }
   ],
   "source": [
    "e_vals"
   ]
  },
  {
   "cell_type": "markdown",
   "metadata": {},
   "source": [
    "### Plotting the Results\n",
    "We calculate the expectation value on ideal device and then plot the expectation value at different scaling levels"
   ]
  },
  {
   "cell_type": "code",
   "execution_count": 34,
   "metadata": {},
   "outputs": [
    {
     "name": "stderr",
     "output_type": "stream",
     "text": [
      "C:\\Users\\Eesh Gupta\\anacondaaa\\lib\\site-packages\\ipykernel_launcher.py:11: ComplexWarning: Casting complex values to real discards the imaginary part\n",
      "  # This is added back by InteractiveShellApp.init_path()\n"
     ]
    },
    {
     "data": {
      "image/png": "[encoded data removed]",
      "text/plain": [
       "<Figure size 432x288 with 1 Axes>"
      ]
     },
     "metadata": {
      "needs_background": "light"
     },
     "output_type": "display_data"
    }
   ],
   "source": [
    "#ideal value \n",
    "from qiskit import Aer\n",
    "backend_sim = Aer.get_backend('qasm_simulator')\n",
    "job = execute(get_maxs_poker_circuit(True), backend_sim, shots=1024)\n",
    "job_result = job.result()\n",
    "e_val = 0\n",
    "keys = job_result.get_counts().keys()\n",
    "for key in keys:\n",
    "    key_val = int(key)\n",
    "    key_dval = int(binaryToDecimal(key_val))\n",
    "    e_val += (int(eig[key_dval]))*(int(job_result.get_counts()[key])/1024)\n",
    "\n",
    "\n",
    "\n",
    "\n",
    "\n",
    "import matplotlib.pyplot as plt\n",
    "r = [1,1.5,2,2.5,3]\n",
    "plt.plot(r, e_vals,'ro')\n",
    "plt.plot(0,e_val,'bo')\n",
    "plt.axis([-0.5, 6, -1.1, 0.4])\n",
    "plt.xlabel('Scaling Factor of Noise r')\n",
    "plt.ylabel('Expectation Value of ZZZZZ')\n",
    "plt.show()"
   ]
  },
  {
   "cell_type": "markdown",
   "metadata": {},
   "source": [
    "# Measurement Error Mitigation\n",
    "Now we will perform MEM. To do so, first we \"calibrate\" our circuits i.e. check the errors in preparing and measuring all 32 states"
   ]
  },
  {
   "cell_type": "code",
   "execution_count": 35,
   "metadata": {},
   "outputs": [
    {
     "data": {
      "image/png": "[encoded data removed]",
      "text/plain": [
       "<Figure size 599.592x385.28 with 1 Axes>"
      ]
     },
     "execution_count": 35,
     "metadata": {},
     "output_type": "execute_result"
    }
   ],
   "source": [
    "from qiskit.ignis.mitigation.measurement import (complete_meas_cal, CompleteMeasFitter)\n",
    "\n",
    "cal_circuits, state_labels = complete_meas_cal(qr=circ.qregs[0], \n",
    "                                               circlabel='measurement_calibration')\n",
    "#looking at a sample of calibrated circuits \n",
    "cal_circuits[7].draw(output='mpl')\n"
   ]
  },
  {
   "cell_type": "code",
   "execution_count": 36,
   "metadata": {},
   "outputs": [
    {
     "data": {
      "text/plain": [
       "32"
      ]
     },
     "execution_count": 36,
     "metadata": {},
     "output_type": "execute_result"
    }
   ],
   "source": [
    "#sanity check...should have 32 circuits because 32 possible states \n",
    "len(cal_circuits)"
   ]
  },
  {
   "cell_type": "code",
   "execution_count": 38,
   "metadata": {},
   "outputs": [
    {
     "name": "stdout",
     "output_type": "stream",
     "text": [
      "Job Status: job has successfully run\n"
     ]
    }
   ],
   "source": [
    "cal_job = execute(cal_circuits,\n",
    "             backend=backend,\n",
    "             shots=8192,\n",
    "             optimization_level=0)\n",
    "#print(cal_job.job_id())\n",
    "job_monitor(cal_job)\n",
    "cal_results = cal_job.result()"
   ]
  },
  {
   "cell_type": "code",
   "execution_count": 39,
   "metadata": {},
   "outputs": [
    {
     "data": {
      "image/png": "[encoded data removed]",
      "text/plain": [
       "<Figure size 432x288 with 2 Axes>"
      ]
     },
     "metadata": {
      "needs_background": "light"
     },
     "output_type": "display_data"
    }
   ],
   "source": [
    "# now plotting our results on a 32x32 grid\n",
    "meas_fitter = CompleteMeasFitter(cal_results, state_labels)\n",
    "meas_fitter.plot_calibration()"
   ]
  },
  {
   "cell_type": "code",
   "execution_count": 40,
   "metadata": {},
   "outputs": [],
   "source": [
    "meas_filter = meas_fitter.filter"
   ]
  },
  {
   "cell_type": "markdown",
   "metadata": {},
   "source": [
    "# Mitigating Measurement errors in the previous run\n",
    "Using our calibrations to make sure the counts we got earlier are mitigated"
   ]
  },
  {
   "cell_type": "code",
   "execution_count": 41,
   "metadata": {},
   "outputs": [],
   "source": [
    "mitigated_results =[]\n",
    "for result in results:\n",
    "    mitigated_result = meas_filter.apply(result)\n",
    "    mitigated_results.append(mitigated_result)"
   ]
  },
  {
   "cell_type": "code",
   "execution_count": 42,
   "metadata": {},
   "outputs": [
    {
     "name": "stdout",
     "output_type": "stream",
     "text": [
      "0\n",
      "1\n",
      "2\n",
      "3\n",
      "4\n"
     ]
    },
    {
     "name": "stderr",
     "output_type": "stream",
     "text": [
      "C:\\Users\\Eesh Gupta\\anacondaaa\\lib\\site-packages\\ipykernel_launcher.py:10: ComplexWarning: Casting complex values to real discards the imaginary part\n",
      "  # Remove the CWD from sys.path while we load stuff.\n"
     ]
    }
   ],
   "source": [
    "#calculate expectation values of mitigated results\n",
    "mitigated_e_vals = []\n",
    "for i in range(5):\n",
    "    print(i)\n",
    "    e_val = 0\n",
    "    keys = mitigated_results[i].get_counts().keys()\n",
    "    for key in keys:\n",
    "        key_val = int(key)\n",
    "        key_dval = int(binaryToDecimal(key_val))\n",
    "        e_val += (int(eig[key_dval]))*(int(mitigated_results[i].get_counts()[key])/1024)\n",
    "    mitigated_e_vals.append(e_val)"
   ]
  },
  {
   "cell_type": "code",
   "execution_count": 45,
   "metadata": {},
   "outputs": [
    {
     "data": {
      "image/png": "[encoded data removed]",
      "text/plain": [
       "<Figure size 432x288 with 1 Axes>"
      ]
     },
     "metadata": {
      "needs_background": "light"
     },
     "output_type": "display_data"
    }
   ],
   "source": [
    "import matplotlib.pyplot as plt\n",
    "r = [1,1.5,2,2.5,3]\n",
    "plt.plot(r, e_vals,'ro', label = 'noisy')\n",
    "plt.plot(r, mitigated_e_vals,'go', label= 'mitigated')\n",
    "plt.plot(0,e_val,'bo')\n",
    "plt.axis([-0.5, 4, -1.1, 1])\n",
    "plt.xlabel('Scaling Factor of Noise r')\n",
    "plt.ylabel('Expectation Value of ZZZZZ')\n",
    "plt.show()"
   ]
  },
  {
   "cell_type": "markdown",
   "metadata": {},
   "source": [
    "The green dots correspond to mitigated results and red corresponds to unmitigated results"
   ]
  },
  {
   "cell_type": "markdown",
   "metadata": {},
   "source": [
    "# Analysis\n",
    "\n",
    "We don't get a montonically increasing/decreasing graph and the extrapolated result will be nowhere close to the blue point. It is not clear whether noise scales linearly with scaling factor."
   ]
  },
  {
   "cell_type": "code",
   "execution_count": null,
   "metadata": {},
   "outputs": [],
   "source": []
  }
 ],
 "metadata": {
  "kernelspec": {
   "display_name": "Python 3",
   "language": "python",
   "name": "python3"
  },
  "language_info": {
   "codemirror_mode": {
    "name": "ipython",
    "version": 3
   },
   "file_extension": ".py",
   "mimetype": "text/x-python",
   "name": "python",
   "nbconvert_exporter": "python",
   "pygments_lexer": "ipython3",
   "version": "3.7.6"
  }
 },
 "nbformat": 4,
 "nbformat_minor": 4
}
