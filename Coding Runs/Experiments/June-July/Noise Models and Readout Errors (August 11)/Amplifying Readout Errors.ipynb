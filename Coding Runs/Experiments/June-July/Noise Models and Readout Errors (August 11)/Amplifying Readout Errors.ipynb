{
 "cells": [
  {
   "cell_type": "code",
   "execution_count": 1,
   "metadata": {},
   "outputs": [],
   "source": [
    "import numpy as np\n",
    "from qiskit import execute, QuantumCircuit, QuantumRegister, ClassicalRegister\n",
    "from qiskit.quantum_info import Kraus, SuperOp\n",
    "from qiskit.providers.aer import QasmSimulator\n",
    "from qiskit.tools.visualization import plot_histogram\n",
    "\n",
    "# Import from Qiskit Aer noise module\n",
    "from qiskit.providers.aer.noise import NoiseModel\n",
    "from qiskit.providers.aer.noise import QuantumError, ReadoutError\n",
    "from qiskit.providers.aer.noise import pauli_error\n",
    "from qiskit.providers.aer.noise import depolarizing_error\n",
    "from qiskit.providers.aer.noise import thermal_relaxation_error"
   ]
  },
  {
   "cell_type": "code",
   "execution_count": 2,
   "metadata": {},
   "outputs": [],
   "source": [
    "from qiskit import *\n",
    "\n",
    "provider = IBMQ.load_account()\n",
    "backend = provider.get_backend('ibmq_london')\n",
    "backend_prop = backend.properties()\n",
    "noise_model = NoiseModel.from_backend(backend)\n"
   ]
  },
  {
   "cell_type": "markdown",
   "metadata": {},
   "source": [
    "# Setting up Readout Errors \n",
    "Error rates as per the London Noise Model"
   ]
  },
  {
   "cell_type": "code",
   "execution_count": 3,
   "metadata": {},
   "outputs": [
    {
     "data": {
      "text/plain": [
       "NoiseModel:\n",
       "  Basis gates: ['cx', 'id', 'u2', 'u3']\n",
       "  Instructions with noise: ['id', 'measure', 'cx', 'u2', 'u3']\n",
       "  Qubits with noise: [0, 1, 2, 3, 4]\n",
       "  Specific qubit errors: [('id', [0]), ('id', [1]), ('id', [2]), ('id', [3]), ('id', [4]), ('u2', [0]), ('u2', [1]), ('u2', [2]), ('u2', [3]), ('u2', [4]), ('u3', [0]), ('u3', [1]), ('u3', [2]), ('u3', [3]), ('u3', [4]), ('cx', [0, 1]), ('cx', [1, 0]), ('cx', [1, 2]), ('cx', [1, 3]), ('cx', [2, 1]), ('cx', [3, 1]), ('cx', [3, 4]), ('cx', [4, 3]), ('measure', [0]), ('measure', [1]), ('measure', [2]), ('measure', [3]), ('measure', [4])]"
      ]
     },
     "execution_count": 3,
     "metadata": {},
     "output_type": "execute_result"
    }
   ],
   "source": [
    "noise_model\n"
   ]
  },
  {
   "cell_type": "code",
   "execution_count": 5,
   "metadata": {},
   "outputs": [
    {
     "data": {
      "text/plain": [
       "[[Nduv('2020-08-13T07:10:16Z', T1, µs, 70.18952603292055),\n",
       "  Nduv('2020-08-13T07:11:16Z', T2, µs, 107.58475662976616),\n",
       "  Nduv('2020-08-13T07:29:38Z', frequency, GHz, 5.254007813204981),\n",
       "  Nduv('2020-08-13T07:09:20Z', readout_error, , 0.043333333333333335),\n",
       "  Nduv('2020-08-13T07:09:20Z', prob_meas0_prep1, , 0.07333333333333336),\n",
       "  Nduv('2020-08-13T07:09:20Z', prob_meas1_prep0, , 0.013333333333333334)],\n",
       " [Nduv('2020-08-13T07:10:16Z', T1, µs, 78.9902689625577),\n",
       "  Nduv('2020-08-13T07:12:02Z', T2, µs, 96.44389870093306),\n",
       "  Nduv('2020-08-13T07:29:38Z', frequency, GHz, 5.0488505131274035),\n",
       "  Nduv('2020-08-13T07:09:20Z', readout_error, , 0.04499999999999993),\n",
       "  Nduv('2020-08-13T07:09:20Z', prob_meas0_prep1, , 0.06999999999999995),\n",
       "  Nduv('2020-08-13T07:09:20Z', prob_meas1_prep0, , 0.02)],\n",
       " [Nduv('2020-08-08T13:40:28Z', T1, µs, 69.5960155381861),\n",
       "  Nduv('2020-08-09T07:06:42Z', T2, µs, 26.702849056999906),\n",
       "  Nduv('2020-08-13T07:29:38Z', frequency, GHz, 5.230319697261795),\n",
       "  Nduv('2020-08-13T07:09:20Z', readout_error, , 0.15166666666666662),\n",
       "  Nduv('2020-08-13T07:09:20Z', prob_meas0_prep1, , 0.11333333333333329),\n",
       "  Nduv('2020-08-13T07:09:20Z', prob_meas1_prep0, , 0.19)],\n",
       " [Nduv('2020-08-13T07:10:16Z', T1, µs, 56.44924718276585),\n",
       "  Nduv('2020-08-13T07:11:16Z', T2, µs, 74.54395749406483),\n",
       "  Nduv('2020-08-13T07:29:38Z', frequency, GHz, 5.201324541052339),\n",
       "  Nduv('2020-08-13T07:09:20Z', readout_error, , 0.030000000000000027),\n",
       "  Nduv('2020-08-13T07:09:20Z', prob_meas0_prep1, , 0.04666666666666667),\n",
       "  Nduv('2020-08-13T07:09:20Z', prob_meas1_prep0, , 0.013333333333333308)],\n",
       " [Nduv('2020-08-13T07:10:16Z', T1, µs, 60.526285928069484),\n",
       "  Nduv('2020-08-13T07:12:02Z', T2, µs, 19.682689995588056),\n",
       "  Nduv('2020-08-13T07:29:38Z', frequency, GHz, 5.065924554487627),\n",
       "  Nduv('2020-08-13T07:09:20Z', readout_error, , 0.043333333333333335),\n",
       "  Nduv('2020-08-13T07:09:20Z', prob_meas0_prep1, , 0.08666666666666667),\n",
       "  Nduv('2020-08-13T07:09:20Z', prob_meas1_prep0, , 0)]]"
      ]
     },
     "execution_count": 5,
     "metadata": {},
     "output_type": "execute_result"
    }
   ],
   "source": [
    "backend.properties().qubits\n"
   ]
  },
  {
   "cell_type": "code",
   "execution_count": 6,
   "metadata": {},
   "outputs": [
    {
     "data": {
      "text/plain": [
       "qiskit.providers.aer.noise.errors.readout_error.ReadoutError"
      ]
     },
     "execution_count": 6,
     "metadata": {},
     "output_type": "execute_result"
    }
   ],
   "source": [
    "ReadoutError"
   ]
  },
  {
   "cell_type": "code",
   "execution_count": 7,
   "metadata": {},
   "outputs": [
    {
     "data": {
      "text/plain": [
       "[[0.013333333333333334, 0.07333333333333336],\n",
       " [0.02, 0.06999999999999995],\n",
       " [0.19, 0.11333333333333329],\n",
       " [0.013333333333333308, 0.04666666666666667],\n",
       " [0, 0.08666666666666667]]"
      ]
     },
     "execution_count": 7,
     "metadata": {},
     "output_type": "execute_result"
    }
   ],
   "source": [
    "from  qiskit.providers.aer.noise.device.models import basic_device_readout_errors\n",
    "from qiskit.providers.aer.noise.device import readout_error_values\n",
    "readout_error_values(backend_prop)"
   ]
  },
  {
   "cell_type": "code",
   "execution_count": 8,
   "metadata": {},
   "outputs": [],
   "source": [
    "import numpy as np\n",
    "\n",
    "mat_1 = [[1-0.003, 0.036], [0.003, 1-0.036]]\n",
    "mat_2 = [[0.98, 0.05], [0.02, 0.95]]\n"
   ]
  },
  {
   "cell_type": "markdown",
   "metadata": {},
   "source": [
    "Need to tranpose to get in this format \n",
    "\n",
    "probabilities[0] = [P(\"0\"|\"0\"), P(\"1\"|\"0\")]\n",
    "\n",
    "probabilities[1] = [P(\"0\"|\"1\"), P(\"1\"|\"1\")]"
   ]
  },
  {
   "cell_type": "code",
   "execution_count": 9,
   "metadata": {},
   "outputs": [
    {
     "name": "stdout",
     "output_type": "stream",
     "text": [
      "[[0.997 0.003]\n",
      " [0.036 0.964]]\n",
      "[[0.98 0.02]\n",
      " [0.05 0.95]]\n"
     ]
    }
   ],
   "source": [
    "mat = [mat_1, mat_2]\n",
    "mat_new = []\n",
    "\n",
    "for matty in mat:\n",
    "    #transposing them \n",
    "    matty = np.transpose(matty)\n",
    "    print(matty)\n",
    "    \n",
    "    #Making sure the sum of each row is one \n",
    "    for r in range(len(matty)): \n",
    "        #summing up all the elements of the row\n",
    "        summ = 0\n",
    "        for i in matty[r]:\n",
    "            summ+=i\n",
    "\n",
    "        #new row \n",
    "        n_row = []\n",
    "        for i in matty[r]: \n",
    "            n_row.append(i/summ)\n",
    "\n",
    "        #replacing the old row with fixed new row \n",
    "        matty[r] = n_row\n",
    "    mat_new.append(matty)"
   ]
  },
  {
   "cell_type": "code",
   "execution_count": 10,
   "metadata": {},
   "outputs": [
    {
     "data": {
      "text/plain": [
       "array([[0.997, 0.003],\n",
       "       [0.036, 0.964]])"
      ]
     },
     "execution_count": 10,
     "metadata": {},
     "output_type": "execute_result"
    }
   ],
   "source": [
    "mat_new[0]"
   ]
  },
  {
   "cell_type": "code",
   "execution_count": 12,
   "metadata": {},
   "outputs": [
    {
     "data": {
      "text/plain": [
       "array([[ 1.00000000e+00,  3.03176287e-17,  6.06352575e-17],\n",
       "       [ 0.00000000e+00,  1.00000000e+00, -8.36937357e-17],\n",
       "       [ 0.00000000e+00,  8.41207446e-17,  1.00000000e+00]])"
      ]
     },
     "execution_count": 12,
     "metadata": {},
     "output_type": "execute_result"
    }
   ],
   "source": [
    "matrix = [[3,4,5],[1 , 9 , 9], [1, 0.9, 0.8]]\n",
    "inverse = np.linalg.inv(matrix)\n",
    "inverse.dot(matrix)"
   ]
  },
  {
   "cell_type": "code",
   "execution_count": null,
   "metadata": {},
   "outputs": [],
   "source": []
  },
  {
   "cell_type": "code",
   "execution_count": null,
   "metadata": {},
   "outputs": [],
   "source": []
  },
  {
   "cell_type": "code",
   "execution_count": 9,
   "metadata": {},
   "outputs": [
    {
     "data": {
      "text/plain": [
       "array([[0.98, 0.02],\n",
       "       [0.05, 0.95]])"
      ]
     },
     "execution_count": 9,
     "metadata": {},
     "output_type": "execute_result"
    }
   ],
   "source": [
    "mat_new[1]"
   ]
  },
  {
   "cell_type": "code",
   "execution_count": 10,
   "metadata": {},
   "outputs": [],
   "source": [
    "#readout_error = ReadoutError(probabilities)\n",
    "readout_error_1 = ReadoutError(mat_new[0])\n",
    "readout_error_2 = ReadoutError(mat_new[1])"
   ]
  },
  {
   "cell_type": "code",
   "execution_count": 12,
   "metadata": {},
   "outputs": [
    {
     "data": {
      "text/plain": [
       "1"
      ]
     },
     "execution_count": 12,
     "metadata": {},
     "output_type": "execute_result"
    }
   ],
   "source": [
    "readout_error_1.number_of_qubits"
   ]
  },
  {
   "cell_type": "code",
   "execution_count": 13,
   "metadata": {},
   "outputs": [
    {
     "data": {
      "text/plain": [
       "array([[9.7706e-01, 3.5280e-02, 1.9940e-02, 7.2000e-04],\n",
       "       [2.9400e-03, 9.4472e-01, 6.0000e-05, 1.9280e-02],\n",
       "       [4.9850e-02, 1.8000e-03, 9.4715e-01, 3.4200e-02],\n",
       "       [1.5000e-04, 4.8200e-02, 2.8500e-03, 9.1580e-01]])"
      ]
     },
     "execution_count": 13,
     "metadata": {},
     "output_type": "execute_result"
    }
   ],
   "source": [
    "# Creating the probility matrix \n",
    "mat_3 = np.random.random((4,4))\n",
    "\n",
    "for r in range(len(mat_2)): \n",
    "    for c in range(len(mat_2[r])):\n",
    "        most_sig_element = mat_2[c][r]\n",
    "        \n",
    "        for i in range(len(mat_1)): \n",
    "            for j in range(len(mat_1[i])):\n",
    "                least_sig_element = mat_1[i][j]\n",
    "                \n",
    "                mat_3[2*r+i][2*c +j] = most_sig_element*least_sig_element\n",
    "mat_3"
   ]
  },
  {
   "cell_type": "code",
   "execution_count": 14,
   "metadata": {},
   "outputs": [
    {
     "data": {
      "text/plain": [
       "array([[9.48601942e-01, 2.85436893e-03, 4.83980583e-02, 1.45631068e-04],\n",
       "       [3.42524272e-02, 9.17203883e-01, 1.74757282e-03, 4.67961165e-02],\n",
       "       [2.05567010e-02, 6.18556701e-05, 9.76443299e-01, 2.93814433e-03],\n",
       "       [7.42268041e-04, 1.98762887e-02, 3.52577320e-02, 9.44123711e-01]])"
      ]
     },
     "execution_count": 14,
     "metadata": {},
     "output_type": "execute_result"
    }
   ],
   "source": [
    "matty= mat_3\n",
    "# making sure sum of each row in 1 and transposing\n",
    "\n",
    "#transposing them \n",
    "matty = np.transpose(matty)\n",
    "\n",
    "#Making sure the sum of each row is one \n",
    "for r in range(len(matty)): \n",
    "    #summing up all the elements of the row\n",
    "    summ = 0\n",
    "    for i in matty[r]:\n",
    "        summ+=i\n",
    "\n",
    "    #new row \n",
    "    n_row = []\n",
    "    for i in matty[r]: \n",
    "        n_row.append(i/summ)\n",
    "\n",
    "    #replacing the old row with fixed new row \n",
    "    matty[r] = n_row\n",
    "probabilities = matty\n",
    "probabilities"
   ]
  },
  {
   "cell_type": "markdown",
   "metadata": {},
   "source": [
    "# Creating the 18 noise models (9 with Readout errs and 9 w/n)"
   ]
  },
  {
   "cell_type": "code",
   "execution_count": 15,
   "metadata": {},
   "outputs": [],
   "source": [
    "scales = [1,1.5, 2, 2.5, 3, 3.5, 4, 4.5, 5]"
   ]
  },
  {
   "cell_type": "code",
   "execution_count": 16,
   "metadata": {},
   "outputs": [],
   "source": [
    "from qiskit.providers.aer import noise\n",
    "\n",
    "# Error probabilities\n",
    "prob_1 = 0.001  # 1-qubit gate\n",
    "prob_2 = 0.02   # 2-qubit gate\n",
    "\n",
    "noise_models_pure = [] #w/n readout\n",
    "noise_models_impure = [] # w/ readout\n",
    "\n",
    "# First 9 without readout error\n",
    "for i in scales: \n",
    "    # Depolarizing quantum errors\n",
    "    new_prob_1 = i*prob_1\n",
    "    new_prob_2 = i*prob_2\n",
    "    \n",
    "    #creating gate errors\n",
    "    error_1 = noise.depolarizing_error(new_prob_1, 1)\n",
    "    error_2 = noise.depolarizing_error(new_prob_2, 2)\n",
    "\n",
    "    # Add errors to noise model\n",
    "    noise_model = noise.NoiseModel()\n",
    "    noise_model.add_all_qubit_quantum_error(error_1, ['u1', 'u2', 'u3'])\n",
    "    noise_model.add_all_qubit_quantum_error(error_2, ['cx'])\n",
    "    \n",
    "    #creating pure\n",
    "    noise_models_pure.append(noise_model)\n",
    "    \n",
    "# Next 9 with readout error\n",
    "for i in scales: \n",
    "    # Depolarizing quantum errors\n",
    "    new_prob_1 = i*prob_1\n",
    "    new_prob_2 = i*prob_2\n",
    "    \n",
    "    #creating gate errors\n",
    "    error_1 = noise.depolarizing_error(new_prob_1, 1)\n",
    "    error_2 = noise.depolarizing_error(new_prob_2, 2)\n",
    "\n",
    "    # Add errors to noise model\n",
    "    noise_model = noise.NoiseModel()\n",
    "    noise_model.add_all_qubit_quantum_error(error_1, ['u1', 'u2', 'u3'])\n",
    "    noise_model.add_all_qubit_quantum_error(error_2, ['cx'])\n",
    "    \n",
    "    \n",
    "    #now adding readout error \n",
    "    noise_model.add_readout_error(readout_error_1, [0])\n",
    "    noise_model.add_readout_error(readout_error_2, [1])\n",
    "    noise_models_impure.append(noise_model)"
   ]
  },
  {
   "cell_type": "code",
   "execution_count": 17,
   "metadata": {},
   "outputs": [
    {
     "data": {
      "text/plain": [
       "NoiseModel:\n",
       "  Basis gates: ['cx', 'id', 'u1', 'u2', 'u3']\n",
       "  Instructions with noise: ['cx', 'u2', 'measure', 'u1', 'u3']\n",
       "  Qubits with noise: [0, 1]\n",
       "  All-qubits errors: ['u1', 'u2', 'u3', 'cx']\n",
       "  Specific qubit errors: [('measure', [0]), ('measure', [1])]"
      ]
     },
     "execution_count": 17,
     "metadata": {},
     "output_type": "execute_result"
    }
   ],
   "source": [
    "noise_models_impure[0]"
   ]
  },
  {
   "cell_type": "markdown",
   "metadata": {},
   "source": [
    "# Example"
   ]
  },
  {
   "cell_type": "code",
   "execution_count": 18,
   "metadata": {},
   "outputs": [
    {
     "ename": "NameError",
     "evalue": "name 'readout_error' is not defined",
     "output_type": "error",
     "traceback": [
      "\u001b[1;31m---------------------------------------------------------------------------\u001b[0m",
      "\u001b[1;31mNameError\u001b[0m                                 Traceback (most recent call last)",
      "\u001b[1;32m<ipython-input-18-2aa8c4ea2823>\u001b[0m in \u001b[0;36m<module>\u001b[1;34m\u001b[0m\n\u001b[0;32m      1\u001b[0m \u001b[0mnoise_model\u001b[0m \u001b[1;33m=\u001b[0m \u001b[0mnoise\u001b[0m\u001b[1;33m.\u001b[0m\u001b[0mNoiseModel\u001b[0m\u001b[1;33m(\u001b[0m\u001b[1;33m)\u001b[0m\u001b[1;33m\u001b[0m\u001b[1;33m\u001b[0m\u001b[0m\n\u001b[1;32m----> 2\u001b[1;33m \u001b[0mnoise_model\u001b[0m\u001b[1;33m.\u001b[0m\u001b[0madd_readout_error\u001b[0m\u001b[1;33m(\u001b[0m\u001b[0mreadout_error\u001b[0m\u001b[1;33m,\u001b[0m \u001b[1;33m[\u001b[0m\u001b[1;36m0\u001b[0m\u001b[1;33m]\u001b[0m\u001b[1;33m)\u001b[0m\u001b[1;33m\u001b[0m\u001b[1;33m\u001b[0m\u001b[0m\n\u001b[0m\u001b[0;32m      3\u001b[0m \u001b[0mnoise_model\u001b[0m\u001b[1;33m.\u001b[0m\u001b[0madd_readout_error\u001b[0m\u001b[1;33m(\u001b[0m\u001b[0mreadout_error\u001b[0m\u001b[1;33m,\u001b[0m \u001b[1;33m[\u001b[0m\u001b[1;36m1\u001b[0m\u001b[1;33m]\u001b[0m\u001b[1;33m)\u001b[0m\u001b[1;33m\u001b[0m\u001b[1;33m\u001b[0m\u001b[0m\n\u001b[0;32m      4\u001b[0m \u001b[1;33m\u001b[0m\u001b[0m\n",
      "\u001b[1;31mNameError\u001b[0m: name 'readout_error' is not defined"
     ]
    }
   ],
   "source": [
    "noise_model = noise.NoiseModel()\n",
    "noise_model.add_readout_error(readout_error, [0])\n",
    "noise_model.add_readout_error(readout_error, [1])\n",
    "    "
   ]
  },
  {
   "cell_type": "code",
   "execution_count": 19,
   "metadata": {},
   "outputs": [
    {
     "data": {
      "image/png": "[encoded data removed]",
      "text/plain": [
       "<Figure size 719.992x204.68 with 1 Axes>"
      ]
     },
     "execution_count": 19,
     "metadata": {},
     "output_type": "execute_result"
    }
   ],
   "source": [
    "circ = QuantumCircuit(2,2)\n",
    "circ.h(0)\n",
    "circ.barrier(0)\n",
    "circ.h(0)\n",
    "circ.barrier(0)\n",
    "circ.x(0)\n",
    "circ.barrier(0)\n",
    "circ.x(0)\n",
    "\n",
    "circ.h(1)\n",
    "circ.barrier(1)\n",
    "circ.h(1)\n",
    "circ.barrier(1)\n",
    "circ.x(1)\n",
    "circ.barrier(1)\n",
    "circ.x(1)\n",
    "\n",
    "circ.measure(0, 0)\n",
    "circ.measure(1, 1)\n",
    "circ.draw(output = 'mpl')"
   ]
  },
  {
   "cell_type": "code",
   "execution_count": 128,
   "metadata": {},
   "outputs": [
    {
     "data": {
      "image/png": "[encoded data removed]",
      "text/plain": [
       "<Figure size 504x360 with 1 Axes>"
      ]
     },
     "execution_count": 128,
     "metadata": {},
     "output_type": "execute_result"
    }
   ],
   "source": [
    "from qiskit.tools.visualization import plot_histogram\n",
    "\n",
    "job = execute(circ, backend = simulator, shots = 1024)\n",
    "counts = job.result().get_counts()\n",
    "plot_histogram(counts)\n"
   ]
  },
  {
   "cell_type": "code",
   "execution_count": 129,
   "metadata": {},
   "outputs": [
    {
     "data": {
      "image/png": "[encoded data removed]",
      "text/plain": [
       "<Figure size 504x360 with 1 Axes>"
      ]
     },
     "execution_count": 129,
     "metadata": {},
     "output_type": "execute_result"
    }
   ],
   "source": [
    "# machine= provider.get_backend('ibmq_london')\n",
    "# noise_model = NoiseModel.from_backend(machine)\n",
    "\n",
    "job = execute(circ, backend = simulator, noise_model = noise_model, shots = 1024)\n",
    "counts = job.result().get_counts()\n",
    "plot_histogram(counts)"
   ]
  },
  {
   "cell_type": "markdown",
   "metadata": {},
   "source": [
    "## Amplification Functions"
   ]
  },
  {
   "cell_type": "code",
   "execution_count": 130,
   "metadata": {},
   "outputs": [],
   "source": [
    "def one_qubit_readout_error_matrix(qubit_n, scale = 1):\n",
    "    \"\"\"\n",
    "    Input: which qubit on the london device, scale (for noise scaling)\n",
    "    Generates the readout error matrix\n",
    "    \n",
    "    organized as \n",
    "    \n",
    "    P(0|0)  P(0|1)\n",
    "    P(1|0)  P(1|1)\n",
    "    \n",
    "    \"\"\"\n",
    "    if (qubit_n == 0): \n",
    "        errors = [0.013333333333333334, 0.050000000000000044]\n",
    "    elif (qubit_n == 1): \n",
    "        errors = [0.013333333333333334, 0.05666666666666664]\n",
    "    x, y = errors\n",
    "    x = scale*x\n",
    "    y = scale*y\n",
    "    \n",
    "    matrix = [[1-x, y], [x, 1-y]]\n",
    "    \n",
    "    return matrix\n",
    "\n",
    "def column_sum_to_1(matrix): \n",
    "    \"\"\"\n",
    "    Makes sure that columns of a 2x2 matrix sum to 1\n",
    "    \"\"\"\n",
    "    matrix = np.transpose(matrix)\n",
    "    \n",
    "    for r in range(len(matrix)):\n",
    "        summ = 0\n",
    "        for c in range(len(matrix[r])):\n",
    "            summ += matrix[r][c]\n",
    "        for c in range(len(matrix[r])): \n",
    "            matrix[r][c] = (matrix[r][c])/summ\n",
    "            \n",
    "    matrix = np.transpose(matrix)\n",
    "    return matrix\n",
    "        \n",
    "\n",
    "def two_qubit_readout_error_matrix(mat_1, mat_2):\n",
    "    \"\"\"\n",
    "    Input: corresponding readout error matrices of the 2 qubits\n",
    "    Output: their kronecker product\n",
    "    \"\"\"\n",
    "    P = mat_1\n",
    "    Q = mat_2\n",
    "    \n",
    "    matrix = column_sum_to_1(np.kron(P,Q))\n",
    "    return matrix\n",
    "\n",
    "def get_2_qubit_readout_matrix_regular(scale): \n",
    "    \"\"\"\n",
    "    for amplifying readout errors\n",
    "    \"\"\"\n",
    "    \n",
    "    #what should happen after all\n",
    "    P_scale =  one_qubit_readout_error_matrix(0, scale)\n",
    "    Q_scale = one_qubit_readout_error_matrix(1, scale)\n",
    "    R_scale = two_qubit_readout_error_matrix(P_scale, Q_scale)\n",
    "    \n",
    "    return R_scale\n",
    "\n",
    "def get_2_qubit_readout_matrix_after_readout_measurement(scale): \n",
    "    \"\"\"\n",
    "    for amplifying readout errors\n",
    "    \"\"\"\n",
    "    #what already happened\n",
    "    P_1 = one_qubit_readout_error_matrix(0)\n",
    "    Q_1 = one_qubit_readout_error_matrix(1)\n",
    "    R_1 = two_qubit_readout_error_matrix(P_1, Q_1)\n",
    "    \n",
    "    #what should happen after all\n",
    "    P_scale =  one_qubit_readout_error_matrix(0, scale)\n",
    "    Q_scale = one_qubit_readout_error_matrix(1, scale)\n",
    "    R_scale = two_qubit_readout_error_matrix(P_scale, Q_scale)\n",
    "    \n",
    "    #what then needs to happen \n",
    "    \"\"\"\n",
    "    XR_1 = R_scale\n",
    "    X = R_scale*(R_1)^-1\n",
    "    \"\"\"\n",
    "    inverse = np.linalg.inv(R_1)\n",
    "    X = np.dot(R_scale, inverse)\n",
    "    \n",
    "    return X\n",
    "\n",
    "def counts_to_array(counts): \n",
    "    \"\"\"\n",
    "    Turning counts (dict) to array format ...for matrix multiplication\n",
    "    \"\"\"\n",
    "    array = [[counts['00']],[counts['01']], [counts['10']], [counts['10']] ]\n",
    "    return array\n",
    "def array_to_counts(array, shots = 1024):\n",
    "    \"\"\"\n",
    "    Turning array into counts(dict)\n",
    "    \"\"\"\n",
    "    #making sure the array has correct number of shots\n",
    "    summ = 0\n",
    "    for i in array: \n",
    "        summ+=i\n",
    "    new_array = [(i/summ)*1024 for i in array]\n",
    "    \n",
    "    counts = {'00': float(new_array[0]), '01': float(new_array[1]), '10':float(new_array[2]), '11': float(new_array[3])}\n",
    "    \n",
    "    return counts\n",
    "\n",
    "def counts_after_readout_amp(counts, scale):\n",
    "    \"\"\"\n",
    "    Input: Counts, amplification factor\n",
    "    Output: modified counts\n",
    "    \"\"\"\n",
    "    array = counts_to_array(counts)\n",
    "    matrix = get_2_qubit_readout_matrix_after_readout_measurement(scale)\n",
    "    new_array = np.dot(matrix, array)\n",
    "    \n",
    "    return array_to_counts(new_array)\n",
    "    "
   ]
  },
  {
   "cell_type": "code",
   "execution_count": 131,
   "metadata": {},
   "outputs": [],
   "source": [
    "# import random\n",
    "\n",
    "# def amping_readout_errors(counts, prob_matrix, scale): \n",
    "#     \"\"\"\n",
    "#     Returning counts with amped up errors\n",
    "#     \"\"\"\n",
    "#     #print(scale)\n",
    "#     new_counts={'00':0, '01':0, '10': 0, '11':0}\n",
    "    \n",
    "#     for key in counts.keys(): \n",
    "#         index = 0\n",
    "#         if (key == '00'): \n",
    "#             index = 0\n",
    "#         elif(key == '01'): \n",
    "#             index = 1\n",
    "#         elif(key == '10'): \n",
    "#             index = 2\n",
    "#         else:\n",
    "#             index = 3\n",
    "            \n",
    "#         #print(index)\n",
    "#         #scaling the probabilties\n",
    "#         prob_matrix_diff = np.copy(prob_matrix)\n",
    "#         prob = prob_matrix_diff[index]\n",
    "#         old_prob = np.copy(prob)\n",
    "        \n",
    "#         print('old prob is ')\n",
    "#         print(prob)\n",
    "#         amends = 0\n",
    "#         for i in range(len(prob)): \n",
    "#             real_scale = scale -1\n",
    "#             if (i!= index): \n",
    "#                 amends += real_scale*prob[i]\n",
    "#                 prob[i] = scale*prob[i]\n",
    "#         prob[index] -= amends\n",
    "        \n",
    "#         new_prob = np.copy(prob)\n",
    "        \n",
    "#         print('new_prob is ')\n",
    "#         print(new_prob)\n",
    "        \n",
    "#         actual_prob = [ float((new_prob[i])/(old_prob[i])) for i in range(len(prob))]\n",
    "       \n",
    "        \n",
    "#         summ = 0\n",
    "#         for i in actual_prob:\n",
    "#             summ+=i\n",
    "#         actual_prob = [i/summ for i in actual_prob]\n",
    "        \n",
    "        \n",
    "#         prob =np.copy(actual_prob)\n",
    "#         print('actual prob is ')\n",
    "#         print(prob)\n",
    "       \n",
    "        \n",
    "#         #print(prob)\n",
    "#         #for flipping counts \n",
    "#         a = prob[0]\n",
    "#         b = a+ prob[1]\n",
    "#         c = b+ prob[2]\n",
    "        \n",
    "#         #iterating over all the counts in that key and randomly flipping\n",
    "#         for i in range(counts[key]):\n",
    "#             p = (random.randint(1, 10001))/10000\n",
    "\n",
    "#             if (p<a): \n",
    "#                 new_counts['00'] = new_counts['00']+1\n",
    "#             elif (p>a and p<b): \n",
    "#                 new_counts['01'] +=1\n",
    "#             elif (p>b and p<c): \n",
    "#                 new_counts['10'] +=1\n",
    "#             else:\n",
    "#                 new_counts['11'] +=1\n",
    "#     #print('Initial Counts: ')\n",
    "#     #print(counts)\n",
    "#     #print('final counts: ')\n",
    "#     #print(new_counts)\n",
    "#     return new_counts\n",
    "        "
   ]
  },
  {
   "cell_type": "code",
   "execution_count": 132,
   "metadata": {},
   "outputs": [],
   "source": [
    "# counts = {'00':100, '01':0, '10': 0, '11':0}\n",
    "# amping_readout_errors(counts, prob_matrix = probabilities, scale = 2)"
   ]
  },
  {
   "cell_type": "code",
   "execution_count": 133,
   "metadata": {},
   "outputs": [],
   "source": [
    "# def mean_counts(counts): \n",
    "#     \"\"\"\n",
    "#     Return the mean counts\n",
    "#     \"\"\"\n",
    "#     keys = ['00', '01', '10', '11']\n",
    "#     mean_counts={'00':0, '01':0, '10': 0, '11':0}\n",
    "    \n",
    "#     for key in keys:\n",
    "#         results = []\n",
    "#         for count in counts:\n",
    "#             results.append(count[key])\n",
    "#         mean_counts[key] = np.mean(results)\n",
    "#     return mean_counts\n",
    "\n",
    "# modified_counts = []\n",
    "# true_counts = []\n",
    "# count = {'00': 100, '01': 0, '10': 0, '11': 0}\n",
    "# scaly = 7\n",
    "\n",
    "# for i in range(1000): \n",
    "#     #true count\n",
    "#     true_counts.append(amping_readout_errors(count, prob_matrix = probabilities, scale = scaly+1))\n",
    "#     #modified counts \n",
    "#     new_count = amping_readout_errors(counts, prob_matrix = probabilities, scale = 2)\n",
    "#     modified_counts.append(amping_readout_errors(count, prob_matrix = probabilities, scale = scaly))\n",
    "# print('True count is ')\n",
    "# print(mean_counts(true_counts))\n",
    "# print('Modiefied count is ')\n",
    "# print(mean_counts(modified_counts))\n",
    "\n",
    "        "
   ]
  },
  {
   "cell_type": "code",
   "execution_count": 134,
   "metadata": {},
   "outputs": [],
   "source": [
    "# probabilities"
   ]
  },
  {
   "cell_type": "markdown",
   "metadata": {},
   "source": [
    "## VQE Optimized Circuit "
   ]
  },
  {
   "cell_type": "code",
   "execution_count": 49,
   "metadata": {},
   "outputs": [
    {
     "data": {
      "image/png": "[encoded data removed]",
      "text/plain": [
       "<Figure size 1683.19x325.08 with 1 Axes>"
      ]
     },
     "execution_count": 49,
     "metadata": {},
     "output_type": "execute_result"
    }
   ],
   "source": [
    "string = \"\"\"OPENQASM 2.0;\\ninclude \"qelib1.inc\";\\nqreg q[2];\\nu3(pi,0,pi) q[0];\\nu3(pi/2,-pi/2,pi/2) q[0];\\nu3(0,0,3.6279236e-05) q[0];\\nu3(-pi/2,-pi/2,pi/2) q[0];\\nu3(pi/2,-pi/2,pi/2) q[0];\\nu3(pi/2,-pi/2,pi/2) q[1];\\nu3(0,0,0.00010816593) q[1];\\nu3(-pi/2,-pi/2,pi/2) q[1];\\nu3(pi/2,0,pi) q[1];\\ncx q[0],q[1];\\nu3(0,0,0.11268152) q[1];\\ncx q[0],q[1];\\nu3(-pi/2,-pi/2,pi/2) q[0];\\nu3(pi/2,0,pi) q[0];\\nu3(pi/2,0,pi) q[1];\\nu3(pi/2,-pi/2,pi/2) q[1];\\ncx q[0],q[1];\\nu3(0,0,-0.11268152) q[1];\\ncx q[0],q[1];\\nu3(pi/2,0,pi) q[0];\\nu3(-pi/2,-pi/2,pi/2) q[1];\\n\"\"\"\n",
    "vqe_circ = QuantumCircuit.from_qasm_str(string)\n",
    "# vqe_circ.measure(0,0)\n",
    "# vqe_circ.measure(1,1)\n",
    "vqe_circ.draw(output = 'mpl')"
   ]
  },
  {
   "cell_type": "markdown",
   "metadata": {},
   "source": [
    "## Hammyfication of Circuits"
   ]
  },
  {
   "cell_type": "code",
   "execution_count": 50,
   "metadata": {},
   "outputs": [],
   "source": [
    "from qiskit import ClassicalRegister\n",
    "import math\n",
    "\n",
    "Hamiltonian = \"\"\"II\n",
    "IZ \n",
    "ZI\n",
    "ZZ\n",
    "XX\"\"\"\n",
    "\n",
    "Hamiltonian_weights = [-1.053, 0.395, -0.395, -0.011, 0.181]\n",
    "\n",
    "\n",
    "circuits = []\n",
    "for line in iter(Hamiltonian.splitlines()):\n",
    "    circ = vqe_circ.copy()\n",
    "    for index in range(len(line)):\n",
    "        op = line[index]\n",
    "        \n",
    "        ##do nothing if Z or I\n",
    "        if(op == \"X\"): \n",
    "            #hadamard in u3\n",
    "            circ.u3(math.pi/2, 0, math.pi, index)\n",
    "        elif(op == \"Y\"):\n",
    "            circ.rx(pi/2, index)\n",
    "    c = ClassicalRegister(2)\n",
    "    circ.add_register(c)\n",
    "    circ.measure([0], [0])\n",
    "    circ.measure([1],[1])\n",
    "    circuits.append(circ)"
   ]
  },
  {
   "cell_type": "code",
   "execution_count": 51,
   "metadata": {},
   "outputs": [],
   "source": [
    "# because first 4 circuits are really the same thing (II, IZ, ZZ, ZI does not require any addition of gates for measurements)\n",
    "less_circuits = [circuits[0], circuits[4]]"
   ]
  },
  {
   "cell_type": "code",
   "execution_count": 52,
   "metadata": {},
   "outputs": [
    {
     "data": {
      "image/png": "[encoded data removed]",
      "text/plain": [
       "<Figure size 1683.19x445.48 with 1 Axes>"
      ]
     },
     "execution_count": 52,
     "metadata": {},
     "output_type": "execute_result"
    }
   ],
   "source": [
    "less_circuits[0].draw(output = 'mpl')"
   ]
  },
  {
   "cell_type": "code",
   "execution_count": 53,
   "metadata": {},
   "outputs": [
    {
     "data": {
      "image/png": "[encoded data removed]",
      "text/plain": [
       "<Figure size 1683.19x445.48 with 1 Axes>"
      ]
     },
     "execution_count": 53,
     "metadata": {},
     "output_type": "execute_result"
    }
   ],
   "source": [
    "less_circuits[1].draw(output = 'mpl')"
   ]
  },
  {
   "cell_type": "markdown",
   "metadata": {},
   "source": [
    "## Functions for computing Expectation value"
   ]
  },
  {
   "cell_type": "code",
   "execution_count": 54,
   "metadata": {},
   "outputs": [],
   "source": [
    "def binaryToDecimal(binary):  \n",
    "    binary1 = binary \n",
    "    decimal, i, n = 0, 0, 0\n",
    "    while(binary != 0): \n",
    "        dec = binary % 10\n",
    "        decimal = decimal + dec * pow(2, i) \n",
    "        binary = binary//10\n",
    "        i += 1\n",
    "    return decimal"
   ]
  },
  {
   "cell_type": "code",
   "execution_count": 55,
   "metadata": {},
   "outputs": [],
   "source": [
    "def get_expec_val_H2(results, h, shots = 1024):\n",
    "    keys = results.keys()\n",
    "    e_val = 0\n",
    "    for key in keys:\n",
    "        counts =int(results[key])\n",
    "        \n",
    "        key_val = int(key)\n",
    "        key_dval = int(binaryToDecimal(key_val))\n",
    "        \n",
    "        ## II\n",
    "        if (h==0):\n",
    "            e_val += (int(counts)/shots)\n",
    "        ## IZ\n",
    "        elif (h==1):\n",
    "            if (key_dval == 1 or key_dval==3):\n",
    "                e_val += (-1)*(int(counts)/shots)\n",
    "            else: \n",
    "                e_val += (int(counts)/shots)\n",
    "         ## ZI\n",
    "        elif (h==2):\n",
    "            if (key_dval == 2 or key_dval==3):\n",
    "                e_val += (-1)*(int(counts)/shots)\n",
    "            else: \n",
    "                e_val += (int(counts)/shots)\n",
    "        ## ZZ and XX(measured in ZZ basis)\n",
    "        elif(h==3 or h==4):\n",
    "            # 00 and 11 are +1 eigenvalues and others are -1\n",
    "            if (key_dval == 0 or key_dval == 3):\n",
    "                e_val += (int(counts)/shots)\n",
    "            else:\n",
    "                e_val += (-1)*(int(counts)/shots)\n",
    "    return e_val\n",
    "    "
   ]
  },
  {
   "cell_type": "markdown",
   "metadata": {},
   "source": [
    "# Running the circuit on all 19 noise models (Ideal simulator, 18 noisy simulators)"
   ]
  },
  {
   "cell_type": "code",
   "execution_count": 56,
   "metadata": {},
   "outputs": [],
   "source": [
    "from qiskit import Aer\n",
    "simulator = Aer.get_backend('qasm_simulator')"
   ]
  },
  {
   "cell_type": "code",
   "execution_count": 57,
   "metadata": {},
   "outputs": [],
   "source": [
    "probabilities = np.array([[9.7706e-01, 3.5280e-02, 1.9940e-02, 7.2000e-04],\n",
    "       [2.9400e-03, 9.4472e-01, 6.0000e-05, 1.9280e-02],\n",
    "       [4.9850e-02, 1.8000e-03, 9.4715e-01, 3.4200e-02],\n",
    "       [1.5000e-04, 4.8200e-02, 2.8500e-03, 9.1580e-01]])"
   ]
  },
  {
   "cell_type": "markdown",
   "metadata": {},
   "source": [
    "### Function to evaluate circuits"
   ]
  },
  {
   "cell_type": "code",
   "execution_count": 135,
   "metadata": {},
   "outputs": [],
   "source": [
    "def evaluator(circuits, noise_model = None, \n",
    "              weights =  [-1.053, 0.395, -0.395, -0.011, 0.181], readout_amp = False, scale = 1, probabilities = probabilities):\n",
    "    \"\"\"\n",
    "    Input: circuits, noise model to run on , weights of the local hammys\n",
    "    Output: expectation value (energy)\n",
    "    \n",
    "    \"\"\"\n",
    "    \n",
    "    #Running the circuits \n",
    "    results = []\n",
    "    for circ in circuits: \n",
    "        job =  execute(circ, backend = simulator, noise_model = noise_model, shots = 1024)\n",
    "        result = job.result().get_counts()\n",
    "        results.append(result)\n",
    "        \n",
    "    #Amping up readout errors\n",
    "    if (readout_amp): \n",
    "        for i in range(len(results)): \n",
    "            #print(probabilities)\n",
    "            results[i] = counts_after_readout_amp(results[i], scale)\n",
    "    \n",
    "    #Converting counts to expec values of local hammys\n",
    "    \n",
    "    n = 5 #if 5 hammys, then length is 5, 5th one is assumed to be XX\n",
    "    hammyfied_vals = []\n",
    "    for i in range(n): \n",
    "        if (i <4):\n",
    "            c = 0\n",
    "        else: \n",
    "            c= 1\n",
    "        hammyfied_val = get_expec_val_H2(results[c], i)\n",
    "        hammyfied_vals.append(hammyfied_val)\n",
    "    \n",
    "    #Combining expectation values of local hamiltonians with the weights and adding nuclear repulsion energy\n",
    "    \n",
    "    shift = 0.7151043390810812\n",
    "    expec_val = 0 + shift\n",
    "    for i in range(len(hammyfied_vals)): \n",
    "        expec_val += weights[i]*hammyfied_vals[i]\n",
    "        \n",
    "    return expec_val\n",
    "    "
   ]
  },
  {
   "cell_type": "code",
   "execution_count": 136,
   "metadata": {},
   "outputs": [],
   "source": [
    "from qiskit import Aer\n",
    "simulator = Aer.get_backend('qasm_simulator')"
   ]
  },
  {
   "cell_type": "code",
   "execution_count": 154,
   "metadata": {},
   "outputs": [
    {
     "name": "stdout",
     "output_type": "stream",
     "text": [
      "Running Pure first\n",
      "---------0 models done--------------\n",
      "---------1 models done--------------\n",
      "---------2 models done--------------\n",
      "---------3 models done--------------\n",
      "---------4 models done--------------\n",
      "---------5 models done--------------\n",
      "---------6 models done--------------\n",
      "---------7 models done--------------\n",
      "---------8 models done--------------\n",
      "Running imPure next\n",
      "---------0 models done--------------\n",
      "---------1 models done--------------\n",
      "---------2 models done--------------\n",
      "---------3 models done--------------\n",
      "---------4 models done--------------\n",
      "---------5 models done--------------\n",
      "---------6 models done--------------\n",
      "---------7 models done--------------\n",
      "---------8 models done--------------\n",
      "Running ImPure amped up next\n",
      "---------0 models done--------------\n",
      "---------1 models done--------------\n",
      "---------2 models done--------------\n",
      "---------3 models done--------------\n",
      "---------4 models done--------------\n",
      "---------5 models done--------------\n",
      "---------6 models done--------------\n",
      "---------7 models done--------------\n",
      "---------8 models done--------------\n",
      "Running Ideal last\n"
     ]
    }
   ],
   "source": [
    "n_samples = 1000\n",
    "\n",
    "ideal_mean = 0\n",
    "idea_err = 0\n",
    "pure_means = []\n",
    "impure_means = []\n",
    "impure_amped_up_means = []\n",
    "pure_errs = []\n",
    "impure_errs = []\n",
    "impure_amped_up_errs = []\n",
    "\n",
    "#Running Pure first\n",
    "print('Running Pure first')\n",
    "\n",
    "for nm in range(len(noise_models_pure)): \n",
    "    noise_model = noise_models_pure[nm]\n",
    "    results = []\n",
    "    for i in range(n_samples): \n",
    "#         # for tracking results \n",
    "#         if (i%25 == 0): \n",
    "#             print('---------'+str(i) + ' samples done--------------')\n",
    "        result = evaluator(less_circuits, noise_model, readout_amp = False)\n",
    "        results.append(result)\n",
    "    mean = np.mean(results)\n",
    "    err = np.std(results)/np.sqrt(len(results))\n",
    "    pure_means.append(mean)\n",
    "    pure_errs.append(err)\n",
    "    print('---------'+str(nm) + ' models done--------------')\n",
    "\n",
    "\n",
    "\n",
    "\n",
    "\n",
    "#Running impure next\n",
    "print('Running imPure next')\n",
    "\n",
    "for nm in range(len(noise_models_impure)): \n",
    "    noise_model = noise_models_impure[nm]\n",
    "    results = []\n",
    "    for i in range(n_samples): \n",
    "#         # for tracking results \n",
    "#         if (i%25 == 0): \n",
    "#             print('---------'+str(i) + ' samples done--------------')\n",
    "        result = evaluator(less_circuits, noise_model, readout_amp = False)\n",
    "        results.append(result)\n",
    "    mean = np.mean(results)\n",
    "    err = np.std(results)/np.sqrt(len(results))\n",
    "    impure_means.append(mean)\n",
    "    impure_errs.append(err)\n",
    "    print('---------'+str(nm) + ' models done--------------')\n",
    "\n",
    "#impure amped up next\n",
    "\n",
    "print('Running ImPure amped up next')\n",
    "for nm in range(len(noise_models_impure)): \n",
    "    \n",
    "    noise_model = noise_models_impure[nm]\n",
    "    results = []\n",
    "    for i in range(n_samples): \n",
    "#         # for tracking results \n",
    "#         if (i%25 == 0): \n",
    "#             print('---------'+str(i) + ' samples done--------------')\n",
    "        result = evaluator(less_circuits, noise_model, readout_amp = True, scale = 1+0.5*nm)\n",
    "        results.append(result)\n",
    "    mean = np.mean(results)\n",
    "    err = np.std(results)/np.sqrt(len(results))\n",
    "    impure_amped_up_means.append(mean)\n",
    "    impure_amped_up_errs.append(err)\n",
    "    print('---------'+str(nm) + ' models done--------------')\n",
    "\n",
    "print('Running Ideal last')\n",
    "#ideal sim last\n",
    "results = []\n",
    "for i in range(n_samples): \n",
    "#     # for tracking results \n",
    "#     if (i%25 == 0): \n",
    "#         print('---------'+str(i) + ' samples done--------------')\n",
    "    result = evaluator(less_circuits)\n",
    "    results.append(result)\n",
    "ideal_mean = np.mean(results)\n",
    "ideal_err = np.std(results)/np.sqrt(len(results))\n",
    "\n",
    "        \n"
   ]
  },
  {
   "cell_type": "markdown",
   "metadata": {},
   "source": [
    "## Plotting Results"
   ]
  },
  {
   "cell_type": "code",
   "execution_count": 155,
   "metadata": {},
   "outputs": [
    {
     "data": {
      "image/png": "[encoded data removed]",
      "text/plain": [
       "<Figure size 432x288 with 1 Axes>"
      ]
     },
     "metadata": {
      "needs_background": "light"
     },
     "output_type": "display_data"
    }
   ],
   "source": [
    "import matplotlib.pyplot as plt\n",
    "\n",
    "f = plt.figure()\n",
    "plt.errorbar(0, ideal_mean, yerr=ideal_err,capsize = 10, fmt ='o', label = 'Ideal Simulator' )\n",
    "plt.errorbar(scales, impure_means, yerr=impure_errs,capsize = 10, fmt ='o', label = 'With Readout Errors' )\n",
    "plt.errorbar(scales, pure_means, yerr=pure_errs,capsize = 10, fmt ='o', label = 'Without Readout Errors' )\n",
    "plt.errorbar(scales, impure_amped_up_means, yerr=impure_amped_up_errs,capsize = 10, fmt ='o', label = 'Amped up Readout Errors' )\n",
    "\n",
    "plt.title('Mean Energies (using a self constructed noise model mimicking London device)')\n",
    "plt.xlabel('scale factors')\n",
    "plt.ylabel('Energy (Hartree)')\n",
    "plt.legend()\n",
    "plt.show()\n",
    "#f.savefig('1000sample.png', dpi = 1000)"
   ]
  },
  {
   "cell_type": "code",
   "execution_count": 156,
   "metadata": {},
   "outputs": [
    {
     "data": {
      "text/plain": [
       "-1.137485000762669"
      ]
     },
     "execution_count": 156,
     "metadata": {},
     "output_type": "execute_result"
    }
   ],
   "source": [
    "ideal_mean"
   ]
  },
  {
   "cell_type": "code",
   "execution_count": 157,
   "metadata": {},
   "outputs": [
    {
     "data": {
      "text/plain": [
       "array([[9.7706e-01, 3.5280e-02, 1.9940e-02, 7.2000e-04],\n",
       "       [2.9400e-03, 9.4472e-01, 6.0000e-05, 1.9280e-02],\n",
       "       [4.9850e-02, 1.8000e-03, 9.4715e-01, 3.4200e-02],\n",
       "       [1.5000e-04, 4.8200e-02, 2.8500e-03, 9.1580e-01]])"
      ]
     },
     "execution_count": 157,
     "metadata": {},
     "output_type": "execute_result"
    }
   ],
   "source": [
    "probabilities"
   ]
  },
  {
   "cell_type": "code",
   "execution_count": 158,
   "metadata": {},
   "outputs": [
    {
     "data": {
      "text/plain": [
       "[-1.0101840036923562,\n",
       " -0.9564099304501688,\n",
       " -0.9060162449032937,\n",
       " -0.8571439656064188,\n",
       " -0.8130098044736062,\n",
       " -0.7694399304501688,\n",
       " -0.7300837068173562,\n",
       " -0.6905297214657937,\n",
       " -0.6555136745907937]"
      ]
     },
     "execution_count": 158,
     "metadata": {},
     "output_type": "execute_result"
    }
   ],
   "source": [
    "impure_amped_up_means"
   ]
  },
  {
   "cell_type": "code",
   "execution_count": 159,
   "metadata": {},
   "outputs": [
    {
     "data": {
      "text/plain": [
       "[-1.071166981231419,\n",
       " -1.0403556452939187,\n",
       " -1.0100335925595438,\n",
       " -0.9814013562314188,\n",
       " -0.9527631042782939,\n",
       " -0.9263509734189188,\n",
       " -0.8999710242001688,\n",
       " -0.8742249617001688,\n",
       " -0.8496203406064187]"
      ]
     },
     "execution_count": 159,
     "metadata": {},
     "output_type": "execute_result"
    }
   ],
   "source": [
    "pure_means"
   ]
  },
  {
   "cell_type": "code",
   "execution_count": 160,
   "metadata": {},
   "outputs": [
    {
     "data": {
      "text/plain": [
       "[-1.0286093406064187,\n",
       " -0.9983868269345438,\n",
       " -0.9706992097470438,\n",
       " -0.9436980867001686,\n",
       " -0.9166173933407938,\n",
       " -0.8911625691220438,\n",
       " -0.8665130730282937,\n",
       " -0.8419977273251689,\n",
       " -0.8193213542782937]"
      ]
     },
     "execution_count": 160,
     "metadata": {},
     "output_type": "execute_result"
    }
   ],
   "source": [
    "impure_means"
   ]
  },
  {
   "cell_type": "code",
   "execution_count": 161,
   "metadata": {},
   "outputs": [
    {
     "data": {
      "text/plain": [
       "[0.00038838569473055774,\n",
       " 0.0004260650679968631,\n",
       " 0.00045310497171317934,\n",
       " 0.0004607077952744371,\n",
       " 0.000474136682292616,\n",
       " 0.0005102958099620471,\n",
       " 0.0005222121863429267,\n",
       " 0.0005247253824866314,\n",
       " 0.0005500773548555014]"
      ]
     },
     "execution_count": 161,
     "metadata": {},
     "output_type": "execute_result"
    }
   ],
   "source": [
    "impure_errs"
   ]
  },
  {
   "cell_type": "code",
   "execution_count": 162,
   "metadata": {},
   "outputs": [
    {
     "data": {
      "text/plain": [
       "[0.0004464004182074317,\n",
       " 0.00046352043531634773,\n",
       " 0.0004942513815123103,\n",
       " 0.00048209020330542107,\n",
       " 0.00048549846681860645,\n",
       " 0.00047217020036048396,\n",
       " 0.0004782942899649455,\n",
       " 0.00046761792356445466,\n",
       " 0.00045476908810153594]"
      ]
     },
     "execution_count": 162,
     "metadata": {},
     "output_type": "execute_result"
    }
   ],
   "source": [
    "impure_amped_up_errs"
   ]
  },
  {
   "cell_type": "code",
   "execution_count": 163,
   "metadata": {},
   "outputs": [
    {
     "data": {
      "text/plain": [
       "[0.00036809335171906197,\n",
       " 0.00039801473490528114,\n",
       " 0.0004114413602045364,\n",
       " 0.00044628919412839944,\n",
       " 0.0004750634102020117,\n",
       " 0.0004920693715338036,\n",
       " 0.0005063181767975186,\n",
       " 0.0005260845731531444,\n",
       " 0.0005386440056238959]"
      ]
     },
     "execution_count": 163,
     "metadata": {},
     "output_type": "execute_result"
    }
   ],
   "source": [
    "pure_errs"
   ]
  },
  {
   "cell_type": "code",
   "execution_count": 164,
   "metadata": {},
   "outputs": [
    {
     "data": {
      "text/plain": [
       "0.00023865328390982658"
      ]
     },
     "execution_count": 164,
     "metadata": {},
     "output_type": "execute_result"
    }
   ],
   "source": [
    "ideal_err"
   ]
  },
  {
   "cell_type": "code",
   "execution_count": 165,
   "metadata": {},
   "outputs": [
    {
     "data": {
      "text/plain": [
       "-1.137485000762669"
      ]
     },
     "execution_count": 165,
     "metadata": {},
     "output_type": "execute_result"
    }
   ],
   "source": [
    "ideal_mean"
   ]
  },
  {
   "cell_type": "code",
   "execution_count": null,
   "metadata": {},
   "outputs": [],
   "source": []
  }
 ],
 "metadata": {
  "kernelspec": {
   "display_name": "Python 3",
   "language": "python",
   "name": "python3"
  },
  "language_info": {
   "codemirror_mode": {
    "name": "ipython",
    "version": 3
   },
   "file_extension": ".py",
   "mimetype": "text/x-python",
   "name": "python",
   "nbconvert_exporter": "python",
   "pygments_lexer": "ipython3",
   "version": "3.7.6"
  }
 },
 "nbformat": 4,
 "nbformat_minor": 4
}
