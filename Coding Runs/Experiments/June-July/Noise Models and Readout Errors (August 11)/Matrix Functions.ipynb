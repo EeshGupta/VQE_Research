{
 "cells": [
  {
   "cell_type": "code",
   "execution_count": 4,
   "metadata": {},
   "outputs": [],
   "source": [
    "import numpy as np\n",
    "\n",
    "def one_qubit_readout_error_matrix(qubit_n, scale = 1):\n",
    "    \"\"\"\n",
    "    Input: which qubit on the london device, scale (for noise scaling)\n",
    "    Generates the readout error matrix\n",
    "    \n",
    "    organized as \n",
    "    \n",
    "    P(0|0)  P(0|1)\n",
    "    P(1|0)  P(1|1)\n",
    "    \n",
    "    \"\"\"\n",
    "    if (qubit_n == 0): \n",
    "        errors = [0.04, 0.05]\n",
    "    elif (qubit_n == 1): \n",
    "        errors = [0.06, 0.07]\n",
    "        \n",
    "    x, y = errors\n",
    "    x = scale*x\n",
    "    y = scale*y\n",
    "    \n",
    "    matrix = [[1-x, y], [x, 1-y]]\n",
    "    \n",
    "    return matrix\n",
    "    "
   ]
  },
  {
   "cell_type": "code",
   "execution_count": 7,
   "metadata": {},
   "outputs": [],
   "source": [
    "def column_sum_to_1(matrix): \n",
    "    \"\"\"\n",
    "    Makes sure that columns of a 2x2 matrix sum to 1\n",
    "    \"\"\"\n",
    "    matrix = np.transpose(matrix)\n",
    "    \n",
    "    for r in range(len(matrix)):\n",
    "        summ = 0\n",
    "        for c in range(len(matrix[r])):\n",
    "            summ += matrix[r][c]\n",
    "        for c in range(len(matrix[r])): \n",
    "            matrix[r][c] = (matrix[r][c])/summ\n",
    "            \n",
    "    matrix = np.transpose(matrix)\n",
    "    return matrix\n",
    "        \n",
    "\n",
    "def two_qubit_readout_error_matrix(mat_1, mat_2):\n",
    "    \"\"\"\n",
    "    Input: corresponding readout error matrices of the 2 qubits\n",
    "    Output: their kronecker product\n",
    "    \"\"\"\n",
    "    P = mat_1\n",
    "    Q = mat_2\n",
    "    \n",
    "    matrix = column_sum_to_1(np.kron(P,Q))\n",
    "    return matrix\n"
   ]
  },
  {
   "cell_type": "code",
   "execution_count": 8,
   "metadata": {},
   "outputs": [
    {
     "data": {
      "text/plain": [
       "array([[0.53846154, 0.33333333],\n",
       "       [0.46153846, 0.66666667]])"
      ]
     },
     "execution_count": 8,
     "metadata": {},
     "output_type": "execute_result"
    }
   ],
   "source": [
    "mat = [[0.7, 0.9],[0.6, 1.8]]\n",
    "column_sum_to_1(mat)"
   ]
  },
  {
   "cell_type": "code",
   "execution_count": 11,
   "metadata": {},
   "outputs": [],
   "source": [
    "def get_2_qubit_readout_matrix_regular(scale): \n",
    "    \"\"\"\n",
    "    for amplifying readout errors\n",
    "    \"\"\"\n",
    "    \n",
    "    #what should happen after all\n",
    "    P_scale =  one_qubit_readout_error_matrix(0, scale)\n",
    "    Q_scale = one_qubit_readout_error_matrix(1, scale)\n",
    "    R_scale = two_qubit_readout_error_matrix(P_scale, Q_scale)\n",
    "    \n",
    "    return R_scale\n",
    "\n",
    "def get_2_qubit_readout_matrix_after_readout_measurement(scale): \n",
    "    \"\"\"\n",
    "    for amplifying readout errors\n",
    "    \"\"\"\n",
    "    #what already happened\n",
    "    P_1 = one_qubit_readout_error_matrix(0)\n",
    "    Q_1 = one_qubit_readout_error_matrix(1)\n",
    "    R_1 = two_qubit_readout_error_matrix(P_1, Q_1)\n",
    "    \n",
    "    #what should happen after all\n",
    "    P_scale =  one_qubit_readout_error_matrix(0, scale)\n",
    "    Q_scale = one_qubit_readout_error_matrix(1, scale)\n",
    "    R_scale = two_qubit_readout_error_matrix(P_scale, Q_scale)\n",
    "    \n",
    "    #what then needs to happen \n",
    "    \"\"\"\n",
    "    XR_1 = R_scale\n",
    "    X = R_scale*(R_1)^-1\n",
    "    \"\"\"\n",
    "    inverse = np.linalg.inv(R_1)\n",
    "    X = np.dot(R_scale, inverse)\n",
    "    \n",
    "    return X\n",
    "    "
   ]
  },
  {
   "cell_type": "code",
   "execution_count": 10,
   "metadata": {},
   "outputs": [
    {
     "data": {
      "text/plain": [
       "array([[0.68851838, 0.20954907, 0.13073134, 0.0397878 ],\n",
       "       [0.17961349, 0.6585828 , 0.03410383, 0.12504737],\n",
       "       [0.10458507, 0.03183024, 0.66237211, 0.20159151],\n",
       "       [0.02728306, 0.10003789, 0.17279272, 0.63357332]])"
      ]
     },
     "execution_count": 10,
     "metadata": {},
     "output_type": "execute_result"
    }
   ],
   "source": [
    "get_2_qubit_readout_matrix_after_readout_measurement(4)"
   ]
  },
  {
   "cell_type": "code",
   "execution_count": 14,
   "metadata": {},
   "outputs": [
    {
     "data": {
      "text/plain": [
       "array([[0.56  , 0.28  , 0.175 , 0.0875],\n",
       "       [0.24  , 0.52  , 0.075 , 0.1625],\n",
       "       [0.14  , 0.07  , 0.525 , 0.2625],\n",
       "       [0.06  , 0.13  , 0.225 , 0.4875]])"
      ]
     },
     "execution_count": 14,
     "metadata": {},
     "output_type": "execute_result"
    }
   ],
   "source": [
    "get_2_qubit_readout_matrix_after_readout_measurement(5).dot(get_2_qubit_readout_matrix_regular(1))"
   ]
  },
  {
   "cell_type": "code",
   "execution_count": 13,
   "metadata": {},
   "outputs": [
    {
     "data": {
      "text/plain": [
       "array([[0.56  , 0.28  , 0.175 , 0.0875],\n",
       "       [0.24  , 0.52  , 0.075 , 0.1625],\n",
       "       [0.14  , 0.07  , 0.525 , 0.2625],\n",
       "       [0.06  , 0.13  , 0.225 , 0.4875]])"
      ]
     },
     "execution_count": 13,
     "metadata": {},
     "output_type": "execute_result"
    }
   ],
   "source": [
    "get_2_qubit_readout_matrix_regular(5)"
   ]
  },
  {
   "cell_type": "code",
   "execution_count": 23,
   "metadata": {},
   "outputs": [],
   "source": [
    "def counts_to_array(counts): \n",
    "    \"\"\"\n",
    "    Turning counts (dict) to array format ...for matrix multiplication\n",
    "    \"\"\"\n",
    "    array = [[counts['00']],[counts['01']], [counts['10']], [counts['10']] ]\n",
    "    return array\n",
    "def array_to_counts(array, shots = 1024):\n",
    "    \"\"\"\n",
    "    Turning array into counts(dict)\n",
    "    \"\"\"\n",
    "    #making sure the array has correct number of shots\n",
    "    summ = 0\n",
    "    for i in array: \n",
    "        summ+=i\n",
    "    new_array = [(i/summ)*1024 for i in array]\n",
    "    \n",
    "    counts = {'00': float(new_array[0]), '01': float(new_array[1]), '10':float(new_array[2]), '11': float(new_array[3])}\n",
    "    \n",
    "    \n",
    "    return counts"
   ]
  },
  {
   "cell_type": "code",
   "execution_count": 24,
   "metadata": {},
   "outputs": [],
   "source": [
    "def counts_after_readout_amp(counts, scale):\n",
    "    \"\"\"\n",
    "    Input: Counts, amplification factor\n",
    "    Output: modified counts\n",
    "    \"\"\"\n",
    "    array = counts_to_array(counts)\n",
    "    matrix = get_2_qubit_readout_matrix_after_readout_measurement(scale)\n",
    "    new_array = np.dot(matrix, array)\n",
    "    \n",
    "    return array_to_counts(new_array)\n",
    "    \n",
    "    "
   ]
  },
  {
   "cell_type": "code",
   "execution_count": 26,
   "metadata": {},
   "outputs": [
    {
     "data": {
      "text/plain": [
       "{'00': 911.4725274725275,\n",
       " '01': 67.5164835164835,\n",
       " '10': 41.90678287230012,\n",
       " '11': 3.104206138688896}"
      ]
     },
     "execution_count": 26,
     "metadata": {},
     "output_type": "execute_result"
    }
   ],
   "source": [
    "counts = {'00': 100, '01': 0, '10': 0, '11': 0}\n",
    "counts_after_readout_amp(counts, 2)"
   ]
  },
  {
   "cell_type": "code",
   "execution_count": null,
   "metadata": {},
   "outputs": [],
   "source": []
  }
 ],
 "metadata": {
  "kernelspec": {
   "display_name": "Python 3",
   "language": "python",
   "name": "python3"
  },
  "language_info": {
   "codemirror_mode": {
    "name": "ipython",
    "version": 3
   },
   "file_extension": ".py",
   "mimetype": "text/x-python",
   "name": "python",
   "nbconvert_exporter": "python",
   "pygments_lexer": "ipython3",
   "version": "3.7.6"
  }
 },
 "nbformat": 4,
 "nbformat_minor": 4
}
