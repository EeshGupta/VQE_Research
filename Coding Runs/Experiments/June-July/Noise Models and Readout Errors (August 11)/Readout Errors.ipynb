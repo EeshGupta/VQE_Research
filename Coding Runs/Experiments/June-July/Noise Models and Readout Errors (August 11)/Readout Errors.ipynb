{
 "cells": [
  {
   "cell_type": "code",
   "execution_count": 1,
   "metadata": {},
   "outputs": [],
   "source": [
    "import numpy as np\n",
    "from qiskit import execute, QuantumCircuit, QuantumRegister, ClassicalRegister\n",
    "from qiskit.quantum_info import Kraus, SuperOp\n",
    "from qiskit.providers.aer import QasmSimulator\n",
    "from qiskit.tools.visualization import plot_histogram\n",
    "\n",
    "# Import from Qiskit Aer noise module\n",
    "from qiskit.providers.aer.noise import NoiseModel\n",
    "from qiskit.providers.aer.noise import QuantumError, ReadoutError\n",
    "from qiskit.providers.aer.noise import pauli_error\n",
    "from qiskit.providers.aer.noise import depolarizing_error\n",
    "from qiskit.providers.aer.noise import thermal_relaxation_error"
   ]
  },
  {
   "cell_type": "code",
   "execution_count": 5,
   "metadata": {},
   "outputs": [],
   "source": [
    "from qiskit import *\n",
    "\n",
    "provider = IBMQ.load_account()\n",
    "backend = provider.get_backend('ibmq_london')\n",
    "backend_prop = backend.properties()\n",
    "noise_model = NoiseModel.from_backend(backend)\n"
   ]
  },
  {
   "cell_type": "markdown",
   "metadata": {},
   "source": [
    "# Setting up Readout Errors \n",
    "Error rates as per the London Noise Model"
   ]
  },
  {
   "cell_type": "code",
   "execution_count": 6,
   "metadata": {},
   "outputs": [
    {
     "data": {
      "text/plain": [
       "NoiseModel:\n",
       "  Basis gates: ['cx', 'id', 'u2', 'u3']\n",
       "  Instructions with noise: ['cx', 'measure', 'id', 'u3', 'u2']\n",
       "  Qubits with noise: [0, 1, 2, 3, 4]\n",
       "  Specific qubit errors: [('id', [0]), ('id', [1]), ('id', [2]), ('id', [3]), ('id', [4]), ('u2', [0]), ('u2', [1]), ('u2', [2]), ('u2', [3]), ('u2', [4]), ('u3', [0]), ('u3', [1]), ('u3', [2]), ('u3', [3]), ('u3', [4]), ('cx', [0, 1]), ('cx', [1, 0]), ('cx', [1, 2]), ('cx', [1, 3]), ('cx', [2, 1]), ('cx', [3, 1]), ('cx', [3, 4]), ('cx', [4, 3]), ('measure', [0]), ('measure', [1]), ('measure', [2]), ('measure', [3]), ('measure', [4])]"
      ]
     },
     "execution_count": 6,
     "metadata": {},
     "output_type": "execute_result"
    }
   ],
   "source": [
    "noise_model\n"
   ]
  },
  {
   "cell_type": "code",
   "execution_count": 7,
   "metadata": {},
   "outputs": [
    {
     "data": {
      "text/plain": [
       "qiskit.providers.aer.noise.errors.readout_error.ReadoutError"
      ]
     },
     "execution_count": 7,
     "metadata": {},
     "output_type": "execute_result"
    }
   ],
   "source": [
    "ReadoutError"
   ]
  },
  {
   "cell_type": "code",
   "execution_count": 8,
   "metadata": {},
   "outputs": [
    {
     "data": {
      "text/plain": [
       "[[0.0033333333333333335, 0.036666666666666625],\n",
       " [0.02, 0.050000000000000044],\n",
       " [0.23, 0.05666666666666664],\n",
       " [0.013333333333333308, 0.04666666666666667],\n",
       " [0.0033333333333333335, 0.046666666666666634]]"
      ]
     },
     "execution_count": 8,
     "metadata": {},
     "output_type": "execute_result"
    }
   ],
   "source": [
    "from  qiskit.providers.aer.noise.device.models import basic_device_readout_errors\n",
    "from qiskit.providers.aer.noise.device import readout_error_values\n",
    "readout_error_values(backend_prop)"
   ]
  },
  {
   "cell_type": "code",
   "execution_count": 82,
   "metadata": {},
   "outputs": [],
   "source": [
    "import numpy as np\n",
    "\n",
    "mat_1 = [[1-0.003, 0.036], [0.003, 1-0.036]]\n",
    "mat_2 = [[0.98, 0.05], [0.02, 0.95]]\n",
    "# mat_3 = np.random.random((4,4))\n",
    "\n",
    "# for r in range(len(mat_2)): \n",
    "#     for c in range(len(mat_2[r])):\n",
    "#         most_sig_element = mat_2[c][r]\n",
    "        \n",
    "#         for i in range(len(mat_1)): \n",
    "#             for j in range(len(mat_1[i])):\n",
    "#                 least_sig_element = mat_1[i][j]\n",
    "                \n",
    "#                 mat_3[2*r+i][2*c +j] = most_sig_element*least_sig_element\n",
    "# mat_3"
   ]
  },
  {
   "cell_type": "markdown",
   "metadata": {},
   "source": [
    "Need to tranpose to get in this format \n",
    "\n",
    "probabilities[0] = [P(\"0\"|\"0\"), P(\"1\"|\"0\")]\n",
    "\n",
    "probabilities[1] = [P(\"0\"|\"1\"), P(\"1\"|\"1\")]"
   ]
  },
  {
   "cell_type": "code",
   "execution_count": 83,
   "metadata": {},
   "outputs": [],
   "source": [
    "#transposing matrices \n",
    "mat_1 = np.transpose(mat_1)\n",
    "mat_2 = np.transpose(mat_2)\n"
   ]
  },
  {
   "cell_type": "code",
   "execution_count": 85,
   "metadata": {},
   "outputs": [],
   "source": [
    "mat = [mat_1, mat_2]\n",
    "\n",
    "for matty in mat:\n",
    "    #Making sure the sum of each row is one \n",
    "    for r in range(len(matty)): \n",
    "        #summing up all the elements of the row\n",
    "        summ = 0\n",
    "        for i in matty[r]:\n",
    "            summ+=i\n",
    "\n",
    "        #new row \n",
    "        n_row = []\n",
    "        for i in matty[r]: \n",
    "            n_row.append(i/summ)\n",
    "\n",
    "        #replacing the old row with fixed new row \n",
    "        matty[r] = n_row"
   ]
  },
  {
   "cell_type": "code",
   "execution_count": 88,
   "metadata": {},
   "outputs": [
    {
     "data": {
      "text/plain": [
       "array([[0.997, 0.003],\n",
       "       [0.036, 0.964]])"
      ]
     },
     "execution_count": 88,
     "metadata": {},
     "output_type": "execute_result"
    }
   ],
   "source": [
    "mat[0]"
   ]
  },
  {
   "cell_type": "code",
   "execution_count": 89,
   "metadata": {},
   "outputs": [
    {
     "data": {
      "text/plain": [
       "array([[0.98, 0.02],\n",
       "       [0.05, 0.95]])"
      ]
     },
     "execution_count": 89,
     "metadata": {},
     "output_type": "execute_result"
    }
   ],
   "source": [
    "mat[1]"
   ]
  },
  {
   "cell_type": "code",
   "execution_count": 87,
   "metadata": {},
   "outputs": [],
   "source": [
    "#readout_error = ReadoutError(probabilities)\n",
    "readout_error_1 = ReadoutError(mat[0])\n",
    "readout_error_2 = ReadoutError(mat[1])"
   ]
  },
  {
   "cell_type": "code",
   "execution_count": 90,
   "metadata": {},
   "outputs": [
    {
     "data": {
      "text/plain": [
       "1"
      ]
     },
     "execution_count": 90,
     "metadata": {},
     "output_type": "execute_result"
    }
   ],
   "source": [
    "readout_error.number_of_qubits"
   ]
  },
  {
   "cell_type": "markdown",
   "metadata": {},
   "source": [
    "# Creating the 18 noise models (9 with Readout errs and 9 w/n)"
   ]
  },
  {
   "cell_type": "code",
   "execution_count": 60,
   "metadata": {},
   "outputs": [],
   "source": [
    "scales = [1,1.5, 2, 2.5, 3, 3.5, 4, 4.5, 5]"
   ]
  },
  {
   "cell_type": "code",
   "execution_count": 91,
   "metadata": {},
   "outputs": [],
   "source": [
    "from qiskit.providers.aer import noise\n",
    "\n",
    "# Error probabilities\n",
    "prob_1 = 0.001  # 1-qubit gate\n",
    "prob_2 = 0.02   # 2-qubit gate\n",
    "\n",
    "noise_models_pure = [] #w/n readout\n",
    "noise_models_impure = [] # w/ readout\n",
    "\n",
    "# First 9 without readout error\n",
    "for i in scales: \n",
    "    # Depolarizing quantum errors\n",
    "    new_prob_1 = i*prob_1\n",
    "    new_prob_2 = i*prob_2\n",
    "    \n",
    "    #creating gate errors\n",
    "    error_1 = noise.depolarizing_error(new_prob_1, 1)\n",
    "    error_2 = noise.depolarizing_error(new_prob_2, 2)\n",
    "\n",
    "    # Add errors to noise model\n",
    "    noise_model = noise.NoiseModel()\n",
    "    noise_model.add_all_qubit_quantum_error(error_1, ['u1', 'u2', 'u3'])\n",
    "    noise_model.add_all_qubit_quantum_error(error_2, ['cx'])\n",
    "    \n",
    "    #creating pure\n",
    "    noise_models_pure.append(noise_model)\n",
    "    \n",
    "# Next 9 with readout error\n",
    "for i in scales: \n",
    "    # Depolarizing quantum errors\n",
    "    new_prob_1 = i*prob_1\n",
    "    new_prob_2 = i*prob_2\n",
    "    \n",
    "    #creating gate errors\n",
    "    error_1 = noise.depolarizing_error(new_prob_1, 1)\n",
    "    error_2 = noise.depolarizing_error(new_prob_2, 2)\n",
    "\n",
    "    # Add errors to noise model\n",
    "    noise_model = noise.NoiseModel()\n",
    "    noise_model.add_all_qubit_quantum_error(error_1, ['u1', 'u2', 'u3'])\n",
    "    noise_model.add_all_qubit_quantum_error(error_2, ['cx'])\n",
    "    \n",
    "    \n",
    "    #now adding readout error \n",
    "    noise_model.add_readout_error(readout_error_1, [0])\n",
    "    noise_model.add_readout_error(readout_error_2, [1])\n",
    "    noise_models_impure.append(noise_model)"
   ]
  },
  {
   "cell_type": "code",
   "execution_count": 92,
   "metadata": {},
   "outputs": [
    {
     "data": {
      "text/plain": [
       "NoiseModel:\n",
       "  Basis gates: ['cx', 'id', 'u1', 'u2', 'u3']\n",
       "  Instructions with noise: ['cx', 'u1', 'measure', 'u3', 'u2']\n",
       "  Qubits with noise: [0, 1]\n",
       "  All-qubits errors: ['u1', 'u2', 'u3', 'cx']\n",
       "  Specific qubit errors: [('measure', [0]), ('measure', [1])]"
      ]
     },
     "execution_count": 92,
     "metadata": {},
     "output_type": "execute_result"
    }
   ],
   "source": [
    "noise_models_impure[0]"
   ]
  },
  {
   "cell_type": "markdown",
   "metadata": {},
   "source": [
    "# Example"
   ]
  },
  {
   "cell_type": "code",
   "execution_count": 97,
   "metadata": {},
   "outputs": [],
   "source": [
    "noise_model = noise.NoiseModel()\n",
    "noise_model.add_readout_error(readout_error, [0])\n",
    "noise_model.add_readout_error(readout_error, [1])\n",
    "    "
   ]
  },
  {
   "cell_type": "code",
   "execution_count": 98,
   "metadata": {},
   "outputs": [
    {
     "data": {
      "image/png": "[encoded data removed]",
      "text/plain": [
       "<Figure size 719.992x204.68 with 1 Axes>"
      ]
     },
     "execution_count": 98,
     "metadata": {},
     "output_type": "execute_result"
    }
   ],
   "source": [
    "circ = QuantumCircuit(2,2)\n",
    "circ.h(0)\n",
    "circ.barrier(0)\n",
    "circ.h(0)\n",
    "circ.barrier(0)\n",
    "circ.x(0)\n",
    "circ.barrier(0)\n",
    "circ.x(0)\n",
    "\n",
    "circ.h(1)\n",
    "circ.barrier(1)\n",
    "circ.h(1)\n",
    "circ.barrier(1)\n",
    "circ.x(1)\n",
    "circ.barrier(1)\n",
    "circ.x(1)\n",
    "\n",
    "circ.measure(0, 0)\n",
    "circ.measure(1, 1)\n",
    "circ.draw(output = 'mpl')"
   ]
  },
  {
   "cell_type": "code",
   "execution_count": 99,
   "metadata": {},
   "outputs": [
    {
     "data": {
      "image/png": "[encoded data removed]",
      "text/plain": [
       "<Figure size 504x360 with 1 Axes>"
      ]
     },
     "execution_count": 99,
     "metadata": {},
     "output_type": "execute_result"
    }
   ],
   "source": [
    "from qiskit.tools.visualization import plot_histogram\n",
    "\n",
    "job = execute(circ, backend = simulator, shots = 1024)\n",
    "counts = job.result().get_counts()\n",
    "plot_histogram(counts)\n"
   ]
  },
  {
   "cell_type": "code",
   "execution_count": 100,
   "metadata": {},
   "outputs": [
    {
     "data": {
      "image/png": "[encoded data removed]",
      "text/plain": [
       "<Figure size 504x360 with 1 Axes>"
      ]
     },
     "execution_count": 100,
     "metadata": {},
     "output_type": "execute_result"
    }
   ],
   "source": [
    "# machine= provider.get_backend('ibmq_london')\n",
    "# noise_model = NoiseModel.from_backend(machine)\n",
    "\n",
    "job = execute(circ, backend = simulator, noise_model = noise_model, shots = 1024)\n",
    "counts = job.result().get_counts()\n",
    "plot_histogram(counts)"
   ]
  },
  {
   "cell_type": "markdown",
   "metadata": {},
   "source": [
    "## VQE Optimized Circuit "
   ]
  },
  {
   "cell_type": "code",
   "execution_count": 101,
   "metadata": {},
   "outputs": [
    {
     "data": {
      "image/png": "[encoded data removed]",
      "text/plain": [
       "<Figure size 1683.19x325.08 with 1 Axes>"
      ]
     },
     "execution_count": 101,
     "metadata": {},
     "output_type": "execute_result"
    }
   ],
   "source": [
    "string = \"\"\"OPENQASM 2.0;\\ninclude \"qelib1.inc\";\\nqreg q[2];\\nu3(pi,0,pi) q[0];\\nu3(pi/2,-pi/2,pi/2) q[0];\\nu3(0,0,3.6279236e-05) q[0];\\nu3(-pi/2,-pi/2,pi/2) q[0];\\nu3(pi/2,-pi/2,pi/2) q[0];\\nu3(pi/2,-pi/2,pi/2) q[1];\\nu3(0,0,0.00010816593) q[1];\\nu3(-pi/2,-pi/2,pi/2) q[1];\\nu3(pi/2,0,pi) q[1];\\ncx q[0],q[1];\\nu3(0,0,0.11268152) q[1];\\ncx q[0],q[1];\\nu3(-pi/2,-pi/2,pi/2) q[0];\\nu3(pi/2,0,pi) q[0];\\nu3(pi/2,0,pi) q[1];\\nu3(pi/2,-pi/2,pi/2) q[1];\\ncx q[0],q[1];\\nu3(0,0,-0.11268152) q[1];\\ncx q[0],q[1];\\nu3(pi/2,0,pi) q[0];\\nu3(-pi/2,-pi/2,pi/2) q[1];\\n\"\"\"\n",
    "vqe_circ = QuantumCircuit.from_qasm_str(string)\n",
    "# vqe_circ.measure(0,0)\n",
    "# vqe_circ.measure(1,1)\n",
    "vqe_circ.draw(output = 'mpl')"
   ]
  },
  {
   "cell_type": "markdown",
   "metadata": {},
   "source": [
    "## Hammyfication of Circuits"
   ]
  },
  {
   "cell_type": "code",
   "execution_count": 102,
   "metadata": {},
   "outputs": [],
   "source": [
    "from qiskit import ClassicalRegister\n",
    "import math\n",
    "\n",
    "Hamiltonian = \"\"\"II\n",
    "IZ \n",
    "ZI\n",
    "ZZ\n",
    "XX\"\"\"\n",
    "\n",
    "Hamiltonian_weights = [-1.053, 0.395, -0.395, -0.011, 0.181]\n",
    "\n",
    "\n",
    "circuits = []\n",
    "for line in iter(Hamiltonian.splitlines()):\n",
    "    circ = vqe_circ.copy()\n",
    "    for index in range(len(line)):\n",
    "        op = line[index]\n",
    "        \n",
    "        ##do nothing if Z or I\n",
    "        if(op == \"X\"): \n",
    "            #hadamard in u3\n",
    "            circ.u3(math.pi/2, 0, math.pi, index)\n",
    "        elif(op == \"Y\"):\n",
    "            circ.rx(pi/2, index)\n",
    "    c = ClassicalRegister(2)\n",
    "    circ.add_register(c)\n",
    "    circ.measure([0], [0])\n",
    "    circ.measure([1],[1])\n",
    "    circuits.append(circ)"
   ]
  },
  {
   "cell_type": "code",
   "execution_count": 103,
   "metadata": {},
   "outputs": [],
   "source": [
    "# because first 4 circuits are really the same thing (II, IZ, ZZ, ZI does not require any addition of gates for measurements)\n",
    "less_circuits = [circuits[0], circuits[4]]"
   ]
  },
  {
   "cell_type": "code",
   "execution_count": 104,
   "metadata": {},
   "outputs": [
    {
     "data": {
      "image/png": "[encoded data removed]",
      "text/plain": [
       "<Figure size 1683.19x445.48 with 1 Axes>"
      ]
     },
     "execution_count": 104,
     "metadata": {},
     "output_type": "execute_result"
    }
   ],
   "source": [
    "less_circuits[0].draw(output = 'mpl')"
   ]
  },
  {
   "cell_type": "code",
   "execution_count": 105,
   "metadata": {},
   "outputs": [
    {
     "data": {
      "image/png": "[encoded data removed]",
      "text/plain": [
       "<Figure size 1683.19x445.48 with 1 Axes>"
      ]
     },
     "execution_count": 105,
     "metadata": {},
     "output_type": "execute_result"
    }
   ],
   "source": [
    "less_circuits[1].draw(output = 'mpl')"
   ]
  },
  {
   "cell_type": "markdown",
   "metadata": {},
   "source": [
    "## Functions for computing Expectation value"
   ]
  },
  {
   "cell_type": "code",
   "execution_count": 106,
   "metadata": {},
   "outputs": [],
   "source": [
    "def binaryToDecimal(binary):  \n",
    "    binary1 = binary \n",
    "    decimal, i, n = 0, 0, 0\n",
    "    while(binary != 0): \n",
    "        dec = binary % 10\n",
    "        decimal = decimal + dec * pow(2, i) \n",
    "        binary = binary//10\n",
    "        i += 1\n",
    "    return decimal"
   ]
  },
  {
   "cell_type": "code",
   "execution_count": 107,
   "metadata": {},
   "outputs": [],
   "source": [
    "def get_expec_val_H2(results, h, shots = 1024):\n",
    "    keys = results.get_counts().keys()\n",
    "    e_val = 0\n",
    "    for key in keys:\n",
    "        counts =int(results.get_counts()[key])\n",
    "        \n",
    "        key_val = int(key)\n",
    "        key_dval = int(binaryToDecimal(key_val))\n",
    "        \n",
    "        ## II\n",
    "        if (h==0):\n",
    "            e_val += (int(counts)/shots)\n",
    "        ## IZ\n",
    "        elif (h==1):\n",
    "            if (key_dval == 1 or key_dval==3):\n",
    "                e_val += (-1)*(int(counts)/shots)\n",
    "            else: \n",
    "                e_val += (int(counts)/shots)\n",
    "         ## ZI\n",
    "        elif (h==2):\n",
    "            if (key_dval == 2 or key_dval==3):\n",
    "                e_val += (-1)*(int(counts)/shots)\n",
    "            else: \n",
    "                e_val += (int(counts)/shots)\n",
    "        ## ZZ and XX(measured in ZZ basis)\n",
    "        elif(h==3 or h==4):\n",
    "            # 00 and 11 are +1 eigenvalues and others are -1\n",
    "            if (key_dval == 0 or key_dval == 3):\n",
    "                e_val += (int(counts)/shots)\n",
    "            else:\n",
    "                e_val += (-1)*(int(counts)/shots)\n",
    "    return e_val\n",
    "    "
   ]
  },
  {
   "cell_type": "markdown",
   "metadata": {},
   "source": [
    "# Running the circuit on all 19 noise models (Ideal simulator, 18 noisy simulators)"
   ]
  },
  {
   "cell_type": "code",
   "execution_count": 108,
   "metadata": {},
   "outputs": [],
   "source": [
    "from qiskit import Aer\n",
    "simulator = Aer.get_backend('qasm_simulator')"
   ]
  },
  {
   "cell_type": "markdown",
   "metadata": {},
   "source": [
    "### Function to evaluate circuits"
   ]
  },
  {
   "cell_type": "code",
   "execution_count": 109,
   "metadata": {},
   "outputs": [],
   "source": [
    "def evaluator(circuits, noise_model = None, \n",
    "              weights =  [-1.053, 0.395, -0.395, -0.011, 0.181]):\n",
    "    \"\"\"\n",
    "    Input: circuits, noise model to run on , weights of the local hammys\n",
    "    Output: expectation value (energy)\n",
    "    \n",
    "    \"\"\"\n",
    "    \n",
    "    #Running the circuits \n",
    "    results = []\n",
    "    for circ in circuits: \n",
    "        job =  execute(circ, backend = simulator, noise_model = noise_model, shots = 1024)\n",
    "        result = job.result()\n",
    "        results.append(result)\n",
    "    \n",
    "    #Converting counts to expec values of local hammys\n",
    "    \n",
    "    n = 5 #if 5 hammys, then length is 5, 5th one is assumed to be XX\n",
    "    hammyfied_vals = []\n",
    "    for i in range(n): \n",
    "        if (i <4):\n",
    "            c = 0\n",
    "        else: \n",
    "            c= 1\n",
    "        hammyfied_val = get_expec_val_H2(results[c], i)\n",
    "        hammyfied_vals.append(hammyfied_val)\n",
    "    \n",
    "    #Combining expectation values of local hamiltonians with the weights and adding nuclear repulsion energy\n",
    "    \n",
    "    shift = 0.7151043390810812\n",
    "    expec_val = 0 + shift\n",
    "    for i in range(len(hammyfied_vals)): \n",
    "        expec_val += weights[i]*hammyfied_vals[i]\n",
    "        \n",
    "    return expec_val\n",
    "    "
   ]
  },
  {
   "cell_type": "code",
   "execution_count": 110,
   "metadata": {},
   "outputs": [],
   "source": [
    "from qiskit import Aer\n",
    "simulator = Aer.get_backend('qasm_simulator')"
   ]
  },
  {
   "cell_type": "code",
   "execution_count": 111,
   "metadata": {},
   "outputs": [
    {
     "name": "stdout",
     "output_type": "stream",
     "text": [
      "Running Pure first\n",
      "---------0 models done--------------\n",
      "---------1 models done--------------\n",
      "---------2 models done--------------\n",
      "---------3 models done--------------\n",
      "---------4 models done--------------\n",
      "---------5 models done--------------\n",
      "---------6 models done--------------\n",
      "---------7 models done--------------\n",
      "---------8 models done--------------\n",
      "Running ImPure next\n",
      "---------0 models done--------------\n",
      "---------1 models done--------------\n",
      "---------2 models done--------------\n",
      "---------3 models done--------------\n",
      "---------4 models done--------------\n",
      "---------5 models done--------------\n",
      "---------6 models done--------------\n",
      "---------7 models done--------------\n",
      "---------8 models done--------------\n",
      "Running Ideal last\n"
     ]
    }
   ],
   "source": [
    "n_samples = 1000\n",
    "\n",
    "ideal_mean = 0\n",
    "idea_err = 0\n",
    "pure_means = []\n",
    "impure_means = []\n",
    "pure_errs = []\n",
    "impure_errs = []\n",
    "\n",
    "#Running Pure first\n",
    "print('Running Pure first')\n",
    "\n",
    "for nm in range(len(noise_models_pure)): \n",
    "    noise_model = noise_models_pure[nm]\n",
    "    results = []\n",
    "    for i in range(n_samples): \n",
    "#         # for tracking results \n",
    "#         if (i%25 == 0): \n",
    "#             print('---------'+str(i) + ' samples done--------------')\n",
    "        result = evaluator(less_circuits, noise_model)\n",
    "        results.append(result)\n",
    "    mean = np.mean(results)\n",
    "    err = np.std(results)/np.sqrt(len(results))\n",
    "    pure_means.append(mean)\n",
    "    pure_errs.append(err)\n",
    "    print('---------'+str(nm) + ' models done--------------')\n",
    "\n",
    "#impure next\n",
    "\n",
    "print('Running ImPure next')\n",
    "for nm in range(len(noise_models_impure)): \n",
    "    \n",
    "    noise_model = noise_models_impure[nm]\n",
    "    results = []\n",
    "    for i in range(n_samples): \n",
    "#         # for tracking results \n",
    "#         if (i%25 == 0): \n",
    "#             print('---------'+str(i) + ' samples done--------------')\n",
    "        result = evaluator(less_circuits, noise_model)\n",
    "        results.append(result)\n",
    "    mean = np.mean(results)\n",
    "    err = np.std(results)/np.sqrt(len(results))\n",
    "    impure_means.append(mean)\n",
    "    impure_errs.append(err)\n",
    "    print('---------'+str(nm) + ' models done--------------')\n",
    "\n",
    "print('Running Ideal last')\n",
    "#ideal sim last\n",
    "results = []\n",
    "for i in range(n_samples): \n",
    "#     # for tracking results \n",
    "#     if (i%25 == 0): \n",
    "#         print('---------'+str(i) + ' samples done--------------')\n",
    "    result = evaluator(less_circuits)\n",
    "    results.append(result)\n",
    "ideal_mean = np.mean(results)\n",
    "ideal_err = np.std(results)/np.sqrt(len(results))\n",
    "\n",
    "        \n"
   ]
  },
  {
   "cell_type": "markdown",
   "metadata": {},
   "source": [
    "## Plotting Results"
   ]
  },
  {
   "cell_type": "code",
   "execution_count": 112,
   "metadata": {},
   "outputs": [
    {
     "data": {
      "image/png": "[encoded data removed]",
      "text/plain": [
       "<Figure size 432x288 with 1 Axes>"
      ]
     },
     "metadata": {
      "needs_background": "light"
     },
     "output_type": "display_data"
    }
   ],
   "source": [
    "import matplotlib.pyplot as plt\n",
    "\n",
    "f = plt.figure()\n",
    "plt.errorbar(0, ideal_mean, yerr=ideal_err,capsize = 10, fmt ='o', label = 'Ideal Simulator' )\n",
    "plt.errorbar(scales, impure_means, yerr=impure_errs,capsize = 10, fmt ='o', label = 'With Readout Errors' )\n",
    "plt.errorbar(scales, pure_means, yerr=pure_errs,capsize = 10, fmt ='o', label = 'Without Readout Errors' )\n",
    "\n",
    "plt.title('Mean Energies (using a self constructed noise model mimicking London device)')\n",
    "plt.xlabel('scale factors')\n",
    "plt.ylabel('Energy (Hartree)')\n",
    "plt.legend()\n",
    "plt.show()\n",
    "f.savefig('1000sample.png', dpi = 1000)"
   ]
  },
  {
   "cell_type": "code",
   "execution_count": 98,
   "metadata": {},
   "outputs": [
    {
     "data": {
      "text/plain": [
       "-1.137769098418919"
      ]
     },
     "execution_count": 98,
     "metadata": {},
     "output_type": "execute_result"
    }
   ],
   "source": [
    "ideal_mean"
   ]
  },
  {
   "cell_type": "code",
   "execution_count": 99,
   "metadata": {},
   "outputs": [
    {
     "data": {
      "text/plain": [
       "[-1.0727099187314189,\n",
       " -1.0424255242001688,\n",
       " -1.0092176726376687,\n",
       " -0.9811469890439186,\n",
       " -0.9513861296689189,\n",
       " -0.9269916570126688,\n",
       " -0.9007952898251689,\n",
       " -0.8778274187314188,\n",
       " -0.8489748992001688]"
      ]
     },
     "execution_count": 99,
     "metadata": {},
     "output_type": "execute_result"
    }
   ],
   "source": [
    "pure_means"
   ]
  },
  {
   "cell_type": "code",
   "execution_count": null,
   "metadata": {},
   "outputs": [],
   "source": []
  }
 ],
 "metadata": {
  "kernelspec": {
   "display_name": "Python 3",
   "language": "python",
   "name": "python3"
  },
  "language_info": {
   "codemirror_mode": {
    "name": "ipython",
    "version": 3
   },
   "file_extension": ".py",
   "mimetype": "text/x-python",
   "name": "python",
   "nbconvert_exporter": "python",
   "pygments_lexer": "ipython3",
   "version": "3.7.6"
  }
 },
 "nbformat": 4,
 "nbformat_minor": 4
}
