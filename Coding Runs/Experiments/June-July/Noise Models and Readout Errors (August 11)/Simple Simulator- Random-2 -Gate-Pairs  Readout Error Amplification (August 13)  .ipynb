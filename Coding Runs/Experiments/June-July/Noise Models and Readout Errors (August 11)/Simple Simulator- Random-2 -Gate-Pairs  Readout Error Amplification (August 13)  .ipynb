{
 "cells": [
  {
   "cell_type": "markdown",
   "metadata": {},
   "source": [
    "# Amplifying Noise on Optimized VQE Circuit (H2 at 0.74 ang via Simulator) by random addition of both single and 2 qubit gates.\n",
    "\n",
    "# Also amplifyig readout errors"
   ]
  },
  {
   "cell_type": "code",
   "execution_count": 1,
   "metadata": {},
   "outputs": [],
   "source": [
    "%matplotlib inline\n",
    "# Importing standard Qiskit libraries and configuring account\n",
    "from qiskit import QuantumCircuit, execute, Aer, IBMQ\n",
    "from qiskit.compiler import transpile, assemble\n",
    "from qiskit.tools.jupyter import *\n",
    "from qiskit import *\n",
    "from qiskit.visualization import *\n",
    "# Loading your IBM Q account(s)\n",
    "provider = IBMQ.load_account()"
   ]
  },
  {
   "cell_type": "code",
   "execution_count": 2,
   "metadata": {},
   "outputs": [
    {
     "data": {
      "image/png": "[encoded data removed]",
      "text/plain": [
       "<Figure size 1683.19x325.08 with 1 Axes>"
      ]
     },
     "execution_count": 2,
     "metadata": {},
     "output_type": "execute_result"
    }
   ],
   "source": [
    "string = \"\"\"OPENQASM 2.0;\\ninclude \"qelib1.inc\";\\nqreg q[2];\\nu3(pi,0,pi) q[0];\\nu3(pi/2,-pi/2,pi/2) q[0];\\nu3(0,0,3.6279236e-05) q[0];\\nu3(-pi/2,-pi/2,pi/2) q[0];\\nu3(pi/2,-pi/2,pi/2) q[0];\\nu3(pi/2,-pi/2,pi/2) q[1];\\nu3(0,0,0.00010816593) q[1];\\nu3(-pi/2,-pi/2,pi/2) q[1];\\nu3(pi/2,0,pi) q[1];\\ncx q[0],q[1];\\nu3(0,0,0.11268152) q[1];\\ncx q[0],q[1];\\nu3(-pi/2,-pi/2,pi/2) q[0];\\nu3(pi/2,0,pi) q[0];\\nu3(pi/2,0,pi) q[1];\\nu3(pi/2,-pi/2,pi/2) q[1];\\ncx q[0],q[1];\\nu3(0,0,-0.11268152) q[1];\\ncx q[0],q[1];\\nu3(pi/2,0,pi) q[0];\\nu3(-pi/2,-pi/2,pi/2) q[1];\\n\"\"\"\n",
    "vqe_circ = QuantumCircuit.from_qasm_str(string)\n",
    "vqe_circ.draw(output = 'mpl')"
   ]
  },
  {
   "cell_type": "markdown",
   "metadata": {},
   "source": [
    "### Functions for Noise Amplification"
   ]
  },
  {
   "cell_type": "code",
   "execution_count": 3,
   "metadata": {},
   "outputs": [],
   "source": [
    "def u3PairAdder(orig_gate_str): \n",
    "    \"\"\"\n",
    "    Input: a qasm string corresponding to a gate\n",
    "    Output: a pair of gates in qasm string representation to amplify error in the given gate by factor of 3\n",
    "    \"\"\"\n",
    "    # Converting the gate string to array \n",
    "    \n",
    "    ##break up the string \n",
    "    strings = orig_gate_str.split(\"(\")\n",
    "    temp =[]\n",
    "    for string in strings: \n",
    "        temp = temp + string.split(\")\")\n",
    "    strings = temp \n",
    "    temp =[]\n",
    "    for string in strings: \n",
    "        temp = temp + string.split(\",\")\n",
    "    strings = temp \n",
    "    temp = []\n",
    "    for string in strings: \n",
    "        temp = temp + string.split(\"*\")\n",
    "    strings = temp\n",
    "    \n",
    "    #Obtaining all useful information \n",
    "    gate = strings[0]\n",
    "    qubit = strings[4]\n",
    "    orig_angles = strings[1:4]\n",
    "    \n",
    "    #new angles \n",
    "    new_angles = orig_angles \n",
    "    \n",
    "    ## U3 ^-1(  theta,  phi, lambda) = U3( theta , -pi - lambda, - pi - phi)\n",
    "    \n",
    "    ###Part 1: Inverting and adding - pi to 2nd and 3rd angle\n",
    "    for i in range(1,3): \n",
    "        if new_angles[i][0] == '-': \n",
    "            \n",
    "            if new_angles[i] == '-pi': \n",
    "                new_angles[i] = str(-math.pi +math.pi)\n",
    "            elif new_angles[i] == '-pi/2': \n",
    "                new_angles[i] = str(-math.pi +(math.pi/2))\n",
    "            else:\n",
    "                new_angles[i] = str(-math.pi +float(new_angles[i][1:]))\n",
    "        else: \n",
    "            if new_angles[i] == 'pi': \n",
    "                new_angles[i] = str(-math.pi -math.pi)\n",
    "            elif new_angles[i] == 'pi/2': \n",
    "                new_angles[i] = str(-math.pi -(math.pi/2))\n",
    "            else:\n",
    "                new_angles[i] = str(-math.pi+ (-1)*float(new_angles[i]))\n",
    "    ###Part 2: Switching the 2nd and 3rd angles\n",
    "    new_angles = [new_angles[0], new_angles[2], new_angles[1]]\n",
    "            \n",
    "\n",
    "    #creating inverted gate\n",
    "    new_gate_str = gate + '(' + new_angles[0] + ',' + new_angles[1] + ',' + new_angles[2] + ')' + qubit\n",
    "    \n",
    "    #barrier \n",
    "    barrier =\"\"\"barrier q[0],q[1];\"\"\"\n",
    "    \n",
    "    return barrier + '\\n' + new_gate_str + '\\n'+ barrier + '\\n' + orig_gate_str + '\\n' + barrier + '\\n' + new_gate_str + '\\n'+ barrier + '\\n' + orig_gate_str + '\\n' + barrier + '\\n'\n",
    "    "
   ]
  },
  {
   "cell_type": "code",
   "execution_count": 4,
   "metadata": {},
   "outputs": [],
   "source": [
    "def cXPairAdder(orig_gate_str): \n",
    "    \"\"\"\n",
    "    Input: a qasm string corresponding to a gate\n",
    "    Output: a pair of gates in qasm string representation to amplify error in the given gate by factor of 3\n",
    "    \"\"\"\n",
    "    #barrier for 2 qubit circuit only\n",
    "    barrier =\"\"\"barrier q[0],q[1];\"\"\"\n",
    "    \n",
    "    return barrier + '\\n' + orig_gate_str +'\\n' +barrier + '\\n'+orig_gate_str + '\\n' + barrier + '\\n' + orig_gate_str +'\\n' +barrier + '\\n'+orig_gate_str + '\\n' + barrier + '\\n'"
   ]
  },
  {
   "cell_type": "code",
   "execution_count": 5,
   "metadata": {},
   "outputs": [],
   "source": [
    "import random \n",
    "\n",
    "def RandomAmplification(circ, c): \n",
    "    \"\"\"\n",
    "    Input: a circuit, and scaling factor between 1 and 3 (inclusive)\n",
    "    Output: circuit with amplified error rate using adding-pair-of-gates tactic\n",
    "    \"\"\"\n",
    "    \n",
    "    #probability to add a pair of gates \n",
    "    g = (c-1)/4\n",
    "    \n",
    "    #iterating over the circuit in string representation\n",
    "    \n",
    "    \n",
    "    newqasm_str=\"\"\n",
    "    circ_str=circ.qasm()\n",
    "    \n",
    "    qregname=circ.qregs[0].name\n",
    "    \n",
    "    for line in iter(circ_str.splitlines()):\n",
    "        \n",
    "        if line.startswith('cx') or line.startswith('u3'):\n",
    "            \n",
    "            #doing a toss to see if we have to amplify \n",
    "            if random.randint(1,101) <= 100*g : \n",
    "                \n",
    "                #adding the original line first \n",
    "                ##barrier \n",
    "                barrier =\"\"\"barrier q[0],q[1];\"\"\"\n",
    "                newqasm_str+= barrier + '\\n' + line + '\\n'+ barrier + '\\n'\n",
    "                if line.startswith('cx'):\n",
    "                    newqasm_str += cXPairAdder(line)\n",
    "                else: \n",
    "                    newqasm_str += u3PairAdder(line)\n",
    "            else: \n",
    "                newqasm_str+=line+\"\\n\"\n",
    "        else:\n",
    "            newqasm_str+=line+\"\\n\"\n",
    "\n",
    "    circo=QuantumCircuit().from_qasm_str(newqasm_str)\n",
    "    \n",
    "    return circo \n"
   ]
  },
  {
   "cell_type": "markdown",
   "metadata": {},
   "source": [
    "### Functions for Readout Error Amplification"
   ]
  },
  {
   "cell_type": "code",
   "execution_count": 6,
   "metadata": {},
   "outputs": [],
   "source": [
    "def one_qubit_readout_error_matrix(qubit_n, scale = 1):\n",
    "    \"\"\"\n",
    "    Input: which qubit on the london device, scale (for noise scaling)\n",
    "    Generates the readout error matrix\n",
    "    \n",
    "    organized as \n",
    "    \n",
    "    P(0|0)  P(0|1)\n",
    "    P(1|0)  P(1|1)\n",
    "    \n",
    "    \"\"\"\n",
    "    if (qubit_n == 0): \n",
    "        errors = [0.013333333333333334, 0.073]\n",
    "    elif (qubit_n == 1): \n",
    "        errors = [0.02, 0.0449]\n",
    "    x, y = errors\n",
    "    x = scale*x\n",
    "    y = scale*y\n",
    "    \n",
    "    matrix = [[1-x, y], [x, 1-y]]\n",
    "    \n",
    "    return matrix\n",
    "\n",
    "def column_sum_to_1(matrix): \n",
    "    \"\"\"\n",
    "    Makes sure that columns of a 2x2 matrix sum to 1\n",
    "    \"\"\"\n",
    "    matrix = np.transpose(matrix)\n",
    "    \n",
    "    for r in range(len(matrix)):\n",
    "        summ = 0\n",
    "        for c in range(len(matrix[r])):\n",
    "            summ += matrix[r][c]\n",
    "        for c in range(len(matrix[r])): \n",
    "            matrix[r][c] = (matrix[r][c])/summ\n",
    "            \n",
    "    matrix = np.transpose(matrix)\n",
    "    return matrix\n",
    "        \n",
    "\n",
    "def two_qubit_readout_error_matrix(mat_1, mat_2):\n",
    "    \"\"\"\n",
    "    Input: corresponding readout error matrices of the 2 qubits\n",
    "    Output: their kronecker product\n",
    "    \"\"\"\n",
    "    P = mat_1\n",
    "    Q = mat_2\n",
    "    \n",
    "    matrix = column_sum_to_1(np.kron(P,Q))\n",
    "    return matrix\n",
    "\n",
    "def get_2_qubit_readout_matrix_regular(scale): \n",
    "    \"\"\"\n",
    "    for amplifying readout errors\n",
    "    \"\"\"\n",
    "    \n",
    "    #what should happen after all\n",
    "    P_scale =  one_qubit_readout_error_matrix(1, scale)\n",
    "    Q_scale = one_qubit_readout_error_matrix(0, scale)\n",
    "    R_scale = two_qubit_readout_error_matrix(P_scale, Q_scale)\n",
    "    \n",
    "    return R_scale\n",
    "\n",
    "def get_2_qubit_readout_matrix_after_readout_measurement(scale): \n",
    "    \"\"\"\n",
    "    for amplifying readout errors\n",
    "    \"\"\"\n",
    "    #what already happened\n",
    "    P_1 = one_qubit_readout_error_matrix(1)\n",
    "    Q_1 = one_qubit_readout_error_matrix(0)\n",
    "    R_1 = two_qubit_readout_error_matrix(P_1, Q_1)\n",
    "    \n",
    "    #what should happen after all\n",
    "    P_scale =  one_qubit_readout_error_matrix(1, scale)\n",
    "    Q_scale = one_qubit_readout_error_matrix(0, scale)\n",
    "    R_scale = two_qubit_readout_error_matrix(P_scale, Q_scale)\n",
    "    \n",
    "    #what then needs to happen \n",
    "    \"\"\"\n",
    "    XR_1 = R_scale\n",
    "    X = R_scale*(R_1)^-1\n",
    "    \"\"\"\n",
    "    inverse = np.linalg.inv(R_1)\n",
    "    X = np.dot(R_scale, inverse)\n",
    "    \n",
    "    return X\n",
    "\n",
    "def counts_to_array(counts): \n",
    "    \"\"\"\n",
    "    Turning counts (dict) to array format ...for matrix multiplication\n",
    "    \"\"\"\n",
    "    array = [[counts['00']],[counts['01']], [counts['10']], [counts['10']] ]\n",
    "    return array\n",
    "def array_to_counts(array, shots = 1024):\n",
    "    \"\"\"\n",
    "    Turning array into counts(dict)\n",
    "    \"\"\"\n",
    "    #making sure the array has correct number of shots\n",
    "    summ = 0\n",
    "    for i in array: \n",
    "        summ+=i\n",
    "    new_array = [(i/summ)*1024 for i in array]\n",
    "    \n",
    "    counts = {'00': float(new_array[0]), '01': float(new_array[1]), '10':float(new_array[2]), '11': float(new_array[3])}\n",
    "    \n",
    "    return counts\n",
    "\n",
    "def counts_after_readout_amp(counts, scale):\n",
    "    \"\"\"\n",
    "    Input: Counts, amplification factor\n",
    "    Output: modified counts\n",
    "    \"\"\"\n",
    "    array = counts_to_array(counts)\n",
    "    matrix = get_2_qubit_readout_matrix_after_readout_measurement(scale)\n",
    "    new_array = np.dot(matrix, array)\n",
    "    \n",
    "    return array_to_counts(new_array)"
   ]
  },
  {
   "cell_type": "markdown",
   "metadata": {},
   "source": [
    "### Hammyfication: Breaking Circuits into 2 copies, 1 for II, IZ, ZI and ZZ and the other for XX"
   ]
  },
  {
   "cell_type": "code",
   "execution_count": 7,
   "metadata": {},
   "outputs": [],
   "source": [
    "from qiskit import ClassicalRegister\n",
    "import math\n",
    "\n",
    "Hamiltonian = \"\"\"II\n",
    "IZ \n",
    "ZI\n",
    "ZZ\n",
    "XX\"\"\"\n",
    "\n",
    "Hamiltonian_weights = [-1.053, 0.395, -0.395, -0.011, 0.181]\n",
    "\n",
    "\n",
    "circuits = []\n",
    "for line in iter(Hamiltonian.splitlines()):\n",
    "    circ = vqe_circ.copy()\n",
    "    for index in range(len(line)):\n",
    "        op = line[index]\n",
    "        \n",
    "        ##do nothing if Z or I\n",
    "        if(op == \"X\"): \n",
    "            #hadamard in u3\n",
    "            circ.u3(math.pi/2, 0, math.pi, index)\n",
    "        elif(op == \"Y\"):\n",
    "            circ.rx(pi/2, index)\n",
    "    c = ClassicalRegister(2)\n",
    "    circ.add_register(c)\n",
    "    circ.measure([0], [0])\n",
    "    circ.measure([1],[1])\n",
    "    circuits.append(circ)"
   ]
  },
  {
   "cell_type": "code",
   "execution_count": 8,
   "metadata": {},
   "outputs": [],
   "source": [
    "less_circuits = [circuits[0], circuits[4]]"
   ]
  },
  {
   "cell_type": "code",
   "execution_count": 9,
   "metadata": {},
   "outputs": [
    {
     "data": {
      "image/png": "[encoded data removed]",
      "text/plain": [
       "<Figure size 1683.19x445.48 with 1 Axes>"
      ]
     },
     "execution_count": 9,
     "metadata": {},
     "output_type": "execute_result"
    }
   ],
   "source": [
    "less_circuits[0].draw(output = 'mpl')"
   ]
  },
  {
   "cell_type": "code",
   "execution_count": 10,
   "metadata": {},
   "outputs": [
    {
     "data": {
      "image/png": "[encoded data removed]",
      "text/plain": [
       "<Figure size 1683.19x445.48 with 1 Axes>"
      ]
     },
     "execution_count": 10,
     "metadata": {},
     "output_type": "execute_result"
    }
   ],
   "source": [
    "less_circuits[1].draw(output = 'mpl')\n",
    "#hadamrd in u3 language"
   ]
  },
  {
   "cell_type": "markdown",
   "metadata": {},
   "source": [
    "### Noise Amplification of Circuits"
   ]
  },
  {
   "cell_type": "code",
   "execution_count": 11,
   "metadata": {},
   "outputs": [
    {
     "name": "stdout",
     "output_type": "stream",
     "text": [
      "------------------------------Starting Scale: 1 ---------------------\n",
      "Starting Hammified Circ\n",
      "Starting Hammified Circ\n",
      "------------------------------Starting Scale: 1.5 ---------------------\n",
      "Starting Hammified Circ\n",
      "Starting Hammified Circ\n",
      "------------------------------Starting Scale: 2 ---------------------\n",
      "Starting Hammified Circ\n",
      "Starting Hammified Circ\n",
      "------------------------------Starting Scale: 2.5 ---------------------\n",
      "Starting Hammified Circ\n",
      "Starting Hammified Circ\n",
      "------------------------------Starting Scale: 3 ---------------------\n",
      "Starting Hammified Circ\n",
      "Starting Hammified Circ\n",
      "------------------------------Starting Scale: 3.5 ---------------------\n",
      "Starting Hammified Circ\n",
      "Starting Hammified Circ\n",
      "------------------------------Starting Scale: 4 ---------------------\n",
      "Starting Hammified Circ\n",
      "Starting Hammified Circ\n",
      "------------------------------Starting Scale: 4.5 ---------------------\n",
      "Starting Hammified Circ\n",
      "Starting Hammified Circ\n",
      "------------------------------Starting Scale: 5 ---------------------\n",
      "Starting Hammified Circ\n",
      "Starting Hammified Circ\n"
     ]
    }
   ],
   "source": [
    "lots_scaled_circuits = []\n",
    "n_samples = 1000\n",
    "scales = [1,1.5,2,2.5,3, 3.5, 4,4.5, 5]\n",
    "\n",
    "for c in scales:\n",
    "    scale_circs = []\n",
    "    print('------------------------------Starting Scale: ' +str(c) + ' ---------------------')\n",
    "    \n",
    "    for hammyfied_circ in less_circuits: \n",
    "        hammyfied_circs = []\n",
    "        print( \"Starting Hammified Circ\")\n",
    "        for i in range(n_samples):\n",
    "            combo_circ = []\n",
    "            circ = hammyfied_circ.copy()\n",
    "            amp_circ = RandomAmplification(circ, c)\n",
    "            hammyfied_circs.append(amp_circ)\n",
    "        scale_circs.append(hammyfied_circs)\n",
    "    lots_scaled_circuits.append(scale_circs)"
   ]
  },
  {
   "cell_type": "markdown",
   "metadata": {},
   "source": [
    "### Expectation Value Functions"
   ]
  },
  {
   "cell_type": "code",
   "execution_count": 12,
   "metadata": {},
   "outputs": [],
   "source": [
    "def binaryToDecimal(binary):  \n",
    "    binary1 = binary \n",
    "    decimal, i, n = 0, 0, 0\n",
    "    while(binary != 0): \n",
    "        dec = binary % 10\n",
    "        decimal = decimal + dec * pow(2, i) \n",
    "        binary = binary//10\n",
    "        i += 1\n",
    "    return decimal"
   ]
  },
  {
   "cell_type": "code",
   "execution_count": 13,
   "metadata": {},
   "outputs": [],
   "source": [
    "def get_expec_val_H2(results, h, shots = 1024):\n",
    "    keys = results.keys()\n",
    "    e_val = 0\n",
    "    for key in keys:\n",
    "        counts =int(results[key])\n",
    "        \n",
    "        key_val = int(key)\n",
    "        key_dval = int(binaryToDecimal(key_val))\n",
    "        \n",
    "        ## II\n",
    "        if (h==0):\n",
    "            e_val += (int(counts)/shots)\n",
    "        ## IZ\n",
    "        elif (h==1):\n",
    "            if (key_dval == 1 or key_dval==3):\n",
    "                e_val += (-1)*(int(counts)/shots)\n",
    "            else: \n",
    "                e_val += (int(counts)/shots)\n",
    "         ## ZI\n",
    "        elif (h==2):\n",
    "            if (key_dval == 2 or key_dval==3):\n",
    "                e_val += (-1)*(int(counts)/shots)\n",
    "            else: \n",
    "                e_val += (int(counts)/shots)\n",
    "        ## ZZ and XX(measured in ZZ basis)\n",
    "        elif(h==3 or h==4):\n",
    "            # 00 and 11 are +1 eigenvalues and others are -1\n",
    "            if (key_dval == 0 or key_dval == 3):\n",
    "                e_val += (int(counts)/shots)\n",
    "            else:\n",
    "                e_val += (-1)*(int(counts)/shots)\n",
    "    return e_val\n",
    "    "
   ]
  },
  {
   "cell_type": "markdown",
   "metadata": {},
   "source": [
    "### Running Circuits"
   ]
  },
  {
   "cell_type": "code",
   "execution_count": 14,
   "metadata": {},
   "outputs": [],
   "source": [
    "from qiskit.providers.aer.noise import NoiseModel\n",
    "from qiskit.providers.aer import noise\n",
    "from qiskit.aqua import QuantumInstance\n",
    "from qiskit.providers.aer.noise import QuantumError, ReadoutError, depolarizing_error\n",
    "import numpy as np\n",
    "\n",
    "provider = IBMQ.get_provider(hub='ibm-q')\n",
    "machine = provider.get_backend('ibmq_london')\n",
    "noise_model = NoiseModel.from_backend(machine)\n",
    "simulator = Aer.get_backend('qasm_simulator')\n",
    "\n",
    "basis_gates = noise_model.basis_gates"
   ]
  },
  {
   "cell_type": "code",
   "execution_count": 15,
   "metadata": {},
   "outputs": [],
   "source": [
    "# Error probabilities\n",
    "prob_1 = 0.001  # 1-qubit gate\n",
    "prob_2 = 0.02   # 2-qubit gate\n",
    "\n",
    "#creating gate errors\n",
    "error_1 = noise.depolarizing_error(prob_1, 1)\n",
    "error_2 = noise.depolarizing_error(prob_2, 2)\n",
    "\n",
    "\n",
    "#creating readout error\n",
    "P =  np.transpose(one_qubit_readout_error_matrix(0))\n",
    "Q = np.transpose(one_qubit_readout_error_matrix(1))\n",
    "\n",
    "#readout_error = ReadoutError(probabilities)\n",
    "readout_error_1 = ReadoutError(P)\n",
    "readout_error_2 = ReadoutError(Q)\n",
    "\n",
    "#adding all the errors \n",
    "\n",
    "\n",
    "# Add errors to noise model\n",
    "noise_model = noise.NoiseModel()\n",
    "noise_model.add_all_qubit_quantum_error(error_1, ['u1', 'u2', 'u3'])\n",
    "noise_model.add_all_qubit_quantum_error(error_2, ['cx'])\n",
    "\n",
    "\n",
    "#now adding readout error \n",
    "noise_model.add_readout_error(readout_error_1, [0])\n",
    "noise_model.add_readout_error(readout_error_2, [1])"
   ]
  },
  {
   "cell_type": "markdown",
   "metadata": {},
   "source": [
    "#### Running Function"
   ]
  },
  {
   "cell_type": "code",
   "execution_count": 16,
   "metadata": {},
   "outputs": [],
   "source": [
    "def evaluator(circuits, noise_model = None, \n",
    "              weights =  [-1.053, 0.395, -0.395, -0.011, 0.181], readout_amp = False, scale = 1):\n",
    "    \"\"\"\n",
    "    Input: circuits, noise model to run on , weights of the local hammys\n",
    "    Output: expectation value (energy)\n",
    "    \n",
    "    \"\"\"\n",
    "    \n",
    "    #Running the circuits \n",
    "    results = []\n",
    "    for circ in circuits: \n",
    "        circ = transpile(circ, basis_gates = basis_gates)\n",
    "        job =  execute(circ, backend = simulator, noise_model = noise_model, shots = 1024)\n",
    "        result = job.result().get_counts()\n",
    "        results.append(result)\n",
    "        \n",
    "    #Amping up readout errors\n",
    "    if (readout_amp): \n",
    "        for i in range(len(results)): \n",
    "            results[i] = counts_after_readout_amp(results[i], scale)\n",
    "    \n",
    "    #Converting counts to expec values of local hammys\n",
    "    \n",
    "    n = 5 #if 5 hammys, then length is 5, 5th one is assumed to be XX\n",
    "    hammyfied_vals = []\n",
    "    for i in range(n): \n",
    "        if (i <4):\n",
    "            c = 0\n",
    "        else: \n",
    "            c= 1\n",
    "        hammyfied_val = get_expec_val_H2(results[c], i)\n",
    "        hammyfied_vals.append(hammyfied_val)\n",
    "    \n",
    "    #Combining expectation values of local hamiltonians with the weights and adding nuclear repulsion energy\n",
    "    \n",
    "    shift = 0.7151043390810812\n",
    "    expec_val = 0 + shift\n",
    "    for i in range(len(hammyfied_vals)): \n",
    "        expec_val += weights[i]*hammyfied_vals[i]\n",
    "        \n",
    "    return expec_val\n",
    "    "
   ]
  },
  {
   "cell_type": "code",
   "execution_count": 17,
   "metadata": {},
   "outputs": [
    {
     "name": "stdout",
     "output_type": "stream",
     "text": [
      "------------------------------Starting Scale 1---------------------\n",
      "------------------------------Starting Scale 1.5---------------------\n",
      "------------------------------Starting Scale 2---------------------\n",
      "------------------------------Starting Scale 2.5---------------------\n",
      "------------------------------Starting Scale 3---------------------\n",
      "------------------------------Starting Scale 3.5---------------------\n",
      "------------------------------Starting Scale 4---------------------\n",
      "------------------------------Starting Scale 4.5---------------------\n",
      "------------------------------Starting Scale 5---------------------\n"
     ]
    }
   ],
   "source": [
    "import numpy as np\n",
    "from qiskit import execute \n",
    "from qiskit.compiler import transpile \n",
    "from qiskit.tools.monitor import job_monitor\n",
    "\n",
    "lots_scaled_results = []\n",
    "means = []\n",
    "std_devs = []\n",
    "err_on_means = []\n",
    "\n",
    "for s in range(len(scales)):\n",
    "    \n",
    "    scale_circs = lots_scaled_circuits[s]\n",
    "    scale = scales[s]\n",
    "    \n",
    "    print('------------------------------Starting Scale ' +str(scale) +'---------------------')\n",
    "    energies = []\n",
    "    \n",
    "    #going over all samples, 1 from iz,Zz,zi,ii box and 1 from xx branch \n",
    "    hammy_box_1 = scale_circs[0]\n",
    "    hammy_box_2 = scale_circs[1]\n",
    "    \n",
    "    for i in range(n_samples):\n",
    "        energy = evaluator([hammy_box_1[i], hammy_box_2[i]], noise_model, readout_amp = True, scale = scale)\n",
    "        energies.append(energy)\n",
    "    \n",
    "    #adding results to means, std_dves\n",
    "    means.append(np.mean(energies))\n",
    "    std_devs.append(np.std(energies))\n",
    "    err_on_means.append(np.std(energies)/np.sqrt(len(energies)))\n"
   ]
  },
  {
   "cell_type": "code",
   "execution_count": 18,
   "metadata": {},
   "outputs": [
    {
     "data": {
      "text/plain": [
       "[-0.9785098367001688,\n",
       " -0.9182290798642313,\n",
       " -0.8613802322079812,\n",
       " -0.8079686384579814,\n",
       " -0.7537573230282938,\n",
       " -0.7059826101376687,\n",
       " -0.6585936199032938,\n",
       " -0.6149629206845437,\n",
       " -0.5717607136532938]"
      ]
     },
     "execution_count": 18,
     "metadata": {},
     "output_type": "execute_result"
    }
   ],
   "source": [
    "means "
   ]
  },
  {
   "cell_type": "code",
   "execution_count": 19,
   "metadata": {},
   "outputs": [
    {
     "data": {
      "text/plain": [
       "[0.014388686207374598,\n",
       " 0.034069734774125685,\n",
       " 0.04217328797993561,\n",
       " 0.04278626637254914,\n",
       " 0.04073480433175139,\n",
       " 0.03821808079948171,\n",
       " 0.03304957770044469,\n",
       " 0.0241363117094252,\n",
       " 0.014438498065928007]"
      ]
     },
     "execution_count": 19,
     "metadata": {},
     "output_type": "execute_result"
    }
   ],
   "source": [
    "std_devs"
   ]
  },
  {
   "cell_type": "code",
   "execution_count": 20,
   "metadata": {},
   "outputs": [
    {
     "data": {
      "text/plain": [
       "[0.0004550102095275358,\n",
       " 0.0010773796116407945,\n",
       " 0.0013336364643479802,\n",
       " 0.0013530205431192572,\n",
       " 0.0012881476172962754,\n",
       " 0.0012085618312671108,\n",
       " 0.001045119412401153,\n",
       " 0.0007632571931757578,\n",
       " 0.0004565853988026849]"
      ]
     },
     "execution_count": 20,
     "metadata": {},
     "output_type": "execute_result"
    }
   ],
   "source": [
    "err_on_means"
   ]
  },
  {
   "cell_type": "markdown",
   "metadata": {},
   "source": [
    "### Plotting Results"
   ]
  },
  {
   "cell_type": "code",
   "execution_count": 21,
   "metadata": {},
   "outputs": [
    {
     "data": {
      "image/png": "[encoded data removed]",
      "text/plain": [
       "<Figure size 432x288 with 1 Axes>"
      ]
     },
     "metadata": {
      "needs_background": "light"
     },
     "output_type": "display_data"
    }
   ],
   "source": [
    "import matplotlib.pyplot as plt\n",
    "#Plotting the results \n",
    "vqe_mean = means\n",
    "vqe_std = std_devs\n",
    "vqe_err  = err_on_means\n",
    "\n",
    "#Plotting means \n",
    "plt.figure()\n",
    "plt.errorbar(scales, vqe_mean, yerr=vqe_err,capsize = 10, fmt ='o', label = 'measured energies' )\n",
    "plt.plot(0, -1.137, 'ro', label = 'exact energy')\n",
    "\n",
    "plt.title('Mean Energies')\n",
    "plt.xlabel('scale factors')\n",
    "plt.ylabel('Energy (Hartree)')\n",
    "plt.legend()\n",
    "plt.show()"
   ]
  },
  {
   "cell_type": "code",
   "execution_count": null,
   "metadata": {},
   "outputs": [],
   "source": []
  },
  {
   "cell_type": "code",
   "execution_count": null,
   "metadata": {},
   "outputs": [],
   "source": []
  }
 ],
 "metadata": {
  "kernelspec": {
   "display_name": "Python 3",
   "language": "python",
   "name": "python3"
  },
  "language_info": {
   "codemirror_mode": {
    "name": "ipython",
    "version": 3
   },
   "file_extension": ".py",
   "mimetype": "text/x-python",
   "name": "python",
   "nbconvert_exporter": "python",
   "pygments_lexer": "ipython3",
   "version": "3.7.6"
  }
 },
 "nbformat": 4,
 "nbformat_minor": 4
}
