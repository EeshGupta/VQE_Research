{
 "cells": [
  {
   "cell_type": "code",
   "execution_count": 13,
   "metadata": {},
   "outputs": [],
   "source": [
    "number_of_amp = 0"
   ]
  },
  {
   "cell_type": "code",
   "execution_count": 19,
   "metadata": {},
   "outputs": [],
   "source": [
    "import random \n",
    "\n",
    "def RandomAmplification(circ, c): \n",
    "    \"\"\"\n",
    "    Input: a circuit, and scaling factor between 1 and 3 (inclusive)\n",
    "    Output: circuit with amplified error rate using adding-pair-of-gates tactic\n",
    "    \"\"\"\n",
    "    \n",
    "    #probability to add a pair of gates \n",
    "    g = (c-1)/2\n",
    "    \n",
    "    #iterating over the circuit in string representation\n",
    "    \n",
    "    \n",
    "    newqasm_str=\"\"\n",
    "    circ_str=circ.qasm()\n",
    "    \n",
    "    qregname=circ.qregs[0].name\n",
    "    \n",
    "    for line in iter(circ_str.splitlines()):\n",
    "        \n",
    "        if line.startswith('cx') or line.startswith('u3'):\n",
    "            \n",
    "            #doing a toss to see if we have to amplify \n",
    "            if random.randint(1,101) <= 100*g : \n",
    "                global number_of_amp\n",
    "                number_of_amp+=1\n",
    "                \n",
    "                #adding the original line first \n",
    "                ##barrier \n",
    "                barrier =\"\"\"barrier q[0],q[1];\"\"\"\n",
    "                newqasm_str+= barrier + '\\n' + line + '\\n'+ barrier + '\\n'\n",
    "                if line.startswith('cx'):\n",
    "                    newqasm_str += cXPairAdder(line)\n",
    "                else: \n",
    "                    newqasm_str += u3PairAdder(line)\n",
    "            else: \n",
    "                newqasm_str+=line+\"\\n\"\n",
    "        else:\n",
    "            newqasm_str+=line+\"\\n\"\n",
    "\n",
    "    circo=QuantumCircuit().from_qasm_str(newqasm_str)\n",
    "    \n",
    "    return circo \n"
   ]
  },
  {
   "cell_type": "code",
   "execution_count": 20,
   "metadata": {},
   "outputs": [],
   "source": [
    "def cXPairAdder(orig_gate_str): \n",
    "    \"\"\"\n",
    "    Input: a qasm string corresponding to a gate\n",
    "    Output: a pair of gates in qasm string representation to amplify error in the given gate by factor of 3\n",
    "    \"\"\"\n",
    "    #barrier for 2 qubit circuit only\n",
    "    barrier =\"\"\"barrier q[0],q[1];\"\"\"\n",
    "    \n",
    "    return barrier + '\\n' + orig_gate_str +'\\n' +barrier + '\\n'+orig_gate_str + '\\n' + barrier + '\\n'"
   ]
  },
  {
   "cell_type": "code",
   "execution_count": 21,
   "metadata": {},
   "outputs": [],
   "source": [
    "def u3PairAdder(orig_gate_str): \n",
    "    \"\"\"\n",
    "    Input: a qasm string corresponding to a gate\n",
    "    Output: a pair of gates in qasm string representation to amplify error in the given gate by factor of 3\n",
    "    \"\"\"\n",
    "    # Converting the gate string to array \n",
    "    \n",
    "    ##break up the string \n",
    "    strings = orig_gate_str.split(\"(\")\n",
    "    temp =[]\n",
    "    for string in strings: \n",
    "        temp = temp + string.split(\")\")\n",
    "    strings = temp \n",
    "    temp =[]\n",
    "    for string in strings: \n",
    "        temp = temp + string.split(\",\")\n",
    "    strings = temp \n",
    "    temp = []\n",
    "    for string in strings: \n",
    "        temp = temp + string.split(\"*\")\n",
    "    strings = temp\n",
    "    \n",
    "    #Obtaining all useful information \n",
    "    gate = strings[0]\n",
    "    qubit = strings[4]\n",
    "    orig_angles = strings[1:4]\n",
    "    \n",
    "    #inverting angles \n",
    "    invert_angles = orig_angles \n",
    "    for i in range(len(invert_angles)): \n",
    "        if invert_angles[i][0] == '-': \n",
    "            invert_angles[i] = '' + invert_angles[i][1:]\n",
    "        elif invert_angles[i] != '0': \n",
    "            invert_angles[i] = '-' + invert_angles[i]\n",
    "    \n",
    "\n",
    "    #creating inverted gate\n",
    "    invert_gate_str = gate + '(' + invert_angles[0] + ',' + invert_angles[1] + ',' + invert_angles[2] + ')' + qubit\n",
    "    \n",
    "    #barrier \n",
    "    barrier =\"\"\"barrier q[0],q[1];\"\"\"\n",
    "    \n",
    "    return barrier + '\\n' + invert_gate_str + '\\n'+ barrier + '\\n' + orig_gate_str + '\\n' + barrier + '\\n'\n",
    "    "
   ]
  },
  {
   "cell_type": "code",
   "execution_count": 22,
   "metadata": {},
   "outputs": [
    {
     "data": {
      "image/png": "[encoded data removed]",
      "text/plain": [
       "<Figure size 479.192x144.48 with 1 Axes>"
      ]
     },
     "execution_count": 22,
     "metadata": {},
     "output_type": "execute_result"
    }
   ],
   "source": [
    "from qiskit import QuantumCircuit \n",
    "\n",
    "circ = QuantumCircuit(2)\n",
    "circ.u3(0,0,0, 0)\n",
    "circ.u3(0,0,0, 1)\n",
    "circ.u3(0,0,0, 0)\n",
    "circ.cx(0,1)\n",
    "circ.draw(output = 'mpl')\n"
   ]
  },
  {
   "cell_type": "code",
   "execution_count": 25,
   "metadata": {},
   "outputs": [
    {
     "name": "stdout",
     "output_type": "stream",
     "text": [
      "Number of samples are 0 and number of gates amplified is 0\n",
      "Number of samples are 10 and number of gates amplified is 19\n",
      "Number of samples are 20 and number of gates amplified is 38\n",
      "Number of samples are 30 and number of gates amplified is 59\n",
      "Number of samples are 40 and number of gates amplified is 79\n",
      "Number of samples are 50 and number of gates amplified is 96\n",
      "Number of samples are 60 and number of gates amplified is 116\n",
      "Number of samples are 70 and number of gates amplified is 140\n",
      "Number of samples are 80 and number of gates amplified is 160\n",
      "Number of samples are 90 and number of gates amplified is 177\n",
      "Number of samples are 100 and number of gates amplified is 197\n",
      "Number of samples are 110 and number of gates amplified is 217\n",
      "Number of samples are 120 and number of gates amplified is 234\n",
      "Number of samples are 130 and number of gates amplified is 252\n",
      "Number of samples are 140 and number of gates amplified is 276\n",
      "Number of samples are 150 and number of gates amplified is 298\n",
      "Number of samples are 160 and number of gates amplified is 319\n",
      "Number of samples are 170 and number of gates amplified is 338\n",
      "Number of samples are 180 and number of gates amplified is 359\n",
      "Number of samples are 190 and number of gates amplified is 379\n",
      "Number of samples are 200 and number of gates amplified is 396\n",
      "Number of samples are 210 and number of gates amplified is 417\n",
      "Number of samples are 220 and number of gates amplified is 431\n",
      "Number of samples are 230 and number of gates amplified is 443\n",
      "Number of samples are 240 and number of gates amplified is 462\n",
      "Number of samples are 250 and number of gates amplified is 482\n",
      "Number of samples are 260 and number of gates amplified is 502\n",
      "Number of samples are 270 and number of gates amplified is 516\n",
      "Number of samples are 280 and number of gates amplified is 528\n",
      "Number of samples are 290 and number of gates amplified is 554\n",
      "Number of samples are 300 and number of gates amplified is 573\n",
      "Number of samples are 310 and number of gates amplified is 597\n",
      "Number of samples are 320 and number of gates amplified is 614\n",
      "Number of samples are 330 and number of gates amplified is 636\n",
      "Number of samples are 340 and number of gates amplified is 653\n",
      "Number of samples are 350 and number of gates amplified is 669\n",
      "Number of samples are 360 and number of gates amplified is 687\n",
      "Number of samples are 370 and number of gates amplified is 707\n",
      "Number of samples are 380 and number of gates amplified is 728\n",
      "Number of samples are 390 and number of gates amplified is 748\n",
      "Number of samples are 400 and number of gates amplified is 772\n",
      "Number of samples are 410 and number of gates amplified is 798\n",
      "Number of samples are 420 and number of gates amplified is 814\n",
      "Number of samples are 430 and number of gates amplified is 830\n",
      "Number of samples are 440 and number of gates amplified is 856\n",
      "Number of samples are 450 and number of gates amplified is 876\n"
     ]
    },
    {
     "ename": "KeyboardInterrupt",
     "evalue": "",
     "output_type": "error",
     "traceback": [
      "\u001b[1;31m---------------------------------------------------------------------------\u001b[0m",
      "\u001b[1;31mKeyboardInterrupt\u001b[0m                         Traceback (most recent call last)",
      "\u001b[1;32m<ipython-input-25-f4b763b38bae>\u001b[0m in \u001b[0;36m<module>\u001b[1;34m\u001b[0m\n\u001b[0;32m      3\u001b[0m     \u001b[1;32mif\u001b[0m \u001b[1;33m(\u001b[0m\u001b[0mi\u001b[0m\u001b[1;33m%\u001b[0m\u001b[1;36m10\u001b[0m\u001b[1;33m)\u001b[0m \u001b[1;33m==\u001b[0m \u001b[1;36m0\u001b[0m\u001b[1;33m:\u001b[0m\u001b[1;33m\u001b[0m\u001b[1;33m\u001b[0m\u001b[0m\n\u001b[0;32m      4\u001b[0m         \u001b[0mprint\u001b[0m\u001b[1;33m(\u001b[0m\u001b[1;34m'Number of samples are '\u001b[0m \u001b[1;33m+\u001b[0m \u001b[0mstr\u001b[0m\u001b[1;33m(\u001b[0m\u001b[0mi\u001b[0m\u001b[1;33m)\u001b[0m \u001b[1;33m+\u001b[0m \u001b[1;34m' and number of gates amplified is '\u001b[0m \u001b[1;33m+\u001b[0m \u001b[0mstr\u001b[0m\u001b[1;33m(\u001b[0m\u001b[0mnumber_of_amp\u001b[0m\u001b[1;33m)\u001b[0m\u001b[1;33m)\u001b[0m\u001b[1;33m\u001b[0m\u001b[1;33m\u001b[0m\u001b[0m\n\u001b[1;32m----> 5\u001b[1;33m     \u001b[0mRandomAmplification\u001b[0m\u001b[1;33m(\u001b[0m\u001b[0mcirc\u001b[0m\u001b[1;33m,\u001b[0m \u001b[1;36m2\u001b[0m\u001b[1;33m)\u001b[0m\u001b[1;33m\u001b[0m\u001b[1;33m\u001b[0m\u001b[0m\n\u001b[0m",
      "\u001b[1;32m<ipython-input-19-6a5f6d60c5b3>\u001b[0m in \u001b[0;36mRandomAmplification\u001b[1;34m(circ, c)\u001b[0m\n\u001b[0;32m     40\u001b[0m             \u001b[0mnewqasm_str\u001b[0m\u001b[1;33m+=\u001b[0m\u001b[0mline\u001b[0m\u001b[1;33m+\u001b[0m\u001b[1;34m\"\\n\"\u001b[0m\u001b[1;33m\u001b[0m\u001b[1;33m\u001b[0m\u001b[0m\n\u001b[0;32m     41\u001b[0m \u001b[1;33m\u001b[0m\u001b[0m\n\u001b[1;32m---> 42\u001b[1;33m     \u001b[0mcirco\u001b[0m\u001b[1;33m=\u001b[0m\u001b[0mQuantumCircuit\u001b[0m\u001b[1;33m(\u001b[0m\u001b[1;33m)\u001b[0m\u001b[1;33m.\u001b[0m\u001b[0mfrom_qasm_str\u001b[0m\u001b[1;33m(\u001b[0m\u001b[0mnewqasm_str\u001b[0m\u001b[1;33m)\u001b[0m\u001b[1;33m\u001b[0m\u001b[1;33m\u001b[0m\u001b[0m\n\u001b[0m\u001b[0;32m     43\u001b[0m \u001b[1;33m\u001b[0m\u001b[0m\n\u001b[0;32m     44\u001b[0m     \u001b[1;32mreturn\u001b[0m \u001b[0mcirco\u001b[0m\u001b[1;33m\u001b[0m\u001b[1;33m\u001b[0m\u001b[0m\n",
      "\u001b[1;32m~\\anacondaaa\\lib\\site-packages\\qiskit\\circuit\\quantumcircuit.py\u001b[0m in \u001b[0;36mfrom_qasm_str\u001b[1;34m(qasm_str)\u001b[0m\n\u001b[0;32m   1393\u001b[0m         \"\"\"\n\u001b[0;32m   1394\u001b[0m         \u001b[0mqasm\u001b[0m \u001b[1;33m=\u001b[0m \u001b[0mQasm\u001b[0m\u001b[1;33m(\u001b[0m\u001b[0mdata\u001b[0m\u001b[1;33m=\u001b[0m\u001b[0mqasm_str\u001b[0m\u001b[1;33m)\u001b[0m\u001b[1;33m\u001b[0m\u001b[1;33m\u001b[0m\u001b[0m\n\u001b[1;32m-> 1395\u001b[1;33m         \u001b[1;32mreturn\u001b[0m \u001b[0m_circuit_from_qasm\u001b[0m\u001b[1;33m(\u001b[0m\u001b[0mqasm\u001b[0m\u001b[1;33m)\u001b[0m\u001b[1;33m\u001b[0m\u001b[1;33m\u001b[0m\u001b[0m\n\u001b[0m\u001b[0;32m   1396\u001b[0m \u001b[1;33m\u001b[0m\u001b[0m\n\u001b[0;32m   1397\u001b[0m     \u001b[1;33m@\u001b[0m\u001b[0mproperty\u001b[0m\u001b[1;33m\u001b[0m\u001b[1;33m\u001b[0m\u001b[0m\n",
      "\u001b[1;32m~\\anacondaaa\\lib\\site-packages\\qiskit\\circuit\\quantumcircuit.py\u001b[0m in \u001b[0;36m_circuit_from_qasm\u001b[1;34m(qasm)\u001b[0m\n\u001b[0;32m   1934\u001b[0m     \u001b[1;32mfrom\u001b[0m \u001b[0mqiskit\u001b[0m\u001b[1;33m.\u001b[0m\u001b[0mconverters\u001b[0m \u001b[1;32mimport\u001b[0m \u001b[0mast_to_dag\u001b[0m\u001b[1;33m\u001b[0m\u001b[1;33m\u001b[0m\u001b[0m\n\u001b[0;32m   1935\u001b[0m     \u001b[1;32mfrom\u001b[0m \u001b[0mqiskit\u001b[0m\u001b[1;33m.\u001b[0m\u001b[0mconverters\u001b[0m \u001b[1;32mimport\u001b[0m \u001b[0mdag_to_circuit\u001b[0m\u001b[1;33m\u001b[0m\u001b[1;33m\u001b[0m\u001b[0m\n\u001b[1;32m-> 1936\u001b[1;33m     \u001b[0mast\u001b[0m \u001b[1;33m=\u001b[0m \u001b[0mqasm\u001b[0m\u001b[1;33m.\u001b[0m\u001b[0mparse\u001b[0m\u001b[1;33m(\u001b[0m\u001b[1;33m)\u001b[0m\u001b[1;33m\u001b[0m\u001b[1;33m\u001b[0m\u001b[0m\n\u001b[0m\u001b[0;32m   1937\u001b[0m     \u001b[0mdag\u001b[0m \u001b[1;33m=\u001b[0m \u001b[0mast_to_dag\u001b[0m\u001b[1;33m(\u001b[0m\u001b[0mast\u001b[0m\u001b[1;33m)\u001b[0m\u001b[1;33m\u001b[0m\u001b[1;33m\u001b[0m\u001b[0m\n\u001b[0;32m   1938\u001b[0m     \u001b[1;32mreturn\u001b[0m \u001b[0mdag_to_circuit\u001b[0m\u001b[1;33m(\u001b[0m\u001b[0mdag\u001b[0m\u001b[1;33m)\u001b[0m\u001b[1;33m\u001b[0m\u001b[1;33m\u001b[0m\u001b[0m\n",
      "\u001b[1;32m~\\anacondaaa\\lib\\site-packages\\qiskit\\qasm\\qasm.py\u001b[0m in \u001b[0;36mparse\u001b[1;34m(self)\u001b[0m\n\u001b[0;32m     67\u001b[0m         \u001b[1;32mwith\u001b[0m \u001b[0mQasmParser\u001b[0m\u001b[1;33m(\u001b[0m\u001b[0mself\u001b[0m\u001b[1;33m.\u001b[0m\u001b[0m_filename\u001b[0m\u001b[1;33m)\u001b[0m \u001b[1;32mas\u001b[0m \u001b[0mqasm_p\u001b[0m\u001b[1;33m:\u001b[0m\u001b[1;33m\u001b[0m\u001b[1;33m\u001b[0m\u001b[0m\n\u001b[0;32m     68\u001b[0m             \u001b[0mqasm_p\u001b[0m\u001b[1;33m.\u001b[0m\u001b[0mparse_debug\u001b[0m\u001b[1;33m(\u001b[0m\u001b[1;32mFalse\u001b[0m\u001b[1;33m)\u001b[0m\u001b[1;33m\u001b[0m\u001b[1;33m\u001b[0m\u001b[0m\n\u001b[1;32m---> 69\u001b[1;33m             \u001b[1;32mreturn\u001b[0m \u001b[0mqasm_p\u001b[0m\u001b[1;33m.\u001b[0m\u001b[0mparse\u001b[0m\u001b[1;33m(\u001b[0m\u001b[0mself\u001b[0m\u001b[1;33m.\u001b[0m\u001b[0m_data\u001b[0m\u001b[1;33m)\u001b[0m\u001b[1;33m\u001b[0m\u001b[1;33m\u001b[0m\u001b[0m\n\u001b[0m",
      "\u001b[1;32m~\\anacondaaa\\lib\\site-packages\\qiskit\\qasm\\qasmparser.py\u001b[0m in \u001b[0;36mparse\u001b[1;34m(self, data)\u001b[0m\n\u001b[0;32m   1087\u001b[0m     \u001b[1;32mdef\u001b[0m \u001b[0mparse\u001b[0m\u001b[1;33m(\u001b[0m\u001b[0mself\u001b[0m\u001b[1;33m,\u001b[0m \u001b[0mdata\u001b[0m\u001b[1;33m)\u001b[0m\u001b[1;33m:\u001b[0m\u001b[1;33m\u001b[0m\u001b[1;33m\u001b[0m\u001b[0m\n\u001b[0;32m   1088\u001b[0m         \u001b[1;34m\"\"\"Parse some data.\"\"\"\u001b[0m\u001b[1;33m\u001b[0m\u001b[1;33m\u001b[0m\u001b[0m\n\u001b[1;32m-> 1089\u001b[1;33m         \u001b[0mself\u001b[0m\u001b[1;33m.\u001b[0m\u001b[0mparser\u001b[0m\u001b[1;33m.\u001b[0m\u001b[0mparse\u001b[0m\u001b[1;33m(\u001b[0m\u001b[0mdata\u001b[0m\u001b[1;33m,\u001b[0m \u001b[0mlexer\u001b[0m\u001b[1;33m=\u001b[0m\u001b[0mself\u001b[0m\u001b[1;33m.\u001b[0m\u001b[0mlexer\u001b[0m\u001b[1;33m,\u001b[0m \u001b[0mdebug\u001b[0m\u001b[1;33m=\u001b[0m\u001b[0mself\u001b[0m\u001b[1;33m.\u001b[0m\u001b[0mparse_deb\u001b[0m\u001b[1;33m)\u001b[0m\u001b[1;33m\u001b[0m\u001b[1;33m\u001b[0m\u001b[0m\n\u001b[0m\u001b[0;32m   1090\u001b[0m         \u001b[1;32mif\u001b[0m \u001b[0mself\u001b[0m\u001b[1;33m.\u001b[0m\u001b[0mqasm\u001b[0m \u001b[1;32mis\u001b[0m \u001b[1;32mNone\u001b[0m\u001b[1;33m:\u001b[0m\u001b[1;33m\u001b[0m\u001b[1;33m\u001b[0m\u001b[0m\n\u001b[0;32m   1091\u001b[0m             raise QasmError(\"Uncaught exception in parser; \"\n",
      "\u001b[1;32m~\\anacondaaa\\lib\\site-packages\\ply\\yacc.py\u001b[0m in \u001b[0;36mparse\u001b[1;34m(self, input, lexer, debug, tracking, tokenfunc)\u001b[0m\n\u001b[0;32m    331\u001b[0m             \u001b[1;32mreturn\u001b[0m \u001b[0mself\u001b[0m\u001b[1;33m.\u001b[0m\u001b[0mparseopt\u001b[0m\u001b[1;33m(\u001b[0m\u001b[0minput\u001b[0m\u001b[1;33m,\u001b[0m \u001b[0mlexer\u001b[0m\u001b[1;33m,\u001b[0m \u001b[0mdebug\u001b[0m\u001b[1;33m,\u001b[0m \u001b[0mtracking\u001b[0m\u001b[1;33m,\u001b[0m \u001b[0mtokenfunc\u001b[0m\u001b[1;33m)\u001b[0m\u001b[1;33m\u001b[0m\u001b[1;33m\u001b[0m\u001b[0m\n\u001b[0;32m    332\u001b[0m         \u001b[1;32melse\u001b[0m\u001b[1;33m:\u001b[0m\u001b[1;33m\u001b[0m\u001b[1;33m\u001b[0m\u001b[0m\n\u001b[1;32m--> 333\u001b[1;33m             \u001b[1;32mreturn\u001b[0m \u001b[0mself\u001b[0m\u001b[1;33m.\u001b[0m\u001b[0mparseopt_notrack\u001b[0m\u001b[1;33m(\u001b[0m\u001b[0minput\u001b[0m\u001b[1;33m,\u001b[0m \u001b[0mlexer\u001b[0m\u001b[1;33m,\u001b[0m \u001b[0mdebug\u001b[0m\u001b[1;33m,\u001b[0m \u001b[0mtracking\u001b[0m\u001b[1;33m,\u001b[0m \u001b[0mtokenfunc\u001b[0m\u001b[1;33m)\u001b[0m\u001b[1;33m\u001b[0m\u001b[1;33m\u001b[0m\u001b[0m\n\u001b[0m\u001b[0;32m    334\u001b[0m \u001b[1;33m\u001b[0m\u001b[0m\n\u001b[0;32m    335\u001b[0m \u001b[1;33m\u001b[0m\u001b[0m\n",
      "\u001b[1;32m~\\anacondaaa\\lib\\site-packages\\ply\\yacc.py\u001b[0m in \u001b[0;36mparseopt_notrack\u001b[1;34m(self, input, lexer, debug, tracking, tokenfunc)\u001b[0m\n\u001b[0;32m   1061\u001b[0m                 \u001b[1;32mif\u001b[0m \u001b[1;32mnot\u001b[0m \u001b[0mlookahead\u001b[0m\u001b[1;33m:\u001b[0m\u001b[1;33m\u001b[0m\u001b[1;33m\u001b[0m\u001b[0m\n\u001b[0;32m   1062\u001b[0m                     \u001b[1;32mif\u001b[0m \u001b[1;32mnot\u001b[0m \u001b[0mlookaheadstack\u001b[0m\u001b[1;33m:\u001b[0m\u001b[1;33m\u001b[0m\u001b[1;33m\u001b[0m\u001b[0m\n\u001b[1;32m-> 1063\u001b[1;33m                         \u001b[0mlookahead\u001b[0m \u001b[1;33m=\u001b[0m \u001b[0mget_token\u001b[0m\u001b[1;33m(\u001b[0m\u001b[1;33m)\u001b[0m     \u001b[1;31m# Get the next token\u001b[0m\u001b[1;33m\u001b[0m\u001b[1;33m\u001b[0m\u001b[0m\n\u001b[0m\u001b[0;32m   1064\u001b[0m                     \u001b[1;32melse\u001b[0m\u001b[1;33m:\u001b[0m\u001b[1;33m\u001b[0m\u001b[1;33m\u001b[0m\u001b[0m\n\u001b[0;32m   1065\u001b[0m                         \u001b[0mlookahead\u001b[0m \u001b[1;33m=\u001b[0m \u001b[0mlookaheadstack\u001b[0m\u001b[1;33m.\u001b[0m\u001b[0mpop\u001b[0m\u001b[1;33m(\u001b[0m\u001b[1;33m)\u001b[0m\u001b[1;33m\u001b[0m\u001b[1;33m\u001b[0m\u001b[0m\n",
      "\u001b[1;32m~\\anacondaaa\\lib\\site-packages\\qiskit\\qasm\\qasmlexer.py\u001b[0m in \u001b[0;36mtoken\u001b[1;34m(self)\u001b[0m\n\u001b[0;32m     64\u001b[0m     \u001b[1;32mdef\u001b[0m \u001b[0mtoken\u001b[0m\u001b[1;33m(\u001b[0m\u001b[0mself\u001b[0m\u001b[1;33m)\u001b[0m\u001b[1;33m:\u001b[0m\u001b[1;33m\u001b[0m\u001b[1;33m\u001b[0m\u001b[0m\n\u001b[0;32m     65\u001b[0m         \u001b[1;34m\"\"\"Return the next token.\"\"\"\u001b[0m\u001b[1;33m\u001b[0m\u001b[1;33m\u001b[0m\u001b[0m\n\u001b[1;32m---> 66\u001b[1;33m         \u001b[0mret\u001b[0m \u001b[1;33m=\u001b[0m \u001b[0mself\u001b[0m\u001b[1;33m.\u001b[0m\u001b[0mlexer\u001b[0m\u001b[1;33m.\u001b[0m\u001b[0mtoken\u001b[0m\u001b[1;33m(\u001b[0m\u001b[1;33m)\u001b[0m\u001b[1;33m\u001b[0m\u001b[1;33m\u001b[0m\u001b[0m\n\u001b[0m\u001b[0;32m     67\u001b[0m         \u001b[1;32mreturn\u001b[0m \u001b[0mret\u001b[0m\u001b[1;33m\u001b[0m\u001b[1;33m\u001b[0m\u001b[0m\n\u001b[0;32m     68\u001b[0m \u001b[1;33m\u001b[0m\u001b[0m\n",
      "\u001b[1;32m~\\anacondaaa\\lib\\site-packages\\ply\\lex.py\u001b[0m in \u001b[0;36mtoken\u001b[1;34m(self)\u001b[0m\n\u001b[0;32m    319\u001b[0m             \u001b[1;32mfor\u001b[0m \u001b[0mlexre\u001b[0m\u001b[1;33m,\u001b[0m \u001b[0mlexindexfunc\u001b[0m \u001b[1;32min\u001b[0m \u001b[0mself\u001b[0m\u001b[1;33m.\u001b[0m\u001b[0mlexre\u001b[0m\u001b[1;33m:\u001b[0m\u001b[1;33m\u001b[0m\u001b[1;33m\u001b[0m\u001b[0m\n\u001b[0;32m    320\u001b[0m                 \u001b[0mm\u001b[0m \u001b[1;33m=\u001b[0m \u001b[0mlexre\u001b[0m\u001b[1;33m.\u001b[0m\u001b[0mmatch\u001b[0m\u001b[1;33m(\u001b[0m\u001b[0mlexdata\u001b[0m\u001b[1;33m,\u001b[0m \u001b[0mlexpos\u001b[0m\u001b[1;33m)\u001b[0m\u001b[1;33m\u001b[0m\u001b[1;33m\u001b[0m\u001b[0m\n\u001b[1;32m--> 321\u001b[1;33m                 \u001b[1;32mif\u001b[0m \u001b[1;32mnot\u001b[0m \u001b[0mm\u001b[0m\u001b[1;33m:\u001b[0m\u001b[1;33m\u001b[0m\u001b[1;33m\u001b[0m\u001b[0m\n\u001b[0m\u001b[0;32m    322\u001b[0m                     \u001b[1;32mcontinue\u001b[0m\u001b[1;33m\u001b[0m\u001b[1;33m\u001b[0m\u001b[0m\n\u001b[0;32m    323\u001b[0m \u001b[1;33m\u001b[0m\u001b[0m\n",
      "\u001b[1;31mKeyboardInterrupt\u001b[0m: "
     ]
    }
   ],
   "source": [
    "number_of_amp = 0\n",
    "for i in range(1000): \n",
    "    if (i%10) == 0: \n",
    "        print('Number of samples are ' + str(i) + ' and number of gates amplified is ' + str(number_of_amp))\n",
    "    RandomAmplification(circ, 2)"
   ]
  },
  {
   "cell_type": "code",
   "execution_count": null,
   "metadata": {},
   "outputs": [],
   "source": []
  },
  {
   "cell_type": "code",
   "execution_count": null,
   "metadata": {},
   "outputs": [],
   "source": []
  }
 ],
 "metadata": {
  "kernelspec": {
   "display_name": "Python 3",
   "language": "python",
   "name": "python3"
  },
  "language_info": {
   "codemirror_mode": {
    "name": "ipython",
    "version": 3
   },
   "file_extension": ".py",
   "mimetype": "text/x-python",
   "name": "python",
   "nbconvert_exporter": "python",
   "pygments_lexer": "ipython3",
   "version": "3.7.6"
  }
 },
 "nbformat": 4,
 "nbformat_minor": 4
}
