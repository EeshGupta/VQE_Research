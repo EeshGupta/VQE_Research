{
 "cells": [
  {
   "cell_type": "code",
   "execution_count": 1,
   "metadata": {},
   "outputs": [
    {
     "name": "stderr",
     "output_type": "stream",
     "text": [
      "C:\\Users\\Eesh Gupta\\anacondaaa\\lib\\site-packages\\qiskit\\providers\\ibmq\\ibmqfactory.py:192: UserWarning: Timestamps in IBMQ backend properties, jobs, and job results are all now in local time instead of UTC.\n",
      "  warnings.warn('Timestamps in IBMQ backend properties, jobs, and job results '\n"
     ]
    }
   ],
   "source": [
    "%matplotlib inline\n",
    "import random\n",
    "import math\n",
    "import numpy as np\n",
    "# Importing standard Qiskit libraries and configuring account\n",
    "from qiskit import QuantumCircuit, execute, Aer, IBMQ, IBMQ\n",
    "from qiskit.compiler import transpile, assemble\n",
    "from qiskit.tools.jupyter import *\n",
    "from qiskit import *\n",
    "from qiskit.visualization import *\n",
    "# Loading your IBM Q account(s)\n",
    "provider = IBMQ.load_account()\n",
    "\n",
    "import numpy as np\n",
    "\n",
    "from qiskit.providers.aer.noise import NoiseModel\n",
    "from qiskit.aqua import QuantumInstance\n",
    "from qiskit.providers.aer.noise import thermal_relaxation_error, ReadoutError, depolarizing_error\n",
    "\n",
    "provider = IBMQ.get_provider(hub='ibm-q')\n",
    "machine = provider.get_backend('ibmq_vigo')\n",
    "# from qiskit.test.mock import FakeLondon\n",
    "# machine = FakeLondon()\n",
    "machine_noise_model = NoiseModel.from_backend(machine)\n",
    "simulator = Aer.get_backend('qasm_simulator')\n",
    "\n",
    "\n",
    "basis_gates = machine_noise_model.basis_gates"
   ]
  },
  {
   "cell_type": "code",
   "execution_count": 2,
   "metadata": {},
   "outputs": [
    {
     "name": "stdout",
     "output_type": "stream",
     "text": [
      "This backend is called ibmq_rome, and is on version 1.1.4. It has 5 qubits. It does not support OpenPulse programs. The basis gates supported on this device are ['id', 'u1', 'u2', 'u3', 'cx'].\n"
     ]
    }
   ],
   "source": [
    "provider = IBMQ.get_provider(hub='ibm-q-education', group = 'rutgers-uni-Schn', project = 'vqe-research')\n",
    "machine = provider.get_backend('ibmq_rome')\n",
    "config = machine.configuration()\n",
    "print(\"This backend is called {0}, and is on version {1}. It has {2} qubit{3}. It \"\n",
    "      \"{4} OpenPulse programs. The basis gates supported on this device are {5}.\"\n",
    "      \"\".format(config.backend_name,\n",
    "                config.backend_version,\n",
    "                config.n_qubits,\n",
    "                '' if config.n_qubits == 1 else 's',\n",
    "                'supports' if config.open_pulse else 'does not support',\n",
    "                config.basis_gates))"
   ]
  },
  {
   "cell_type": "markdown",
   "metadata": {},
   "source": [
    "### Gate Insertion Functions"
   ]
  },
  {
   "cell_type": "code",
   "execution_count": null,
   "metadata": {
    "scrolled": true
   },
   "outputs": [],
   "source": [
    "from GateInsertion_funcs import splitter, PiReader, GateInsertion, u3PairAdder, cXPairAdder, GateInserter\n"
   ]
  },
  {
   "cell_type": "markdown",
   "metadata": {},
   "source": [
    "### Pulse Stretching Functions"
   ]
  },
  {
   "cell_type": "code",
   "execution_count": null,
   "metadata": {},
   "outputs": [],
   "source": [
    "from PulseStretching_funcs import Scheduler, stretchSchedule_singleQ"
   ]
  },
  {
   "cell_type": "markdown",
   "metadata": {},
   "source": [
    "### Result Functions"
   ]
  },
  {
   "cell_type": "code",
   "execution_count": null,
   "metadata": {},
   "outputs": [],
   "source": [
    "from Result_funcs import countsToProb, averagingSeeds, addDicts, runExperiments, getProb"
   ]
  },
  {
   "cell_type": "markdown",
   "metadata": {},
   "source": [
    "## Randomized Benchmarking"
   ]
  },
  {
   "cell_type": "code",
   "execution_count": null,
   "metadata": {},
   "outputs": [],
   "source": [
    "#Import general libraries (needed for functions)\n",
    "import numpy as np\n",
    "import matplotlib.pyplot as plt\n",
    "from IPython import display\n",
    "\n",
    "#Import the RB Functions\n",
    "import qiskit.ignis.verification.randomized_benchmarking as rb\n",
    "\n",
    "#Import Qiskit classes \n",
    "import qiskit\n",
    "from qiskit.providers.aer.noise import NoiseModel\n",
    "from qiskit.providers.aer.noise.errors.standard_errors import depolarizing_error, thermal_relaxation_error"
   ]
  },
  {
   "cell_type": "code",
   "execution_count": null,
   "metadata": {},
   "outputs": [],
   "source": [
    "#Generate RB circuits (2Q RB)\n",
    "\n",
    "#number of qubits\n",
    "nQ=1\n",
    "rb_opts = {}\n",
    "#Number of Cliffords in the sequence\n",
    "rb_opts['length_vector'] = [1] +[10*i for i in range(1, 16)]\n",
    "#Number of seeds (random sequences)\n",
    "rb_opts['nseeds'] =1\n",
    "#Default pattern\n",
    "rb_opts['rb_pattern'] = [[0]]\n",
    "\n",
    "rb_circs, xdata = rb.randomized_benchmarking_seq(**rb_opts)"
   ]
  },
  {
   "cell_type": "code",
   "execution_count": null,
   "metadata": {},
   "outputs": [],
   "source": [
    "# converting everything to u3\n",
    "\n",
    "from qiskit.compiler import transpile\n",
    "basis_gates =  ['id', 'u3']\n",
    "\n",
    "rb_u3_circs = []\n",
    "\n",
    "for i in range(len(rb_circs)): \n",
    "    seed_circs = []\n",
    "    for j in range(len(rb_circs[i])): \n",
    "        transpiled_circ = transpile(rb_circs[i][j], basis_gates = basis_gates)\n",
    "        seed_circs.append(transpiled_circ)\n",
    "    rb_u3_circs.append(seed_circs)\n"
   ]
  },
  {
   "cell_type": "code",
   "execution_count": null,
   "metadata": {},
   "outputs": [],
   "source": [
    "#Test\n",
    "rb_u3_circs[0][1].draw(output = 'mpl')"
   ]
  },
  {
   "cell_type": "code",
   "execution_count": null,
   "metadata": {},
   "outputs": [],
   "source": [
    "circ = GateInsertion(rb_u3_circs[0][1], 1.1)\n",
    "circ.draw(output = 'mpl')"
   ]
  },
  {
   "cell_type": "markdown",
   "metadata": {},
   "source": [
    "### Specify Scale Factors"
   ]
  },
  {
   "cell_type": "code",
   "execution_count": null,
   "metadata": {},
   "outputs": [],
   "source": [
    "scales= [1, 1.1, 1.2, 1.3, 1.4]"
   ]
  },
  {
   "cell_type": "code",
   "execution_count": null,
   "metadata": {
    "scrolled": true
   },
   "outputs": [],
   "source": [
    "scaled_circuits_Gate = GateInserter(scales, rb_u3_circs)\n",
    "scaled_circuits_Pulse = Scheduler(scales, rb_u3_circs, machine)"
   ]
  },
  {
   "cell_type": "markdown",
   "metadata": {},
   "source": [
    "### Results"
   ]
  },
  {
   "cell_type": "code",
   "execution_count": null,
   "metadata": {},
   "outputs": [],
   "source": [
    "from Result_funcs import countsToProb, averagingSeeds, addDicts, runExperiments"
   ]
  },
  {
   "cell_type": "code",
   "execution_count": null,
   "metadata": {},
   "outputs": [],
   "source": [
    "#running the jobs \n",
    "Probs = [] # buckets are scales, each of which contain probs for various gate lengths \n",
    "\n",
    "from qiskit.tools.monitor import job_monitor\n",
    "Probs = []\n",
    "samples = 10\n",
    "\n",
    "#running all experiments \n",
    "counts = runExperiments(scaled_circuits_Gate, simulator,samples)\n",
    "#print(counts)\n",
    "\n"
   ]
  },
  {
   "cell_type": "code",
   "execution_count": null,
   "metadata": {},
   "outputs": [],
   "source": [
    "Probs = getProb(counts, samples)"
   ]
  },
  {
   "cell_type": "markdown",
   "metadata": {},
   "source": [
    "## Plotting Results"
   ]
  },
  {
   "cell_type": "code",
   "execution_count": null,
   "metadata": {},
   "outputs": [],
   "source": [
    "import matplotlib.pyplot as plt \n",
    "\n",
    "a = plt.figure()\n",
    "\n",
    "for scale in range(len(Probs)): \n",
    "    plt.plot(rb_opts['length_vector'], Probs[scale], marker = 'o', linestyle= '--', label = str(scales[scale]))\n",
    "plt.title('Gate Insertion')\n",
    "plt.legend()\n",
    "plt.show()\n",
    "#a.savefig(\"plotSep30(1).png\", dpi = 1000)"
   ]
  },
  {
   "cell_type": "code",
   "execution_count": null,
   "metadata": {},
   "outputs": [],
   "source": [
    "Probs"
   ]
  },
  {
   "cell_type": "code",
   "execution_count": null,
   "metadata": {},
   "outputs": [],
   "source": [
    "for i in range(length_vector):\n",
    "    gate_data = []\n",
    "    for j in range(scales):\n",
    "        gate_data.append(Probs[j][i])\n",
    "    \n",
    "        "
   ]
  }
 ],
 "metadata": {
  "kernelspec": {
   "display_name": "Python 3",
   "language": "python",
   "name": "python3"
  },
  "language_info": {
   "codemirror_mode": {
    "name": "ipython",
    "version": 3
   },
   "file_extension": ".py",
   "mimetype": "text/x-python",
   "name": "python",
   "nbconvert_exporter": "python",
   "pygments_lexer": "ipython3",
   "version": "3.8.3"
  }
 },
 "nbformat": 4,
 "nbformat_minor": 4
}
