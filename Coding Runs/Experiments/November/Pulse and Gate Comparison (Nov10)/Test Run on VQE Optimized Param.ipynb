{
 "cells": [
  {
   "cell_type": "markdown",
   "metadata": {},
   "source": [
    "# Basic Libraries"
   ]
  },
  {
   "cell_type": "code",
   "execution_count": 1,
   "metadata": {},
   "outputs": [
    {
     "name": "stderr",
     "output_type": "stream",
     "text": [
      "C:\\Users\\isido\\anaconda3\\lib\\site-packages\\qiskit\\providers\\ibmq\\ibmqfactory.py:192: UserWarning: Timestamps in IBMQ backend properties, jobs, and job results are all now in local time instead of UTC.\n",
      "  warnings.warn('Timestamps in IBMQ backend properties, jobs, and job results '\n"
     ]
    }
   ],
   "source": [
    "%matplotlib inline\n",
    "import random\n",
    "import math\n",
    "import numpy as np\n",
    "# Importing standard Qiskit libraries and configuring account\n",
    "from qiskit import QuantumCircuit, execute, Aer, IBMQ, IBMQ\n",
    "from qiskit.compiler import transpile, assemble\n",
    "from qiskit.tools.jupyter import *\n",
    "from qiskit import *\n",
    "from qiskit.visualization import *\n",
    "# Loading your IBM Q account(s)\n",
    "provider = IBMQ.load_account()\n",
    "\n",
    "import numpy as np\n",
    "\n",
    "from qiskit.providers.aer.noise import NoiseModel\n",
    "from qiskit.aqua import QuantumInstance\n",
    "from qiskit.providers.aer.noise import thermal_relaxation_error, ReadoutError, depolarizing_error\n",
    "\n",
    "provider = IBMQ.get_provider(hub='ibm-q-education', group = 'rutgers-uni-Schn', project= 'vqe-research')\n",
    "machine = provider.get_backend('ibmq_casablanca')\n",
    "# from qiskit.test.mock import FakeLondon\n",
    "# machine = FakeLondon()\n",
    "machine_noise_model = NoiseModel.from_backend(machine)\n",
    "simulator = Aer.get_backend('qasm_simulator')\n",
    "\n",
    "\n",
    "basis_gates = machine_noise_model.basis_gates"
   ]
  },
  {
   "cell_type": "code",
   "execution_count": 2,
   "metadata": {},
   "outputs": [
    {
     "name": "stdout",
     "output_type": "stream",
     "text": [
      "This backend is called ibmq_casablanca, and is on version 1.0.1. It has 7 qubits. It supports OpenPulse programs. The basis gates supported on this device are ['id', 'u1', 'u2', 'u3', 'cx'].\n"
     ]
    }
   ],
   "source": [
    "config = machine.configuration()\n",
    "print(\"This backend is called {0}, and is on version {1}. It has {2} qubit{3}. It \"\n",
    "      \"{4} OpenPulse programs. The basis gates supported on this device are {5}.\"\n",
    "      \"\".format(config.backend_name,\n",
    "                config.backend_version,\n",
    "                config.n_qubits,\n",
    "                '' if config.n_qubits == 1 else 's',\n",
    "                'supports' if config.open_pulse else 'does not support',\n",
    "                config.basis_gates))"
   ]
  },
  {
   "cell_type": "markdown",
   "metadata": {},
   "source": [
    "## Gate Insertion"
   ]
  },
  {
   "cell_type": "code",
   "execution_count": 3,
   "metadata": {},
   "outputs": [],
   "source": [
    "from GateInsertion_funcs import splitter, PiReader, GateInsertion, u3PairAdder, cXPairAdder, GateInserter"
   ]
  },
  {
   "cell_type": "markdown",
   "metadata": {},
   "source": [
    "## Pulse Stretching"
   ]
  },
  {
   "cell_type": "code",
   "execution_count": 4,
   "metadata": {},
   "outputs": [],
   "source": [
    "from newPulseFuncs import instruc_sorter, stretch_sub_sched, stretcher, scheduler"
   ]
  },
  {
   "cell_type": "markdown",
   "metadata": {},
   "source": [
    "## Result Functions"
   ]
  },
  {
   "cell_type": "code",
   "execution_count": 5,
   "metadata": {},
   "outputs": [],
   "source": [
    "\n",
    "# Expectation Value/Running Functions\n",
    "from Result_funcs import binaryToDecimal, dictToList, sampleExpecVal, countToEig, expecValForSamples, addDicts, evaluator"
   ]
  },
  {
   "cell_type": "markdown",
   "metadata": {},
   "source": [
    "# VQE Functions"
   ]
  },
  {
   "cell_type": "code",
   "execution_count": 6,
   "metadata": {},
   "outputs": [],
   "source": [
    "#Local Hamiltonian Function\n",
    "from VQEHamiltonian_funcs import Hammifier"
   ]
  },
  {
   "cell_type": "code",
   "execution_count": 7,
   "metadata": {},
   "outputs": [],
   "source": [
    "from qiskit.chemistry.components.variational_forms import UCCSD\n",
    "from qiskit.chemistry.components.initial_states import HartreeFock\n",
    "\n",
    "initial_state = HartreeFock(\n",
    "4,\n",
    "2,\n",
    "'parity'\n",
    ") \n",
    "var_form = UCCSD(\n",
    "            num_orbitals=4,\n",
    "            num_particles=2,\n",
    "            initial_state=initial_state,\n",
    "            qubit_mapping='parity'\n",
    "        )"
   ]
  },
  {
   "cell_type": "code",
   "execution_count": 8,
   "metadata": {},
   "outputs": [],
   "source": [
    "param = [ 0.00172129,-0.00182397, -0.11217598]\n",
    "circ = var_form.construct_circuit(param).decompose()"
   ]
  },
  {
   "cell_type": "markdown",
   "metadata": {},
   "source": [
    "## Stretching and Prepping"
   ]
  },
  {
   "cell_type": "code",
   "execution_count": 9,
   "metadata": {},
   "outputs": [],
   "source": [
    "scales = [1+0.2*i for i in range(11)]"
   ]
  },
  {
   "cell_type": "code",
   "execution_count": 10,
   "metadata": {},
   "outputs": [
    {
     "data": {
      "text/plain": [
       "[1.0, 1.2, 1.4, 1.6, 1.8, 2.0, 2.2, 2.4000000000000004, 2.6, 2.8, 3.0]"
      ]
     },
     "execution_count": 10,
     "metadata": {},
     "output_type": "execute_result"
    }
   ],
   "source": [
    "scales"
   ]
  },
  {
   "cell_type": "code",
   "execution_count": 11,
   "metadata": {},
   "outputs": [],
   "source": [
    "def EnergyFinder(scale):\n",
    "    '''\n",
    "    Input: param (1D array) for which to compute energy on VQE circ of H2\n",
    "    Output: energy\n",
    "    '''\n",
    "    \n",
    "    Hamiltonian = \"\"\"II\\nIZ\\nZI\\nZZ\\nXX\"\"\"\n",
    "    Hamiltonian_weights = [-1.053, 0.395, -0.395, -0.011, 0.181]\n",
    "    global machine\n",
    "    backend = machine\n",
    "    samples = 8192\n",
    "    copies = 75\n",
    "    \n",
    "    pulse_energies = []\n",
    "    gate_energies = []\n",
    "    for j in range(copies):\n",
    "        \n",
    "        global circ\n",
    "        circ_ =circ.copy()\n",
    "        circuits = Hammifier(circ_, Hamiltonian)\n",
    "        scaled_circuits_Gate = GateInserter(scale, circuits)\n",
    "        scaled_circuits_Pulse = scheduler(scale, circuits, machine = machine)\n",
    "        \n",
    "        gate_energy= evaluator(scaled_circuits_Gate , samples, Hamiltonian, hammy_weights = Hamiltonian_weights, machine= machine)\n",
    "        pulse_energy= evaluator(scaled_circuits_Pulse , samples, Hamiltonian, hammy_weights = Hamiltonian_weights, machine= machine)\n",
    "        \n",
    "        print(gate_energy)\n",
    "        print(pulse_energy)\n",
    "        \n",
    "        pulse_energies.append(pulse_energy)\n",
    "        gate_energies.append(gate_energy)\n",
    "        \n",
    "    return pulse_energies, gate_energies    \n",
    "    "
   ]
  },
  {
   "cell_type": "code",
   "execution_count": 12,
   "metadata": {},
   "outputs": [
    {
     "name": "stdout",
     "output_type": "stream",
     "text": [
      "--------------Scale :1.0 -------------\n",
      "Job Status: job has successfully run\n"
     ]
    },
    {
     "name": "stderr",
     "output_type": "stream",
     "text": [
      "C:\\Users\\isido\\anaconda3\\lib\\site-packages\\numpy\\core\\fromnumeric.py:3334: RuntimeWarning: Mean of empty slice.\n",
      "  return _methods._mean(a, axis=axis, dtype=dtype,\n",
      "C:\\Users\\isido\\anaconda3\\lib\\site-packages\\numpy\\core\\_methods.py:161: RuntimeWarning: invalid value encountered in double_scalars\n",
      "  ret = ret.dtype.type(ret / rcount)\n"
     ]
    },
    {
     "name": "stdout",
     "output_type": "stream",
     "text": [
      "Job Status: job has successfully run\n"
     ]
    },
    {
     "ename": "IndexError",
     "evalue": "index 33 is out of bounds for axis 0 with size 4",
     "output_type": "error",
     "traceback": [
      "\u001b[1;31m---------------------------------------------------------------------------\u001b[0m",
      "\u001b[1;31mIndexError\u001b[0m                                Traceback (most recent call last)",
      "\u001b[1;32m<ipython-input-12-1256221240bc>\u001b[0m in \u001b[0;36m<module>\u001b[1;34m\u001b[0m\n\u001b[0;32m      3\u001b[0m \u001b[1;32mfor\u001b[0m \u001b[0mc\u001b[0m \u001b[1;32min\u001b[0m \u001b[0mscales\u001b[0m\u001b[1;33m:\u001b[0m\u001b[1;33m\u001b[0m\u001b[1;33m\u001b[0m\u001b[0m\n\u001b[0;32m      4\u001b[0m     \u001b[0mprint\u001b[0m\u001b[1;33m(\u001b[0m\u001b[1;34m'--------------'\u001b[0m \u001b[1;33m+\u001b[0m \u001b[1;34m'Scale :'\u001b[0m \u001b[1;33m+\u001b[0m \u001b[0mstr\u001b[0m\u001b[1;33m(\u001b[0m\u001b[0mc\u001b[0m\u001b[1;33m)\u001b[0m \u001b[1;33m+\u001b[0m \u001b[1;34m' -------------'\u001b[0m\u001b[1;33m)\u001b[0m\u001b[1;33m\u001b[0m\u001b[1;33m\u001b[0m\u001b[0m\n\u001b[1;32m----> 5\u001b[1;33m     \u001b[0mpulse_energies\u001b[0m\u001b[1;33m,\u001b[0m \u001b[0mgate_energies\u001b[0m \u001b[1;33m=\u001b[0m \u001b[0mEnergyFinder\u001b[0m\u001b[1;33m(\u001b[0m\u001b[0mc\u001b[0m\u001b[1;33m)\u001b[0m\u001b[1;33m\u001b[0m\u001b[1;33m\u001b[0m\u001b[0m\n\u001b[0m\u001b[0;32m      6\u001b[0m     \u001b[0mgate_energiesss\u001b[0m \u001b[1;33m+=\u001b[0m \u001b[1;33m[\u001b[0m\u001b[0mgate_energies\u001b[0m\u001b[1;33m]\u001b[0m\u001b[1;33m\u001b[0m\u001b[1;33m\u001b[0m\u001b[0m\n\u001b[0;32m      7\u001b[0m     \u001b[0mpulse_energiesss\u001b[0m \u001b[1;33m+=\u001b[0m \u001b[1;33m[\u001b[0m\u001b[0mpulse_energies\u001b[0m\u001b[1;33m]\u001b[0m\u001b[1;33m\u001b[0m\u001b[1;33m\u001b[0m\u001b[0m\n",
      "\u001b[1;32m<ipython-input-11-71eec78e85db>\u001b[0m in \u001b[0;36mEnergyFinder\u001b[1;34m(scale)\u001b[0m\n\u001b[0;32m     23\u001b[0m \u001b[1;33m\u001b[0m\u001b[0m\n\u001b[0;32m     24\u001b[0m         \u001b[0mgate_energy\u001b[0m\u001b[1;33m=\u001b[0m \u001b[0mevaluator\u001b[0m\u001b[1;33m(\u001b[0m\u001b[0mscaled_circuits_Gate\u001b[0m \u001b[1;33m,\u001b[0m \u001b[0msamples\u001b[0m\u001b[1;33m,\u001b[0m \u001b[0mHamiltonian\u001b[0m\u001b[1;33m,\u001b[0m \u001b[0mhammy_weights\u001b[0m \u001b[1;33m=\u001b[0m \u001b[0mHamiltonian_weights\u001b[0m\u001b[1;33m,\u001b[0m \u001b[0mmachine\u001b[0m\u001b[1;33m=\u001b[0m \u001b[0mmachine\u001b[0m\u001b[1;33m)\u001b[0m\u001b[1;33m\u001b[0m\u001b[1;33m\u001b[0m\u001b[0m\n\u001b[1;32m---> 25\u001b[1;33m         \u001b[0mpulse_energy\u001b[0m\u001b[1;33m=\u001b[0m \u001b[0mevaluator\u001b[0m\u001b[1;33m(\u001b[0m\u001b[0mscaled_circuits_Pulse\u001b[0m \u001b[1;33m,\u001b[0m \u001b[0msamples\u001b[0m\u001b[1;33m,\u001b[0m \u001b[0mHamiltonian\u001b[0m\u001b[1;33m,\u001b[0m \u001b[0mhammy_weights\u001b[0m \u001b[1;33m=\u001b[0m \u001b[0mHamiltonian_weights\u001b[0m\u001b[1;33m,\u001b[0m \u001b[0mmachine\u001b[0m\u001b[1;33m=\u001b[0m \u001b[0mmachine\u001b[0m\u001b[1;33m)\u001b[0m\u001b[1;33m\u001b[0m\u001b[1;33m\u001b[0m\u001b[0m\n\u001b[0m\u001b[0;32m     26\u001b[0m \u001b[1;33m\u001b[0m\u001b[0m\n\u001b[0;32m     27\u001b[0m         \u001b[0mprint\u001b[0m\u001b[1;33m(\u001b[0m\u001b[0mgate_energy\u001b[0m\u001b[1;33m)\u001b[0m\u001b[1;33m\u001b[0m\u001b[1;33m\u001b[0m\u001b[0m\n",
      "\u001b[1;32m~\\Downloads\\Pulse and Gate Comparison (Nov10)\\Result_funcs.py\u001b[0m in \u001b[0;36mevaluator\u001b[1;34m(circuits, samples, Hamiltonian, hammy_weights, machine)\u001b[0m\n\u001b[0;32m    147\u001b[0m     \u001b[1;31m#print('Adding dicts done')\u001b[0m\u001b[1;33m\u001b[0m\u001b[1;33m\u001b[0m\u001b[1;33m\u001b[0m\u001b[0m\n\u001b[0;32m    148\u001b[0m     \u001b[1;31m#computing expectation values\u001b[0m\u001b[1;33m\u001b[0m\u001b[1;33m\u001b[0m\u001b[1;33m\u001b[0m\u001b[0m\n\u001b[1;32m--> 149\u001b[1;33m     \u001b[0mexpec_vals\u001b[0m \u001b[1;33m=\u001b[0m \u001b[0mexpecValForSamples\u001b[0m\u001b[1;33m(\u001b[0m\u001b[0mcounties\u001b[0m\u001b[1;33m[\u001b[0m\u001b[1;36m0\u001b[0m\u001b[1;33m]\u001b[0m\u001b[1;33m,\u001b[0m \u001b[0mcounties\u001b[0m\u001b[1;33m[\u001b[0m\u001b[1;36m1\u001b[0m\u001b[1;33m]\u001b[0m\u001b[1;33m,\u001b[0m \u001b[0mHamiltonian\u001b[0m\u001b[1;33m,\u001b[0m \u001b[0mhammy_weights\u001b[0m\u001b[1;33m)\u001b[0m\u001b[1;33m\u001b[0m\u001b[1;33m\u001b[0m\u001b[0m\n\u001b[0m\u001b[0;32m    150\u001b[0m     \u001b[1;31m#print('Computing expec vals done')\u001b[0m\u001b[1;33m\u001b[0m\u001b[1;33m\u001b[0m\u001b[1;33m\u001b[0m\u001b[0m\n\u001b[0;32m    151\u001b[0m \u001b[1;33m\u001b[0m\u001b[0m\n",
      "\u001b[1;32m~\\Downloads\\Pulse and Gate Comparison (Nov10)\\Result_funcs.py\u001b[0m in \u001b[0;36mexpecValForSamples\u001b[1;34m(counts_zsis, counts_xx, Hamiltonian, hammy_weights)\u001b[0m\n\u001b[0;32m    105\u001b[0m         \u001b[0mindex2\u001b[0m \u001b[1;33m=\u001b[0m \u001b[0mrandom\u001b[0m\u001b[1;33m.\u001b[0m\u001b[0mrandrange\u001b[0m\u001b[1;33m(\u001b[0m\u001b[1;36m0\u001b[0m\u001b[1;33m,\u001b[0m \u001b[0mlen\u001b[0m\u001b[1;33m(\u001b[0m\u001b[0mlist_xx\u001b[0m\u001b[1;33m)\u001b[0m\u001b[1;33m)\u001b[0m\u001b[1;33m\u001b[0m\u001b[1;33m\u001b[0m\u001b[0m\n\u001b[0;32m    106\u001b[0m \u001b[1;33m\u001b[0m\u001b[0m\n\u001b[1;32m--> 107\u001b[1;33m         \u001b[0mexp_val\u001b[0m\u001b[1;33m=\u001b[0m \u001b[0msampleExpecVal\u001b[0m\u001b[1;33m(\u001b[0m\u001b[0mlist_zsis\u001b[0m\u001b[1;33m[\u001b[0m\u001b[0mindex1\u001b[0m\u001b[1;33m]\u001b[0m\u001b[1;33m,\u001b[0m \u001b[0mlist_xx\u001b[0m\u001b[1;33m[\u001b[0m\u001b[0mindex2\u001b[0m\u001b[1;33m]\u001b[0m\u001b[1;33m,\u001b[0m \u001b[0mHamiltonian\u001b[0m\u001b[1;33m,\u001b[0m \u001b[0mhammy_weights\u001b[0m\u001b[1;33m)\u001b[0m\u001b[1;33m\u001b[0m\u001b[1;33m\u001b[0m\u001b[0m\n\u001b[0m\u001b[0;32m    108\u001b[0m         \u001b[0mexpec_vals\u001b[0m\u001b[1;33m.\u001b[0m\u001b[0mappend\u001b[0m\u001b[1;33m(\u001b[0m\u001b[0mexp_val\u001b[0m\u001b[1;33m)\u001b[0m\u001b[1;33m\u001b[0m\u001b[1;33m\u001b[0m\u001b[0m\n\u001b[0;32m    109\u001b[0m \u001b[1;33m\u001b[0m\u001b[0m\n",
      "\u001b[1;32m~\\Downloads\\Pulse and Gate Comparison (Nov10)\\Result_funcs.py\u001b[0m in \u001b[0;36msampleExpecVal\u001b[1;34m(samp_zsis, samp_xx, Hamiltonian, Hamiltonian_weights)\u001b[0m\n\u001b[0;32m     40\u001b[0m     \u001b[1;32mfor\u001b[0m \u001b[0mhammy\u001b[0m \u001b[1;32min\u001b[0m \u001b[0mHamiltonian\u001b[0m\u001b[1;33m:\u001b[0m\u001b[1;33m\u001b[0m\u001b[1;33m\u001b[0m\u001b[0m\n\u001b[0;32m     41\u001b[0m         \u001b[1;32mif\u001b[0m \u001b[1;33m(\u001b[0m\u001b[0mhammy\u001b[0m\u001b[1;33m!=\u001b[0m \u001b[1;34m'XX'\u001b[0m\u001b[1;33m)\u001b[0m\u001b[1;33m:\u001b[0m\u001b[1;33m\u001b[0m\u001b[1;33m\u001b[0m\u001b[0m\n\u001b[1;32m---> 42\u001b[1;33m             \u001b[0mHamiltonian_eig\u001b[0m\u001b[1;33m+=\u001b[0m \u001b[1;33m[\u001b[0m\u001b[0mcountToEig\u001b[0m\u001b[1;33m(\u001b[0m\u001b[0msamp_zsis\u001b[0m\u001b[1;33m,\u001b[0m \u001b[0mhammy\u001b[0m\u001b[1;33m)\u001b[0m\u001b[1;33m]\u001b[0m\u001b[1;33m\u001b[0m\u001b[1;33m\u001b[0m\u001b[0m\n\u001b[0m\u001b[0;32m     43\u001b[0m         \u001b[1;32melse\u001b[0m\u001b[1;33m:\u001b[0m\u001b[1;33m\u001b[0m\u001b[1;33m\u001b[0m\u001b[0m\n\u001b[0;32m     44\u001b[0m             \u001b[0mHamiltonian_eig\u001b[0m\u001b[1;33m+=\u001b[0m \u001b[1;33m[\u001b[0m\u001b[0mcountToEig\u001b[0m\u001b[1;33m(\u001b[0m\u001b[0msamp_xx\u001b[0m\u001b[1;33m,\u001b[0m \u001b[0mhammy\u001b[0m\u001b[1;33m)\u001b[0m\u001b[1;33m]\u001b[0m\u001b[1;33m\u001b[0m\u001b[1;33m\u001b[0m\u001b[0m\n",
      "\u001b[1;32m~\\Downloads\\Pulse and Gate Comparison (Nov10)\\Result_funcs.py\u001b[0m in \u001b[0;36mcountToEig\u001b[1;34m(count, matrix)\u001b[0m\n\u001b[0;32m     87\u001b[0m     \u001b[1;31m#convert count to dec\u001b[0m\u001b[1;33m\u001b[0m\u001b[1;33m\u001b[0m\u001b[1;33m\u001b[0m\u001b[0m\n\u001b[0;32m     88\u001b[0m     \u001b[0mcount\u001b[0m \u001b[1;33m=\u001b[0m \u001b[0mbinaryToDecimal\u001b[0m\u001b[1;33m(\u001b[0m\u001b[0mint\u001b[0m\u001b[1;33m(\u001b[0m\u001b[0mcount\u001b[0m\u001b[1;33m)\u001b[0m\u001b[1;33m)\u001b[0m\u001b[1;33m\u001b[0m\u001b[1;33m\u001b[0m\u001b[0m\n\u001b[1;32m---> 89\u001b[1;33m     \u001b[1;32mreturn\u001b[0m \u001b[0mv\u001b[0m\u001b[1;33m[\u001b[0m\u001b[0mcount\u001b[0m\u001b[1;33m]\u001b[0m\u001b[1;33m\u001b[0m\u001b[1;33m\u001b[0m\u001b[0m\n\u001b[0m\u001b[0;32m     90\u001b[0m \u001b[1;33m\u001b[0m\u001b[0m\n\u001b[0;32m     91\u001b[0m \u001b[1;32mdef\u001b[0m \u001b[0mexpecValForSamples\u001b[0m\u001b[1;33m(\u001b[0m\u001b[0mcounts_zsis\u001b[0m\u001b[1;33m,\u001b[0m \u001b[0mcounts_xx\u001b[0m\u001b[1;33m,\u001b[0m \u001b[0mHamiltonian\u001b[0m\u001b[1;33m,\u001b[0m \u001b[0mhammy_weights\u001b[0m\u001b[1;33m)\u001b[0m\u001b[1;33m:\u001b[0m\u001b[1;33m\u001b[0m\u001b[1;33m\u001b[0m\u001b[0m\n",
      "\u001b[1;31mIndexError\u001b[0m: index 33 is out of bounds for axis 0 with size 4"
     ]
    }
   ],
   "source": [
    "gate_energiesss = []\n",
    "pulse_energiesss = []\n",
    "for c in scales:\n",
    "    print('--------------' + 'Scale :' + str(c) + ' -------------')\n",
    "    pulse_energies, gate_energies = EnergyFinder(c)\n",
    "    gate_energiesss += [gate_energies]\n",
    "    pulse_energiesss += [pulse_energies]\n"
   ]
  },
  {
   "cell_type": "code",
   "execution_count": null,
   "metadata": {},
   "outputs": [],
   "source": []
  }
 ],
 "metadata": {
  "kernelspec": {
   "display_name": "Python 3",
   "language": "python",
   "name": "python3"
  },
  "language_info": {
   "codemirror_mode": {
    "name": "ipython",
    "version": 3
   },
   "file_extension": ".py",
   "mimetype": "text/x-python",
   "name": "python",
   "nbconvert_exporter": "python",
   "pygments_lexer": "ipython3",
   "version": "3.8.3"
  }
 },
 "nbformat": 4,
 "nbformat_minor": 4
}
