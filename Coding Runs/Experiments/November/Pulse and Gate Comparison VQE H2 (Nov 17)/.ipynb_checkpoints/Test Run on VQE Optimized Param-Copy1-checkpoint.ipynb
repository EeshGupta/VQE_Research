{
 "cells": [
  {
   "cell_type": "markdown",
   "metadata": {},
   "source": [
    "# Basic Libraries"
   ]
  },
  {
   "cell_type": "markdown",
   "metadata": {},
   "source": [
    "# copy"
   ]
  },
  {
   "cell_type": "code",
   "execution_count": 1,
   "metadata": {},
   "outputs": [
    {
     "name": "stderr",
     "output_type": "stream",
     "text": [
      "C:\\Users\\isido\\anaconda3\\lib\\site-packages\\qiskit\\providers\\ibmq\\ibmqfactory.py:192: UserWarning: Timestamps in IBMQ backend properties, jobs, and job results are all now in local time instead of UTC.\n",
      "  warnings.warn('Timestamps in IBMQ backend properties, jobs, and job results '\n"
     ]
    }
   ],
   "source": [
    "%matplotlib inline\n",
    "import random\n",
    "import math\n",
    "import numpy as np\n",
    "# Importing standard Qiskit libraries and configuring account\n",
    "from qiskit import QuantumCircuit, execute, Aer, IBMQ, IBMQ\n",
    "from qiskit.compiler import transpile, assemble\n",
    "from qiskit.tools.jupyter import *\n",
    "from qiskit import *\n",
    "from qiskit.visualization import *\n",
    "# Loading your IBM Q account(s)\n",
    "provider = IBMQ.load_account()\n",
    "\n",
    "import numpy as np\n",
    "\n",
    "from qiskit.providers.aer.noise import NoiseModel\n",
    "from qiskit.aqua import QuantumInstance\n",
    "from qiskit.providers.aer.noise import thermal_relaxation_error, ReadoutError, depolarizing_error\n",
    "\n",
    "provider = IBMQ.get_provider(hub='ibm-q-education', group = 'rutgers-uni-Schn', project= 'vqe-research')\n",
    "machine = provider.get_backend('ibmq_casablanca')\n",
    "# from qiskit.test.mock import FakeLondon\n",
    "# machine = FakeLondon()\n",
    "machine_noise_model = NoiseModel.from_backend(machine)\n",
    "simulator = Aer.get_backend('qasm_simulator')\n",
    "\n",
    "\n",
    "basis_gates = machine_noise_model.basis_gates"
   ]
  },
  {
   "cell_type": "code",
   "execution_count": 2,
   "metadata": {},
   "outputs": [
    {
     "name": "stdout",
     "output_type": "stream",
     "text": [
      "This backend is called ibmq_casablanca, and is on version 1.0.1. It has 7 qubits. It supports OpenPulse programs. The basis gates supported on this device are ['id', 'u1', 'u2', 'u3', 'cx'].\n"
     ]
    }
   ],
   "source": [
    "config = machine.configuration()\n",
    "print(\"This backend is called {0}, and is on version {1}. It has {2} qubit{3}. It \"\n",
    "      \"{4} OpenPulse programs. The basis gates supported on this device are {5}.\"\n",
    "      \"\".format(config.backend_name,\n",
    "                config.backend_version,\n",
    "                config.n_qubits,\n",
    "                '' if config.n_qubits == 1 else 's',\n",
    "                'supports' if config.open_pulse else 'does not support',\n",
    "                config.basis_gates))"
   ]
  },
  {
   "cell_type": "code",
   "execution_count": null,
   "metadata": {},
   "outputs": [],
   "source": []
  },
  {
   "cell_type": "markdown",
   "metadata": {},
   "source": [
    "## Gate Insertion"
   ]
  },
  {
   "cell_type": "code",
   "execution_count": 3,
   "metadata": {},
   "outputs": [],
   "source": [
    "from GateInsertion_funcs import splitter, PiReader, GateInsertion, u3PairAdder, cXPairAdder, GateInserter"
   ]
  },
  {
   "cell_type": "markdown",
   "metadata": {},
   "source": [
    "## Pulse Stretching"
   ]
  },
  {
   "cell_type": "code",
   "execution_count": 4,
   "metadata": {},
   "outputs": [],
   "source": [
    "from newPulseFuncs import instruc_sorter, get_closest_multiple_of_16, stretch_sub_sched, stretcher, scheduler"
   ]
  },
  {
   "cell_type": "markdown",
   "metadata": {},
   "source": [
    "## Generic Result Functions"
   ]
  },
  {
   "cell_type": "code",
   "execution_count": 5,
   "metadata": {},
   "outputs": [],
   "source": [
    "from Result_Funcs_VQE import fullCountSetGenerator, marginalizeCounts, addDicts, runExperiments"
   ]
  },
  {
   "cell_type": "markdown",
   "metadata": {},
   "source": [
    "## VQE Result Functions"
   ]
  },
  {
   "cell_type": "code",
   "execution_count": 6,
   "metadata": {},
   "outputs": [],
   "source": [
    "\n",
    "# Expectation Value/Running Functions\n",
    "from ResultVQE_funcs import binaryToDecimal, dictToList, sampleExpecVal, countToEig, expecValForSamples, addDicts, evaluator"
   ]
  },
  {
   "cell_type": "markdown",
   "metadata": {},
   "source": [
    "# VQE Functions"
   ]
  },
  {
   "cell_type": "code",
   "execution_count": 7,
   "metadata": {},
   "outputs": [],
   "source": [
    "#Local Hamiltonian Function\n",
    "from VQEHamiltonian_funcs import Hammifier"
   ]
  },
  {
   "cell_type": "code",
   "execution_count": 8,
   "metadata": {},
   "outputs": [],
   "source": [
    "from qiskit.chemistry.components.variational_forms import UCCSD\n",
    "from qiskit.chemistry.components.initial_states import HartreeFock\n",
    "\n",
    "initial_state = HartreeFock(\n",
    "4,\n",
    "2,\n",
    "'parity'\n",
    ") \n",
    "var_form = UCCSD(\n",
    "            num_orbitals=4,\n",
    "            num_particles=2,\n",
    "            initial_state=initial_state,\n",
    "            qubit_mapping='parity'\n",
    "        )"
   ]
  },
  {
   "cell_type": "code",
   "execution_count": 9,
   "metadata": {},
   "outputs": [
    {
     "data": {
      "image/png": "[encoded data removed]",
      "text/plain": [
       "<Figure size 1531.25x144.48 with 1 Axes>"
      ]
     },
     "execution_count": 9,
     "metadata": {},
     "output_type": "execute_result"
    }
   ],
   "source": [
    "param = [ 0.0026304,-0.0025734,  -0.11250428]# on casa blanca noisemodel Nov 17 [ 0.00263048 -0.0025734  -0.11250428]\n",
    "circ = var_form.construct_circuit(param).decompose().decompose()\n",
    "circ.draw(output = 'mpl')"
   ]
  },
  {
   "cell_type": "code",
   "execution_count": 10,
   "metadata": {},
   "outputs": [
    {
     "data": {
      "image/png": "[encoded data removed]",
      "text/plain": [
       "<Figure size 1531.25x204.68 with 1 Axes>"
      ]
     },
     "execution_count": 10,
     "metadata": {},
     "output_type": "execute_result"
    }
   ],
   "source": [
    "reg = ClassicalRegister(2)\n",
    "circ.add_register(reg)\n",
    "circ.draw(output = 'mpl')"
   ]
  },
  {
   "cell_type": "code",
   "execution_count": null,
   "metadata": {},
   "outputs": [],
   "source": []
  },
  {
   "cell_type": "markdown",
   "metadata": {},
   "source": [
    "## Stretching and Prepping"
   ]
  },
  {
   "cell_type": "code",
   "execution_count": 11,
   "metadata": {},
   "outputs": [],
   "source": [
    "scales = [1, 1.2, 1.4, 1.6, 1.8, 2]"
   ]
  },
  {
   "cell_type": "code",
   "execution_count": 12,
   "metadata": {},
   "outputs": [],
   "source": [
    "import numpy as np\n",
    "countss = []\n",
    "circuitss =[]\n",
    "def EnergyFinder(scales, pulse1gate0):\n",
    "    '''\n",
    "    Input: scales and a boolean (if stretch pulse ==1 , otherwise iusing gates == 0)\n",
    "    Output: energy\n",
    "    '''\n",
    "    \n",
    "    Hamiltonian = \"\"\"II\\nIZ\\nZI\\nZZ\\nXX\"\"\"\n",
    "    Hamiltonian_weights = [-1.053, 0.395, -0.395, -0.011, 0.181]\n",
    "    global machine\n",
    "    backend = machine\n",
    "    samples = 8192\n",
    "    \n",
    "  \n",
    "        \n",
    "    global circ\n",
    "    circ_ =circ.copy()\n",
    "    circuits = Hammifier(circ_, Hamiltonian)\n",
    "    if (pulse1gate0 == 1):\n",
    "        scaled_circuits = scheduler(scales, circuits, machine = machine)\n",
    "    else:\n",
    "        scaled_circuits = GateInserter(scales, circuits, \"q\")\n",
    "    \n",
    "    counts =  runExperiments(scaled_circuits, backend,samples)\n",
    "    \n",
    "    \n",
    "    energies = []\n",
    "    for i in range(len(counts)):\n",
    "        expecVals =expecValForSamples(counts[i][0], counts[i][1], Hamiltonian, Hamiltonian_weights)  #zz, xx\n",
    "        energy = np.mean(expecVals)\n",
    "        energies.append(energy)\n",
    "        \n",
    "    return energies  \n",
    "    "
   ]
  },
  {
   "cell_type": "code",
   "execution_count": 13,
   "metadata": {},
   "outputs": [],
   "source": [
    "scales = [1 + (0.1*i) for i in range(10)]"
   ]
  },
  {
   "cell_type": "code",
   "execution_count": 14,
   "metadata": {},
   "outputs": [
    {
     "data": {
      "text/plain": [
       "[1.0, 1.1, 1.2, 1.3, 1.4, 1.5, 1.6, 1.7000000000000002, 1.8, 1.9]"
      ]
     },
     "execution_count": 14,
     "metadata": {},
     "output_type": "execute_result"
    }
   ],
   "source": [
    "scales"
   ]
  },
  {
   "cell_type": "code",
   "execution_count": 15,
   "metadata": {},
   "outputs": [
    {
     "name": "stdout",
     "output_type": "stream",
     "text": [
      "Job Status: job has successfully run\n"
     ]
    }
   ],
   "source": [
    "gate_energies = EnergyFinder(scales, 0)"
   ]
  },
  {
   "cell_type": "code",
   "execution_count": 16,
   "metadata": {},
   "outputs": [
    {
     "data": {
      "text/plain": [
       "[-0.9854815984189185,\n",
       " -0.9771786199032935,\n",
       " -0.9885299382626684,\n",
       " -0.9843395085751685,\n",
       " -0.9863534245907936,\n",
       " -0.9296141667782936,\n",
       " -0.9828580632626686,\n",
       " -0.9933956609189185,\n",
       " -0.8684056706845436,\n",
       " -0.9322718816220434]"
      ]
     },
     "execution_count": 16,
     "metadata": {},
     "output_type": "execute_result"
    }
   ],
   "source": [
    "gate_energies"
   ]
  },
  {
   "cell_type": "code",
   "execution_count": 17,
   "metadata": {},
   "outputs": [
    {
     "name": "stdout",
     "output_type": "stream",
     "text": [
      "Job Status: job has successfully run\n"
     ]
    }
   ],
   "source": [
    "pulse_energies = EnergyFinder(scales, 1)"
   ]
  },
  {
   "cell_type": "code",
   "execution_count": 18,
   "metadata": {},
   "outputs": [
    {
     "data": {
      "text/plain": [
       "[-0.9720353093564185,\n",
       " -0.9789918523251684,\n",
       " -0.9383370671689185,\n",
       " -0.9700509343564185,\n",
       " -0.9760953679501685,\n",
       " -0.9846278386532935,\n",
       " -0.9726114812314185,\n",
       " -0.9424374089657934,\n",
       " -0.9575209050595435,\n",
       " -0.9376100163876686]"
      ]
     },
     "execution_count": 18,
     "metadata": {},
     "output_type": "execute_result"
    }
   ],
   "source": [
    "pulse_energies"
   ]
  },
  {
   "cell_type": "code",
   "execution_count": 19,
   "metadata": {},
   "outputs": [
    {
     "name": "stdout",
     "output_type": "stream",
     "text": [
      "Job Status: job has successfully run\n",
      "Job Status: job has successfully run\n",
      "Job Status: job has successfully run\n",
      "Job Status: job has successfully run\n",
      "Job Status: job has successfully run\n",
      "Job Status: job has successfully run\n",
      "Job Status: job has successfully run\n",
      "Job Status: job has successfully run\n",
      "Job Status: job has successfully run\n",
      "Job Status: job has successfully run\n"
     ]
    }
   ],
   "source": [
    "gate_energiess = []\n",
    "pulse_energiess = []\n",
    "for i in range(5):\n",
    "    gate_energies = EnergyFinder(scales, 0)\n",
    "    pulse_energies = EnergyFinder(scales, 1)\n",
    "    gate_energiess.append(gate_energies)\n",
    "    pulse_energiess.append(pulse_energies)\n",
    "    "
   ]
  },
  {
   "cell_type": "code",
   "execution_count": 20,
   "metadata": {},
   "outputs": [
    {
     "data": {
      "text/plain": [
       "[[-1.0176813054501685,\n",
       "  -1.0047545476376687,\n",
       "  -1.0230384831845436,\n",
       "  -1.0205245671689185,\n",
       "  -0.9790753484189185,\n",
       "  -1.0246087956845435,\n",
       "  -1.0024537663876685,\n",
       "  -1.0356361394345435,\n",
       "  -0.9387716374814186,\n",
       "  -0.8369205632626686],\n",
       " [-0.9852120671689184,\n",
       "  -0.9822945867001684,\n",
       "  -0.9530040593564186,\n",
       "  -0.9880008855282935,\n",
       "  -0.9886783757626685,\n",
       "  -0.8996080632626686,\n",
       "  -0.9922018132626684,\n",
       "  -0.8501095281064186,\n",
       "  -0.8721319890439186,\n",
       "  -0.9538092351376686],\n",
       " [-0.9903124089657935,\n",
       "  -0.9844227605282936,\n",
       "  -0.9979618230282936,\n",
       "  -0.9941061101376685,\n",
       "  -0.9921437077939186,\n",
       "  -0.8509984441220436,\n",
       "  -0.9418119206845436,\n",
       "  -0.9191983952939184,\n",
       "  -0.9976864324032935,\n",
       "  -0.7899440007626686],\n",
       " [-1.0027357488095436,\n",
       "  -1.0020252995907935,\n",
       "  -0.9785790105282934,\n",
       "  -0.9393873601376685,\n",
       "  -1.0020113835751685,\n",
       "  -1.0010321355282934,\n",
       "  -0.9604676824032935,\n",
       "  -1.0087381902157935,\n",
       "  -0.9973627019345435,\n",
       "  -0.9719608464657935],\n",
       " [-0.9866612859189184,\n",
       "  -0.9079125066220435,\n",
       "  -0.9141402898251686,\n",
       "  -0.9141576238095435,\n",
       "  -0.9139383855282935,\n",
       "  -0.8977972722470435,\n",
       "  -0.8512701726376686,\n",
       "  -0.8763810124814186,\n",
       "  -0.9749090886532934,\n",
       "  -0.9093553777157936]]"
      ]
     },
     "execution_count": 20,
     "metadata": {},
     "output_type": "execute_result"
    }
   ],
   "source": [
    "gate_energiess"
   ]
  },
  {
   "cell_type": "code",
   "execution_count": 21,
   "metadata": {},
   "outputs": [
    {
     "data": {
      "text/plain": [
       "[[-1.0069413152157936,\n",
       "  -0.9777870183407935,\n",
       "  -1.0038702702939184,\n",
       "  -0.9778609929501685,\n",
       "  -0.9809261784970436,\n",
       "  -0.9790873113095435,\n",
       "  -0.9762179265439186,\n",
       "  -0.9673226628720435,\n",
       "  -0.9670033269345435,\n",
       "  -0.9626717839657936],\n",
       " [-0.9808255925595435,\n",
       "  -0.9610384831845435,\n",
       "  -0.9828619695126685,\n",
       "  -0.9698121648251685,\n",
       "  -0.9608155827939187,\n",
       "  -0.9531656804501686,\n",
       "  -0.9475462956845435,\n",
       "  -0.9294254460751685,\n",
       "  -0.9312086492001685,\n",
       "  -0.9255482488095436],\n",
       " [-0.9608937077939185,\n",
       "  -0.9407054753720435,\n",
       "  -0.9515909734189185,\n",
       "  -0.9405248113095436,\n",
       "  -0.9382230534970435,\n",
       "  -0.9257020574032936,\n",
       "  -0.9317501531064185,\n",
       "  -0.9223666081845436,\n",
       "  -0.9130506902157935,\n",
       "  -0.9105858464657935],\n",
       " [-1.0046092839657934,\n",
       "  -0.9786940007626685,\n",
       "  -0.9977462468564186,\n",
       "  -0.9864925847470436,\n",
       "  -0.9894166570126685,\n",
       "  -0.9813944402157935,\n",
       "  -0.9856410222470435,\n",
       "  -0.9773155827939186,\n",
       "  -0.9594864812314186,\n",
       "  -0.9358168034970435],\n",
       " [-1.0041683659970435,\n",
       "  -0.9728482976376686,\n",
       "  -1.0020499577939186,\n",
       "  -0.9911522527157937,\n",
       "  -0.9853705144345436,\n",
       "  -0.9712530827939185,\n",
       "  -0.9730387273251685,\n",
       "  -0.9633683171689186,\n",
       "  -0.9431681218564185,\n",
       "  -0.9277477117001687]]"
      ]
     },
     "execution_count": 21,
     "metadata": {},
     "output_type": "execute_result"
    }
   ],
   "source": [
    "pulse_energiess"
   ]
  },
  {
   "cell_type": "code",
   "execution_count": 22,
   "metadata": {},
   "outputs": [],
   "source": [
    "gate = []\n",
    "pulse = []\n",
    "for j in range(len(scales)):\n",
    "    array1 = []\n",
    "    array2 = []\n",
    "    for i in range(5):\n",
    "        array1.append(gate_energiess[i][j])\n",
    "        array2.append(pulse_energiess[i][j])\n",
    "    gate.append(np.mean(array1))\n",
    "    pulse.append(np.mean(array2))"
   ]
  },
  {
   "cell_type": "code",
   "execution_count": 23,
   "metadata": {},
   "outputs": [
    {
     "data": {
      "text/plain": [
       "[-0.9965205632626685,\n",
       " -0.9762819402157936,\n",
       " -0.9733447331845436,\n",
       " -0.9712353093564184,\n",
       " -0.9751694402157935,\n",
       " -0.9348089421689185,\n",
       " -0.9496410710751686,\n",
       " -0.9380126531064186,\n",
       " -0.9561723699032936,\n",
       " -0.8923980046689186]"
      ]
     },
     "execution_count": 23,
     "metadata": {},
     "output_type": "execute_result"
    }
   ],
   "source": [
    "gate"
   ]
  },
  {
   "cell_type": "code",
   "execution_count": 24,
   "metadata": {},
   "outputs": [
    {
     "data": {
      "text/plain": [
       "[-0.9914876531064184,\n",
       " -0.9662146550595436,\n",
       " -0.9876238835751685,\n",
       " -0.9731685613095437,\n",
       " -0.9709503972470437,\n",
       " -0.9621205144345435,\n",
       " -0.9628388249814186,\n",
       " -0.9519597234189187,\n",
       " -0.9427834538876685,\n",
       " -0.9324740788876685]"
      ]
     },
     "execution_count": 24,
     "metadata": {},
     "output_type": "execute_result"
    }
   ],
   "source": [
    "pulse"
   ]
  },
  {
   "cell_type": "code",
   "execution_count": 33,
   "metadata": {},
   "outputs": [
    {
     "name": "stdout",
     "output_type": "stream",
     "text": [
      "Job Status: job has successfully run\n",
      "Job Status: job has successfully run\n",
      "Job Status: job has successfully run\n",
      "Job Status: job has successfully run\n",
      "Job Status: job has successfully run\n",
      "Job Status: job has successfully run\n",
      "Job Status: job has successfully run\n",
      "Job Status: job has successfully run\n",
      "Job Status: job has successfully run\n",
      "Job Status: job has successfully run\n"
     ]
    }
   ],
   "source": [
    "gate_energiesss = []\n",
    "pulse_energiesss = []\n",
    "for i in range(5):\n",
    "    gate_energies = EnergyFinder(scales, 0)\n",
    "    pulse_energies = EnergyFinder(scales, 1)\n",
    "    gate_energiesss.append(gate_energies)\n",
    "    pulse_energiesss.append(pulse_energies)"
   ]
  },
  {
   "cell_type": "code",
   "execution_count": 34,
   "metadata": {},
   "outputs": [
    {
     "data": {
      "text/plain": [
       "[[-0.9968893132626685,\n",
       "  -0.9995209050595435,\n",
       "  -0.9986932683407934,\n",
       "  -1.0053580632626686,\n",
       "  -0.8945382390439185,\n",
       "  -0.9500465398251685,\n",
       "  -0.9961966863095435,\n",
       "  -0.8669269109189186,\n",
       "  -0.9495199284970435,\n",
       "  -0.9443817449032935],\n",
       " [-0.9788045964657934,\n",
       "  -0.9731915593564184,\n",
       "  -0.9760782781064185,\n",
       "  -0.9262435613095436,\n",
       "  -0.9828690495907936,\n",
       "  -0.9111817937314186,\n",
       "  -0.8704305730282935,\n",
       "  -0.9130970769345435,\n",
       "  -0.9062884831845435,\n",
       "  -0.9183307195126686],\n",
       " [-0.9841620183407935,\n",
       "  -0.9079068913876684,\n",
       "  -0.9809042058407935,\n",
       "  -0.9808397527157935,\n",
       "  -0.8576358952939187,\n",
       "  -0.9059012761532935,\n",
       "  -0.8710773015439186,\n",
       "  -0.9797313542782935,\n",
       "  -0.9129774480282935,\n",
       "  -0.8596813054501686],\n",
       " [-0.9922889714657934,\n",
       "  -0.9964295964657935,\n",
       "  -0.9898280339657934,\n",
       "  -0.9949288640439184,\n",
       "  -1.0049244695126685,\n",
       "  -1.0013417058407934,\n",
       "  -0.9298092351376686,\n",
       "  -0.9415438542782935,\n",
       "  -0.9487938542782935,\n",
       "  -0.8592550359189186],\n",
       " [-0.9846236882626686,\n",
       "  -0.9892867742001684,\n",
       "  -0.9434376531064186,\n",
       "  -0.9987457585751685,\n",
       "  -0.9325104070126686,\n",
       "  -0.9775995183407935,\n",
       "  -0.9922418523251685,\n",
       "  -0.8846593327939185,\n",
       "  -0.9480299382626685,\n",
       "  -0.8738014226376687]]"
      ]
     },
     "execution_count": 34,
     "metadata": {},
     "output_type": "execute_result"
    }
   ],
   "source": [
    "gate_energiesss"
   ]
  },
  {
   "cell_type": "code",
   "execution_count": 35,
   "metadata": {},
   "outputs": [
    {
     "data": {
      "text/plain": [
       "[[-1.0151900945126684,\n",
       "  -0.9848075261532936,\n",
       "  -1.0080252995907935,\n",
       "  -0.9965333562314186,\n",
       "  -0.9929010320126685,\n",
       "  -0.9944413152157935,\n",
       "  -0.9924359441220435,\n",
       "  -0.9736373601376686,\n",
       "  -0.9639608464657936,\n",
       "  -0.9443187566220435],\n",
       " [-1.0017469792782934,\n",
       "  -0.9798280339657934,\n",
       "  -0.9918395085751684,\n",
       "  -0.9875233464657935,\n",
       "  -0.9858495183407936,\n",
       "  -0.9783273015439186,\n",
       "  -0.9821717839657935,\n",
       "  -0.9776483464657936,\n",
       "  -0.9600243230282935,\n",
       "  -0.9419298406064186],\n",
       " [-1.0134584050595434,\n",
       "  -0.9989332585751686,\n",
       "  -1.0059227605282934,\n",
       "  -1.0035724187314186,\n",
       "  -0.9971949773251685,\n",
       "  -0.9804320378720435,\n",
       "  -0.9906788640439186,\n",
       "  -0.9718553777157936,\n",
       "  -0.9550892644345435,\n",
       "  -0.9396837468564186],\n",
       " [-1.0238365788876687,\n",
       "  -0.9984591374814185,\n",
       "  -1.0106039128720434,\n",
       "  -1.0136258855282936,\n",
       "  -1.0043407292782935,\n",
       "  -1.0017091374814187,\n",
       "  -1.0094881902157935,\n",
       "  -0.9916808171689185,\n",
       "  -0.9848878484189185,\n",
       "  -0.9557186589657936],\n",
       " [-1.0010487370907937,\n",
       "  -0.9645921941220436,\n",
       "  -0.9910553288876686,\n",
       "  -0.9729579167782936,\n",
       "  -0.9775511784970435,\n",
       "  -0.9747972722470435,\n",
       "  -0.9772005925595435,\n",
       "  -0.9446241765439185,\n",
       "  -0.9444745183407935,\n",
       "  -0.9149576726376686]]"
      ]
     },
     "execution_count": 35,
     "metadata": {},
     "output_type": "execute_result"
    }
   ],
   "source": [
    "pulse_energiesss"
   ]
  },
  {
   "cell_type": "code",
   "execution_count": 36,
   "metadata": {},
   "outputs": [],
   "source": [
    "gate2 = []\n",
    "pulse2 = []\n",
    "for j in range(len(scales)):\n",
    "    array1 = []\n",
    "    array2 = []\n",
    "    for i in range(5):\n",
    "        array1.append(gate_energiesss[i][j])\n",
    "        array2.append(pulse_energiesss[i][j])\n",
    "    gate2.append(np.mean(array1))\n",
    "    pulse2.append(np.mean(array2))"
   ]
  },
  {
   "cell_type": "code",
   "execution_count": 37,
   "metadata": {},
   "outputs": [
    {
     "data": {
      "text/plain": [
       "[-0.9873537175595434,\n",
       " -0.9732671452939184,\n",
       " -0.9777882878720435,\n",
       " -0.9812231999814184,\n",
       " -0.9344956120907936,\n",
       " -0.9492141667782935,\n",
       " -0.9319511296689186,\n",
       " -0.9171917058407935,\n",
       " -0.9331219304501686,\n",
       " -0.8910900456845436]"
      ]
     },
     "execution_count": 37,
     "metadata": {},
     "output_type": "execute_result"
    }
   ],
   "source": [
    "gate2"
   ]
  },
  {
   "cell_type": "code",
   "execution_count": 38,
   "metadata": {},
   "outputs": [
    {
     "data": {
      "text/plain": [
       "[-1.0110561589657936,\n",
       " -0.9853240300595434,\n",
       " -1.0014893620907934,\n",
       " -0.9948425847470436,\n",
       " -0.9915674870907937,\n",
       " -0.9859414128720436,\n",
       " -0.9903950749814185,\n",
       " -0.9718892156064186,\n",
       " -0.9616873601376688,\n",
       " -0.9393217351376686]"
      ]
     },
     "execution_count": 38,
     "metadata": {},
     "output_type": "execute_result"
    }
   ],
   "source": [
    "pulse2"
   ]
  },
  {
   "cell_type": "code",
   "execution_count": 43,
   "metadata": {},
   "outputs": [],
   "source": [
    "gate3 = [np.mean([gate[i], gate2[i]]) for i in range(len(scales))]\n",
    "pulse3 = [np.mean([pulse[i], pulse2[i]]) for i in range(len(scales))]"
   ]
  },
  {
   "cell_type": "code",
   "execution_count": 44,
   "metadata": {},
   "outputs": [
    {
     "data": {
      "image/png": "[encoded data removed]",
      "text/plain": [
       "<Figure size 432x288 with 1 Axes>"
      ]
     },
     "metadata": {
      "needs_background": "light"
     },
     "output_type": "display_data"
    }
   ],
   "source": [
    "import matplotlib.pyplot as plt\n",
    "a = plt.figure()\n",
    "plt.plot(scales, gate3, marker = 'o', linestyle = '--',label = 'Gate')\n",
    "plt.plot(scales, pulse3, marker = 'o', linestyle = '--',label  = 'Pulse')\n",
    "plt.plot(0.9, -1.137, marker = 'o', label = 'exact energy')\n",
    "plt.legend()\n",
    "plt.xlabel('Scale')\n",
    "plt.ylabel('Energy (Hartree)')\n",
    "plt.title('Gate Insertion vs Pulse Stretching for H2 VQE')\n",
    "plt.show()\n",
    "a.savefig('VQE1', dpi = 1000)\n"
   ]
  },
  {
   "cell_type": "code",
   "execution_count": 45,
   "metadata": {},
   "outputs": [
    {
     "data": {
      "text/plain": [
       "[-0.9919371404111059,\n",
       " -0.974774542754856,\n",
       " -0.9755665105282936,\n",
       " -0.9762292546689184,\n",
       " -0.9548325261532935,\n",
       " -0.9420115544736061,\n",
       " -0.9407961003720435,\n",
       " -0.927602179473606,\n",
       " -0.9446471501767311,\n",
       " -0.8917440251767311]"
      ]
     },
     "execution_count": 45,
     "metadata": {},
     "output_type": "execute_result"
    }
   ],
   "source": [
    "gate3"
   ]
  },
  {
   "cell_type": "code",
   "execution_count": 46,
   "metadata": {},
   "outputs": [
    {
     "data": {
      "text/plain": [
       "[-1.001271906036106,\n",
       " -0.9757693425595435,\n",
       " -0.994556622832981,\n",
       " -0.9840055730282936,\n",
       " -0.9812589421689186,\n",
       " -0.9740309636532936,\n",
       " -0.9766169499814186,\n",
       " -0.9619244695126686,\n",
       " -0.9522354070126686,\n",
       " -0.9358979070126685]"
      ]
     },
     "execution_count": 46,
     "metadata": {},
     "output_type": "execute_result"
    }
   ],
   "source": [
    "pulse3"
   ]
  },
  {
   "cell_type": "code",
   "execution_count": null,
   "metadata": {},
   "outputs": [],
   "source": []
  }
 ],
 "metadata": {
  "kernelspec": {
   "display_name": "Python 3",
   "language": "python",
   "name": "python3"
  },
  "language_info": {
   "codemirror_mode": {
    "name": "ipython",
    "version": 3
   },
   "file_extension": ".py",
   "mimetype": "text/x-python",
   "name": "python",
   "nbconvert_exporter": "python",
   "pygments_lexer": "ipython3",
   "version": "3.8.3"
  }
 },
 "nbformat": 4,
 "nbformat_minor": 4
}
