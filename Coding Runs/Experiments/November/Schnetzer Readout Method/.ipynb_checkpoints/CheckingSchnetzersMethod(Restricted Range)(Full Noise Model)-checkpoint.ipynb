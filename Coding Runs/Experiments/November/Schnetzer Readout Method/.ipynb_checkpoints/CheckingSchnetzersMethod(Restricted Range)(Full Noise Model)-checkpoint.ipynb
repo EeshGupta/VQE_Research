{
 "cells": [
  {
   "cell_type": "markdown",
   "metadata": {},
   "source": [
    "# Basic Libraries"
   ]
  },
  {
   "cell_type": "code",
   "execution_count": 1,
   "metadata": {},
   "outputs": [
    {
     "name": "stderr",
     "output_type": "stream",
     "text": [
      "C:\\Users\\Eesh Gupta\\anacondaaa\\lib\\site-packages\\qiskit\\providers\\ibmq\\ibmqfactory.py:192: UserWarning: Timestamps in IBMQ backend properties, jobs, and job results are all now in local time instead of UTC.\n",
      "  warnings.warn('Timestamps in IBMQ backend properties, jobs, and job results '\n"
     ]
    }
   ],
   "source": [
    "%matplotlib inline\n",
    "# Importing standard Qiskit libraries and configuring account\n",
    "from qiskit import QuantumCircuit, execute, Aer, IBMQ\n",
    "from qiskit.compiler import transpile, assemble\n",
    "from qiskit.tools.jupyter import *\n",
    "from qiskit import *\n",
    "from qiskit.visualization import *\n",
    "# Loading your IBM Q account(s)\n",
    "provider = IBMQ.load_account()\n",
    "\n",
    "import math\n",
    "import random\n",
    "\n",
    "from qiskit.providers.aer.noise import NoiseModel\n",
    "from qiskit.aqua import QuantumInstance\n",
    "from qiskit.providers.aer.noise import thermal_relaxation_error, ReadoutError, depolarizing_error\n",
    "\n",
    "# provider = IBMQ.get_provider(hub='ibm-q')\n",
    "# machine = provider.get_backend('ibmq_valencia')\n",
    "from qiskit.test.mock import FakeLondon\n",
    "machine = FakeLondon()\n",
    "machine_noise_model = NoiseModel.from_backend(machine)\n",
    "simulator = Aer.get_backend('qasm_simulator')\n",
    "\n",
    "\n",
    "basis_gates = machine_noise_model.basis_gates"
   ]
  },
  {
   "cell_type": "markdown",
   "metadata": {},
   "source": [
    "# Important Functions"
   ]
  },
  {
   "cell_type": "code",
   "execution_count": 2,
   "metadata": {},
   "outputs": [],
   "source": [
    "#Local Hamiltonian Function\n",
    "from VQEHamiltonian_funcs import Hammifier\n",
    "\n",
    "#Readout Mit Functions\n",
    "from ReadoutMit import prepare_circuit, modify_counts, symmetry\n",
    "\n",
    "# Expectation Value/Running Functions\n",
    "from Result_ReadoutMit_funcs import binaryToDecimal, dictToList, sampleExpecVal, countToEig, expecValForSamples, addDicts, evaluator"
   ]
  },
  {
   "cell_type": "markdown",
   "metadata": {},
   "source": [
    "# Restricted Range Info"
   ]
  },
  {
   "cell_type": "code",
   "execution_count": 3,
   "metadata": {},
   "outputs": [
    {
     "data": {
      "text/plain": [
       "'------------Interatomic Distance = 0.74--------------\\nHF energy: -1.831863646477506\\n# of electrons: 2\\n# of spin orbitals: 4\\nNumber of qubits are : 2\\n[ 0.00172129 -0.00182397 -0.11217598]\\nVQE Result: -1.1011690791894007 Exact Energy: -1.1372838344885012\\nAll energies have been calculated'"
      ]
     },
     "execution_count": 3,
     "metadata": {},
     "output_type": "execute_result"
    }
   ],
   "source": [
    "'''------------Interatomic Distance = 0.74--------------\n",
    "HF energy: -1.831863646477506\n",
    "# of electrons: 2\n",
    "# of spin orbitals: 4\n",
    "Number of qubits are : 2\n",
    "[ 0.00172129 -0.00182397 -0.11217598]\n",
    "VQE Result: -1.1011690791894007 Exact Energy: -1.1372838344885012\n",
    "All energies have been calculated'''"
   ]
  },
  {
   "cell_type": "markdown",
   "metadata": {},
   "source": [
    "# Noise Model"
   ]
  },
  {
   "cell_type": "code",
   "execution_count": 4,
   "metadata": {},
   "outputs": [],
   "source": [
    "'''\n",
    "\n",
    "def generateDepolarizingError(machine, gate, qubits)\n",
    "\n",
    "def generateRelaxationError(machine, gate, qubits, t1, t2, amp = 1, custom_t = False):\n",
    "    \"\"\"\n",
    "    Return a relaxation error\n",
    "    \"\"\"\n",
    "\n",
    "def generateNoiseModel(machine, coherent = True, incoherent = False, readout = False, custom_t = False, t1 = None, t2 = None, reverse = False):\n",
    "    \"\"\"\n",
    "    Returns a realistic copy of london noise model with custom t1, t2 times\n",
    "    \"\"\"\n",
    "\n",
    "'''\n",
    "\n",
    "from NoiseModel import generateDepolarizingError, generateRelaxationError, generateNoiseModel"
   ]
  },
  {
   "cell_type": "code",
   "execution_count": 5,
   "metadata": {},
   "outputs": [
    {
     "name": "stdout",
     "output_type": "stream",
     "text": [
      "Original: 0.01 0.050000000000000044\n",
      "Reverse: 0.01 0.050000000000000044\n",
      "Original: 0.02 0.07666666666666666\n",
      "Reverse: 0.02 0.07666666666666666\n",
      "Original: 0.14 0.18999999999999995\n",
      "Reverse: 0.14 0.18999999999999995\n",
      "Original: 0.0033333333333332993 0.03\n",
      "Reverse: 0.0033333333333332993 0.03\n",
      "Original: 0.006666666666666667 0.043333333333333335\n",
      "Reverse: 0.006666666666666667 0.043333333333333335\n"
     ]
    }
   ],
   "source": [
    " noise_model = generateNoiseModel(machine, coherent = True, incoherent = True, readout= True)"
   ]
  },
  {
   "cell_type": "markdown",
   "metadata": {},
   "source": [
    "# Variational Form\n",
    "For Hydrogen"
   ]
  },
  {
   "cell_type": "code",
   "execution_count": 6,
   "metadata": {},
   "outputs": [],
   "source": [
    "from qiskit.chemistry.components.variational_forms import UCCSD\n",
    "from qiskit.chemistry.components.initial_states import HartreeFock\n",
    "\n",
    "initial_state = HartreeFock(\n",
    "4,\n",
    "2,\n",
    "'parity'\n",
    ") \n",
    "var_form = UCCSD(\n",
    "            num_orbitals=4,\n",
    "            num_particles=2,\n",
    "            initial_state=initial_state,\n",
    "            qubit_mapping='parity'\n",
    "        )"
   ]
  },
  {
   "cell_type": "markdown",
   "metadata": {},
   "source": [
    "# Running Circuits for different Param"
   ]
  },
  {
   "cell_type": "code",
   "execution_count": 7,
   "metadata": {},
   "outputs": [
    {
     "name": "stdout",
     "output_type": "stream",
     "text": [
      "0\n"
     ]
    },
    {
     "ename": "CircuitError",
     "evalue": "'register name \"anc_meas\" already exists'",
     "output_type": "error",
     "traceback": [
      "\u001b[1;31m---------------------------------------------------------------------------\u001b[0m",
      "\u001b[1;31mCircuitError\u001b[0m                              Traceback (most recent call last)",
      "\u001b[1;32m<ipython-input-7-a822d5a7ef88>\u001b[0m in \u001b[0;36m<module>\u001b[1;34m\u001b[0m\n\u001b[0;32m     51\u001b[0m \u001b[1;33m\u001b[0m\u001b[0m\n\u001b[0;32m     52\u001b[0m     \u001b[1;32mreturn\u001b[0m \u001b[0menergies\u001b[0m\u001b[1;33m,\u001b[0m \u001b[0mdiff_r\u001b[0m\u001b[1;33m,\u001b[0m \u001b[0mdiff_nr\u001b[0m\u001b[1;33m\u001b[0m\u001b[1;33m\u001b[0m\u001b[0m\n\u001b[1;32m---> 53\u001b[1;33m \u001b[0menergies\u001b[0m\u001b[1;33m,\u001b[0m \u001b[0mdiff_r\u001b[0m\u001b[1;33m,\u001b[0m \u001b[0mdiff_nr\u001b[0m \u001b[1;33m=\u001b[0m \u001b[0mmain\u001b[0m\u001b[1;33m(\u001b[0m\u001b[1;33m)\u001b[0m\u001b[1;33m\u001b[0m\u001b[1;33m\u001b[0m\u001b[0m\n\u001b[0m",
      "\u001b[1;32m<ipython-input-7-a822d5a7ef88>\u001b[0m in \u001b[0;36mmain\u001b[1;34m()\u001b[0m\n\u001b[0;32m     42\u001b[0m \u001b[1;33m\u001b[0m\u001b[0m\n\u001b[0;32m     43\u001b[0m \u001b[1;33m\u001b[0m\u001b[0m\n\u001b[1;32m---> 44\u001b[1;33m         \u001b[0mnoisy_r\u001b[0m\u001b[1;33m,\u001b[0m\u001b[0mnoisy_nr\u001b[0m\u001b[1;33m,\u001b[0m \u001b[0mideal\u001b[0m \u001b[1;33m=\u001b[0m \u001b[0mEnergyFinder\u001b[0m\u001b[1;33m(\u001b[0m\u001b[1;33m[\u001b[0m\u001b[0mp1\u001b[0m\u001b[1;33m,\u001b[0m\u001b[0mp2\u001b[0m\u001b[1;33m,\u001b[0m\u001b[0mp3\u001b[0m\u001b[1;33m]\u001b[0m\u001b[1;33m)\u001b[0m\u001b[1;33m\u001b[0m\u001b[1;33m\u001b[0m\u001b[0m\n\u001b[0m\u001b[0;32m     45\u001b[0m         \u001b[0menergies\u001b[0m\u001b[1;33m.\u001b[0m\u001b[0mappend\u001b[0m\u001b[1;33m(\u001b[0m\u001b[1;33m[\u001b[0m\u001b[1;33m[\u001b[0m\u001b[0mp1\u001b[0m\u001b[1;33m,\u001b[0m\u001b[0mp2\u001b[0m\u001b[1;33m,\u001b[0m\u001b[0mp3\u001b[0m\u001b[1;33m]\u001b[0m\u001b[1;33m,\u001b[0m \u001b[0mideal\u001b[0m\u001b[1;33m,\u001b[0m \u001b[0mnoisy_r\u001b[0m\u001b[1;33m,\u001b[0m \u001b[0mnoisy_nr\u001b[0m\u001b[1;33m]\u001b[0m\u001b[1;33m)\u001b[0m\u001b[1;33m\u001b[0m\u001b[1;33m\u001b[0m\u001b[0m\n\u001b[0;32m     46\u001b[0m         \u001b[0mdiff_r\u001b[0m\u001b[1;33m.\u001b[0m\u001b[0mappend\u001b[0m\u001b[1;33m(\u001b[0m\u001b[0mnoisy_r\u001b[0m\u001b[1;33m-\u001b[0m\u001b[0mideal\u001b[0m\u001b[1;33m)\u001b[0m\u001b[1;33m\u001b[0m\u001b[1;33m\u001b[0m\u001b[0m\n",
      "\u001b[1;32m<ipython-input-7-a822d5a7ef88>\u001b[0m in \u001b[0;36mEnergyFinder\u001b[1;34m(param)\u001b[0m\n\u001b[0;32m     18\u001b[0m     \u001b[0mcircuits\u001b[0m \u001b[1;33m=\u001b[0m \u001b[0mHammifier\u001b[0m\u001b[1;33m(\u001b[0m\u001b[0mcirc\u001b[0m\u001b[1;33m,\u001b[0m \u001b[0mHamiltonian\u001b[0m\u001b[1;33m)\u001b[0m\u001b[1;33m\u001b[0m\u001b[1;33m\u001b[0m\u001b[0m\n\u001b[0;32m     19\u001b[0m     \u001b[0mnoisy_r\u001b[0m \u001b[1;33m=\u001b[0m \u001b[0mevaluator\u001b[0m\u001b[1;33m(\u001b[0m\u001b[0mcircuits\u001b[0m\u001b[1;33m,\u001b[0m \u001b[0msamples\u001b[0m\u001b[1;33m,\u001b[0m \u001b[0mnoise_model\u001b[0m\u001b[1;33m,\u001b[0m \u001b[0mHamiltonian\u001b[0m\u001b[1;33m,\u001b[0m \u001b[0mHamiltonian_weights\u001b[0m\u001b[1;33m,\u001b[0m \u001b[0msimulator\u001b[0m\u001b[1;33m,\u001b[0m \u001b[0mreadout_mit\u001b[0m \u001b[1;33m=\u001b[0m \u001b[1;32mFalse\u001b[0m\u001b[1;33m)\u001b[0m\u001b[1;33m\u001b[0m\u001b[1;33m\u001b[0m\u001b[0m\n\u001b[1;32m---> 20\u001b[1;33m     \u001b[0mnoisy_nr\u001b[0m \u001b[1;33m=\u001b[0m \u001b[0mevaluator\u001b[0m\u001b[1;33m(\u001b[0m\u001b[0mcircuits\u001b[0m\u001b[1;33m,\u001b[0m \u001b[0msamples\u001b[0m\u001b[1;33m,\u001b[0m \u001b[0mnoise_model\u001b[0m\u001b[1;33m,\u001b[0m \u001b[0mHamiltonian\u001b[0m\u001b[1;33m,\u001b[0m \u001b[0mHamiltonian_weights\u001b[0m\u001b[1;33m,\u001b[0m \u001b[0msimulator\u001b[0m\u001b[1;33m,\u001b[0m \u001b[0mreadout_mit\u001b[0m \u001b[1;33m=\u001b[0m \u001b[1;32mTrue\u001b[0m\u001b[1;33m)\u001b[0m\u001b[1;33m\u001b[0m\u001b[1;33m\u001b[0m\u001b[0m\n\u001b[0m\u001b[0;32m     21\u001b[0m     \u001b[0mideal\u001b[0m \u001b[1;33m=\u001b[0m \u001b[0mevaluator\u001b[0m\u001b[1;33m(\u001b[0m\u001b[0mcircuits\u001b[0m\u001b[1;33m,\u001b[0m \u001b[0msamples\u001b[0m\u001b[1;33m,\u001b[0m \u001b[1;32mNone\u001b[0m\u001b[1;33m,\u001b[0m \u001b[0mHamiltonian\u001b[0m\u001b[1;33m,\u001b[0m \u001b[0mHamiltonian_weights\u001b[0m\u001b[1;33m,\u001b[0m \u001b[0msimulator\u001b[0m\u001b[1;33m,\u001b[0m \u001b[1;32mFalse\u001b[0m\u001b[1;33m)\u001b[0m\u001b[1;33m\u001b[0m\u001b[1;33m\u001b[0m\u001b[0m\n\u001b[0;32m     22\u001b[0m     \u001b[1;32mreturn\u001b[0m \u001b[0mnoisy_r\u001b[0m\u001b[1;33m,\u001b[0m \u001b[0mnoisy_nr\u001b[0m\u001b[1;33m,\u001b[0m \u001b[0mideal\u001b[0m\u001b[1;33m\u001b[0m\u001b[1;33m\u001b[0m\u001b[0m\n",
      "\u001b[1;32m~\\Downloads\\Schnetzer Readout Method\\Result_ReadoutMit_funcs.py\u001b[0m in \u001b[0;36mevaluator\u001b[1;34m(circuits, samples, noise_model, Hamiltonian, hammy_weights, simulator, readout_mit)\u001b[0m\n\u001b[0;32m    267\u001b[0m                         \u001b[0mcounts\u001b[0m \u001b[1;33m=\u001b[0m \u001b[0mjob\u001b[0m\u001b[1;33m.\u001b[0m\u001b[0mresult\u001b[0m\u001b[1;33m(\u001b[0m\u001b[1;33m)\u001b[0m\u001b[1;33m.\u001b[0m\u001b[0mget_counts\u001b[0m\u001b[1;33m(\u001b[0m\u001b[1;33m)\u001b[0m\u001b[1;33m\u001b[0m\u001b[1;33m\u001b[0m\u001b[0m\n\u001b[0;32m    268\u001b[0m                     \u001b[1;32melse\u001b[0m\u001b[1;33m:\u001b[0m\u001b[1;33m\u001b[0m\u001b[1;33m\u001b[0m\u001b[0m\n\u001b[1;32m--> 269\u001b[1;33m                         \u001b[0mcirc\u001b[0m \u001b[1;33m=\u001b[0m \u001b[0mprepare_circuit\u001b[0m\u001b[1;33m(\u001b[0m\u001b[0mcirc\u001b[0m\u001b[1;33m)\u001b[0m\u001b[1;33m\u001b[0m\u001b[1;33m\u001b[0m\u001b[0m\n\u001b[0m\u001b[0;32m    270\u001b[0m                         \u001b[1;31m#print('hi')\u001b[0m\u001b[1;33m\u001b[0m\u001b[1;33m\u001b[0m\u001b[1;33m\u001b[0m\u001b[0m\n\u001b[0;32m    271\u001b[0m                         \u001b[1;31m#print(circ.qasm())\u001b[0m\u001b[1;33m\u001b[0m\u001b[1;33m\u001b[0m\u001b[1;33m\u001b[0m\u001b[0m\n",
      "\u001b[1;32m~\\Downloads\\Schnetzer Readout Method\\Result_ReadoutMit_funcs.py\u001b[0m in \u001b[0;36mprepare_circuit\u001b[1;34m(circ)\u001b[0m\n\u001b[0;32m    157\u001b[0m     \u001b[0manc_meas\u001b[0m \u001b[1;33m=\u001b[0m \u001b[0mClassicalRegister\u001b[0m\u001b[1;33m(\u001b[0m\u001b[0mtotal_qubits\u001b[0m\u001b[1;33m,\u001b[0m \u001b[1;34m'anc_meas'\u001b[0m\u001b[1;33m)\u001b[0m\u001b[1;33m\u001b[0m\u001b[1;33m\u001b[0m\u001b[0m\n\u001b[0;32m    158\u001b[0m     \u001b[0mcirc\u001b[0m\u001b[1;33m.\u001b[0m\u001b[0madd_register\u001b[0m\u001b[1;33m(\u001b[0m\u001b[0manc\u001b[0m\u001b[1;33m)\u001b[0m\u001b[1;33m\u001b[0m\u001b[1;33m\u001b[0m\u001b[0m\n\u001b[1;32m--> 159\u001b[1;33m     \u001b[0mcirc\u001b[0m\u001b[1;33m.\u001b[0m\u001b[0madd_register\u001b[0m\u001b[1;33m(\u001b[0m\u001b[0manc_meas\u001b[0m\u001b[1;33m)\u001b[0m\u001b[1;33m\u001b[0m\u001b[1;33m\u001b[0m\u001b[0m\n\u001b[0m\u001b[0;32m    160\u001b[0m \u001b[1;33m\u001b[0m\u001b[0m\n\u001b[0;32m    161\u001b[0m     \u001b[1;31m#Cnot gates\u001b[0m\u001b[1;33m\u001b[0m\u001b[1;33m\u001b[0m\u001b[1;33m\u001b[0m\u001b[0m\n",
      "\u001b[1;32m~\\anacondaaa\\lib\\site-packages\\qiskit\\circuit\\quantumcircuit.py\u001b[0m in \u001b[0;36madd_register\u001b[1;34m(self, *regs)\u001b[0m\n\u001b[0;32m    878\u001b[0m             \u001b[1;32mif\u001b[0m \u001b[0mregister\u001b[0m\u001b[1;33m.\u001b[0m\u001b[0mname\u001b[0m \u001b[1;32min\u001b[0m \u001b[1;33m[\u001b[0m\u001b[0mreg\u001b[0m\u001b[1;33m.\u001b[0m\u001b[0mname\u001b[0m \u001b[1;32mfor\u001b[0m \u001b[0mreg\u001b[0m \u001b[1;32min\u001b[0m \u001b[0mself\u001b[0m\u001b[1;33m.\u001b[0m\u001b[0mqregs\u001b[0m \u001b[1;33m+\u001b[0m \u001b[0mself\u001b[0m\u001b[1;33m.\u001b[0m\u001b[0mcregs\u001b[0m\u001b[1;33m]\u001b[0m\u001b[1;33m:\u001b[0m\u001b[1;33m\u001b[0m\u001b[1;33m\u001b[0m\u001b[0m\n\u001b[0;32m    879\u001b[0m                 raise CircuitError(\"register name \\\"%s\\\" already exists\"\n\u001b[1;32m--> 880\u001b[1;33m                                    % register.name)\n\u001b[0m\u001b[0;32m    881\u001b[0m \u001b[1;33m\u001b[0m\u001b[0m\n\u001b[0;32m    882\u001b[0m             \u001b[1;32mif\u001b[0m \u001b[0misinstance\u001b[0m\u001b[1;33m(\u001b[0m\u001b[0mregister\u001b[0m\u001b[1;33m,\u001b[0m \u001b[0mAncillaRegister\u001b[0m\u001b[1;33m)\u001b[0m\u001b[1;33m:\u001b[0m\u001b[1;33m\u001b[0m\u001b[1;33m\u001b[0m\u001b[0m\n",
      "\u001b[1;31mCircuitError\u001b[0m: 'register name \"anc_meas\" already exists'"
     ]
    }
   ],
   "source": [
    "counter = 0\n",
    "\n",
    "def EnergyFinder(param):\n",
    "    '''\n",
    "    Input: param (1D array) for which to compute energy on VQE circ of H2\n",
    "    Output: energy\n",
    "    '''\n",
    "    \n",
    "    Hamiltonian = \"\"\"II\\nIZ\\nZI\\nZZ\\nXX\"\"\"\n",
    "    Hamiltonian_weights = [-1.053, 0.395, -0.395, -0.011, 0.181]\n",
    "    backend = simulator\n",
    "    global noise_model\n",
    "    samples = 8192\n",
    "    \n",
    "    \n",
    "    \n",
    "    circ = var_form.construct_circuit(param).decompose()\n",
    "    circuits = Hammifier(circ, Hamiltonian)\n",
    "    noisy_r = evaluator(circuits, samples, noise_model, Hamiltonian, Hamiltonian_weights, simulator, readout_mit = False)\n",
    "    noisy_nr = evaluator(circuits, samples, noise_model, Hamiltonian, Hamiltonian_weights, simulator, readout_mit = True)\n",
    "    ideal = evaluator(circuits, samples, None, Hamiltonian, Hamiltonian_weights, simulator, False)\n",
    "    return noisy_r, noisy_nr, ideal\n",
    "\n",
    "def main():\n",
    "    '''\n",
    "    Choose param and compute mean\n",
    "    '''\n",
    "    d = -math.pi\n",
    "    u = math.pi\n",
    "    \n",
    "    energies = []\n",
    "    diff_r = []\n",
    "    diff_nr = []\n",
    "    params = []\n",
    "    \n",
    "    for i in range(1000):\n",
    "        print(i)\n",
    "    \n",
    "        p1 = random.uniform(0.001, 0.002)\n",
    "        p2 = random.uniform(-0.002, -0.001)\n",
    "        p3 = random.uniform(-0.2, -0.1)\n",
    "\n",
    "\n",
    "        noisy_r,noisy_nr, ideal = EnergyFinder([p1,p2,p3])\n",
    "        energies.append([[p1,p2,p3], ideal, noisy_r, noisy_nr])\n",
    "        diff_r.append(noisy_r-ideal)\n",
    "        diff_nr.append(noisy_nr-ideal)\n",
    "        \n",
    "        print('Noisy diff is ' + str(noisy_r-ideal))\n",
    "        print('Mitigated diff is ' + str(noisy_nr-ideal))\n",
    "        \n",
    "    return energies, diff_r, diff_nr\n",
    "energies, diff_r, diff_nr = main()"
   ]
  },
  {
   "cell_type": "code",
   "execution_count": null,
   "metadata": {},
   "outputs": [],
   "source": [
    "import numpy as np\n",
    "import matplotlib.pyplot as plt\n",
    "\n",
    "a = plt.figure()\n",
    "plt.hist(diff_r, bins=100, color = \"tomato\", label = 'Noisy')\n",
    "#plt.hist(diff_nr, bins=100, color = \"lightcoral\", label = 'Mitigated')\n",
    "plt.title(\"Noisy - Ideal Energy \")\n",
    "plt.xlabel(\"Energy Difference (Hartree)\")\n",
    "plt.ylabel(\"Frequency\")\n",
    "plt.legend()\n",
    "plt.show()\n",
    "a.savefig('SchnMethod_noisy_restricted_full.png', dpi = 1000)"
   ]
  },
  {
   "cell_type": "code",
   "execution_count": null,
   "metadata": {},
   "outputs": [],
   "source": [
    "a = plt.figure()\n",
    "#plt.hist(diff_r, bins=100, color = \"red\", label = 'Noisy')\n",
    "plt.hist(diff_nr, bins=100, color = \"mistyrose\", label = 'Mitigated')\n",
    "plt.title(\"Noisy - Ideal Energy (Schnetzer Method)\")\n",
    "plt.xlabel(\"Energy Difference (Hartree)\")\n",
    "plt.ylabel(\"Frequency\")\n",
    "plt.legend()\n",
    "plt.show()\n",
    "a.savefig('SchnMethod_Mitigated_Restricted_full.png', dpi = 1000)"
   ]
  },
  {
   "cell_type": "code",
   "execution_count": null,
   "metadata": {},
   "outputs": [],
   "source": [
    "energies"
   ]
  },
  {
   "cell_type": "code",
   "execution_count": null,
   "metadata": {},
   "outputs": [],
   "source": [
    "diff_r"
   ]
  },
  {
   "cell_type": "code",
   "execution_count": null,
   "metadata": {},
   "outputs": [],
   "source": [
    "diff_nr"
   ]
  },
  {
   "cell_type": "markdown",
   "metadata": {},
   "source": [
    "# Without Readout"
   ]
  }
 ],
 "metadata": {
  "kernelspec": {
   "display_name": "Python 3",
   "language": "python",
   "name": "python3"
  },
  "language_info": {
   "codemirror_mode": {
    "name": "ipython",
    "version": 3
   },
   "file_extension": ".py",
   "mimetype": "text/x-python",
   "name": "python",
   "nbconvert_exporter": "python",
   "pygments_lexer": "ipython3",
   "version": "3.7.6"
  }
 },
 "nbformat": 4,
 "nbformat_minor": 4
}
