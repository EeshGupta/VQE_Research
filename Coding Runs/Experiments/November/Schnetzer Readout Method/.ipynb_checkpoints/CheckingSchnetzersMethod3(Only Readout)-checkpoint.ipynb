{
 "cells": [
  {
   "cell_type": "markdown",
   "metadata": {},
   "source": [
    "# Basic Libraries"
   ]
  },
  {
   "cell_type": "code",
   "execution_count": 1,
   "metadata": {},
   "outputs": [
    {
     "name": "stderr",
     "output_type": "stream",
     "text": [
      "C:\\Users\\Eesh Gupta\\anacondaaa\\lib\\site-packages\\qiskit\\providers\\ibmq\\ibmqfactory.py:192: UserWarning: Timestamps in IBMQ backend properties, jobs, and job results are all now in local time instead of UTC.\n",
      "  warnings.warn('Timestamps in IBMQ backend properties, jobs, and job results '\n"
     ]
    }
   ],
   "source": [
    "%matplotlib inline\n",
    "# Importing standard Qiskit libraries and configuring account\n",
    "from qiskit import QuantumCircuit, execute, Aer, IBMQ\n",
    "from qiskit.compiler import transpile, assemble\n",
    "from qiskit.tools.jupyter import *\n",
    "from qiskit import *\n",
    "from qiskit.visualization import *\n",
    "# Loading your IBM Q account(s)\n",
    "provider = IBMQ.load_account()\n",
    "\n",
    "import math\n",
    "import random\n",
    "\n",
    "from qiskit.providers.aer.noise import NoiseModel\n",
    "from qiskit.aqua import QuantumInstance\n",
    "from qiskit.providers.aer.noise import thermal_relaxation_error, ReadoutError, depolarizing_error\n",
    "\n",
    "# provider = IBMQ.get_provider(hub='ibm-q')\n",
    "# machine = provider.get_backend('ibmq_valencia')\n",
    "from qiskit.test.mock import FakeLondon\n",
    "machine = FakeLondon()\n",
    "machine_noise_model = NoiseModel.from_backend(machine)\n",
    "simulator = Aer.get_backend('qasm_simulator')\n",
    "\n",
    "\n",
    "basis_gates = machine_noise_model.basis_gates"
   ]
  },
  {
   "cell_type": "markdown",
   "metadata": {},
   "source": [
    "# Important Functions"
   ]
  },
  {
   "cell_type": "code",
   "execution_count": 2,
   "metadata": {},
   "outputs": [],
   "source": [
    "#Local Hamiltonian Function\n",
    "from VQEHamiltonian_funcs import circs, Hammifier\n",
    "\n",
    "#Readout Mit Functions\n",
    "#from ReadoutMit import prepare_circuit, modify_counts, symmetry\n",
    "\n",
    "# Expectation Value/Running Functions\n",
    "from Result_ReadoutMit3 import binaryToDecimal, dictToList, sampleExpecVal, countToEig, expecValForSamples, addDicts, prepare_circuit_normal, prepare_circuit, modify_counts, symmetry, evaluator"
   ]
  },
  {
   "cell_type": "markdown",
   "metadata": {},
   "source": [
    "# Noise Model"
   ]
  },
  {
   "cell_type": "code",
   "execution_count": 3,
   "metadata": {},
   "outputs": [],
   "source": [
    "'''\n",
    "\n",
    "def generateDepolarizingError(machine, gate, qubits)\n",
    "\n",
    "def generateRelaxationError(machine, gate, qubits, t1, t2, amp = 1, custom_t = False):\n",
    "    \"\"\"\n",
    "    Return a relaxation error\n",
    "    \"\"\"\n",
    "\n",
    "def generateNoiseModel(machine, coherent = True, incoherent = False, readout = False, custom_t = False, t1 = None, t2 = None, reverse = False):\n",
    "    \"\"\"\n",
    "    Returns a realistic copy of london noise model with custom t1, t2 times\n",
    "    \"\"\"\n",
    "\n",
    "'''\n",
    "\n",
    "from NoiseModel import generateDepolarizingError, generateRelaxationError, generateNoiseModel"
   ]
  },
  {
   "cell_type": "code",
   "execution_count": 4,
   "metadata": {},
   "outputs": [
    {
     "name": "stdout",
     "output_type": "stream",
     "text": [
      "Original: 0.01 0.050000000000000044\n",
      "Reverse: 0.01 0.050000000000000044\n",
      "Original: 0.02 0.07666666666666666\n",
      "Reverse: 0.02 0.07666666666666666\n",
      "Original: 0.14 0.18999999999999995\n",
      "Reverse: 0.14 0.18999999999999995\n",
      "Original: 0.0033333333333332993 0.03\n",
      "Reverse: 0.0033333333333332993 0.03\n",
      "Original: 0.006666666666666667 0.043333333333333335\n",
      "Reverse: 0.006666666666666667 0.043333333333333335\n"
     ]
    }
   ],
   "source": [
    " noise_model = generateNoiseModel(machine, coherent = False, incoherent = False, readout= True)"
   ]
  },
  {
   "cell_type": "markdown",
   "metadata": {},
   "source": [
    "# Variational Form\n",
    "For Hydrogen"
   ]
  },
  {
   "cell_type": "code",
   "execution_count": 5,
   "metadata": {},
   "outputs": [],
   "source": [
    "from qiskit.chemistry.components.variational_forms import UCCSD\n",
    "from qiskit.chemistry.components.initial_states import HartreeFock\n",
    "\n",
    "initial_state = HartreeFock(\n",
    "4,\n",
    "2,\n",
    "'parity'\n",
    ") \n",
    "var_form = UCCSD(\n",
    "            num_orbitals=4,\n",
    "            num_particles=2,\n",
    "            initial_state=initial_state,\n",
    "            qubit_mapping='parity'\n",
    "        )"
   ]
  },
  {
   "cell_type": "markdown",
   "metadata": {},
   "source": [
    "# Running Circuits for different Param"
   ]
  },
  {
   "cell_type": "code",
   "execution_count": null,
   "metadata": {},
   "outputs": [
    {
     "name": "stdout",
     "output_type": "stream",
     "text": [
      "0\n",
      "dict_keys(['0000', '0001', '0010', '0011', '0100', '0101', '0110', '0111', '1000', '1001', '1010', '1011', '1100', '1101', '1110', '1111'])\n",
      "dict_keys(['0000', '0001', '0010', '0011', '0100', '0101', '0110', '0111', '1000', '1001', '1010', '1011', '1100', '1101', '1110', '1111'])\n"
     ]
    },
    {
     "name": "stderr",
     "output_type": "stream",
     "text": [
      "C:\\Users\\Eesh Gupta\\anacondaaa\\lib\\site-packages\\numpy\\core\\fromnumeric.py:3335: RuntimeWarning: Mean of empty slice.\n",
      "  out=out, **kwargs)\n",
      "C:\\Users\\Eesh Gupta\\anacondaaa\\lib\\site-packages\\numpy\\core\\_methods.py:161: RuntimeWarning: invalid value encountered in double_scalars\n",
      "  ret = ret.dtype.type(ret / rcount)\n"
     ]
    },
    {
     "name": "stdout",
     "output_type": "stream",
     "text": [
      "Noisy diff is -0.0323193359375\n",
      "Mitigated diff is nan\n",
      "1\n",
      "dict_keys(['0000', '0001', '0010', '0011', '0100', '0101', '0110', '0111', '1000', '1001', '1010', '1011', '1100', '1101', '1110', '1111'])\n",
      "dict_keys(['0000', '0001', '0010', '0011', '0100', '0101', '0110', '0111', '1000', '1001', '1010', '1011', '1100', '1101', '1110', '1111'])\n",
      "Noisy diff is 0.041424072265625056\n",
      "Mitigated diff is nan\n",
      "2\n",
      "dict_keys(['0000', '0001', '0010', '0011', '0100', '0101', '0110', '0111', '1000', '1001', '1010', '1011', '1100', '1101', '1110', '1111'])\n",
      "dict_keys(['0000', '0001', '0010', '0011', '0100', '0101', '0110', '0111', '1000', '1001', '1010', '1011', '1100', '1101', '1110', '1111'])\n"
     ]
    }
   ],
   "source": [
    "counter = 0\n",
    "\n",
    "def EnergyFinder(param):\n",
    "    '''\n",
    "    Input: param (1D array) for which to compute energy on VQE circ of H2\n",
    "    Output: energy\n",
    "    '''\n",
    "    \n",
    "    Hamiltonian = \"\"\"II\\nIZ\\nZI\\nZZ\\nXX\"\"\"\n",
    "    Hamiltonian_weights = [-1.053, 0.395, -0.395, -0.011, 0.181]\n",
    "    backend = simulator\n",
    "    global noise_model\n",
    "    samples = 8192\n",
    "    \n",
    "    \n",
    "    \n",
    "    circ = var_form.construct_circuit(param).decompose()\n",
    "    circuits = Hammifier(circ, Hamiltonian)\n",
    "    circs_nr = circs(circuits)\n",
    "    circs_r = circs(circuits)\n",
    "    circs_ideal = circs(circuits)\n",
    "    #print('no mit')\n",
    "    noisy_r = evaluator(circs_r, samples, noise_model, Hamiltonian, Hamiltonian_weights, simulator, readout_mit = False)\n",
    "    #print('mit')\n",
    "    noisy_nr = evaluator(circs_nr, samples, noise_model, Hamiltonian, Hamiltonian_weights, simulator, readout_mit = True)\n",
    "    #print('no mit')\n",
    "    ideal = evaluator(circs_ideal, samples, None, Hamiltonian, Hamiltonian_weights, simulator, False)\n",
    "    #print('done')\n",
    "    return noisy_r, noisy_nr, ideal\n",
    "\n",
    "def main():\n",
    "    '''\n",
    "    Choose param and compute mean\n",
    "    '''\n",
    "    d = -math.pi\n",
    "    u = math.pi\n",
    "    \n",
    "    energies = []\n",
    "    diff_r = []\n",
    "    diff_nr = []\n",
    "    params = []\n",
    "    \n",
    "    for i in range(1000):\n",
    "        print(i)\n",
    "    \n",
    "        p1 = random.uniform(d, u)\n",
    "        p2 = random.uniform(d, u)\n",
    "        p3 = random.uniform(d, u)\n",
    "\n",
    "\n",
    "        noisy_r,noisy_nr, ideal = EnergyFinder([p1,p2,p3])\n",
    "        energies.append([[p1,p2,p3], ideal, noisy_r, noisy_nr])\n",
    "        diff_r.append(noisy_r-ideal)\n",
    "        diff_nr.append(noisy_nr-ideal)\n",
    "        \n",
    "        print('Noisy diff is ' + str(noisy_r-ideal))\n",
    "        print('Mitigated diff is ' + str(noisy_nr-ideal))\n",
    "        \n",
    "    return energies, diff_r, diff_nr\n",
    "energies, diff_r, diff_nr = main()"
   ]
  },
  {
   "cell_type": "code",
   "execution_count": null,
   "metadata": {},
   "outputs": [],
   "source": [
    "import numpy as np\n",
    "import matplotlib.pyplot as plt\n",
    "\n",
    "a = plt.figure()\n",
    "plt.hist(diff_r, bins=100, color = \"seagreen\", label = 'Noisy')\n",
    "#plt.hist(diff_nr, bins=100, color = \"lightcoral\", label = 'Mitigated')\n",
    "plt.title(\"Noisy - Ideal Energy \")\n",
    "plt.xlabel(\"Energy Difference (Hartree)\")\n",
    "plt.ylabel(\"Frequency\")\n",
    "plt.legend()\n",
    "plt.show()\n",
    "a.savefig('SchnMethod_noisy_3.png', dpi = 1000)"
   ]
  },
  {
   "cell_type": "code",
   "execution_count": null,
   "metadata": {},
   "outputs": [],
   "source": [
    "a = plt.figure()\n",
    "#plt.hist(diff_r, bins=100, color = \"red\", label = 'Noisy')\n",
    "plt.hist(diff_nr, bins=100, color = \"springgreen\", label = 'Mitigated')\n",
    "plt.title(\"Noisy - Ideal Energy (Schnetzer Method)\")\n",
    "plt.xlabel(\"Energy Difference (Hartree)\")\n",
    "plt.ylabel(\"Frequency\")\n",
    "plt.legend()\n",
    "plt.show()\n",
    "a.savefig('SchnMethod_Mitigated_3.png', dpi = 1000)"
   ]
  },
  {
   "cell_type": "code",
   "execution_count": null,
   "metadata": {},
   "outputs": [],
   "source": [
    "energies"
   ]
  },
  {
   "cell_type": "code",
   "execution_count": null,
   "metadata": {},
   "outputs": [],
   "source": [
    "diff_r"
   ]
  },
  {
   "cell_type": "code",
   "execution_count": null,
   "metadata": {},
   "outputs": [],
   "source": [
    "diff_nr"
   ]
  },
  {
   "cell_type": "markdown",
   "metadata": {},
   "source": [
    "# Without Readout"
   ]
  }
 ],
 "metadata": {
  "kernelspec": {
   "display_name": "Python 3",
   "language": "python",
   "name": "python3"
  },
  "language_info": {
   "codemirror_mode": {
    "name": "ipython",
    "version": 3
   },
   "file_extension": ".py",
   "mimetype": "text/x-python",
   "name": "python",
   "nbconvert_exporter": "python",
   "pygments_lexer": "ipython3",
   "version": "3.7.6"
  }
 },
 "nbformat": 4,
 "nbformat_minor": 4
}
