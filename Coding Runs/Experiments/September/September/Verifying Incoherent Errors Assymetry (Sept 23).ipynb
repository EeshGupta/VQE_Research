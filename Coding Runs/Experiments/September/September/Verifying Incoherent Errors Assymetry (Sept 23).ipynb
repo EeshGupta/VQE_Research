{
 "cells": [
  {
   "cell_type": "code",
   "execution_count": 1,
   "metadata": {},
   "outputs": [],
   "source": [
    "from qiskit import *"
   ]
  },
  {
   "cell_type": "code",
   "execution_count": 2,
   "metadata": {},
   "outputs": [
    {
     "name": "stderr",
     "output_type": "stream",
     "text": [
      "C:\\Users\\Eesh Gupta\\anacondaaa\\lib\\site-packages\\qiskit\\providers\\ibmq\\ibmqfactory.py:192: UserWarning: Timestamps in IBMQ backend properties, jobs, and job results are all now in local time instead of UTC.\n",
      "  warnings.warn('Timestamps in IBMQ backend properties, jobs, and job results '\n"
     ]
    }
   ],
   "source": [
    "%matplotlib inline\n",
    "# Importing standard Qiskit libraries and configuring account\n",
    "from qiskit import QuantumCircuit, execute, Aer, IBMQ\n",
    "from qiskit.compiler import transpile, assemble\n",
    "from qiskit.tools.jupyter import *\n",
    "from qiskit import *\n",
    "from qiskit.visualization import *\n",
    "# Loading your IBM Q account(s)\n",
    "provider = IBMQ.load_account()\n",
    "\n",
    "import numpy as np\n",
    "\n",
    "from qiskit.providers.aer.noise import NoiseModel\n",
    "from qiskit.aqua import QuantumInstance\n",
    "from qiskit.providers.aer.noise import thermal_relaxation_error, ReadoutError, depolarizing_error\n",
    "\n",
    "provider = IBMQ.get_provider(hub='ibm-q')\n",
    "machine = provider.get_backend('ibmq_armonk')\n",
    "from qiskit.test.mock import FakeLondon\n",
    "machine_fake = FakeLondon()\n",
    "machine_noise_model = NoiseModel.from_backend(machine)\n",
    "simulator = Aer.get_backend('qasm_simulator')"
   ]
  },
  {
   "cell_type": "code",
   "execution_count": 3,
   "metadata": {},
   "outputs": [
    {
     "data": {
      "text/plain": [
       "<qiskit.circuit.instructionset.InstructionSet at 0x24e6ea20808>"
      ]
     },
     "execution_count": 3,
     "metadata": {},
     "output_type": "execute_result"
    }
   ],
   "source": [
    "import math\n",
    "\n",
    "circ = QuantumCircuit(1,1)\n",
    "points = 1000\n",
    "for i in range(points): \n",
    "    circ.rx(math.pi, 0)\n",
    "    circ.barrier(0)\n",
    "#circ.rx(-math.pi/8, 0)\n",
    "circ.measure(0,0)\n",
    "#circ.draw(output = 'mpl')"
   ]
  },
  {
   "cell_type": "code",
   "execution_count": 4,
   "metadata": {
    "scrolled": true
   },
   "outputs": [
    {
     "data": {
      "text/plain": [
       "<qiskit.circuit.instructionset.InstructionSet at 0x24e6eb33688>"
      ]
     },
     "execution_count": 4,
     "metadata": {},
     "output_type": "execute_result"
    }
   ],
   "source": [
    "circ2 = QuantumCircuit(1,1)\n",
    "points = 1000\n",
    "circ2.x(0)\n",
    "circ2.barrier(0)\n",
    "for i in range(points): \n",
    "    circ2.rx(math.pi, 0)\n",
    "    circ2.barrier(0)\n",
    "#circ2.rx(math.pi/8, 0)\n",
    "circ2.measure(0,0)\n",
    "#circ2.draw(output = 'mpl')"
   ]
  },
  {
   "cell_type": "code",
   "execution_count": 5,
   "metadata": {},
   "outputs": [],
   "source": [
    "circuits = [circ, circ2]\n",
    "labels = ['0 Rotation', '1 Rotation']"
   ]
  },
  {
   "cell_type": "markdown",
   "metadata": {},
   "source": [
    "# Simulator"
   ]
  },
  {
   "cell_type": "code",
   "execution_count": 6,
   "metadata": {},
   "outputs": [
    {
     "data": {
      "image/png": "[encoded data removed]",
      "text/plain": [
       "<Figure size 504x360 with 1 Axes>"
      ]
     },
     "execution_count": 6,
     "metadata": {},
     "output_type": "execute_result"
    }
   ],
   "source": [
    "from qiskit.visualization import plot_histogram\n",
    "job =  execute(circuits, backend = simulator, shots = 8192)\n",
    "counts = job.result().get_counts()\n",
    "plot_histogram(counts)\n"
   ]
  },
  {
   "cell_type": "markdown",
   "metadata": {},
   "source": [
    "# Noise Model"
   ]
  },
  {
   "cell_type": "code",
   "execution_count": 7,
   "metadata": {},
   "outputs": [
    {
     "data": {
      "image/png": "[encoded data removed]",
      "text/plain": [
       "<Figure size 504x360 with 1 Axes>"
      ]
     },
     "execution_count": 7,
     "metadata": {},
     "output_type": "execute_result"
    }
   ],
   "source": [
    "job =  execute(circuits, backend = simulator, noise_model = machine_noise_model,  shots = 1000000)\n",
    "counts = job.result().get_counts()\n",
    "plot_histogram(counts)"
   ]
  },
  {
   "cell_type": "markdown",
   "metadata": {},
   "source": [
    "# Now doing for a bunch of angles"
   ]
  },
  {
   "cell_type": "code",
   "execution_count": 8,
   "metadata": {},
   "outputs": [],
   "source": [
    "def countsToProb(counts, samples, invert): \n",
    "    '''\n",
    "    Input: counts \n",
    "    Output: prob \n",
    "    '''\n",
    "    result = (counts['0']/samples)\n",
    "    if(invert):\n",
    "        result = (counts['1']/samples)\n",
    "    return result"
   ]
  },
  {
   "cell_type": "code",
   "execution_count": 9,
   "metadata": {},
   "outputs": [],
   "source": [
    "def createCircuits(factor): \n",
    "    '''\n",
    "    gives 2 circuits , one inverse of another\n",
    "    '''\n",
    "    circ = QuantumCircuit(1,1)\n",
    "    points = 1000\n",
    "    for i in range(points): \n",
    "        circ.rx((factor*math.pi)/(8*points), 0)\n",
    "        circ.barrier(0)\n",
    "    circ.rx(-(factor*math.pi)/8, 0)\n",
    "    circ.measure(0,0)\n",
    "    \n",
    "    circ2 = QuantumCircuit(1,1)\n",
    "    points = 1000\n",
    "    circ2.x(0)\n",
    "    circ2.barrier(0)\n",
    "    for i in range(points): \n",
    "        circ2.rx((-factor*math.pi)/(8*points), 0)\n",
    "        circ2.barrier(0)\n",
    "    circ2.rx((factor*math.pi)/8, 0)\n",
    "    circ2.measure(0,0)\n",
    "    \n",
    "    return [circ, circ2]"
   ]
  },
  {
   "cell_type": "code",
   "execution_count": 28,
   "metadata": {},
   "outputs": [],
   "source": [
    "def evaluate(circuits, noise_model = None):\n",
    "    samples = 100000\n",
    "    job =  execute(circuits, backend = simulator, noise_model = noise_model,  shots = samples)\n",
    "    counts = job.result().get_counts()\n",
    "    print(counts)\n",
    "    prob1 = countsToProb(counts[0], samples, False)\n",
    "    prob2 = countsToProb(counts[1], samples, True)\n",
    "    return prob1, prob2"
   ]
  },
  {
   "cell_type": "code",
   "execution_count": 31,
   "metadata": {},
   "outputs": [
    {
     "name": "stdout",
     "output_type": "stream",
     "text": [
      "[{'0': 77049, '1': 22951}, {'0': 70277, '1': 29723}]\n",
      "[{'0': 74254, '1': 25746}, {'0': 67312, '1': 32688}]\n",
      "[{'0': 69773, '1': 30227}, {'0': 62586, '1': 37414}]\n",
      "[{'0': 64146, '1': 35854}, {'0': 56762, '1': 43238}]\n",
      "[{'0': 57623, '1': 42377}, {'0': 50331, '1': 49669}]\n",
      "[{'0': 51442, '1': 48558}, {'0': 44180, '1': 55820}]\n",
      "[{'0': 45869, '1': 54131}, {'0': 38532, '1': 61468}]\n",
      "[{'0': 41373, '1': 58627}, {'0': 33683, '1': 66317}]\n",
      "[{'0': 38373, '1': 61627}, {'0': 31516, '1': 68484}]\n",
      "[{'0': 37405, '1': 62595}, {'0': 30044, '1': 69956}]\n",
      "[{'0': 38090, '1': 61910}, {'0': 31087, '1': 68913}]\n",
      "[{'0': 40437, '1': 59563}, {'0': 33391, '1': 66609}]\n",
      "[{'0': 43940, '1': 56060}, {'0': 36669, '1': 63331}]\n",
      "[{'0': 48199, '1': 51801}, {'0': 40941, '1': 59059}]\n",
      "[{'0': 52516, '1': 47484}, {'0': 45094, '1': 54906}]\n",
      "[{'0': 56417, '1': 43583}, {'0': 49246, '1': 50754}]\n",
      "[{'0': 59463, '1': 40537}, {'0': 51988, '1': 48012}]\n",
      "[{'0': 60989, '1': 39011}, {'0': 54086, '1': 45914}]\n",
      "[{'0': 61751, '1': 38249}, {'0': 54279, '1': 45721}]\n",
      "[{'0': 61169, '1': 38831}, {'0': 53668, '1': 46332}]\n",
      "[{'0': 59141, '1': 40859}, {'0': 51764, '1': 48236}]\n",
      "[{'0': 56678, '1': 43322}, {'0': 49211, '1': 50789}]\n",
      "[{'0': 53603, '1': 46397}, {'0': 46356, '1': 53644}]\n",
      "[{'0': 50870, '1': 49130}, {'0': 43641, '1': 56359}]\n",
      "[{'0': 48241, '1': 51759}, {'0': 41435, '1': 58565}]\n",
      "[{'0': 46951, '1': 53049}, {'0': 39985, '1': 60015}]\n",
      "[{'0': 46318, '1': 53682}, {'0': 39246, '1': 60754}]\n",
      "[{'0': 46742, '1': 53258}, {'0': 39323, '1': 60677}]\n",
      "[{'0': 47724, '1': 52276}, {'0': 40371, '1': 59629}]\n",
      "[{'0': 49589, '1': 50411}, {'0': 42293, '1': 57707}]\n",
      "[{'0': 51943, '1': 48057}, {'0': 44338, '1': 55662}]\n",
      "[{'0': 53480, '1': 46520}, {'0': 46641, '1': 53359}]\n",
      "[{'0': 55666, '1': 44334}, {'0': 48386, '1': 51614}]\n",
      "[{'0': 57177, '1': 42823}, {'0': 49976, '1': 50024}]\n",
      "[{'0': 57963, '1': 42037}, {'0': 50753, '1': 49247}]\n",
      "[{'0': 57733, '1': 42267}, {'0': 50266, '1': 49734}]\n",
      "[{'0': 56903, '1': 43097}, {'0': 49806, '1': 50194}]\n",
      "[{'0': 55498, '1': 44502}, {'0': 48719, '1': 51281}]\n",
      "[{'0': 54390, '1': 45610}, {'0': 46808, '1': 53192}]\n",
      "[{'0': 52191, '1': 47809}, {'0': 44761, '1': 55239}]\n"
     ]
    }
   ],
   "source": [
    "probs1 = []\n",
    "probs2 = []\n",
    "factors = [i for i in range(1,)]\n",
    "for i in factors:\n",
    "    circuits = createCircuits(i)\n",
    "    prob1, prob2 = evaluate(circuits, noise_model = machine_noise_model)\n",
    "    probs1.append(prob1)\n",
    "    probs2.append(prob2)\n",
    "\n",
    "    "
   ]
  },
  {
   "cell_type": "code",
   "execution_count": 37,
   "metadata": {},
   "outputs": [
    {
     "data": {
      "image/png": "[encoded data removed]",
      "text/plain": [
       "<Figure size 432x288 with 1 Axes>"
      ]
     },
     "metadata": {
      "needs_background": "light"
     },
     "output_type": "display_data"
    }
   ],
   "source": [
    "import matplotlib.pyplot as plt\n",
    "a = plt.figure()\n",
    "plt.plot(factors, probs1, linestyle = '--', marker = 'o', color = 'tab:cyan', label = 'Original')\n",
    "plt.plot(factors, probs2, linestyle = '--', marker = 'o', color = 'tab:orange', label = 'Inverted')\n",
    "plt.xlabel('Factor( Factor*pi/8 = angle rotated about X axis)')\n",
    "plt.ylabel('% found in initial state')\n",
    "plt.legend()\n",
    "plt.title('Inversion and Path Dependence')\n",
    "a.savefig('Sept23(1).png', dpi = 1000)"
   ]
  },
  {
   "cell_type": "code",
   "execution_count": 36,
   "metadata": {},
   "outputs": [
    {
     "data": {
      "image/png": "[encoded data removed]",
      "text/plain": [
       "<Figure size 504x360 with 1 Axes>"
      ]
     },
     "execution_count": 36,
     "metadata": {},
     "output_type": "execute_result"
    }
   ],
   "source": [
    "circuits = createCircuits(4)\n",
    "job =  execute(circuits, backend = simulator, noise_model = machine_noise_model,  shots = 1000)\n",
    "counts = job.result().get_counts()\n",
    "plot_histogram(counts)"
   ]
  },
  {
   "cell_type": "code",
   "execution_count": null,
   "metadata": {},
   "outputs": [],
   "source": []
  }
 ],
 "metadata": {
  "kernelspec": {
   "display_name": "Python 3",
   "language": "python",
   "name": "python3"
  },
  "language_info": {
   "codemirror_mode": {
    "name": "ipython",
    "version": 3
   },
   "file_extension": ".py",
   "mimetype": "text/x-python",
   "name": "python",
   "nbconvert_exporter": "python",
   "pygments_lexer": "ipython3",
   "version": "3.7.6"
  }
 },
 "nbformat": 4,
 "nbformat_minor": 4
}
