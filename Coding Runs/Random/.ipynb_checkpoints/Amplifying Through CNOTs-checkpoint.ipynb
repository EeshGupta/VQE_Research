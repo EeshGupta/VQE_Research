{
 "cells": [
  {
   "cell_type": "code",
   "execution_count": 1,
   "metadata": {},
   "outputs": [],
   "source": [
    "from qiskit import*\n"
   ]
  },
  {
   "cell_type": "code",
   "execution_count": 2,
   "metadata": {},
   "outputs": [
    {
     "data": {
      "text/plain": [
       "<qiskit.circuit.instructionset.InstructionSet at 0x210468820c8>"
      ]
     },
     "execution_count": 2,
     "metadata": {},
     "output_type": "execute_result"
    }
   ],
   "source": [
    "nqubits = 5\n",
    "circuit = QuantumCircuit(nqubits, nqubits)\n",
    "circuit.h(0)\n",
    "circuit.cx(0,1)\n",
    "circuit.cx(1,2)\n",
    "circuit.cx(2,3)\n",
    "circuit.cx(3,4)\n",
    "circuit.measure([0,1,2,3,4], [0,1,2,3,4])"
   ]
  },
  {
   "cell_type": "code",
   "execution_count": 3,
   "metadata": {},
   "outputs": [
    {
     "data": {
      "image/png": "[encoded data removed]",
      "text/plain": [
       "<Figure size 780.192x385.28 with 1 Axes>"
      ]
     },
     "execution_count": 3,
     "metadata": {},
     "output_type": "execute_result"
    }
   ],
   "source": [
    "circuit.draw(output='mpl')"
   ]
  },
  {
   "cell_type": "code",
   "execution_count": 4,
   "metadata": {},
   "outputs": [
    {
     "data": {
      "image/png": "[encoded data removed]",
      "text/plain": [
       "<Figure size 504x360 with 1 Axes>"
      ]
     },
     "execution_count": 4,
     "metadata": {},
     "output_type": "execute_result"
    }
   ],
   "source": [
    "# running on simulator\n",
    "simulator = Aer.get_backend('qasm_simulator')\n",
    "sim_result = execute(circuit, backend=simulator, shots=1024).result()\n",
    "from qiskit.visualization import plot_histogram\n",
    "\n",
    "plot_histogram(sim_result.get_counts(circuit))"
   ]
  },
  {
   "cell_type": "code",
   "execution_count": 21,
   "metadata": {},
   "outputs": [],
   "source": [
    "import numpy as np\n",
    "\n",
    "def RichardsonExtrap_Fraction(energies, scales): \n",
    "    \"\"\"\n",
    "    Source: Temme et Al\n",
    "    Input: An array of energies scaled with different stretch factors.\n",
    "    Output: Zero Error extrapolated answer\n",
    "    \"\"\"\n",
    "    n = len(scales) - 1     # because first scale factor is going to 1 which is a trivial scaling factor\n",
    "    \n",
    "    #setting up all equations \n",
    "    equations = []\n",
    "    for eq_num in range(n+1): \n",
    "        equation = []\n",
    "        for term_num in scales: \n",
    "            term = term_num**(eq_num)\n",
    "            #print(term)\n",
    "            equation.append(term)\n",
    "        equations.append(equation)\n",
    "    #print(equations)\n",
    "    \n",
    "    #Now filling up equals to matrix \n",
    "    equals_to = [1]\n",
    "    for i in range(1, n+1): \n",
    "        equals_to.append(0)\n",
    "    #print(equals_to)\n",
    "    \n",
    "    #solving the system\n",
    "    coeff = np.linalg.solve(equations, equals_to)\n",
    "    #print(coeff)\n",
    "    \n",
    "    #Combine coeff with energies to get zero noise result \n",
    "    result = np.dot(coeff, energies)\n",
    "    return result"
   ]
  },
  {
   "cell_type": "code",
   "execution_count": 22,
   "metadata": {},
   "outputs": [
    {
     "data": {
      "text/plain": [
       "-8.999999999992724"
      ]
     },
     "execution_count": 22,
     "metadata": {},
     "output_type": "execute_result"
    }
   ],
   "source": [
    "RichardsonExtrap_Fraction([1, 2, 3, 4, 5], [1, 1.1, 1.2, 1.3, 1.4])"
   ]
  },
  {
   "cell_type": "code",
   "execution_count": 23,
   "metadata": {},
   "outputs": [],
   "source": [
    "def MonteCarloError(means, std_devs, scales, poly_fit = False, deg = None, sampling_size = 1000): \n",
    "    \"\"\"\n",
    "    Input: arrays means and standard deviations of the various scalings of noise, whether to do richardson i.e. no poly fit \n",
    "    If doing polyfit, then specify degree, sampling_size is how many times to sample from the Gaussian \n",
    "    \n",
    "    Assumption: Scaled by integer values ranging from 1 to X where X>1\n",
    "    \n",
    "    Output: Error estimate\n",
    "    \"\"\"\n",
    "    n = len(means)\n",
    "    \n",
    "    #Sampling from Gaussian for each scaling \n",
    "    all_samples = []\n",
    "    debug_means = []\n",
    "    for i in range(n): \n",
    "        samples = np.random.normal(means[i], std_devs[i], sampling_size)\n",
    "        all_samples.append(samples)\n",
    "        #for debugging\n",
    "        debug_means.append(means[i] - np.mean(samples))\n",
    "    #print(debug_means)\n",
    "    \n",
    "    #Doing Extrapolation for all sampling_size samples (1000 if set to default)\n",
    "    zero_noise_energies = []\n",
    "    for j in range(sampling_size): \n",
    "        energies = []\n",
    "        for i in range(n): \n",
    "            energies.append(all_samples[i][j])\n",
    "            \n",
    "        ##Doing either richardson or funcs \n",
    "        ###Polynomial\n",
    "        if poly_fit: \n",
    "            ####need the scale values: \n",
    "            ####making the function \n",
    "            param = np.polyfit(scales, energies, deg, w = [1/i for i in std_devs])\n",
    "            f = np.poly1d(param)\n",
    "            ####extrapolation\n",
    "            result = f(0)\n",
    "            zero_noise_energies.append(result)\n",
    "            \n",
    "        ###Richardson\n",
    "        else: \n",
    "            result = RichardsonExtrap_Fraction(energies, scales)\n",
    "            zero_noise_energies.append(result)\n",
    "    \n",
    "    #Returning error i.e. std \n",
    "    error = np.std(zero_noise_energies)\n",
    "    return error"
   ]
  },
  {
   "cell_type": "code",
   "execution_count": 26,
   "metadata": {},
   "outputs": [
    {
     "data": {
      "text/plain": [
       "2.4072736389081393"
      ]
     },
     "execution_count": 26,
     "metadata": {},
     "output_type": "execute_result"
    }
   ],
   "source": [
    "MonteCarloError([1,2,3,4,5], [.1,.2,.1, .1, .1], [1,2,3,4,5], poly_fit = False, deg = None, sampling_size = 1000)"
   ]
  },
  {
   "cell_type": "code",
   "execution_count": 29,
   "metadata": {},
   "outputs": [],
   "source": [
    "def plottingCalc(means, std_devs, scales):\n",
    "    \"\"\"\n",
    "    Gives out data for plotting energies for extrapolation purposes\n",
    "    \"\"\"\n",
    "    \n",
    "    #highest_degree = len(means) -1\n",
    "    \n",
    "    #scales = [1+i*0.5 for i in range(len(means))]\n",
    "    \n",
    "    # Uncertainties \n",
    "    R_uncert = MonteCarloError(means, std_devs, scales, poly_fit = False)\n",
    "    \n",
    "#     poly_uncerts = []\n",
    "#     for i in range(1, highest_degree+1): \n",
    "#         uncert = MonteCarloError(means, std_devs, poly_fit = True, deg = i)\n",
    "#         poly_uncerts.append(uncert)\n",
    "    \n",
    "    #O energy extrap\n",
    "    R_zero = RichardsonExtrap_Fraction(means, scales)\n",
    "    \n",
    "#     poly_zero = []\n",
    "#     funcs = []\n",
    "#     for i in range(1,highest_degree+1): \n",
    "#         param= np.polyfit(scales, means, i, w=[1/j for j in std_devs])\n",
    "#         p = np.poly1d(param)\n",
    "#         funcs.append(p)\n",
    "#     for f in range(len(funcs)):\n",
    "#         poly_zero.append(funcs[f](0))\n",
    "    \n",
    "    return R_zero, R_uncert #, poly_zero,poly_uncerts,"
   ]
  },
  {
   "cell_type": "code",
   "execution_count": 30,
   "metadata": {},
   "outputs": [
    {
     "data": {
      "text/plain": [
       "(5.329070518200751e-15, 2.292475965018386)"
      ]
     },
     "execution_count": 30,
     "metadata": {},
     "output_type": "execute_result"
    }
   ],
   "source": [
    "plottingCalc([1,2,3,4,5], [.1,.2,.1, .1, .1], [1,2,3,4,5])"
   ]
  },
  {
   "cell_type": "code",
   "execution_count": null,
   "metadata": {},
   "outputs": [],
   "source": []
  }
 ],
 "metadata": {
  "kernelspec": {
   "display_name": "Python 3",
   "language": "python",
   "name": "python3"
  },
  "language_info": {
   "codemirror_mode": {
    "name": "ipython",
    "version": 3
   },
   "file_extension": ".py",
   "mimetype": "text/x-python",
   "name": "python",
   "nbconvert_exporter": "python",
   "pygments_lexer": "ipython3",
   "version": "3.7.6"
  }
 },
 "nbformat": 4,
 "nbformat_minor": 4
}
