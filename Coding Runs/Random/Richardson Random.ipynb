{
 "cells": [
  {
   "cell_type": "code",
   "execution_count": 1,
   "metadata": {},
   "outputs": [
    {
     "data": {
      "text/plain": [
       "array([1, 2, 3, 4])"
      ]
     },
     "execution_count": 1,
     "metadata": {},
     "output_type": "execute_result"
    }
   ],
   "source": [
    "import numpy as np \n",
    "a = [[1,2]]\n",
    "a = np.append(a, [[3,4]])\n",
    "a"
   ]
  },
  {
   "cell_type": "code",
   "execution_count": 9,
   "metadata": {},
   "outputs": [],
   "source": [
    "def RichardsonExtrap(energies): \n",
    "    \"\"\"\n",
    "    Input: An array of energies scaled with different stretch factors--normal integer multiples only --eg 1,2,3,4..\n",
    "    Output: Zero Error extrapolated answer\n",
    "    \"\"\"\n",
    "    n = len(energies)\n",
    "    \n",
    "    #setting up all equations \n",
    "    equations = []\n",
    "    for eq_num in range(1,n+1): \n",
    "        equation = []\n",
    "        if eq_num == 1: \n",
    "            for i in range(n): \n",
    "                equation.append(1)\n",
    "            equations = [equation]\n",
    "        else: \n",
    "            for term_num in range(1,n+1): \n",
    "                term = term_num**(eq_num-1)\n",
    "                equation.append(term)\n",
    "            equations = np.append(equations, [equation], axis = 0)\n",
    "    print(equations)\n",
    "    \n",
    "    #Now filling up equals to matrix \n",
    "    equals_to = [1]\n",
    "    for i in range(1, n): \n",
    "        equals_to.append(0)\n",
    "    print(equals_to)\n",
    "    \n",
    "    #solving the system\n",
    "    coeff = np.linalg.solve(equations, equals_to)\n",
    "    print(coeff)\n",
    "    \n",
    "    #Combine coeff with energies to get zero noise result \n",
    "    result = np.dot(coeff, energies)\n",
    "    return result\n",
    "            "
   ]
  },
  {
   "cell_type": "code",
   "execution_count": 10,
   "metadata": {},
   "outputs": [
    {
     "name": "stdout",
     "output_type": "stream",
     "text": [
      "[[1 1]\n",
      " [1 2]]\n",
      "[1, 0]\n",
      "[ 2. -1.]\n",
      "0.0\n"
     ]
    }
   ],
   "source": [
    "a = [1,2]\n",
    "print(RichardsonExtrap(a))"
   ]
  },
  {
   "cell_type": "code",
   "execution_count": 25,
   "metadata": {},
   "outputs": [],
   "source": [
    "mu, sigma = 0, 0.1 # mean and standard deviation\n",
    "\n",
    "s = np.random.normal(mu, sigma, 1000)"
   ]
  },
  {
   "cell_type": "code",
   "execution_count": 41,
   "metadata": {},
   "outputs": [
    {
     "data": {
      "text/plain": [
       "0.0997380711559811"
      ]
     },
     "execution_count": 41,
     "metadata": {},
     "output_type": "execute_result"
    }
   ],
   "source": [
    "len(s)\n",
    "a = []\n",
    "a.append(s)\n",
    "a.append(s)\n",
    "a[1][0]"
   ]
  },
  {
   "cell_type": "code",
   "execution_count": 31,
   "metadata": {},
   "outputs": [
    {
     "data": {
      "text/plain": [
       "[1, 2, [3]]"
      ]
     },
     "execution_count": 31,
     "metadata": {},
     "output_type": "execute_result"
    }
   ],
   "source": [
    "a = [1,2]\n",
    "a.append([3])\n",
    "a"
   ]
  },
  {
   "cell_type": "code",
   "execution_count": 30,
   "metadata": {},
   "outputs": [
    {
     "data": {
      "text/plain": [
       "array([ 0.09973807, -0.03498108, -0.03735706, ..., -0.00977251,\n",
       "        0.03367389,  1.        ])"
      ]
     },
     "execution_count": 30,
     "metadata": {},
     "output_type": "execute_result"
    }
   ],
   "source": [
    "s\n"
   ]
  },
  {
   "cell_type": "code",
   "execution_count": null,
   "metadata": {},
   "outputs": [],
   "source": [
    "def MonteCarloError(means, std_devs, poly_fit = False, deg = 1, sampling_size = 100): \n",
    "    \"\"\"\n",
    "    Input: arrays means and standard deviations of the various scalings of noise, whether to do richardson i.e. no poly fit \n",
    "    If doing polyfit, then specify degree, sampling_size is how many times to sample from the Gaussian \n",
    "    \n",
    "    Assumption: Scaled by integer values ranging from 1 to X where X>1\n",
    "    \n",
    "    Output: Error estimate\n",
    "    \"\"\"\n",
    "    n = len(means)\n",
    "    \n",
    "    #Sampling from Gaussian for each scaling \n",
    "    all_samples = []\n",
    "    debug_means = []\n",
    "    for i in range(n): \n",
    "        samples = np.random.normal(means[i], std_devs[i], sampling_size)\n",
    "        all_samples.append(samples)\n",
    "        #for debugging\n",
    "        debug_means.append(means[i] - np.mean(samples))\n",
    "    print(debug_means)\n",
    "    \n",
    "    #Doing Extrapolation for all sampling_size samples (100 if set to default)\n",
    "    zero_noise_energies = []\n",
    "    for j in range(sampling_size): \n",
    "        energies = []\n",
    "        for i in range(n): \n",
    "            energies.append(all_samples[i][j])\n",
    "            \n",
    "        ##Doing either richardson or funcs \n",
    "        ###Polynomial\n",
    "        if poly_fit: \n",
    "            ####need the scale values: \n",
    "            scales = []\n",
    "            for s in range(1, n+1): \n",
    "                scales.append(s)\n",
    "            ####making the function \n",
    "            param = np.polyfit(scales, energies, deg)\n",
    "            f = np.poly1d(param)\n",
    "            ####extrapolation\n",
    "            result = f(0)\n",
    "            zero_noise_energies.append(result)\n",
    "            \n",
    "        ###Richardson\n",
    "        else: \n",
    "            result = RichardsonExtrap(energies)\n",
    "            zero_noise_energies.append(result)\n",
    "    \n",
    "    #Returning error i.e. std \n",
    "    error = np.std(zero_noise_energies)\n",
    "    return error\n",
    "    \n",
    "        \n",
    "            "
   ]
  },
  {
   "cell_type": "code",
   "execution_count": 12,
   "metadata": {},
   "outputs": [
    {
     "data": {
      "text/plain": [
       "3.1622776601683795"
      ]
     },
     "execution_count": 12,
     "metadata": {},
     "output_type": "execute_result"
    }
   ],
   "source": [
    "np.sqrt(10)"
   ]
  },
  {
   "cell_type": "code",
   "execution_count": null,
   "metadata": {},
   "outputs": [],
   "source": [
    "def ErrorOnPoint(func, cov, x): \n",
    "    \"\"\"\n",
    "    Input: Function, covariance matrix and x point to compute error at \n",
    "    Output: Error ---scalar value\n",
    "    \"\"\"\n",
    "    #Gradient \n",
    "    degree = func.order\n",
    "    grad = []\n",
    "    for d in range(degree+1): \n",
    "        term = x**d\n",
    "        grad.append([d])\n",
    "    print(grad)\n",
    "    \n",
    "    #Covariance Matrix Calc\n",
    "    err = np.matmul(np.transpose(grad), np.matmul(cov, grad))\n",
    "    return err"
   ]
  },
  {
   "cell_type": "code",
   "execution_count": null,
   "metadata": {},
   "outputs": [],
   "source": [
    "def UncertAtZeroAcrossOrder(order): \n",
    "    \"\"\"\n",
    "    Input: Order (int)\n",
    "    Return: Plot of uncert of Richie and polys at zero using (order+1 ) energies\n",
    "    \"\"\"\n",
    "    fig = plt.figure()\n",
    "    num_funcs = order\n",
    "    energies = vqe_mean[: order+1]\n",
    "    std_dev = vqe_std_dev[: order+1]\n",
    "    scales = [: order + 1]\n",
    "    func_deg = [i+1 for i in range(num_func)]\n",
    "    \n",
    "    #Energy At Zero \n",
    "    \n",
    "    ##Richardson \n",
    "    R_energy = RichardsonExtrap(energies)\n",
    "    \n",
    "    ##Polynomials\n",
    "    funcys = []\n",
    "    covys = []\n",
    "    func_en =[]\n",
    "    for i in range(num_funcs): \n",
    "        degree = i+1\n",
    "        param, cov = np.polyfit(scales, energies, degree, cov = True)\n",
    "        f = np.poly1d(param)\n",
    "        funcys.append(f)\n",
    "        covys.append(cov)\n",
    "        func_en.append(f(0))\n",
    "    \n",
    "    #Uncertainties at Zero \n",
    "    \n",
    "    ##Richardson \n",
    "    R_uncert = MonteCarloError(energies, std_dev, poly_fit = False)\n",
    "    \n",
    "    ##Polynomials \n",
    "    func_uncert = []\n",
    "    for i in range(num_funcs): \n",
    "        uncert = ErrorOnPoint(funcys[i], covys[i], 0)\n",
    "        func_uncert.append(uncert)\n",
    "    \n",
    "    #Plotting \n",
    "    \n",
    "    ##Richardson \n",
    "    plt.errorbar(0, R_zero- exact_energies[0], yerr=R_uncert, capsize = 5,fmt =' ', ecolor = 'orange' , label = 'Uncertainties of Richardson', figure = fig)\n",
    "    plt.plot(0, R_zero- exact_energies[0], color = 'orange', figure = fig)\n",
    "    \n",
    "    ##Polynomials \n",
    "    plt.errorbar(func_deg, [energy - exact_energies[0] for energy in func_en], yerr=func_uncert, capsize = 5,fmt =' ', ecolor = 'blue', label = 'Uncertainties of Poly Fits', figure = fig)\n",
    "    plt.plot(func_deg, [energy - exact_energies[0] for energy in func_en], color = 'blue', figure = fig)\n",
    "    \n",
    "    plt.xlabel('degree of polynomial', figure = fig)\n",
    "    plt.ylabel('Difference From Exact Energy (Hartree)', figure = fig)\n",
    "    plt.title('Order + ' str(order)+' The Uncertainities at Zero point of the various extrapolations ', figure = fig)\n",
    "    \n",
    "    return fig\n",
    "        "
   ]
  },
  {
   "cell_type": "code",
   "execution_count": 1,
   "metadata": {},
   "outputs": [
    {
     "data": {
      "text/plain": [
       "0"
      ]
     },
     "execution_count": 1,
     "metadata": {},
     "output_type": "execute_result"
    }
   ],
   "source": [
    "0**1"
   ]
  },
  {
   "cell_type": "code",
   "execution_count": 2,
   "metadata": {},
   "outputs": [
    {
     "data": {
      "text/plain": [
       "0"
      ]
     },
     "execution_count": 2,
     "metadata": {},
     "output_type": "execute_result"
    }
   ],
   "source": [
    "0**10"
   ]
  },
  {
   "cell_type": "code",
   "execution_count": 3,
   "metadata": {},
   "outputs": [
    {
     "data": {
      "text/plain": [
       "1"
      ]
     },
     "execution_count": 3,
     "metadata": {},
     "output_type": "execute_result"
    }
   ],
   "source": [
    "0**0"
   ]
  },
  {
   "cell_type": "code",
   "execution_count": null,
   "metadata": {},
   "outputs": [],
   "source": []
  }
 ],
 "metadata": {
  "kernelspec": {
   "display_name": "Python 3",
   "language": "python",
   "name": "python3"
  },
  "language_info": {
   "codemirror_mode": {
    "name": "ipython",
    "version": 3
   },
   "file_extension": ".py",
   "mimetype": "text/x-python",
   "name": "python",
   "nbconvert_exporter": "python",
   "pygments_lexer": "ipython3",
   "version": "3.7.6"
  }
 },
 "nbformat": 4,
 "nbformat_minor": 4
}
