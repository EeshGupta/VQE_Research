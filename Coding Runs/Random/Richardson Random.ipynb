{
 "cells": [
  {
   "cell_type": "code",
   "execution_count": 1,
   "metadata": {},
   "outputs": [
    {
     "data": {
      "text/plain": [
       "array([1, 2, 3, 4])"
      ]
     },
     "execution_count": 1,
     "metadata": {},
     "output_type": "execute_result"
    }
   ],
   "source": [
    "import numpy as np \n",
    "a = [[1,2]]\n",
    "a = np.append(a, [[3,4]])\n",
    "a"
   ]
  },
  {
   "cell_type": "code",
   "execution_count": 9,
   "metadata": {},
   "outputs": [],
   "source": [
    "def RichardsonExtrap(energies): \n",
    "    \"\"\"\n",
    "    Input: An array of energies scaled with different stretch factors--normal integer multiples only --eg 1,2,3,4..\n",
    "    Output: Zero Error extrapolated answer\n",
    "    \"\"\"\n",
    "    n = len(energies)\n",
    "    \n",
    "    #setting up all equations \n",
    "    equations = []\n",
    "    for eq_num in range(1,n+1): \n",
    "        equation = []\n",
    "        if eq_num == 1: \n",
    "            for i in range(n): \n",
    "                equation.append(1)\n",
    "            equations = [equation]\n",
    "        else: \n",
    "            for term_num in range(1,n+1): \n",
    "                term = term_num**(eq_num-1)\n",
    "                equation.append(term)\n",
    "            equations = np.append(equations, [equation], axis = 0)\n",
    "    print(equations)\n",
    "    \n",
    "    #Now filling up equals to matrix \n",
    "    equals_to = [1]\n",
    "    for i in range(1, n): \n",
    "        equals_to.append(0)\n",
    "    print(equals_to)\n",
    "    \n",
    "    #solving the system\n",
    "    coeff = np.linalg.solve(equations, equals_to)\n",
    "    print(coeff)\n",
    "    \n",
    "    #Combine coeff with energies to get zero noise result \n",
    "    result = np.dot(coeff, energies)\n",
    "    return result\n",
    "            "
   ]
  },
  {
   "cell_type": "code",
   "execution_count": 10,
   "metadata": {},
   "outputs": [
    {
     "name": "stdout",
     "output_type": "stream",
     "text": [
      "[[1 1]\n",
      " [1 2]]\n",
      "[1, 0]\n",
      "[ 2. -1.]\n",
      "0.0\n"
     ]
    }
   ],
   "source": [
    "a = [1,2]\n",
    "print(RichardsonExtrap(a))"
   ]
  },
  {
   "cell_type": "code",
   "execution_count": 25,
   "metadata": {},
   "outputs": [],
   "source": [
    "mu, sigma = 0, 0.1 # mean and standard deviation\n",
    "\n",
    "s = np.random.normal(mu, sigma, 1000)"
   ]
  },
  {
   "cell_type": "code",
   "execution_count": 41,
   "metadata": {},
   "outputs": [
    {
     "data": {
      "text/plain": [
       "0.0997380711559811"
      ]
     },
     "execution_count": 41,
     "metadata": {},
     "output_type": "execute_result"
    }
   ],
   "source": [
    "len(s)\n",
    "a = []\n",
    "a.append(s)\n",
    "a.append(s)\n",
    "a[1][0]"
   ]
  },
  {
   "cell_type": "code",
   "execution_count": 31,
   "metadata": {},
   "outputs": [
    {
     "data": {
      "text/plain": [
       "[1, 2, [3]]"
      ]
     },
     "execution_count": 31,
     "metadata": {},
     "output_type": "execute_result"
    }
   ],
   "source": [
    "a = [1,2]\n",
    "a.append([3])\n",
    "a"
   ]
  },
  {
   "cell_type": "code",
   "execution_count": 30,
   "metadata": {},
   "outputs": [
    {
     "data": {
      "text/plain": [
       "array([ 0.09973807, -0.03498108, -0.03735706, ..., -0.00977251,\n",
       "        0.03367389,  1.        ])"
      ]
     },
     "execution_count": 30,
     "metadata": {},
     "output_type": "execute_result"
    }
   ],
   "source": [
    "s\n"
   ]
  },
  {
   "cell_type": "code",
   "execution_count": null,
   "metadata": {},
   "outputs": [],
   "source": [
    "def MonteCarloError(means, std_devs, poly_fit = False, deg = 1, sampling_size = 100): \n",
    "    \"\"\"\n",
    "    Input: arrays means and standard deviations of the various scalings of noise, whether to do richardson i.e. no poly fit \n",
    "    If doing polyfit, then specify degree, sampling_size is how many times to sample from the Gaussian \n",
    "    \n",
    "    Assumption: Scaled by integer values ranging from 1 to X where X>1\n",
    "    \n",
    "    Output: Error estimate\n",
    "    \"\"\"\n",
    "    n = len(means)\n",
    "    \n",
    "    #Sampling from Gaussian for each scaling \n",
    "    all_samples = []\n",
    "    debug_means = []\n",
    "    for i in range(n): \n",
    "        samples = np.random.normal(means[i], std_devs[i], sampling_size)\n",
    "        all_samples.append(samples)\n",
    "        #for debugging\n",
    "        debug_means.append(means[i] - np.mean(samples))\n",
    "    print(debug_means)\n",
    "    \n",
    "    #Doing Extrapolation for all sampling_size samples (100 if set to default)\n",
    "    zero_noise_energies = []\n",
    "    for j in range(sampling_size): \n",
    "        energies = []\n",
    "        for i in range(n): \n",
    "            energies.append(all_samples[i][j])\n",
    "            \n",
    "        ##Doing either richardson or funcs \n",
    "        ###Polynomial\n",
    "        if poly_fit: \n",
    "            ####need the scale values: \n",
    "            scales = []\n",
    "            for s in range(1, n+1): \n",
    "                scales.append(s)\n",
    "            ####making the function \n",
    "            param = np.polyfit(scales, energies, deg)\n",
    "            f = np.poly1d(param)\n",
    "            ####extrapolation\n",
    "            result = f(0)\n",
    "            zero_noise_energies.append(result)\n",
    "            \n",
    "        ###Richardson\n",
    "        else: \n",
    "            result = RichardsonExtrap(energies)\n",
    "            zero_noise_energies.append(result)\n",
    "    \n",
    "    #Returning error i.e. std \n",
    "    error = np.std(zero_noise_energies)\n",
    "    return error\n",
    "    \n",
    "        \n",
    "            "
   ]
  },
  {
   "cell_type": "code",
   "execution_count": 12,
   "metadata": {},
   "outputs": [
    {
     "data": {
      "text/plain": [
       "3.1622776601683795"
      ]
     },
     "execution_count": 12,
     "metadata": {},
     "output_type": "execute_result"
    }
   ],
   "source": [
    "np.sqrt(10)"
   ]
  },
  {
   "cell_type": "code",
   "execution_count": null,
   "metadata": {},
   "outputs": [],
   "source": []
  }
 ],
 "metadata": {
  "kernelspec": {
   "display_name": "Python 3",
   "language": "python",
   "name": "python3"
  },
  "language_info": {
   "codemirror_mode": {
    "name": "ipython",
    "version": 3
   },
   "file_extension": ".py",
   "mimetype": "text/x-python",
   "name": "python",
   "nbconvert_exporter": "python",
   "pygments_lexer": "ipython3",
   "version": "3.7.6"
  }
 },
 "nbformat": 4,
 "nbformat_minor": 4
}
