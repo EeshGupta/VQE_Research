{
 "cells": [
  {
   "cell_type": "code",
   "execution_count": null,
   "metadata": {},
   "outputs": [],
   "source": [
    "#Means \n",
    "\n",
    "[-1.0868241607441758,\n",
    " -1.0547327320000592,\n",
    " -1.016991296777501,\n",
    " -0.9850300306259748,\n",
    " -0.9550637747222407,\n",
    " -0.9219496175741501,\n",
    " -0.8918558154776248,\n",
    " -0.8640471493153424,\n",
    " -0.8402692461570486,\n",
    " -0.8127401410758444]\n",
    "\n",
    "#Standard Deviations (Divide by sqrt(100) to get errors on mean)\n",
    "\n",
    "[0.01345095659706539,\n",
    " 0.01307470304205118,\n",
    " 0.0172569980985815,\n",
    " 0.015873630825518865,\n",
    " 0.01736988334553417,\n",
    " 0.02041070288500645,\n",
    " 0.020119864394138168,\n",
    " 0.017420698374431998,\n",
    " 0.01880486251910809,\n",
    " 0.0184854385676588]\n",
    "\n",
    "#Parameters of 5 degree fit, factoring in standard deviation (i.e. statistical uncertainties) of the points \n",
    "#--using np.polyfit; coeff organized as highest power first and on\n",
    "\n",
    "[-3.26256462e-07  2.00283564e-05 -3.61793099e-04  2.01552500e-03\n",
    "  2.98038921e-02 -1.11862337e+00]\n",
    "\n",
    "# Zero point extrapolation by 5th degree fit \n",
    "\n",
    "## Extrapolated 0 noise energy \n",
    "-1.118623371491511\n",
    "\n",
    "## Monte Carlo Uncertainty\n",
    "0.19637905723682356\n",
    "\n",
    "## Covariance Uncertainty\n",
    "0.010500511790350091\n",
    "\n",
    "#Just for comparison, exact energy is \n",
    "-1.137283834488501"
   ]
  },
  {
   "cell_type": "code",
   "execution_count": 17,
   "metadata": {},
   "outputs": [],
   "source": [
    "import numpy as np\n",
    "def RichardsonExtrap(energies): \n",
    "    \"\"\"\n",
    "    Input: An array of energies scaled with different stretch factors--normal integer multiples only --eg 1,2,3,4..\n",
    "    Output: Zero Error extrapolated answer\n",
    "    \"\"\"\n",
    "    n = len(energies)\n",
    "    scales = [2*i+1 for i in range(n)]\n",
    "    \n",
    "    #setting up all equations \n",
    "    equations = []\n",
    "    for eq_num in scales: \n",
    "        equation = []\n",
    "        if eq_num == 1: \n",
    "            for i in range(n): \n",
    "                equation.append(1)\n",
    "            equations = [equation]\n",
    "        else: \n",
    "            for term_num in scales: \n",
    "                term = term_num**(int(eq_num/2))\n",
    "                equation.append(term)\n",
    "            equations = np.append(equations, [equation], axis = 0)\n",
    "    print(equations)\n",
    "    \n",
    "    #Now filling up equals to matrix \n",
    "    equals_to = [1]\n",
    "    for i in range(1, len(scales)): \n",
    "        equals_to.append(0)\n",
    "    print(equals_to)\n",
    "    \n",
    "    #solving the system\n",
    "    coeff = np.linalg.solve(equations, equals_to)\n",
    "    #print(coeff)\n",
    "    \n",
    "    #Combine coeff with energies to get zero noise result \n",
    "    result = np.dot(coeff, energies)\n",
    "    return result"
   ]
  },
  {
   "cell_type": "code",
   "execution_count": 18,
   "metadata": {},
   "outputs": [
    {
     "name": "stdout",
     "output_type": "stream",
     "text": [
      "[[   1    1    1    1    1]\n",
      " [   1    3    5    7    9]\n",
      " [   1    9   25   49   81]\n",
      " [   1   27  125  343  729]\n",
      " [   1   81  625 2401 6561]]\n",
      "[1, 0, 0, 0, 0]\n"
     ]
    },
    {
     "data": {
      "text/plain": [
       "1.0000000000000002"
      ]
     },
     "execution_count": 18,
     "metadata": {},
     "output_type": "execute_result"
    }
   ],
   "source": [
    "energies = [1, 1,1,1,1]\n",
    "RichardsonExtrap(energies)"
   ]
  },
  {
   "cell_type": "code",
   "execution_count": null,
   "metadata": {},
   "outputs": [],
   "source": []
  }
 ],
 "metadata": {
  "kernelspec": {
   "display_name": "Python 3",
   "language": "python",
   "name": "python3"
  },
  "language_info": {
   "codemirror_mode": {
    "name": "ipython",
    "version": 3
   },
   "file_extension": ".py",
   "mimetype": "text/x-python",
   "name": "python",
   "nbconvert_exporter": "python",
   "pygments_lexer": "ipython3",
   "version": "3.7.6"
  }
 },
 "nbformat": 4,
 "nbformat_minor": 4
}
