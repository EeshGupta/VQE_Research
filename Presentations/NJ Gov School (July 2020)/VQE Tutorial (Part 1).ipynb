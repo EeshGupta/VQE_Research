{
 "cells": [
  {
   "cell_type": "markdown",
   "metadata": {},
   "source": [
    "# VQE Tutorial (Part 1)"
   ]
  },
  {
   "cell_type": "markdown",
   "metadata": {},
   "source": [
    "In this tutorial, we are going to be working with the hydrogen molecule $H_2$. We will only use ideal simulator (mimicking quantum computers without errors) to run our experiments. \n",
    "\n",
    "If you have any difficulties/questions/concerns, shoot an email to eag190@scarletmail.rutgers.edu"
   ]
  },
  {
   "cell_type": "markdown",
   "metadata": {},
   "source": [
    "### Contents\n",
    "1. Single Distance\n",
    "2. Multiple Distances\n",
    "\n",
    "*By distance, I am referring to the interatomic separation of the 2 hydrogen atoms.*\n"
   ]
  },
  {
   "cell_type": "markdown",
   "metadata": {},
   "source": [
    "## 1. Single Distance, Ideal Simulation\n",
    "Here, we will be analyzing what the different parts of the VQE algo look ,"
   ]
  },
  {
   "cell_type": "markdown",
   "metadata": {},
   "source": [
    "### 1.1 Some Annoying Import Statements first!"
   ]
  },
  {
   "cell_type": "markdown",
   "metadata": {},
   "source": [
    "Here are some default things we have to import for any Qiskit program"
   ]
  },
  {
   "cell_type": "code",
   "execution_count": null,
   "metadata": {},
   "outputs": [],
   "source": [
    "%matplotlib inline\n",
    "# Importing standard Qiskit libraries and configuring account\n",
    "from qiskit import QuantumCircuit, execute, Aer, IBMQ\n",
    "from qiskit.compiler import transpile, assemble\n",
    "from qiskit.tools.jupyter import *\n",
    "from qiskit.visualization import *\n",
    "# Loading your IBM Q account(s)\n",
    "provider = IBMQ.load_account()"
   ]
  },
  {
   "cell_type": "markdown",
   "metadata": {},
   "source": [
    "Now we import some VQE-specific things"
   ]
  },
  {
   "cell_type": "code",
   "execution_count": null,
   "metadata": {},
   "outputs": [],
   "source": [
    "from qiskit.aqua.algorithms import VQE, ExactEigensolver\n",
    "import matplotlib.pyplot as plt\n",
    "%matplotlib inline\n",
    "import numpy as np\n",
    "from qiskit.chemistry.components.variational_forms import UCCSD\n",
    "from qiskit.aqua.components.variational_forms import RYRZ\n",
    "from qiskit.chemistry.components.initial_states import HartreeFock\n",
    "from qiskit.aqua.components.optimizers import COBYLA, SPSA, SLSQP\n",
    "from qiskit import IBMQ, BasicAer, Aer\n",
    "from qiskit.chemistry.drivers import PySCFDriver, UnitsType\n",
    "from qiskit.chemistry import FermionicOperator\n",
    "from qiskit.providers.aer import noise\n",
    "from qiskit.aqua import QuantumInstance\n",
    "from qiskit.ignis.mitigation.measurement import CompleteMeasFitter\n",
    "from qiskit.aqua.operators import Z2Symmetries\n",
    "from qiskit.providers.aer.noise import NoiseModel"
   ]
  },
  {
   "cell_type": "code",
   "execution_count": null,
   "metadata": {},
   "outputs": [],
   "source": [
    "import warnings\n",
    "warnings.filterwarnings(\"ignore\")"
   ]
  },
  {
   "cell_type": "markdown",
   "metadata": {},
   "source": [
    "### 1.2 Qubit Hamiltonian for $H_2$\n",
    "Here we will get all the info about the hamiltonian and encode that info into quantum gates\n"
   ]
  },
  {
   "cell_type": "code",
   "execution_count": null,
   "metadata": {},
   "outputs": [],
   "source": [
    "def get_qubit_ops(dist): \n",
    "    # We will get all info we need about the molecule from the PySCF library. Simply, there are \n",
    "    # ... some really hardworking chemists that have done most of the work for us!\n",
    "    mol = 'H .0 .0 .0 ; H .0 .0 {}'\n",
    "    driver = PySCFDriver(mol.format(dist), unit=UnitsType.ANGSTROM,\n",
    "                         charge=0, spin=0, basis='sto3g')\n",
    "    molecule = driver.run()\n",
    "    \n",
    "    # Choosing our quantum encoding method\n",
    "    map_type = 'jordan_wigner'\n",
    "    \n",
    "    # Here we will separate the terms of the hamiltonian into 2 halves, one that includes \n",
    "    # ... single electron (like Kinetic energy of electrons in the atom) and one that requires \n",
    "    # ... information about 2 electrons ( like electron-electron repulsion energy)\n",
    "    h1 = molecule.one_body_integrals\n",
    "    h2 = molecule.two_body_integrals\n",
    "    \n",
    "    # When doing VQE, we are largely concerned with the behavior of tiny electrons, not the really large \n",
    "    # ... nucleons (protons and neutrons). Since nucleons are really really big, we are gonna assume \n",
    "    # ... that nucleons don't move and gonna consider the proton-proton repulsion as a constant.\n",
    "    nuclear_repulsion_energy = molecule.nuclear_repulsion_energy\n",
    "    repulsion_energy = molecule.nuclear_repulsion_energy\n",
    "    \n",
    "    \n",
    "    num_particles = molecule.num_alpha + molecule.num_beta\n",
    "    num_spin_orbitals = molecule.num_orbitals * 2\n",
    "    # As you can see, hartree fock comes from PySCF library for free!\n",
    "    hf_energy = molecule.hf_energy \n",
    "    print(\"HF energy: {}\".format(molecule.hf_energy - molecule.nuclear_repulsion_energy))\n",
    "    print(\"# of electrons: {}\".format(num_particles))\n",
    "    print(\"# of spin orbitals: {}\".format(num_spin_orbitals))\n",
    "    \n",
    "\n",
    "    # Now we load all the info from PySCF to Qiskit functions\n",
    "    ferOp = FermionicOperator(h1=h1, h2=h2)\n",
    "    qubitOp = ferOp.mapping(map_type=map_type, threshold=0.00000001)\n",
    "    qubitOp.chop(10**-10)\n",
    "    \n",
    "    # The term below  has to do with adding the constant nuclear repulsion energy to our VQE-computed \n",
    "    # ... energy of the electrons.\n",
    "    shift = repulsion_energy\n",
    "    print('Number of qubits are : ' + str(qubitOp.num_qubits))\n",
    "    print(qubitOp.print_details())\n",
    "    \n",
    "    return qubitOp, num_particles, num_spin_orbitals, shift, hf_energy"
   ]
  },
  {
   "cell_type": "markdown",
   "metadata": {},
   "source": [
    "Let's see how this function works!"
   ]
  },
  {
   "cell_type": "code",
   "execution_count": null,
   "metadata": {
    "scrolled": true
   },
   "outputs": [],
   "source": [
    "#Pick a distance (units in angstroms)\n",
    "dist = 0.74\n",
    "#Let's see what the function outputs\n",
    "qubitOp, num_particles, num_spin_orbitals, shift, hf_energy = get_qubit_ops(dist)"
   ]
  },
  {
   "cell_type": "markdown",
   "metadata": {},
   "source": [
    "Notice how so many number of terms constitute the Hamiltonian. Each of these Hamiltonians has its own 'importance'. That is represented by the number right next to pauli terms. What this means is that after you calculate lets say the expectation value of $IIII$ as $E_1$ and that of $IIIZ$ as $E_2$, you would combine them as \n",
    "$$E = -0.81E_1 + 0.17E_2 + ... $$\n",
    "where $E$ is the total energy. Now those coefficients are given as complex numbers above but ignore that part."
   ]
  },
  {
   "cell_type": "markdown",
   "metadata": {},
   "source": [
    "### 1.3 Initial State\n",
    "Here we will simply prepare the Hartree Fock State which is just all the electrons in the lowest energy orbitals!"
   ]
  },
  {
   "cell_type": "code",
   "execution_count": null,
   "metadata": {},
   "outputs": [],
   "source": [
    "# Initial STate\n",
    "initial_state = HartreeFock(\n",
    "    num_spin_orbitals,\n",
    "    num_particles,\n",
    "    'jordan_wigner'\n",
    ") \n",
    "\n",
    "#Let's take a look at how our initial state is represented in the quantum circuit form\n",
    "circ_hf = initial_state.construct_circuit().decompose().decompose()\n",
    "circ_hf.draw(output = 'mpl')"
   ]
  },
  {
   "cell_type": "markdown",
   "metadata": {},
   "source": [
    "You might be wondering what's the U3($\\pi$, 0, $\\pi$) gate. It's just another way to express the X gate. (IBM's Quantum computers really like to read gate operations in this u1,u2,u3 language instead of X,Y,Z)\n",
    "\n",
    "What's happening above is that the spin orbitals corresponding to $q_0$ and $q_2$ are occupied i.e. those are the lowest energy spin orbitals as suggested by the Hartree Fock method"
   ]
  },
  {
   "cell_type": "markdown",
   "metadata": {},
   "source": [
    "### 1.4  Unitary Coupled Cluster Singles and Doubles\n",
    "\n",
    "Big name but what we are going to do is convert the Hartree Fock(HF) state into a combo of HF state and some excited states."
   ]
  },
  {
   "cell_type": "code",
   "execution_count": null,
   "metadata": {},
   "outputs": [],
   "source": [
    "# UCCSD Variational Form\n",
    "var_form = UCCSD(\n",
    "    num_orbitals=num_spin_orbitals,\n",
    "    num_particles=num_particles,\n",
    "    initial_state=initial_state,\n",
    "    qubit_mapping='jordan_wigner',\n",
    "    two_qubit_reduction = False\n",
    ")\n",
    "# Let's visualize the circuit again\n",
    "## Pick 3 random parameters\n",
    "param = [0,0,0]\n",
    "circ_uccsd = var_form.construct_circuit(param).decompose().decompose()\n",
    "circ_uccsd.draw(output = 'mpl')"
   ]
  },
  {
   "cell_type": "markdown",
   "metadata": {},
   "source": [
    "Very Messy Indeed! What is happening here ?!?\n",
    "\n",
    "There are 4 spin orbitals, indexed 0,1,2,3. Remember spin orbitals corresponding to $q_0, q_2$ are occupied. These 'occupied' spin orbitals are indexed 0 and 2. So spin orbitals 1 and 3 are empty. \n",
    "\n",
    "Now in UCCSD, we will only work with single and double excitations. So possible single excitations are \n",
    "$0 \\longrightarrow 1$ and $2 \\longrightarrow 3$. You might be tempted to say why can't we excite electron in orbital 0 to orbital 3. It's because 0 and 1 are spin up orbitals ( as in they only house electrons with spin up) and 2 and 3 are spin down orbitals. Then an electron in spin up orbital can only be excited to a spin up orbital (UCSSD says you can't flip the spins). So 0 to 3 is just not possible.\n",
    "\n",
    "Now what would be a double excitation? Exciting electrons in 0 and 2 to 1 and 3 repectively at the same time. 2 singles makes up a double!\n",
    "\n",
    "So there are 3 possible excited configurations. That's why there are 3 parameters, representing the relative 'importance' of each of the configurations.\n",
    "\n",
    "*Remember in single excitation, only one of the elctrons is excited. The other one stays in its 'lowest energy' spin orbital*\n",
    "\n"
   ]
  },
  {
   "cell_type": "markdown",
   "metadata": {},
   "source": [
    "### 1.5 Running VQE"
   ]
  },
  {
   "cell_type": "code",
   "execution_count": null,
   "metadata": {},
   "outputs": [],
   "source": [
    "#choosing our optimizer \n",
    "optimizer = COBYLA(maxiter=2000)\n",
    "\n",
    "#choosing our simulator\n",
    "simulator = Aer.get_backend('qasm_simulator')\n",
    "\n",
    "# Running VQE \n",
    "## include_custom gets rid of shot noise i.e. if something that should be 50-50 % comes out 49-51 %,\n",
    "## ... then include_custom corrects it to 50-50 %.\n",
    "vqe = VQE(qubitOp, var_form, optimizer, include_custom= True)\n",
    "vqe_energy = vqe.run(simulator)['energy'] + shift\n",
    "\n",
    "# Finding exact energies to show how off VQE was from exact energy curve\n",
    "result = ExactEigensolver(qubitOp).run()\n",
    "exact_energy = result['energy'] + shift\n",
    "\n",
    "\n",
    "\n",
    "print('Exact Energy is ' + str(exact_energy) + ' Hartree')\n",
    "print('VQE energy is '+ str(vqe_energy) + ' Hartree')"
   ]
  },
  {
   "cell_type": "code",
   "execution_count": null,
   "metadata": {},
   "outputs": [],
   "source": [
    "# What's the difference between VQE and exact\n",
    "vqe_energy - exact_energy"
   ]
  },
  {
   "cell_type": "markdown",
   "metadata": {},
   "source": [
    "Wow! Remember, chemists want accuracy up till $10^{-3}$ Hartree. So VQE did a pretty good job on the simulator here!"
   ]
  },
  {
   "cell_type": "markdown",
   "metadata": {},
   "source": [
    "# 2. Multiple Distances, Ideal Simulation\n",
    "\n",
    "In section 1, we only computed VQE at a single distance. Here we will do so at multiple distances. \n",
    "\n",
    "What's happening is that you are taking 2 hydrogen atoms and moving them apart. At each step, let's say 0.1 Angstroms, you will use VQE to compute lowest energy at that distance. \n",
    "\n",
    "This way you can see what distance gives you the lowest possible energy i.e. how far hydrogen atoms are in the $H_2$ molecule when the molecule is 'stablest'!"
   ]
  },
  {
   "cell_type": "markdown",
   "metadata": {},
   "source": [
    "### 2.1 More of the Same \n",
    "Qubit Hamiltonian without some print statements"
   ]
  },
  {
   "cell_type": "code",
   "execution_count": null,
   "metadata": {},
   "outputs": [],
   "source": [
    "# added 'a' to the func name to differentiate from the previous get_qubit_ops function\n",
    "\n",
    "def get_qubit_ops_a(dist): \n",
    "    # Defining Molecule\n",
    "    mol = 'H .0 .0 .0 ; H .0 .0 {}'\n",
    "    driver = PySCFDriver(mol.format(dist), unit=UnitsType.ANGSTROM,\n",
    "                         charge=0, spin=0, basis='sto3g')\n",
    "    molecule = driver.run()\n",
    "    \n",
    "    # Mapping to Qubit Hamiltonian\n",
    "    map_type = 'jordan_wigner'\n",
    "\n",
    "    h1 = molecule.one_body_integrals\n",
    "    h2 = molecule.two_body_integrals\n",
    "    \n",
    "    nuclear_repulsion_energy = molecule.nuclear_repulsion_energy\n",
    "    repulsion_energy = molecule.nuclear_repulsion_energy\n",
    "    \n",
    "    num_particles = molecule.num_alpha + molecule.num_beta\n",
    "    num_spin_orbitals = molecule.num_orbitals * 2\n",
    "    hf_energy = molecule.hf_energy \n",
    "    \n",
    "    print(\"HF energy: {}\".format(molecule.hf_energy - molecule.nuclear_repulsion_energy))\n",
    "    print(\"# of electrons: {}\".format(num_particles))\n",
    "    print(\"# of spin orbitals: {}\".format(num_spin_orbitals))\n",
    "\n",
    "    ferOp = FermionicOperator(h1=h1, h2=h2)\n",
    "    qubitOp = ferOp.mapping(map_type=map_type, threshold=0.00000001)\n",
    "    qubitOp.chop(10**-10)\n",
    "    shift = repulsion_energy\n",
    "    print('Number of qubits are : ' + str(qubitOp.num_qubits))\n",
    "    \n",
    "    return qubitOp, num_particles, num_spin_orbitals, shift, hf_energy"
   ]
  },
  {
   "cell_type": "markdown",
   "metadata": {},
   "source": [
    "### 2.2 Stretching the molecule apart"
   ]
  },
  {
   "cell_type": "code",
   "execution_count": null,
   "metadata": {},
   "outputs": [],
   "source": [
    "# creating a list of distances to run VQE on \n",
    "distances = np.arange(0.1, 2.0, 0.1)\n",
    "\n",
    "#Empty  boxes for storage\n",
    "exact_energies = []\n",
    "vqe_energies = []\n",
    "hf_energies = []\n",
    "\n",
    "#Optimizer\n",
    "optimizer = COBYLA(maxiter=100)\n",
    "\n",
    "#Begin VQE\n",
    "for dist in distances:\n",
    "    print('------------Interatomic Distance = '+ str(np.round(dist, 2)) + '--------------')\n",
    "    qubitOp, num_particles, num_spin_orbitals, shift, hf_energy = get_qubit_ops_a(dist)\n",
    "    # Finding exact energies to show how off VQE was from exact energy curve\n",
    "    result = ExactEigensolver(qubitOp).run()\n",
    "    exact_energies.append(result['energy'] + shift)\n",
    "    \n",
    "    # Initial STate \n",
    "    initial_state = HartreeFock(\n",
    "        num_spin_orbitals,\n",
    "        num_particles,\n",
    "        'jordan_wigner'\n",
    "    ) \n",
    "    #print(qubitOp.num_qubits)\n",
    "    # UCCSD Variational Form\n",
    "    var_form = UCCSD(\n",
    "        num_orbitals=num_spin_orbitals,\n",
    "        num_particles=num_particles,\n",
    "        initial_state=initial_state,\n",
    "        qubit_mapping='jordan_wigner', \n",
    "        two_qubit_reduction = False\n",
    "    )\n",
    "    # Running VQE on ideal sim\n",
    "    vqe = VQE(qubitOp, var_form, optimizer, include_custom = True)\n",
    "    results = vqe.run(simulator)['energy'] + shift\n",
    "    vqe_energies.append(results)\n",
    "    hf_energies.append(hf_energy)\n",
    "    print(\"VQE Result:\", results, \"Exact Energy:\", \n",
    "          exact_energies[-1])\n",
    "print(\"All energies have been calculated\")"
   ]
  },
  {
   "cell_type": "markdown",
   "metadata": {},
   "source": [
    "### 2.3 Looking at the Results"
   ]
  },
  {
   "cell_type": "code",
   "execution_count": null,
   "metadata": {},
   "outputs": [],
   "source": [
    "# plotting the data\n",
    "plt.plot(distances, exact_energies, label=\"Exact Energy\")\n",
    "plt.plot(distances, vqe_energies, label=\"VQE Energy\")\n",
    "plt.plot(distances, hf_energies, label=\"HF Energy\")\n",
    "plt.xlabel('Atomic distance (Angstrom)')\n",
    "plt.ylabel('Energy (Hartree)')\n",
    "plt.title('Dissassociation Curves for Hydrogen Molecule')\n",
    "plt.legend()\n",
    "plt.show()"
   ]
  },
  {
   "cell_type": "markdown",
   "metadata": {},
   "source": [
    "It seems like HF energy curve (green) is hugging the VQE energy curve (orange). Where is the exact energy curve? Let's investigate!"
   ]
  },
  {
   "cell_type": "code",
   "execution_count": null,
   "metadata": {},
   "outputs": [],
   "source": [
    "energy_difference= []\n",
    "hf_difference=[]\n",
    "for i in range(len(vqe_energies)):\n",
    "    energy_difference = energy_difference + [vqe_energies[i] - exact_energies[i]]\n",
    "    hf_difference = hf_difference + [hf_energies[i] - exact_energies[i]]\n",
    "\n",
    "plt.plot(distances, energy_difference, color= 'tab:orange', label=\"VQE\")\n",
    "plt.plot(distances, hf_difference, color='tab:green', label=\" HF\")\n",
    "plt.title('Difference from Exact Energy')\n",
    "plt.xlabel('Atomic distance (Angstrom)')\n",
    "plt.ylabel('Energy (Hartree)')\n",
    "plt.legend()\n",
    "plt.show()"
   ]
  },
  {
   "cell_type": "markdown",
   "metadata": {},
   "source": [
    "AH! Look at this! As you increase the separation between H atoms, Hartree focks gives you a worse and worse answer. VQE now seems to be 'hugging' the exact energy since the difference seems to be 0 at all distances. Is that the case? Let's zoom in!"
   ]
  },
  {
   "cell_type": "code",
   "execution_count": null,
   "metadata": {},
   "outputs": [],
   "source": [
    "energy_difference= []\n",
    "for i in range(len(vqe_energies)):\n",
    "    energy_difference = energy_difference + [vqe_energies[i] - exact_energies[i]]\n",
    "plt.plot(distances, energy_difference,color='tab:orange', label=\"Energy difference between VQE and exact\")\n",
    "plt.xlabel('Atomic distance (Angstrom)')\n",
    "plt.ylabel('Energy (Hartree) ')\n",
    "plt.legend()\n",
    "plt.show()"
   ]
  },
  {
   "cell_type": "markdown",
   "metadata": {},
   "source": [
    "OOOf! So when you zoom down to $10^{-8}$ Hartrees, you start to see differences between VQE and exact. Again, VQE does really awesome. \n",
    "\n",
    "But but this is if we had ideal quantum computers. To see what would happen in reality, switch over to the Part 2 of the Tutorial.\n",
    "\n",
    "Thank You!"
   ]
  }
 ],
 "metadata": {
  "kernelspec": {
   "display_name": "Python 3",
   "language": "python",
   "name": "python3"
  },
  "language_info": {
   "codemirror_mode": {
    "name": "ipython",
    "version": 3
   },
   "file_extension": ".py",
   "mimetype": "text/x-python",
   "name": "python",
   "nbconvert_exporter": "python",
   "pygments_lexer": "ipython3",
   "version": "3.7.6"
  }
 },
 "nbformat": 4,
 "nbformat_minor": 4
}
