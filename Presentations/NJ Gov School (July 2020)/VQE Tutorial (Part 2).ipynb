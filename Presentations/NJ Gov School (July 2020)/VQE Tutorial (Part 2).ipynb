{
 "cells": [
  {
   "cell_type": "markdown",
   "metadata": {},
   "source": [
    "# VQE Tutorial (Part 2)\n",
    "In this tutorial, we will run VQE experiments for $H_2$ molecule on both noisy simulators and quantum \n",
    "computers.\n",
    "\n",
    "If you have any difficulties/questions/concerns, shoot an email to eag190@scarletmail.rutgers.edu"
   ]
  },
  {
   "cell_type": "markdown",
   "metadata": {},
   "source": [
    "### Contents\n",
    "3. Multiple Distances, Noisy Simulator\n",
    "4. Multiple Distances, Quantum Computer\n",
    "\n",
    "*By distance, I am referring to the interatomic separation of the 2 hydrogen atoms.*\n"
   ]
  },
  {
   "cell_type": "markdown",
   "metadata": {},
   "source": [
    "### 0.1 Some Imports"
   ]
  },
  {
   "cell_type": "code",
   "execution_count": null,
   "metadata": {},
   "outputs": [],
   "source": [
    "%matplotlib inline\n",
    "# Importing standard Qiskit libraries and configuring account\n",
    "from qiskit import QuantumCircuit, execute, Aer, IBMQ\n",
    "from qiskit.compiler import transpile, assemble\n",
    "from qiskit.tools.jupyter import *\n",
    "from qiskit.visualization import *\n",
    "# Loading your IBM Q account(s)\n",
    "provider = IBMQ.load_account()"
   ]
  },
  {
   "cell_type": "code",
   "execution_count": null,
   "metadata": {},
   "outputs": [],
   "source": [
    "from qiskit.aqua.algorithms import VQE, ExactEigensolver\n",
    "import matplotlib.pyplot as plt\n",
    "%matplotlib inline\n",
    "import numpy as np\n",
    "from qiskit.chemistry.components.variational_forms import UCCSD\n",
    "from qiskit.aqua.components.variational_forms import RYRZ\n",
    "from qiskit.chemistry.components.initial_states import HartreeFock\n",
    "from qiskit.aqua.components.optimizers import COBYLA, SPSA, SLSQP\n",
    "from qiskit import IBMQ, BasicAer, Aer\n",
    "from qiskit.chemistry.drivers import PySCFDriver, UnitsType\n",
    "from qiskit.chemistry import FermionicOperator\n",
    "from qiskit.providers.aer import noise\n",
    "from qiskit.aqua import QuantumInstance\n",
    "from qiskit.ignis.mitigation.measurement import CompleteMeasFitter\n",
    "from qiskit.aqua.operators import Z2Symmetries\n",
    "from qiskit.providers.aer.noise import NoiseModel"
   ]
  },
  {
   "cell_type": "code",
   "execution_count": null,
   "metadata": {},
   "outputs": [],
   "source": [
    "import warnings\n",
    "warnings.filterwarnings(\"ignore\")"
   ]
  },
  {
   "cell_type": "markdown",
   "metadata": {},
   "source": [
    "### 0.2 Switch to Parity Basis\n",
    "\n",
    "Parity Basis will involve a 2 qubit reduction, which will really simplify things. Also the more gates and qubits in your circuit, the more erroneous your result. So you really want simple here. \n",
    "\n",
    "Now what is parity basis. Lets start with occupation numbers. Whether a spin orbital is occupied or not depends on the occupation number $o$. If $o = 1$, then the orbital is occupied, and if $o = 0$, then the oribital is unoccupied. \n",
    "\n",
    "In Jordan Wigner, $q_i = o_i$ i.e. the occupation number of an orbital is equivalent to the state of the corresponding qubit. So if the $q_i = |1>$ then the corresponding spin orbital has an occupation number $o_i = 1$.\n",
    "\n",
    "In Parity Basis , $ q_i = o_0 + o_1 +o_2 + ... + o_i \\mod 2$. So if $o_0 = 1, o_1 = 0, o_2 = 1$, then\n",
    "$$q_0 = o_0 \\mod 2 = 1 \\mod 2 = 1$$\n",
    "$$q_1 = o_0 + o_1 \\mod 2 = 1 +0 \\mod 2 = 1$$\n",
    "$$q_2 = o_0 + o_1 + o_2 \\mod 2 = 1 + 0 + 1 \\mod 2 = 0$$\n",
    "\n",
    "It's just another way of encoding electrons and spin orbitals onto quantum computers\n",
    "\n",
    "*$a \\mod b$ is the remainder when $a$ is divided by $b$*"
   ]
  },
  {
   "cell_type": "code",
   "execution_count": null,
   "metadata": {},
   "outputs": [],
   "source": [
    "def get_qubit_ops(dist): \n",
    "    # Defining Molecule\n",
    "    mol = 'H .0 .0 .0 ; H .0 .0 {}'\n",
    "    driver = PySCFDriver(mol.format(dist), unit=UnitsType.ANGSTROM,\n",
    "                         charge=0, spin=0, basis='sto3g')\n",
    "    molecule = driver.run()\n",
    "    # Mapping to Qubit Hamiltonian\n",
    "    map_type = 'parity'\n",
    "\n",
    "    h1 = molecule.one_body_integrals\n",
    "    h2 = molecule.two_body_integrals\n",
    "    nuclear_repulsion_energy = molecule.nuclear_repulsion_energy\n",
    "    repulsion_energy = molecule.nuclear_repulsion_energy\n",
    "    num_particles = molecule.num_alpha + molecule.num_beta\n",
    "    num_spin_orbitals = molecule.num_orbitals * 2\n",
    "    hf_energy = molecule.hf_energy \n",
    "    print(\"HF energy: {}\".format(molecule.hf_energy - molecule.nuclear_repulsion_energy))\n",
    "    print(\"# of electrons: {}\".format(num_particles))\n",
    "    print(\"# of spin orbitals: {}\".format(num_spin_orbitals))\n",
    "    \n",
    "    # and if PARITY mapping is selected, reduction qubits\n",
    "    qubit_reduction = True if map_type == 'parity' else False\n",
    "\n",
    "    ferOp = FermionicOperator(h1=h1, h2=h2)\n",
    "    qubitOp = ferOp.mapping(map_type=map_type, threshold=0.00000001)\n",
    "    qubitOp = Z2Symmetries.two_qubit_reduction(qubitOp, num_particles) if qubit_reduction else qubitOp\n",
    "    qubitOp.chop(10**-10)\n",
    "    shift = repulsion_energy\n",
    "    \n",
    "    return qubitOp, num_particles, num_spin_orbitals, shift, hf_energy"
   ]
  },
  {
   "cell_type": "markdown",
   "metadata": {},
   "source": [
    "## 3. Multiple Distances, Noisy Simulator\n",
    "\n",
    "Here we will try to act as if we are running on real quantum computer when in reality, we aren't. \n",
    "\n",
    "Noise Models are very important if your experiment involves lots of circuit evaluations which may or may not be practical on an real device. If you can simulate the conditions of the real device however, you may can run those circuits and get somewhat approximate answer in a lot less time."
   ]
  },
  {
   "cell_type": "markdown",
   "metadata": {},
   "source": [
    "### 3.1 Constructing Noise Model \n",
    "\n",
    "Here we will mimick the noise of some quantum computer in our simulation. "
   ]
  },
  {
   "cell_type": "code",
   "execution_count": null,
   "metadata": {},
   "outputs": [],
   "source": [
    "#choose a machine...you can do london, ourense (not sure about spelling there!), essex, burlington \n",
    "## ... any quantum computer with at least 2 qubits. For the yorktown one, inside the code \n",
    "## ...  machine = provider.get_backend( *** ), write *** = 'ibmqx2'\n",
    "\n",
    "machine_str = 'burlington'\n",
    "\n",
    "#noise model \n",
    "provider = IBMQ.get_provider(hub='ibm-q')\n",
    "machine = provider.get_backend('ibmq_'+machine_str)\n",
    "noise_model = NoiseModel.from_backend(machine)\n",
    "#Ideal simulator \n",
    "simulator = Aer.get_backend('qasm_simulator')\n",
    "#noisy simulator\n",
    "noisy_sim = QuantumInstance(backend = simulator, noise_model = noise_model)"
   ]
  },
  {
   "cell_type": "markdown",
   "metadata": {},
   "source": [
    "### 3.2 Running on the Noise Model"
   ]
  },
  {
   "cell_type": "code",
   "execution_count": null,
   "metadata": {
    "scrolled": false
   },
   "outputs": [],
   "source": [
    "# I am going to do less distances, because it takes a lot of time\n",
    "distances = np.arange(0.4, 1.0, 0.1)\n",
    "exact_energies = []\n",
    "vqe_noisy_energies = []\n",
    "vqe_ideal_energies = []\n",
    "\n",
    "#optimizer\n",
    "optimizer = COBYLA(maxiter=100)\n",
    "\n",
    "for dist in distances:\n",
    "    print('------------Interatomic Distance = '+ str(np.round(dist, 2)) + '--------------')\n",
    "    qubitOp, num_particles, num_spin_orbitals, shift, hf_energy = get_qubit_ops(dist)\n",
    "    # Finding exact energies to show how off VQE was from exact energy curve\n",
    "    result = ExactEigensolver(qubitOp).run()\n",
    "    exact_energies.append(result['energy'] + shift)\n",
    "    # Initial STate \n",
    "    initial_state = HartreeFock(\n",
    "        num_spin_orbitals,\n",
    "        num_particles,\n",
    "        'parity'\n",
    "    ) \n",
    "    \n",
    "    # UCCSD Variational Form\n",
    "    var_form = UCCSD(\n",
    "        num_orbitals=num_spin_orbitals,\n",
    "        num_particles=num_particles,\n",
    "        initial_state=initial_state,\n",
    "        qubit_mapping='parity'\n",
    "    )\n",
    "    # Running VQE using a ideal simulator \n",
    "    vqe = VQE(qubitOp, var_form, optimizer, include_custom = True)\n",
    "    result = vqe.run(simulator)['energy'] + shift\n",
    "    vqe_ideal_energies.append(result)\n",
    "    \n",
    "    # Running VQE using a noisy simulator\n",
    "    vqe = VQE(qubitOp, var_form, optimizer, include_custom = True)\n",
    "    resulty = vqe.run(noisy_sim)['energy'] + shift\n",
    "    vqe_noisy_energies.append(resulty)\n",
    "    print(\"Ideal VQE Result:\", vqe_ideal_energies[-1], \"Noisy VQE Result:\", vqe_noisy_energies[-1], \"Exact Energy:\", \n",
    "          exact_energies[-1])\n",
    "print(\"All energies have been calculated\")"
   ]
  },
  {
   "cell_type": "markdown",
   "metadata": {},
   "source": [
    "### 3.3 Plotting the Results"
   ]
  },
  {
   "cell_type": "code",
   "execution_count": null,
   "metadata": {},
   "outputs": [],
   "source": [
    "# plotting the data\n",
    "plt.plot(distances, exact_energies, label=\"Exact Energy\")\n",
    "plt.plot(distances, vqe_ideal_energies, label=\"Ideal VQE Energy\")\n",
    "plt.plot(distances, vqe_noisy_energies, label=\"Noisy VQE Energy\")\n",
    "plt.xlabel('Atomic distance (Angstrom)')\n",
    "plt.ylabel('Energy (Hartree)')\n",
    "plt.title('Dissassociation Curves for Hydrogen Molecule')\n",
    "plt.legend()\n",
    "plt.show()"
   ]
  },
  {
   "cell_type": "markdown",
   "metadata": {},
   "source": [
    "ooooh let's look zoom in on difference from exact energy"
   ]
  },
  {
   "cell_type": "code",
   "execution_count": null,
   "metadata": {},
   "outputs": [],
   "source": [
    "vqe_ideal_difference= []\n",
    "vqe_noisy_difference=[]\n",
    "for i in range(len(vqe_ideal_energies)):\n",
    "    vqe_ideal_difference = vqe_ideal_difference + [vqe_ideal_energies[i] - exact_energies[i]]\n",
    "    vqe_noisy_difference = vqe_noisy_difference + [vqe_noisy_energies[i] - exact_energies[i]]\n",
    "\n",
    "plt.plot(distances, vqe_ideal_difference, color= 'tab:orange', label=\"Ideal VQE\")\n",
    "plt.plot(distances, vqe_noisy_difference, color='tab:green', label=\"Noisy VQE\")\n",
    "plt.title('Difference from Exact Energy')\n",
    "plt.xlabel('Atomic distance (Angstrom)')\n",
    "plt.ylabel('Energy (Hartree)')\n",
    "plt.legend()\n",
    "plt.show()"
   ]
  },
  {
   "cell_type": "markdown",
   "metadata": {},
   "source": [
    "Here you can see that noisy simulator is really really bad! Remember chemical accuracy is $10^{-3}$ Hartree. So the simulated noise is making a difference."
   ]
  },
  {
   "cell_type": "markdown",
   "metadata": {},
   "source": [
    "#  4. Multiple Distances, Quantum Computer"
   ]
  },
  {
   "cell_type": "markdown",
   "metadata": {},
   "source": [
    "### 4.1 Specifying the Device\n",
    "\n",
    "Ok the way the code is structured, its gonna use the same machine as the one you specified above for noise model. If you want to change around some things, just delete the '#' symbol and edit the string inside the parentheses"
   ]
  },
  {
   "cell_type": "code",
   "execution_count": null,
   "metadata": {},
   "outputs": [],
   "source": [
    "#machine = provider.get_backend('ibmq_burlington')"
   ]
  },
  {
   "cell_type": "markdown",
   "metadata": {},
   "source": [
    "### 4.2 Running on the Device\n",
    "This will take a lot of time (40 min - 2 hrs) so beware! But the results are worth it so ayeeee"
   ]
  },
  {
   "cell_type": "code",
   "execution_count": null,
   "metadata": {
    "scrolled": true
   },
   "outputs": [],
   "source": [
    "#storage tank\n",
    "vqe_qc_energies = []\n",
    "\n",
    "#begin VQE\n",
    "for dist in distances:\n",
    "    print('------------Interatomic Distance = '+ str(np.round(dist, 2)) + '--------------')\n",
    "    qubitOp, num_particles, num_spin_orbitals, shift, hf_energy = get_qubit_ops(dist)\n",
    "    # Initial STate \n",
    "    initial_state = HartreeFock(\n",
    "        num_spin_orbitals,\n",
    "        num_particles,\n",
    "        'parity'\n",
    "    ) \n",
    "    #print(qubitOp.num_qubits)\n",
    "    # UCCSD Variational Form\n",
    "    var_form = UCCSD(\n",
    "        num_orbitals=num_spin_orbitals,\n",
    "        num_particles=num_particles,\n",
    "        initial_state=initial_state,\n",
    "        qubit_mapping='parity'\n",
    "    )\n",
    "    \n",
    "    # Running VQE using a simulator, not actual quantum computer\n",
    "    vqe = VQE(qubitOp, var_form, optimizer, include_custom = True)\n",
    "    resulty = vqe.run(machine)['energy'] + shift\n",
    "    vqe_noisy_energies.append(resulty)\n",
    "    print(\"VQE-on-QC Energy:\", vqe_qc_energies[-1], \"Exact Energy:\", \n",
    "          exact_energies[-1])\n",
    "print(\"All energies have been calculated\")"
   ]
  },
  {
   "cell_type": "markdown",
   "metadata": {},
   "source": [
    "### 4.3 Plotting the Results"
   ]
  },
  {
   "cell_type": "code",
   "execution_count": null,
   "metadata": {},
   "outputs": [],
   "source": [
    "# plotting the data\n",
    "plt.plot(distances, exact_energies, label=\"Exact Energy\")\n",
    "plt.plot(distances, vqe_ideal_energies, label=\"Ideal VQE Energy\")\n",
    "plt.plot(distances, vqe_noisy_energies, label=\"Noisy VQE Energy\")\n",
    "plt.plot(distances, vqe_qc_energies, label=\"QC VQE Energy\")\n",
    "plt.xlabel('Atomic distance (Angstrom)')\n",
    "plt.ylabel('Energy (Hartree)')\n",
    "plt.title('Dissassociation Curves for Hydrogen Molecule')\n",
    "plt.legend()\n",
    "plt.show()"
   ]
  },
  {
   "cell_type": "markdown",
   "metadata": {},
   "source": [
    "If your noise model belongs to same machine as your QC-VQE's quantum computer, you can already see how well (not exact, but well enough) the noise model mimicks the actual device."
   ]
  },
  {
   "cell_type": "code",
   "execution_count": null,
   "metadata": {},
   "outputs": [],
   "source": [
    "vqe_qc_difference= []\n",
    "for i in range(len(vqe_qc_energies)):\n",
    "    vqe_qc_difference = vqe_qc_difference + [vqe_qc_energies[i] - exact_energies[i]]\n",
    "\n",
    "plt.plot(distances, vqe_ideal_difference, color= 'tab:orange', label=\"Ideal VQE\")\n",
    "plt.plot(distances, vqe_noisy_difference, color='tab:green', label=\"Noisy VQE\")\n",
    "plt.plot(distances, vqe_qc_difference, color='tab:red', label=\"QC VQE\")\n",
    "plt.title('Difference from Exact Energy')\n",
    "plt.xlabel('Atomic distance (Angstrom)')\n",
    "plt.ylabel('Energy (Hartree)')\n",
    "plt.legend()\n",
    "plt.show()"
   ]
  },
  {
   "cell_type": "markdown",
   "metadata": {},
   "source": [
    "Again VQE on quantum computers of today is not that great! That's why there is research being done in error correction and error mitigation. \n",
    "\n",
    "If you enjoyed doing this and want to do more molecules/find out more info, refer to the links below: \n",
    "\n",
    "https://qiskit.org/textbook/ch-applications/vqe-molecules.html\n",
    "\n",
    "https://github.com/qiskit-community/qiskit-community-tutorials/tree/master/chemistry"
   ]
  },
  {
   "cell_type": "markdown",
   "metadata": {},
   "source": [
    "# Thank You!\n",
    "With that , peep peep! Hope you learned something about QC's from all this. Happy Senior year!\n",
    "\n",
    "-- Eesh"
   ]
  }
 ],
 "metadata": {
  "kernelspec": {
   "display_name": "Python 3",
   "language": "python",
   "name": "python3"
  },
  "language_info": {
   "codemirror_mode": {
    "name": "ipython",
    "version": 3
   },
   "file_extension": ".py",
   "mimetype": "text/x-python",
   "name": "python",
   "nbconvert_exporter": "python",
   "pygments_lexer": "ipython3",
   "version": "3.7.6"
  }
 },
 "nbformat": 4,
 "nbformat_minor": 4
}
